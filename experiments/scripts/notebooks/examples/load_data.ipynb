{
 "cells": [
  {
   "cell_type": "code",
   "execution_count": 2,
   "outputs": [
    {
     "name": "stdout",
     "output_type": "stream",
     "text": [
      "/home/adam/Projects/jointformer\n"
     ]
    }
   ],
   "source": [
    "import torch\n",
    "%cd .."
   ],
   "metadata": {
    "collapsed": false,
    "ExecuteTime": {
     "end_time": "2024-04-23T08:02:22.137178599Z",
     "start_time": "2024-04-23T08:02:22.119310415Z"
    }
   },
   "id": "9ef080d1b275eede"
  },
  {
   "cell_type": "code",
   "execution_count": 118,
   "outputs": [
    {
     "name": "stdout",
     "output_type": "stream",
     "text": [
      "The autoreload extension is already loaded. To reload it, use:\n",
      "  %reload_ext autoreload\n"
     ]
    }
   ],
   "source": [
    "import random\n",
    "\n",
    "from jointformer.utils.datasets.smiles.base import SmilesDataset\n",
    "from jointformer.utils.transforms.smiles_enumerator import SmilesEnumerator\n",
    "from jointformer.utils.tokenizers.smiles.smiles import SmilesTokenizer\n",
    "from jointformer.models.base import Transformer\n",
    "\n",
    "import torchvision.transforms as transforms\n",
    "\n",
    "%load_ext autoreload\n",
    "%autoreload 2"
   ],
   "metadata": {
    "collapsed": true,
    "ExecuteTime": {
     "end_time": "2024-04-23T10:26:09.051035134Z",
     "start_time": "2024-04-23T10:26:09.021191102Z"
    }
   },
   "id": "initial_id"
  },
  {
   "cell_type": "code",
   "execution_count": 158,
   "outputs": [
    {
     "name": "stdout",
     "output_type": "stream",
     "text": [
      "number of parameters: 0.04M\n"
     ]
    }
   ],
   "source": [
    "# Data // follows PyTorch API :) \n",
    "\n",
    "PATH_TO_DATA = 'data/guacamol/test/smiles.txt'\n",
    "PATH_TO_VOCAB = 'data/vocabularies/deepchem.txt'\n",
    "NUM_SAMPLES = 1000\n",
    "MAX_LENGTH = 128\n",
    "VALIDATE = False\n",
    "\n",
    "transform = transforms.Compose([\n",
    "    SmilesEnumerator(),\n",
    "])\n",
    "\n",
    "dataset = SmilesDataset(file_path=PATH_TO_DATA, num_samples=NUM_SAMPLES, validate=VALIDATE, transform=transform)\n",
    "tokenizer = SmilesTokenizer(path_to_vocabulary=PATH_TO_VOCAB, max_molecule_length=MAX_LENGTH)\n",
    "model = Transformer(\n",
    "    vocab_size=len(tokenizer), max_seq_len=tokenizer.max_molecule_length, embedding_dim=32, dropout=0.2,\n",
    "    num_layers=2, bias=False, num_heads=8\n",
    ")"
   ],
   "metadata": {
    "collapsed": false,
    "ExecuteTime": {
     "end_time": "2024-04-23T11:33:51.446892658Z",
     "start_time": "2024-04-23T11:33:50.793024547Z"
    }
   },
   "id": "f6e8abf086b09b6d"
  },
  {
   "cell_type": "code",
   "execution_count": 159,
   "outputs": [
    {
     "name": "stdout",
     "output_type": "stream",
     "text": [
      "Input keys: dict_keys(['input_ids', 'attention_mask', 'labels'])\n",
      "Output keys: dict_keys(['embeddings', 'attention_probabilities'])\n"
     ]
    }
   ],
   "source": [
    "bs = 2\n",
    "idx = random.sample([idx for idx in range(len(dataset))], bs)\n",
    "smiles = [dataset[i] for i in idx] # custom DL :')\n",
    "inputs = tokenizer(smiles, task='lm') # 'lm', 'mlm', 'predict', 'ae'\n",
    "print(f\"Input keys: {inputs.keys()}\")\n",
    "with torch.no_grad():\n",
    "    outputs = model(**inputs, task='lm')\n",
    "    print(f\"Output keys: {outputs.keys()}\")"
   ],
   "metadata": {
    "collapsed": false,
    "ExecuteTime": {
     "end_time": "2024-04-23T11:33:52.200739398Z",
     "start_time": "2024-04-23T11:33:52.165163465Z"
    }
   },
   "id": "ae93ffe3257d325a"
  },
  {
   "cell_type": "code",
   "execution_count": null,
   "outputs": [],
   "source": [
    "# Task 1, GuacaMol and general properties like QED\n",
    "\n"
   ],
   "metadata": {
    "collapsed": false
   },
   "id": "5536f1caf20b292c"
  }
 ],
 "metadata": {
  "kernelspec": {
   "display_name": "Python 3",
   "language": "python",
   "name": "python3"
  },
  "language_info": {
   "codemirror_mode": {
    "name": "ipython",
    "version": 2
   },
   "file_extension": ".py",
   "mimetype": "text/x-python",
   "name": "python",
   "nbconvert_exporter": "python",
   "pygments_lexer": "ipython2",
   "version": "2.7.6"
  }
 },
 "nbformat": 4,
 "nbformat_minor": 5
}
