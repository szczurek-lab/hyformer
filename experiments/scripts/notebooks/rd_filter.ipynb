{
 "cells": [
  {
   "cell_type": "markdown",
   "source": [
    "# The goal of this notebook is to load generated molecules and pass them through rd_filter, additionally calculating other properties. "
   ],
   "metadata": {
    "collapsed": false
   },
   "id": "fb6785bc0e1e993c"
  },
  {
   "cell_type": "code",
   "execution_count": 5,
   "outputs": [
    {
     "name": "stdout",
     "output_type": "stream",
     "text": [
      "/home/adam/Projects/hybrid-transformer\n"
     ]
    }
   ],
   "source": [
    "# Is this the right path?\n",
    "\n",
    "%cd .."
   ],
   "metadata": {
    "collapsed": false,
    "ExecuteTime": {
     "end_time": "2024-03-20T14:38:15.125168017Z",
     "start_time": "2024-03-20T14:38:15.118645460Z"
    }
   },
   "id": "802232a95ad8e505"
  },
  {
   "cell_type": "code",
   "execution_count": 2,
   "outputs": [
    {
     "name": "stderr",
     "output_type": "stream",
     "text": [
      "/home/adam/miniconda3/envs/hybrid-transformer/lib/python3.11/site-packages/tqdm/auto.py:21: TqdmWarning: IProgress not found. Please update jupyter and ipywidgets. See https://ipywidgets.readthedocs.io/en/stable/user_install.html\n",
      "  from .autonotebook import tqdm as notebook_tqdm\n",
      "2024-03-20 15:37:15.412860: I tensorflow/core/util/port.cc:113] oneDNN custom operations are on. You may see slightly different numerical results due to floating-point round-off errors from different computation orders. To turn them off, set the environment variable `TF_ENABLE_ONEDNN_OPTS=0`.\n",
      "2024-03-20 15:37:15.474014: I external/local_tsl/tsl/cuda/cudart_stub.cc:31] Could not find cuda drivers on your machine, GPU will not be used.\n",
      "2024-03-20 15:37:15.778829: E external/local_xla/xla/stream_executor/cuda/cuda_dnn.cc:9261] Unable to register cuDNN factory: Attempting to register factory for plugin cuDNN when one has already been registered\n",
      "2024-03-20 15:37:15.778929: E external/local_xla/xla/stream_executor/cuda/cuda_fft.cc:607] Unable to register cuFFT factory: Attempting to register factory for plugin cuFFT when one has already been registered\n",
      "2024-03-20 15:37:15.836081: E external/local_xla/xla/stream_executor/cuda/cuda_blas.cc:1515] Unable to register cuBLAS factory: Attempting to register factory for plugin cuBLAS when one has already been registered\n",
      "2024-03-20 15:37:15.963990: I tensorflow/core/platform/cpu_feature_guard.cc:182] This TensorFlow binary is optimized to use available CPU instructions in performance-critical operations.\n",
      "To enable the following instructions: AVX2 AVX512F AVX512_VNNI FMA, in other operations, rebuild TensorFlow with the appropriate compiler flags.\n",
      "2024-03-20 15:37:17.411297: W tensorflow/compiler/tf2tensorrt/utils/py_utils.cc:38] TF-TRT Warning: Could not find TensorRT\n"
     ]
    }
   ],
   "source": [
    "# Import the necessary libraries\n",
    "\n",
    "import os\n",
    "import argparse\n",
    "import torch\n",
    "import wandb\n",
    "\n",
    "from hybrid_transformer.configs.task import TaskConfig\n",
    "from hybrid_transformer.configs.model import ModelConfig\n",
    "from hybrid_transformer.configs.trainer import TrainerConfig\n",
    "from hybrid_transformer.configs.logger import LoggerConfig\n",
    "\n",
    "from hybrid_transformer.utils.datasets.smiles.auto import AutoDataset\n",
    "from hybrid_transformer.utils.tokenizers.auto import AutoTokenizer\n",
    "from hybrid_transformer.models.auto import AutoModel\n",
    "from hybrid_transformer.utils.loggers.wandb import WandbLogger\n",
    "\n",
    "from hybrid_transformer.trainers.trainer import Trainer\n",
    "\n",
    "from hybrid_transformer.utils.objectives.guacamol.objective import GUACAMOL_TASKS\n",
    "from hybrid_transformer.utils.objectives.molecule_net.objective import MOLECULE_NET_REGRESSION_TASKS\n",
    "from hybrid_transformer.models.prediction import PREDICTION_MODEL_CONFIGS\n",
    "\n",
    "%load_ext autoreload\n",
    "%autoreload 2\n"
   ],
   "metadata": {
    "collapsed": false,
    "ExecuteTime": {
     "end_time": "2024-03-20T14:37:18.982743509Z",
     "start_time": "2024-03-20T14:37:09.509874981Z"
    }
   },
   "id": "7eace6c204965421"
  },
  {
   "cell_type": "code",
   "execution_count": 3,
   "outputs": [],
   "source": [
    "# Load the configuration files\n",
    "\n",
    "# Paths to the configuration files\n",
    "PATH_TO_TASK_CONFIG = './configs/tasks/guacamol/distribution_learning/config.json'\n",
    "PATH_TO_MODEL_CONFIG = './configs/models/hybrid_transformer/config.json'\n",
    "PATH_TO_TRAINER_CONFIG = './configs/trainers/pretrain/config.json'\n",
    "# PATH_TO_LOGGER_CONFIG = ''\n",
    "\n",
    "PATH_TO_MODEL_CKPT = './results/pretrain/hybrid_transformer/ckpt.pt'\n",
    "\n",
    "# Load the configuration files\n",
    "task_config = TaskConfig.from_pretrained(PATH_TO_TASK_CONFIG)\n",
    "model_config = ModelConfig.from_pretrained(PATH_TO_MODEL_CONFIG)\n",
    "trainer_config = TrainerConfig.from_pretrained(PATH_TO_TRAINER_CONFIG)\n",
    "trainer_config.enable_save_checkpoint = False\n",
    "\n",
    "# logger_config = LoggerConfig.from_pretrained(PATH_TO_LOGGER_CONFIG)\n",
    "task_config.validate = False\n",
    "# logger_config.wandb_log = False"
   ],
   "metadata": {
    "collapsed": false,
    "ExecuteTime": {
     "end_time": "2024-03-20T14:37:19.094679899Z",
     "start_time": "2024-03-20T14:37:19.043344034Z"
    }
   },
   "id": "a608be48d83965a8"
  },
  {
   "cell_type": "code",
   "execution_count": 4,
   "outputs": [],
   "source": [
    "# Auxiliary functions\n",
    "\n",
    "def save_strings_to_file(strings, filename):\n",
    "    with open(filename, 'w') as f:\n",
    "        for s in strings:\n",
    "            f.write(s + '\\n')\n",
    "\n",
    "def read_strings_from_file(filename):\n",
    "    with open(filename, 'r') as f:\n",
    "        strings = f.read().splitlines()\n",
    "    return strings\n",
    "\n",
    "def convert_strings_to_lists(strings):\n",
    "    return [[s, f'MOL{i}'] for i, s in enumerate(strings)]"
   ],
   "metadata": {
    "collapsed": false,
    "ExecuteTime": {
     "end_time": "2024-03-20T14:37:19.132811401Z",
     "start_time": "2024-03-20T14:37:19.082659120Z"
    }
   },
   "id": "18a20efcc35dd847"
  },
  {
   "cell_type": "code",
   "execution_count": 9,
   "outputs": [],
   "source": [
    "my_list = read_strings_from_file('generated_molecules.smi')"
   ],
   "metadata": {
    "collapsed": false,
    "ExecuteTime": {
     "end_time": "2024-03-18T13:40:37.586402996Z",
     "start_time": "2024-03-18T13:40:37.542864877Z"
    }
   },
   "id": "17caf6c1bc82f5a0"
  },
  {
   "cell_type": "code",
   "execution_count": 10,
   "outputs": [
    {
     "data": {
      "text/plain": "['Cc1cc(N2CCOCC2)ccc1N1CC(C)(C)N(CC(N)=O)C1=O',\n 'O=C1C(=Cc2ccc(OCCCBr)cc2)COc2ccc(OCCCBr)cc21',\n 'COc1ccc2c(c1)c(CC(=O)O)c(C)n2C(=O)c1ccc(F)cc1',\n 'OC(c1ccccc1)c1cc(Br)c2cccc(C(F)(F)F)c2n1',\n 'COC1=NOC(C#CCCCCCC(O)(O)CO)C1',\n 'CC(C)C1NC(=O)C(Cc2ccc(O)cc2)NC(=O)C(C(C)C)NCCOc2ccccc2CCCNC1=O',\n 'Cc1cc(C)c(C#N)c(O)n1',\n 'NC(=O)C1C2C=CC(C2)C1C(=O)NCc1ccccc1',\n 'O=C(Nc1ccc(S(=O)(=O)Nc2nccs2)cc1)c1ccccc1',\n 'COC(=O)c1ccc([N+](=O)[O-])c(S(=O)(=O)Cc2ccccc2F)c1',\n 'CCC(=CC1CCC(C2CC=C3C4CC(O)C5(O)CC(O)CCC5(C)C4CCC32C)CC1)C(C)C',\n 'COc1cccc(-c2noc(CN3CCN(c4ccc(F)cc4)CC3)n2)c1OC',\n 'Cc1ccc(C(=O)Nc2ccccc2N(C)Cc2ccccc2)cc1C(=O)Nc1ccc(C#N)cc1',\n 'O=C(CCCCCCCCCc1ccccc1)NCCCCCCCCc1c[nH]cn1',\n 'COc1ccc2[nH]c(=O)c(-c3ccc(N(C)C)cc3)cc2c1',\n 'Cc1ccc(-c2nn(-c3cccc(Cl)c3)c3ncnc(N)c23)cc1',\n 'COc1c(C(O)C2CCCCC2)ccc2c1-c1n(c(=O)cc3ncccc31)CC2',\n 'CC(=NNc1nc(-c2ccc(C)cc2)cs1)c1ccccc1Cl',\n 'CCOc1ccc(C=NOCC(=O)Nc2cccc(C(F)(F)F)c2)cc1',\n 'CC12NC(Cc3ccc(O)cc31)c1ccccc12',\n 'CSc1nnc(C2CC(S)CN2S(=O)(=O)c2ccccc2F)n1C(C)C',\n 'CCc1ccc2c(c1)OC(C)CN(Cc1ccc(-n3cnnc3)cc1)S2(=O)=O',\n 'O=C(O)c1cccc(Nc2nc3ccc(Br)cc3o2)c1',\n 'O=C(CCNC(=O)c1ccccc1Cl)Nc1ccc(S(=O)(=O)Nc2ncccn2)cc1',\n 'COc1ccc(CNC(=O)CCC(=O)n2nc(C)c3sc4ccccc4c3c2=O)cc1',\n 'COc1cc2ncnc(N3CCN(C(=O)Nc4ccc(Oc5ccccc5)cc4)CC3)c2cc1OC',\n 'CC12CCC(=O)N1C(C(=O)Nc1cccc(S(=O)(=O)N3CCCCCC3)c1)CS2',\n 'COc1ccc(-c2nc(SCC(=O)NC3CCCC3)c(-c3ccc(OC)cc3)[nH]2)cc1',\n 'C=C1C=CC(=O)C(C)CCCC1OC(C)C(=O)O',\n 'CIc1cccc(N(CCBr)CCBr)c1',\n 'CC#CCOc1cc(C)c(Sc2cncc(NC(=O)c3cccc(Cl)c3)c2)c(C)c1',\n 'NC(=S)Nc1cccc(OCCCCCN2CCOCC2)c1',\n 'NC(=O)CNC(=O)C(N)Cc1c[nH]c2ccccc12',\n 'CC(C)COC(=O)Oc1c(C(C)(C)C)ccc(-c2ccc(F)cc2)c1-c1cccc(Cl)c1',\n 'CC(C)=CCc1c(C)cc2c(c1O)C(=O)C(O)(Cc1cc(-c3ccc(F)cc3)cc3ccccc13)CO2',\n 'CC1OC(OC2C(O)C(NC(=O)Cc3ccccc3)CC(N)C2OC2OC(CN)C(O)C(O)C2O)C(O)C(O)C1O',\n 'c1ccc2sc(-c3cnoc3-c3ccncc3)nc2c1',\n 'O=C(CCCCCc1ccccc1)CCCCC(=O)Nc1ccccc1',\n 'CC(C)c1ccc(CNC(=O)C(Cc2ccccc2)n2ccnc2)cc1',\n 'COc1ccc(-c2cccc3c(=O)cc(N4CCOCC4)oc23)cc1',\n 'CN(CCCn1c(=O)sc2ccccc21)Cc1ccccc1',\n 'O=C1c2ccccc2C(=O)N1CC1CC2c3ccc(Cl)cc3Cc3ccccc3N2O1',\n 'CNc1nc(NCc2ccc(NC(=O)c3ccc(Cl)cc3)cc2)c2ccccc2n1',\n 'COc1cccc(N2c3ncccc3C3(O)CCN(C(=O)c4cc(C(C)=O)c[nH]4)CC32)c1',\n 'CC1(C)CCc2cc(OCC(=O)Nc3cccc(-c4nc5cc(C#N)ccc5o4)c3)c(Cl)cc2O1',\n 'CN1C(C(=O)C=Cc2cn(CC(=O)Nc3ccc(F)cc3)c3ccccc23)=C(O)c2ccccc2S1(=O)=O',\n 'CC12CCC(=O)C=C1c1cc(Cc3nnn[nH]3)cc(O)c1C2',\n 'CSc1cccc(CNC(=O)Cn2ccc3cc(S(=O)(=O)N4CCC(C)CC4)ccc32)c1',\n 'Cc1cc(C(=O)O)ccc1OCc1c(C3CCCC2)csc1-c1ccc(C(F)(F)F)cc1',\n 'CC(N)(CCCc1ccccc1)C(=O)NC(C)c1ccc(F)cc1',\n 'CN1CCc2ccccc2-c2c(C3CCCCC3)c3ccc(C(=O)O)cc3n2CC1',\n 'CC(COC(=O)c1ccccc1)OC(=O)NC12CCC(=O)C3Oc4c(O)cccc4C31CCN(CC1CC1)C2',\n 'COc1ccc(-c2coc3cc(OC)c(OC)c(O)c3c2=O)cc1O',\n 'CC1(C)CCC(C)(C)c2cc3c(cc21)Sc1ccccc1N=C3c1ccccc1O',\n 'OCC1OC(n2c(Cc3cccc(F)c3)nc3c(Cl)ncnc32)C(O)C1O',\n 'CCc1ccc(-c2nn(CCCCC(=O)Nc3cccc(C)c3)c3ccccc23)cc1',\n 'O=C1N=C(N2CCC(c3ccccc3)CC2)SC1=Cc1ccncc1',\n 'COC(=O)C(=O)C=C(O)c1cccc(Oc2ccccc2)c1',\n 'Clc1cccc(CC2CCNCC2)n1',\n 'Cc1cccc(OC(=O)c2cccc(S(=O)(=O)N3CCN(c4ccccc4)CC3)c2)c1',\n 'CCCCc1ccc(C(=O)N(CCN(CCCC)CCCC)Cc2ccc(-c3ccc(C(=O)NCCCC)cc3)cc2)cc1',\n 'CCCCCCCCCCOc1ccc2[nH]cc(CCN)c2c1',\n 'COc1c(C=NNC(=O)c2ccc(Br)o2)ccc(C)c1[N+](=O)[O-]',\n 'O=C(c1ccc(Cl)cc1)C1CCN(C(=O)c2ccc(C(F)(F)F)cc2)CC1',\n 'CSCCC(NC(=O)C(CCc1ccccc1)NC(Cc1ccccc1)C(=O)O)C(=O)NC(Cc1ccccc1)C(=O)Nc1ccc(Cl)c(Cl)c1',\n 'CC(=O)c1ccc(N=C(S)NC(Cc2ccccc2)C(=O)NCCC(c2ccccc2)c2ccccc2)cc1',\n 'CC(Oc1ccc(Cl)cc1)C(=O)OCC(=O)NC1CC1',\n 'CCc1ccc(OCC(=O)NCc2nnc3ccccn23)c(Br)c1',\n 'O=c1[nH]cnc2[nH]c(=O)n(CP(=O)(O)O)c12',\n 'O=C(Cc1ccccc1F)NCc1cccs1',\n 'O=CC(Cc1ccc(O)c(O)c1)(Cc1ccc(O)c(O)c1)C(=O)OCc1cccc(C(=O)O)c1',\n 'CC(O)C(=O)NNC(=O)c1cnc2c(C(F)(F)F)cccc2c1O',\n 'O=C(O)c1ccc(Nc2nc(-c3ccccc3O)c3ccccc3n2)cc1',\n 'CCCn1c(Cc2ccc(OCC)cc2Cl)nc2ccccc21',\n 'Cc1cc(S(=O)(=O)N2CCOCC2)ccc1OCC(=O)NCc1ccccn1',\n 'COc1ccc(CC(=O)O)cc1-c1ccc(F)c2c1CN(C(=O)OCc1ccccc1)CC2',\n 'Cc1cc(C)c(NS(=O)(=O)c2ccc(F)cc2)c(C)c1NS(=O)(=O)c1ccc(Cl)cc1',\n 'O=C(CS(=O)(=O)c1cn(CC(=O)N2CCOCC2)c2ccccc12)NCCc1ccccc1',\n 'CC(C#N)c1c(F)cccc1C(F)(F)F',\n 'O=C(C=Cc1ccc(O)cc1)NCCCCCN1CCC(c2c[nH]c3ccccc23)CC1',\n 'O=Cc1cncc(-c2cccs2)c1']"
     },
     "execution_count": 10,
     "metadata": {},
     "output_type": "execute_result"
    }
   ],
   "source": [
    "my_list"
   ],
   "metadata": {
    "collapsed": false,
    "ExecuteTime": {
     "end_time": "2024-03-18T13:40:38.090604548Z",
     "start_time": "2024-03-18T13:40:38.042825923Z"
    }
   },
   "id": "aa110585840b4b9f"
  },
  {
   "cell_type": "code",
   "execution_count": 11,
   "outputs": [
    {
     "ename": "ZeroDivisionError",
     "evalue": "division by zero",
     "output_type": "error",
     "traceback": [
      "\u001B[0;31m---------------------------------------------------------------------------\u001B[0m",
      "\u001B[0;31mZeroDivisionError\u001B[0m                         Traceback (most recent call last)",
      "Cell \u001B[0;32mIn[11], line 1\u001B[0m\n\u001B[0;32m----> 1\u001B[0m validity \u001B[38;5;241m=\u001B[39m \u001B[38;5;28;43msum\u001B[39;49m\u001B[43m(\u001B[49m\u001B[43mtokenizer\u001B[49m\u001B[38;5;241;43m.\u001B[39;49m\u001B[43mis_valid_smiles\u001B[49m\u001B[43m(\u001B[49m\u001B[43mgenerated_molecules\u001B[49m\u001B[43m)\u001B[49m\u001B[43m)\u001B[49m\u001B[43m \u001B[49m\u001B[38;5;241;43m/\u001B[39;49m\u001B[43m \u001B[49m\u001B[38;5;28;43mlen\u001B[39;49m\u001B[43m(\u001B[49m\u001B[43mtokenizer\u001B[49m\u001B[38;5;241;43m.\u001B[39;49m\u001B[43mis_valid_smiles\u001B[49m\u001B[43m(\u001B[49m\u001B[43mgenerated_molecules\u001B[49m\u001B[43m)\u001B[49m\u001B[43m)\u001B[49m\n\u001B[1;32m      2\u001B[0m validity\n",
      "\u001B[0;31mZeroDivisionError\u001B[0m: division by zero"
     ]
    }
   ],
   "source": [
    "validity = sum(tokenizer.is_valid_smiles(generated_molecules)) / len(tokenizer.is_valid_smiles(generated_molecules))\n",
    "validity"
   ],
   "metadata": {
    "collapsed": false,
    "ExecuteTime": {
     "end_time": "2024-03-18T13:40:38.946467082Z",
     "start_time": "2024-03-18T13:40:38.910066594Z"
    }
   },
   "id": "94fd0f760c2b2c32"
  },
  {
   "cell_type": "code",
   "execution_count": 11,
   "outputs": [],
   "source": [],
   "metadata": {
    "collapsed": false,
    "ExecuteTime": {
     "end_time": "2024-03-18T13:40:39.760326627Z",
     "start_time": "2024-03-18T13:40:39.757601260Z"
    }
   },
   "id": "70aa3de3e5ae8a43"
  },
  {
   "cell_type": "code",
   "execution_count": 11,
   "outputs": [],
   "source": [],
   "metadata": {
    "collapsed": false,
    "ExecuteTime": {
     "end_time": "2024-03-18T13:40:39.962418915Z",
     "start_time": "2024-03-18T13:40:39.959383831Z"
    }
   },
   "id": "31a0aa8f6a4116bd"
  },
  {
   "cell_type": "code",
   "execution_count": 12,
   "outputs": [
    {
     "ename": "SyntaxError",
     "evalue": "invalid syntax (319190680.py, line 1)",
     "output_type": "error",
     "traceback": [
      "\u001B[0;36m  Cell \u001B[0;32mIn[12], line 1\u001B[0;36m\u001B[0m\n\u001B[0;31m    tokenizer.\u001B[0m\n\u001B[0m              ^\u001B[0m\n\u001B[0;31mSyntaxError\u001B[0m\u001B[0;31m:\u001B[0m invalid syntax\n"
     ]
    }
   ],
   "source": [
    "tokenizer."
   ],
   "metadata": {
    "collapsed": false,
    "ExecuteTime": {
     "end_time": "2024-03-18T13:40:40.434400806Z",
     "start_time": "2024-03-18T13:40:40.406779318Z"
    }
   },
   "id": "698b6efb9d687628"
  },
  {
   "cell_type": "code",
   "execution_count": 13,
   "outputs": [],
   "source": [
    "import sys\n",
    "from rdkit import Chem\n",
    "from rdkit.Chem.Descriptors import MolWt, MolLogP, NumHDonors, NumHAcceptors, TPSA\n",
    "from rdkit.Chem.rdMolDescriptors import CalcNumRotatableBonds\n",
    "import multiprocessing as mp\n",
    "from multiprocessing import Pool\n",
    "import time\n",
    "import pandas as pd\n",
    "import os\n",
    "import json\n",
    "from docopt import docopt\n",
    "\n"
   ],
   "metadata": {
    "collapsed": false,
    "ExecuteTime": {
     "end_time": "2024-03-18T13:40:40.896888142Z",
     "start_time": "2024-03-18T13:40:40.863284520Z"
    }
   },
   "id": "20c27aa24ffb8c06"
  },
  {
   "cell_type": "code",
   "execution_count": 14,
   "outputs": [],
   "source": [
    "path_to_alert_collection = './hybrid_transformer/utils/objectives/rd_filter/data/alert_collection.csv'\n",
    "path_to_rules = './hybrid_transformer/utils/objectives/rd_filter/data/rules.json'\n",
    "path_to_input_data = './hybrid_transformer/utils/objectives/rd_filter/data/HIV.smi'\n",
    "\n",
    "num_cores = mp.cpu_count()\n",
    "rf = RDFilters(path_to_alert_collection)\n",
    "rule_dict = read_rules(path_to_rules)\n",
    "p = Pool(num_cores)"
   ],
   "metadata": {
    "collapsed": false,
    "ExecuteTime": {
     "end_time": "2024-03-18T13:40:43.012883452Z",
     "start_time": "2024-03-18T13:40:42.729157680Z"
    }
   },
   "id": "35f8de5e9e86f35e"
  },
  {
   "cell_type": "code",
   "execution_count": 15,
   "outputs": [],
   "source": [
    "# input_data = [x.split() for x in open(path_to_input_data)]\n",
    "# input_data = [x for x in input_data if len(x) == 2]\n",
    "\n",
    "input_data = convert_strings_to_lists(read_strings_from_file('generated_molecules.smi'))\n",
    "\n",
    "rule_list = [x.replace(\"Rule_\", \"\") for x in rule_dict.keys() if x.startswith(\"Rule\") and rule_dict[x]]\n",
    "rule_str = \" and \".join(rule_list)\n",
    "rf.build_rule_list(rule_list)\n",
    "res = list(p.map(rf.evaluate, input_data))\n",
    "df = pd.DataFrame(res, columns=[\"SMILES\", \"NAME\", \"FILTER\", \"MW\", \"LogP\", \"HBD\", \"HBA\", \"TPSA\", \"Rot\"])"
   ],
   "metadata": {
    "collapsed": false,
    "ExecuteTime": {
     "end_time": "2024-03-18T13:40:44.293743717Z",
     "start_time": "2024-03-18T13:40:43.773518103Z"
    }
   },
   "id": "555a5e3107ca3842"
  },
  {
   "cell_type": "code",
   "execution_count": 16,
   "outputs": [
    {
     "data": {
      "text/plain": "                                               SMILES   NAME  \\\n0         Cc1cc(N2CCOCC2)ccc1N1CC(C)(C)N(CC(N)=O)C1=O   MOL0   \n1        O=C1C(=Cc2ccc(OCCCBr)cc2)COc2ccc(OCCCBr)cc21   MOL1   \n2       COc1ccc2c(c1)c(CC(=O)O)c(C)n2C(=O)c1ccc(F)cc1   MOL2   \n3            OC(c1ccccc1)c1cc(Br)c2cccc(C(F)(F)F)c2n1   MOL3   \n4                       COC1=NOC(C#CCCCCCC(O)(O)CO)C1   MOL4   \n..                                                ...    ...   \n76  Cc1cc(C)c(NS(=O)(=O)c2ccc(F)cc2)c(C)c1NS(=O)(=...  MOL76   \n77  O=C(CS(=O)(=O)c1cn(CC(=O)N2CCOCC2)c2ccccc12)NC...  MOL77   \n78                         CC(C#N)c1c(F)cccc1C(F)(F)F  MOL78   \n79  O=C(C=Cc1ccc(O)cc1)NCCCCCN1CCC(c2c[nH]c3ccccc2...  MOL79   \n80                              O=Cc1cncc(-c2cccs2)c1  MOL80   \n\n                            FILTER       MW     LogP  HBD  HBA   TPSA  Rot  \n0                               OK  346.431  1.33752    1    4  79.11    4  \n1        Filter26_alkyl_halide > 0  510.222  5.67290    0    4  44.76    9  \n2                               OK  341.338  3.41302    1    4  68.53    4  \n3                               OK  382.179  5.09780    1    2  33.12    2  \n4                               OK  271.313  0.36230    3    6  91.51    6  \n..                             ...      ...      ...  ...  ...    ...  ...  \n76                              OK  482.986  5.00596    2    4  92.34    6  \n77                              OK  469.563  1.63270    1    6  97.71    8  \n78                              OK  217.165  3.47158    0    1  23.79    1  \n79  Filter44_michael_acceptor2 > 0  431.580  5.05280    3    3  68.36    9  \n80           Filter38_aldehyde > 0  189.239  2.62260    0    3  29.96    2  \n\n[81 rows x 9 columns]",
      "text/html": "<div>\n<style scoped>\n    .dataframe tbody tr th:only-of-type {\n        vertical-align: middle;\n    }\n\n    .dataframe tbody tr th {\n        vertical-align: top;\n    }\n\n    .dataframe thead th {\n        text-align: right;\n    }\n</style>\n<table border=\"1\" class=\"dataframe\">\n  <thead>\n    <tr style=\"text-align: right;\">\n      <th></th>\n      <th>SMILES</th>\n      <th>NAME</th>\n      <th>FILTER</th>\n      <th>MW</th>\n      <th>LogP</th>\n      <th>HBD</th>\n      <th>HBA</th>\n      <th>TPSA</th>\n      <th>Rot</th>\n    </tr>\n  </thead>\n  <tbody>\n    <tr>\n      <th>0</th>\n      <td>Cc1cc(N2CCOCC2)ccc1N1CC(C)(C)N(CC(N)=O)C1=O</td>\n      <td>MOL0</td>\n      <td>OK</td>\n      <td>346.431</td>\n      <td>1.33752</td>\n      <td>1</td>\n      <td>4</td>\n      <td>79.11</td>\n      <td>4</td>\n    </tr>\n    <tr>\n      <th>1</th>\n      <td>O=C1C(=Cc2ccc(OCCCBr)cc2)COc2ccc(OCCCBr)cc21</td>\n      <td>MOL1</td>\n      <td>Filter26_alkyl_halide &gt; 0</td>\n      <td>510.222</td>\n      <td>5.67290</td>\n      <td>0</td>\n      <td>4</td>\n      <td>44.76</td>\n      <td>9</td>\n    </tr>\n    <tr>\n      <th>2</th>\n      <td>COc1ccc2c(c1)c(CC(=O)O)c(C)n2C(=O)c1ccc(F)cc1</td>\n      <td>MOL2</td>\n      <td>OK</td>\n      <td>341.338</td>\n      <td>3.41302</td>\n      <td>1</td>\n      <td>4</td>\n      <td>68.53</td>\n      <td>4</td>\n    </tr>\n    <tr>\n      <th>3</th>\n      <td>OC(c1ccccc1)c1cc(Br)c2cccc(C(F)(F)F)c2n1</td>\n      <td>MOL3</td>\n      <td>OK</td>\n      <td>382.179</td>\n      <td>5.09780</td>\n      <td>1</td>\n      <td>2</td>\n      <td>33.12</td>\n      <td>2</td>\n    </tr>\n    <tr>\n      <th>4</th>\n      <td>COC1=NOC(C#CCCCCCC(O)(O)CO)C1</td>\n      <td>MOL4</td>\n      <td>OK</td>\n      <td>271.313</td>\n      <td>0.36230</td>\n      <td>3</td>\n      <td>6</td>\n      <td>91.51</td>\n      <td>6</td>\n    </tr>\n    <tr>\n      <th>...</th>\n      <td>...</td>\n      <td>...</td>\n      <td>...</td>\n      <td>...</td>\n      <td>...</td>\n      <td>...</td>\n      <td>...</td>\n      <td>...</td>\n      <td>...</td>\n    </tr>\n    <tr>\n      <th>76</th>\n      <td>Cc1cc(C)c(NS(=O)(=O)c2ccc(F)cc2)c(C)c1NS(=O)(=...</td>\n      <td>MOL76</td>\n      <td>OK</td>\n      <td>482.986</td>\n      <td>5.00596</td>\n      <td>2</td>\n      <td>4</td>\n      <td>92.34</td>\n      <td>6</td>\n    </tr>\n    <tr>\n      <th>77</th>\n      <td>O=C(CS(=O)(=O)c1cn(CC(=O)N2CCOCC2)c2ccccc12)NC...</td>\n      <td>MOL77</td>\n      <td>OK</td>\n      <td>469.563</td>\n      <td>1.63270</td>\n      <td>1</td>\n      <td>6</td>\n      <td>97.71</td>\n      <td>8</td>\n    </tr>\n    <tr>\n      <th>78</th>\n      <td>CC(C#N)c1c(F)cccc1C(F)(F)F</td>\n      <td>MOL78</td>\n      <td>OK</td>\n      <td>217.165</td>\n      <td>3.47158</td>\n      <td>0</td>\n      <td>1</td>\n      <td>23.79</td>\n      <td>1</td>\n    </tr>\n    <tr>\n      <th>79</th>\n      <td>O=C(C=Cc1ccc(O)cc1)NCCCCCN1CCC(c2c[nH]c3ccccc2...</td>\n      <td>MOL79</td>\n      <td>Filter44_michael_acceptor2 &gt; 0</td>\n      <td>431.580</td>\n      <td>5.05280</td>\n      <td>3</td>\n      <td>3</td>\n      <td>68.36</td>\n      <td>9</td>\n    </tr>\n    <tr>\n      <th>80</th>\n      <td>O=Cc1cncc(-c2cccs2)c1</td>\n      <td>MOL80</td>\n      <td>Filter38_aldehyde &gt; 0</td>\n      <td>189.239</td>\n      <td>2.62260</td>\n      <td>0</td>\n      <td>3</td>\n      <td>29.96</td>\n      <td>2</td>\n    </tr>\n  </tbody>\n</table>\n<p>81 rows × 9 columns</p>\n</div>"
     },
     "execution_count": 16,
     "metadata": {},
     "output_type": "execute_result"
    }
   ],
   "source": [
    "df"
   ],
   "metadata": {
    "collapsed": false,
    "ExecuteTime": {
     "end_time": "2024-03-18T13:40:44.756254123Z",
     "start_time": "2024-03-18T13:40:44.707021982Z"
    }
   },
   "id": "599b4ad166049d5b"
  },
  {
   "cell_type": "code",
   "execution_count": 17,
   "outputs": [
    {
     "name": "stderr",
     "output_type": "stream",
     "text": [
      "38 of 81 passed filters 46.9%\n"
     ]
    }
   ],
   "source": [
    "df_ok = df[\n",
    "            (df.FILTER == \"OK\") &\n",
    "            df.MW.between(*rule_dict[\"MW\"]) &\n",
    "            df.LogP.between(*rule_dict[\"LogP\"]) &\n",
    "            df.HBD.between(*rule_dict[\"HBD\"]) &\n",
    "            df.HBA.between(*rule_dict[\"HBA\"]) &\n",
    "            df.TPSA.between(*rule_dict[\"TPSA\"]) &\n",
    "            df.Rot.between(*rule_dict[\"Rot\"])\n",
    "            ]\n",
    "\n",
    "num_input_rows = df.shape[0]\n",
    "num_output_rows = df_ok.shape[0]\n",
    "fraction_passed = \"%.1f\" % (num_output_rows / num_input_rows * 100.0)\n",
    "print(f\"{num_output_rows} of {num_input_rows} passed filters {fraction_passed}%\", file=sys.stderr)\n"
   ],
   "metadata": {
    "collapsed": false,
    "ExecuteTime": {
     "end_time": "2024-03-18T13:40:45.672329451Z",
     "start_time": "2024-03-18T13:40:45.641127621Z"
    }
   },
   "id": "74f62bf569385112"
  },
  {
   "cell_type": "code",
   "execution_count": 18,
   "outputs": [
    {
     "data": {
      "text/plain": "[['Cc1cc(N2CCOCC2)ccc1N1CC(C)(C)N(CC(N)=O)C1=O', 'MOL0'],\n ['O=C1C(=Cc2ccc(OCCCBr)cc2)COc2ccc(OCCCBr)cc21', 'MOL1'],\n ['COc1ccc2c(c1)c(CC(=O)O)c(C)n2C(=O)c1ccc(F)cc1', 'MOL2'],\n ['OC(c1ccccc1)c1cc(Br)c2cccc(C(F)(F)F)c2n1', 'MOL3'],\n ['COC1=NOC(C#CCCCCCC(O)(O)CO)C1', 'MOL4'],\n ['CC(C)C1NC(=O)C(Cc2ccc(O)cc2)NC(=O)C(C(C)C)NCCOc2ccccc2CCCNC1=O', 'MOL5'],\n ['Cc1cc(C)c(C#N)c(O)n1', 'MOL6'],\n ['NC(=O)C1C2C=CC(C2)C1C(=O)NCc1ccccc1', 'MOL7'],\n ['O=C(Nc1ccc(S(=O)(=O)Nc2nccs2)cc1)c1ccccc1', 'MOL8'],\n ['COC(=O)c1ccc([N+](=O)[O-])c(S(=O)(=O)Cc2ccccc2F)c1', 'MOL9'],\n ['CCC(=CC1CCC(C2CC=C3C4CC(O)C5(O)CC(O)CCC5(C)C4CCC32C)CC1)C(C)C', 'MOL10'],\n ['COc1cccc(-c2noc(CN3CCN(c4ccc(F)cc4)CC3)n2)c1OC', 'MOL11'],\n ['Cc1ccc(C(=O)Nc2ccccc2N(C)Cc2ccccc2)cc1C(=O)Nc1ccc(C#N)cc1', 'MOL12'],\n ['O=C(CCCCCCCCCc1ccccc1)NCCCCCCCCc1c[nH]cn1', 'MOL13'],\n ['COc1ccc2[nH]c(=O)c(-c3ccc(N(C)C)cc3)cc2c1', 'MOL14'],\n ['Cc1ccc(-c2nn(-c3cccc(Cl)c3)c3ncnc(N)c23)cc1', 'MOL15'],\n ['COc1c(C(O)C2CCCCC2)ccc2c1-c1n(c(=O)cc3ncccc31)CC2', 'MOL16'],\n ['CC(=NNc1nc(-c2ccc(C)cc2)cs1)c1ccccc1Cl', 'MOL17'],\n ['CCOc1ccc(C=NOCC(=O)Nc2cccc(C(F)(F)F)c2)cc1', 'MOL18'],\n ['CC12NC(Cc3ccc(O)cc31)c1ccccc12', 'MOL19'],\n ['CSc1nnc(C2CC(S)CN2S(=O)(=O)c2ccccc2F)n1C(C)C', 'MOL20'],\n ['CCc1ccc2c(c1)OC(C)CN(Cc1ccc(-n3cnnc3)cc1)S2(=O)=O', 'MOL21'],\n ['O=C(O)c1cccc(Nc2nc3ccc(Br)cc3o2)c1', 'MOL22'],\n ['O=C(CCNC(=O)c1ccccc1Cl)Nc1ccc(S(=O)(=O)Nc2ncccn2)cc1', 'MOL23'],\n ['COc1ccc(CNC(=O)CCC(=O)n2nc(C)c3sc4ccccc4c3c2=O)cc1', 'MOL24'],\n ['COc1cc2ncnc(N3CCN(C(=O)Nc4ccc(Oc5ccccc5)cc4)CC3)c2cc1OC', 'MOL25'],\n ['CC12CCC(=O)N1C(C(=O)Nc1cccc(S(=O)(=O)N3CCCCCC3)c1)CS2', 'MOL26'],\n ['COc1ccc(-c2nc(SCC(=O)NC3CCCC3)c(-c3ccc(OC)cc3)[nH]2)cc1', 'MOL27'],\n ['C=C1C=CC(=O)C(C)CCCC1OC(C)C(=O)O', 'MOL28'],\n ['CIc1cccc(N(CCBr)CCBr)c1', 'MOL29'],\n ['CC#CCOc1cc(C)c(Sc2cncc(NC(=O)c3cccc(Cl)c3)c2)c(C)c1', 'MOL30'],\n ['NC(=S)Nc1cccc(OCCCCCN2CCOCC2)c1', 'MOL31'],\n ['NC(=O)CNC(=O)C(N)Cc1c[nH]c2ccccc12', 'MOL32'],\n ['CC(C)COC(=O)Oc1c(C(C)(C)C)ccc(-c2ccc(F)cc2)c1-c1cccc(Cl)c1', 'MOL33'],\n ['CC(C)=CCc1c(C)cc2c(c1O)C(=O)C(O)(Cc1cc(-c3ccc(F)cc3)cc3ccccc13)CO2',\n  'MOL34'],\n ['CC1OC(OC2C(O)C(NC(=O)Cc3ccccc3)CC(N)C2OC2OC(CN)C(O)C(O)C2O)C(O)C(O)C1O',\n  'MOL35'],\n ['c1ccc2sc(-c3cnoc3-c3ccncc3)nc2c1', 'MOL36'],\n ['O=C(CCCCCc1ccccc1)CCCCC(=O)Nc1ccccc1', 'MOL37'],\n ['CC(C)c1ccc(CNC(=O)C(Cc2ccccc2)n2ccnc2)cc1', 'MOL38'],\n ['COc1ccc(-c2cccc3c(=O)cc(N4CCOCC4)oc23)cc1', 'MOL39'],\n ['CN(CCCn1c(=O)sc2ccccc21)Cc1ccccc1', 'MOL40'],\n ['O=C1c2ccccc2C(=O)N1CC1CC2c3ccc(Cl)cc3Cc3ccccc3N2O1', 'MOL41'],\n ['CNc1nc(NCc2ccc(NC(=O)c3ccc(Cl)cc3)cc2)c2ccccc2n1', 'MOL42'],\n ['COc1cccc(N2c3ncccc3C3(O)CCN(C(=O)c4cc(C(C)=O)c[nH]4)CC32)c1', 'MOL43'],\n ['CC1(C)CCc2cc(OCC(=O)Nc3cccc(-c4nc5cc(C#N)ccc5o4)c3)c(Cl)cc2O1', 'MOL44'],\n ['CN1C(C(=O)C=Cc2cn(CC(=O)Nc3ccc(F)cc3)c3ccccc23)=C(O)c2ccccc2S1(=O)=O',\n  'MOL45'],\n ['CC12CCC(=O)C=C1c1cc(Cc3nnn[nH]3)cc(O)c1C2', 'MOL46'],\n ['CSc1cccc(CNC(=O)Cn2ccc3cc(S(=O)(=O)N4CCC(C)CC4)ccc32)c1', 'MOL47'],\n ['Cc1cc(C(=O)O)ccc1OCc1c(C3CCCC2)csc1-c1ccc(C(F)(F)F)cc1', 'MOL48'],\n ['CC(N)(CCCc1ccccc1)C(=O)NC(C)c1ccc(F)cc1', 'MOL49'],\n ['CN1CCc2ccccc2-c2c(C3CCCCC3)c3ccc(C(=O)O)cc3n2CC1', 'MOL50'],\n ['CC(COC(=O)c1ccccc1)OC(=O)NC12CCC(=O)C3Oc4c(O)cccc4C31CCN(CC1CC1)C2',\n  'MOL51'],\n ['COc1ccc(-c2coc3cc(OC)c(OC)c(O)c3c2=O)cc1O', 'MOL52'],\n ['CC1(C)CCC(C)(C)c2cc3c(cc21)Sc1ccccc1N=C3c1ccccc1O', 'MOL53'],\n ['OCC1OC(n2c(Cc3cccc(F)c3)nc3c(Cl)ncnc32)C(O)C1O', 'MOL54'],\n ['CCc1ccc(-c2nn(CCCCC(=O)Nc3cccc(C)c3)c3ccccc23)cc1', 'MOL55'],\n ['O=C1N=C(N2CCC(c3ccccc3)CC2)SC1=Cc1ccncc1', 'MOL56'],\n ['COC(=O)C(=O)C=C(O)c1cccc(Oc2ccccc2)c1', 'MOL57'],\n ['Clc1cccc(CC2CCNCC2)n1', 'MOL58'],\n ['Cc1cccc(OC(=O)c2cccc(S(=O)(=O)N3CCN(c4ccccc4)CC3)c2)c1', 'MOL59'],\n ['CCCCc1ccc(C(=O)N(CCN(CCCC)CCCC)Cc2ccc(-c3ccc(C(=O)NCCCC)cc3)cc2)cc1',\n  'MOL60'],\n ['CCCCCCCCCCOc1ccc2[nH]cc(CCN)c2c1', 'MOL61'],\n ['COc1c(C=NNC(=O)c2ccc(Br)o2)ccc(C)c1[N+](=O)[O-]', 'MOL62'],\n ['O=C(c1ccc(Cl)cc1)C1CCN(C(=O)c2ccc(C(F)(F)F)cc2)CC1', 'MOL63'],\n ['CSCCC(NC(=O)C(CCc1ccccc1)NC(Cc1ccccc1)C(=O)O)C(=O)NC(Cc1ccccc1)C(=O)Nc1ccc(Cl)c(Cl)c1',\n  'MOL64'],\n ['CC(=O)c1ccc(N=C(S)NC(Cc2ccccc2)C(=O)NCCC(c2ccccc2)c2ccccc2)cc1', 'MOL65'],\n ['CC(Oc1ccc(Cl)cc1)C(=O)OCC(=O)NC1CC1', 'MOL66'],\n ['CCc1ccc(OCC(=O)NCc2nnc3ccccn23)c(Br)c1', 'MOL67'],\n ['O=c1[nH]cnc2[nH]c(=O)n(CP(=O)(O)O)c12', 'MOL68'],\n ['O=C(Cc1ccccc1F)NCc1cccs1', 'MOL69'],\n ['O=CC(Cc1ccc(O)c(O)c1)(Cc1ccc(O)c(O)c1)C(=O)OCc1cccc(C(=O)O)c1', 'MOL70'],\n ['CC(O)C(=O)NNC(=O)c1cnc2c(C(F)(F)F)cccc2c1O', 'MOL71'],\n ['O=C(O)c1ccc(Nc2nc(-c3ccccc3O)c3ccccc3n2)cc1', 'MOL72'],\n ['CCCn1c(Cc2ccc(OCC)cc2Cl)nc2ccccc21', 'MOL73'],\n ['Cc1cc(S(=O)(=O)N2CCOCC2)ccc1OCC(=O)NCc1ccccn1', 'MOL74'],\n ['COc1ccc(CC(=O)O)cc1-c1ccc(F)c2c1CN(C(=O)OCc1ccccc1)CC2', 'MOL75'],\n ['Cc1cc(C)c(NS(=O)(=O)c2ccc(F)cc2)c(C)c1NS(=O)(=O)c1ccc(Cl)cc1', 'MOL76'],\n ['O=C(CS(=O)(=O)c1cn(CC(=O)N2CCOCC2)c2ccccc12)NCCc1ccccc1', 'MOL77'],\n ['CC(C#N)c1c(F)cccc1C(F)(F)F', 'MOL78'],\n ['O=C(C=Cc1ccc(O)cc1)NCCCCCN1CCC(c2c[nH]c3ccccc23)CC1', 'MOL79'],\n ['O=Cc1cncc(-c2cccs2)c1', 'MOL80']]"
     },
     "execution_count": 18,
     "metadata": {},
     "output_type": "execute_result"
    }
   ],
   "source": [
    "def convert_strings_to_lists(strings):\n",
    "    return [[s, f'MOL{i}'] for i, s in enumerate(strings)]\n",
    "    \n",
    "convert_strings_to_lists(my_list)"
   ],
   "metadata": {
    "collapsed": false,
    "ExecuteTime": {
     "end_time": "2024-03-18T13:40:50.689222041Z",
     "start_time": "2024-03-18T13:40:50.540424681Z"
    }
   },
   "id": "4671df43d7ff6ac4"
  },
  {
   "cell_type": "code",
   "execution_count": 19,
   "outputs": [
    {
     "ename": "NameError",
     "evalue": "name 'cmd_input' is not defined",
     "output_type": "error",
     "traceback": [
      "\u001B[0;31m---------------------------------------------------------------------------\u001B[0m",
      "\u001B[0;31mNameError\u001B[0m                                 Traceback (most recent call last)",
      "Cell \u001B[0;32mIn[19], line 1\u001B[0m\n\u001B[0;32m----> 1\u001B[0m \u001B[38;5;28;01mif\u001B[39;00m \u001B[43mcmd_input\u001B[49m\u001B[38;5;241m.\u001B[39mget(\u001B[38;5;124m\"\u001B[39m\u001B[38;5;124mtemplate\u001B[39m\u001B[38;5;124m\"\u001B[39m):\n\u001B[1;32m      2\u001B[0m     template_output_file \u001B[38;5;241m=\u001B[39m cmd_input\u001B[38;5;241m.\u001B[39mget(\u001B[38;5;124m\"\u001B[39m\u001B[38;5;124m--out\u001B[39m\u001B[38;5;124m\"\u001B[39m)\n\u001B[1;32m      3\u001B[0m     default_rule_template(rf\u001B[38;5;241m.\u001B[39mget_alert_sets(), template_output_file)\n",
      "\u001B[0;31mNameError\u001B[0m: name 'cmd_input' is not defined"
     ]
    }
   ],
   "source": [
    "\n",
    "    if cmd_input.get(\"template\"):\n",
    "        template_output_file = cmd_input.get(\"--out\")\n",
    "        default_rule_template(rf.get_alert_sets(), template_output_file)\n",
    "\n",
    "    elif cmd_input.get(\"filter\"):\n",
    "        input_file_name = cmd_input.get(\"--in\")\n",
    "        rules_file_name = cmd_input.get(\"--rules\") or pkg_resources.resource_filename('rd_filters', \"data/rules.json\")\n",
    "        rules_file_path = get_config_file(rules_file_name, \"FILTER_RULES_DATA\")\n",
    "        prefix_name = cmd_input.get(\"--prefix\")\n",
    "        num_cores = cmd_input.get(\"--np\") or mp.cpu_count()\n",
    "        num_cores = int(num_cores)\n",
    "\n",
    "\n",
    "        p = Pool(num_cores)\n",
    "        input_data = [x.split() for x in open(input_file_name)]\n",
    "        input_data = [x for x in input_data if len(x) == 2]\n",
    "\n",
    "        rule_list = [x.replace(\"Rule_\", \"\") for x in rule_dict.keys() if x.startswith(\"Rule\") and rule_dict[x]]\n",
    "        rule_str = \" and \".join(rule_list)\n",
    "        print(f\"Using alerts from {rule_str}\", file=sys.stderr)\n",
    "        rf.build_rule_list(rule_list)\n",
    "        res = list(p.map(rf.evaluate, input_data))\n",
    "        df = pd.DataFrame(res, columns=[\"SMILES\", \"NAME\", \"FILTER\", \"MW\", \"LogP\", \"HBD\", \"HBA\", \"TPSA\", \"Rot\"])\n",
    "        df_ok = df[\n",
    "            (df.FILTER == \"OK\") &\n",
    "            df.MW.between(*rule_dict[\"MW\"]) &\n",
    "            df.LogP.between(*rule_dict[\"LogP\"]) &\n",
    "            df.HBD.between(*rule_dict[\"HBD\"]) &\n",
    "            df.HBA.between(*rule_dict[\"HBA\"]) &\n",
    "            df.TPSA.between(*rule_dict[\"TPSA\"]) &\n",
    "            df.Rot.between(*rule_dict[\"Rot\"])\n",
    "            ]\n",
    "        output_smiles_file = prefix_name + \".smi\"\n",
    "        output_csv_file = prefix_name + \".csv\"\n",
    "        df_ok[[\"SMILES\", \"NAME\"]].to_csv(f\"{output_smiles_file}\", sep=\" \", index=False, header=False)\n",
    "        print(f\"Wrote SMILES for molecules passing filters to {output_smiles_file}\", file=sys.stderr)\n",
    "        df.to_csv(f\"{prefix_name}.csv\", index=False)\n",
    "        print(f\"Wrote detailed data to {output_csv_file}\", file=sys.stderr)\n",
    "\n",
    "        num_input_rows = df.shape[0]\n",
    "        num_output_rows = df_ok.shape[0]\n",
    "        fraction_passed = \"%.1f\" % (num_output_rows / num_input_rows * 100.0)\n",
    "        print(f\"{num_output_rows} of {num_input_rows} passed filters {fraction_passed}%\", file=sys.stderr)\n",
    "        elapsed_time = \"%.2f\" % (time.time() - start_time)\n",
    "        print(f\"Elapsed time {elapsed_time} seconds\", file=sys.stderr)"
   ],
   "metadata": {
    "collapsed": false,
    "ExecuteTime": {
     "end_time": "2024-03-18T13:40:51.592720413Z",
     "start_time": "2024-03-18T13:40:51.539011536Z"
    }
   },
   "id": "a2c15eb595cfa781"
  },
  {
   "cell_type": "code",
   "execution_count": 23,
   "outputs": [],
   "source": [],
   "metadata": {
    "collapsed": false,
    "ExecuteTime": {
     "end_time": "2024-03-18T13:41:34.747732724Z",
     "start_time": "2024-03-18T13:41:34.089638744Z"
    }
   },
   "id": "c60665bb0c75490f"
  },
  {
   "cell_type": "code",
   "execution_count": 24,
   "outputs": [],
   "source": [
    "vectors = [df_ok.MW, df_ok.LogP, df_ok.HBD, df_ok.HBA, df_ok.TPSA, df_ok.Rot]"
   ],
   "metadata": {
    "collapsed": false,
    "ExecuteTime": {
     "end_time": "2024-03-18T13:41:35.375126126Z",
     "start_time": "2024-03-18T13:41:34.748805090Z"
    }
   },
   "id": "ec3b3a7aa5bd9db3"
  },
  {
   "cell_type": "code",
   "execution_count": 25,
   "outputs": [
    {
     "data": {
      "text/plain": "<Figure size 640x480 with 1 Axes>",
      "image/png": "[encoded data removed]"
     },
     "metadata": {},
     "output_type": "display_data"
    }
   ],
   "source": [
    "plot_histograms(vectors, ['MW', 'LogP', 'HBD', 'HBA', 'TPSA', 'Rot'])"
   ],
   "metadata": {
    "collapsed": false,
    "ExecuteTime": {
     "end_time": "2024-03-18T13:41:41.146130500Z",
     "start_time": "2024-03-18T13:41:40.155340681Z"
    }
   },
   "id": "7c5150838b9dda49"
  },
  {
   "cell_type": "markdown",
   "source": [
    "# Filtering"
   ],
   "metadata": {
    "collapsed": false
   },
   "id": "727329d62ab02fed"
  },
  {
   "cell_type": "code",
   "execution_count": 27,
   "outputs": [],
   "source": [
    "import random\n",
    "import multiprocessing as mp\n",
    "import pandas as pd\n",
    "from multiprocessing import Pool\n",
    "from hybrid_transformer.utils.objectives.rd_filter.rd_filters import RDFilters, read_rules\n",
    "from guacamol.utils.chemistry import is_valid\n",
    "from rdkit.Chem import MolFromSmiles, MolToSmiles\n",
    "from rdkit.Chem.Descriptors import ExactMolWt\n",
    "import numpy as np\n",
    "from hybrid_transformer.utils.objectives.guacamol.utils import smile_to_QED, smile_to_sa, smile_to_penalized_logP\n",
    "import matplotlib.pyplot as plt\n",
    "import numpy as np\n",
    "import seaborn as sns\n",
    "\n",
    "def load_data_for_rd_filtering(\n",
    "        path_to_input_data: str,\n",
    "        path_to_alert_collection: str = './hybrid_transformer/utils/objectives/rd_filter/data/alert_collection.csv',\n",
    "        path_to_rules: str = './hybrid_transformer/utils/objectives/rd_filter/data/rules.json',\n",
    "        seed: int = 1337\n",
    "):\n",
    "    random.seed(seed)\n",
    "\n",
    "    smiles = read_strings_from_file(path_to_input_data)\n",
    "    if len(smiles) > 10000:\n",
    "        smiles = random.sample(smiles, 10000)\n",
    "    \n",
    "    num_cores = mp.cpu_count()\n",
    "    rf = RDFilters(path_to_alert_collection)\n",
    "    rule_dict = read_rules(path_to_rules)\n",
    "    p = Pool(num_cores)\n",
    "    \n",
    "    input_data = convert_strings_to_lists(smiles)\n",
    "    \n",
    "    rule_list = [x.replace(\"Rule_\", \"\") for x in rule_dict.keys() if x.startswith(\"Rule\") and rule_dict[x]]\n",
    "    rule_str = \" and \".join(rule_list)\n",
    "    rf.build_rule_list(rule_list)\n",
    "    res = list(p.map(rf.evaluate, input_data))\n",
    "    df = pd.DataFrame(res, columns=[\"SMILES\", \"NAME\", \"FILTER\", \"MW\", \"LogP\", \"HBD\", \"HBA\", \"TPSA\", \"Rot\"])\n",
    "    df[\"QED\"] = [smile_to_QED(smiles) if is_valid(smiles) else np.nan for smiles in df.SMILES]\n",
    "    df[\"SA\"] = [smile_to_sa(smiles) if is_valid(smiles) else np.nan for smiles in df.SMILES]\n",
    "    df[\"PenalizedLogP\"] = [smile_to_penalized_logP(smiles) if is_valid(smiles) else np.nan for smiles in df.SMILES]\n",
    "    df[\"Length\"] = [len(smiles) for smiles in df.SMILES]\n",
    "    df_ok = df[\n",
    "            (df.FILTER == \"OK\") &\n",
    "            df.MW.between(*rule_dict[\"MW\"]) &\n",
    "            df.LogP.between(*rule_dict[\"LogP\"]) &\n",
    "            df.HBD.between(*rule_dict[\"HBD\"]) &\n",
    "            df.HBA.between(*rule_dict[\"HBA\"]) &\n",
    "            df.TPSA.between(*rule_dict[\"TPSA\"]) &\n",
    "            df.Rot.between(*rule_dict[\"Rot\"])\n",
    "            ]\n",
    "    num_input_rows = df.shape[0]\n",
    "    num_output_rows = df_ok.shape[0]\n",
    "    fraction_passed = \"%.1f\" % (num_output_rows / num_input_rows * 100.0)\n",
    "    print(f\"{num_output_rows} of {num_input_rows} passed filters {fraction_passed}%\", file=sys.stderr)\n",
    "    is_valid_smiles = [is_valid(smiles) for smiles in df.SMILES]\n",
    "    df_valid = df[is_valid_smiles]\n",
    "    df_summary = df_valid[[\"MW\", \"TPSA\", \"QED\", \"SA\", \"PenalizedLogP\", \"Length\"]].describe()\n",
    "    return df_ok, df, df_summary\n",
    "\n",
    "# Auxiliary functions\n",
    "\n",
    "def save_strings_to_file(strings, filename):\n",
    "    with open(filename, 'w') as f:\n",
    "        for s in strings:\n",
    "            f.write(s + '\\n')\n",
    "\n",
    "def read_strings_from_file(filename):\n",
    "    with open(filename, 'r') as f:\n",
    "        strings = f.read().splitlines()\n",
    "    return strings\n",
    "\n",
    "def convert_strings_to_lists(strings):\n",
    "    return [[s, f'MOL{i}'] for i, s in enumerate(strings)]\n",
    "\n",
    "\n",
    "def plot_histograms(vectors, captions, filename = None):\n",
    "    plt.figure()\n",
    "    for vector, caption in zip(vectors, captions):\n",
    "        plt.hist(vector, alpha=0.5, label=caption)\n",
    "    plt.xlabel('Value')\n",
    "    plt.ylabel('Frequency')\n",
    "    plt.title('Histograms of Properties')\n",
    "    plt.legend(loc='upper right')\n",
    "    if filename:\n",
    "        plt.savefig(filename, format='pdf')\n",
    "    else:\n",
    "        plt.show()\n",
    "    plt.show()\n",
    "    plt.close()\n",
    "\n",
    "def plot_kde(vectors, captions, filename = None):\n",
    "    plt.figure()\n",
    "    for vector, caption in zip(vectors, captions):\n",
    "        sns.kdeplot(\n",
    "   data=vector, x=\"total_bill\", hue=\"size\",\n",
    "   fill=True, common_norm=False, palette=\"crest\",\n",
    "   alpha=.5, linewidth=0,\n",
    ")\n",
    "    plt.xlabel('Value')\n",
    "    plt.ylabel('Frequency')\n",
    "    plt.title('Histograms of Properties')\n",
    "    plt.legend(loc='upper right')\n",
    "    if filename:\n",
    "        plt.savefig(filename, format='pdf')\n",
    "    else:\n",
    "        plt.show()\n",
    "    plt.show()\n",
    "    plt.close()"
   ],
   "metadata": {
    "collapsed": false,
    "ExecuteTime": {
     "end_time": "2024-03-20T14:45:52.723106087Z",
     "start_time": "2024-03-20T14:45:52.650883371Z"
    }
   },
   "id": "59df4299b0e1b5c1"
  },
  {
   "cell_type": "markdown",
   "source": [
    "## Test data"
   ],
   "metadata": {
    "collapsed": false
   },
   "id": "6760fecf4e4e241a"
  },
  {
   "cell_type": "code",
   "execution_count": 18,
   "outputs": [
    {
     "name": "stderr",
     "output_type": "stream",
     "text": [
      "5428 of 10000 passed filters 54.3%\n"
     ]
    }
   ],
   "source": [
    "\n",
    "# Load test molecules\n",
    "\n",
    "PATH_TO_TEST_DATA = './data/guacamol/test/smiles.txt'\n",
    "df_ok, df_test, df_summary = load_data_for_rd_filtering(PATH_TO_TEST_DATA)\n"
   ],
   "metadata": {
    "collapsed": false,
    "ExecuteTime": {
     "end_time": "2024-03-20T14:42:18.758828548Z",
     "start_time": "2024-03-20T14:41:43.392691835Z"
    }
   },
   "id": "cfadce3d4ef49ddf"
  },
  {
   "cell_type": "code",
   "execution_count": 19,
   "outputs": [
    {
     "data": {
      "text/plain": "                 MW          TPSA           QED            SA  PenalizedLogP  \\\ncount  10000.000000  10000.000000  10000.000000  10000.000000   10000.000000   \nmean     395.047777     80.127970      0.557059      2.897537       0.453383   \nstd      108.088240     37.805594      0.212446      0.814749       4.452282   \nmin      102.049000      0.000000      0.022404      1.253505     -95.958394   \n25%      322.336250     55.130000      0.400215      2.330559      -0.008464   \n50%      384.777500     75.630000      0.570837      2.708792       1.170584   \n75%      456.478000     98.425000      0.732043      3.274023       2.071864   \nmax      922.786000    396.440000      0.947501      7.987221       6.248091   \n\n             Length  \ncount  10000.000000  \nmean      47.443200  \nstd       14.085546  \nmin       10.000000  \n25%       38.000000  \n50%       46.000000  \n75%       56.000000  \nmax      100.000000  ",
      "text/html": "<div>\n<style scoped>\n    .dataframe tbody tr th:only-of-type {\n        vertical-align: middle;\n    }\n\n    .dataframe tbody tr th {\n        vertical-align: top;\n    }\n\n    .dataframe thead th {\n        text-align: right;\n    }\n</style>\n<table border=\"1\" class=\"dataframe\">\n  <thead>\n    <tr style=\"text-align: right;\">\n      <th></th>\n      <th>MW</th>\n      <th>TPSA</th>\n      <th>QED</th>\n      <th>SA</th>\n      <th>PenalizedLogP</th>\n      <th>Length</th>\n    </tr>\n  </thead>\n  <tbody>\n    <tr>\n      <th>count</th>\n      <td>10000.000000</td>\n      <td>10000.000000</td>\n      <td>10000.000000</td>\n      <td>10000.000000</td>\n      <td>10000.000000</td>\n      <td>10000.000000</td>\n    </tr>\n    <tr>\n      <th>mean</th>\n      <td>395.047777</td>\n      <td>80.127970</td>\n      <td>0.557059</td>\n      <td>2.897537</td>\n      <td>0.453383</td>\n      <td>47.443200</td>\n    </tr>\n    <tr>\n      <th>std</th>\n      <td>108.088240</td>\n      <td>37.805594</td>\n      <td>0.212446</td>\n      <td>0.814749</td>\n      <td>4.452282</td>\n      <td>14.085546</td>\n    </tr>\n    <tr>\n      <th>min</th>\n      <td>102.049000</td>\n      <td>0.000000</td>\n      <td>0.022404</td>\n      <td>1.253505</td>\n      <td>-95.958394</td>\n      <td>10.000000</td>\n    </tr>\n    <tr>\n      <th>25%</th>\n      <td>322.336250</td>\n      <td>55.130000</td>\n      <td>0.400215</td>\n      <td>2.330559</td>\n      <td>-0.008464</td>\n      <td>38.000000</td>\n    </tr>\n    <tr>\n      <th>50%</th>\n      <td>384.777500</td>\n      <td>75.630000</td>\n      <td>0.570837</td>\n      <td>2.708792</td>\n      <td>1.170584</td>\n      <td>46.000000</td>\n    </tr>\n    <tr>\n      <th>75%</th>\n      <td>456.478000</td>\n      <td>98.425000</td>\n      <td>0.732043</td>\n      <td>3.274023</td>\n      <td>2.071864</td>\n      <td>56.000000</td>\n    </tr>\n    <tr>\n      <th>max</th>\n      <td>922.786000</td>\n      <td>396.440000</td>\n      <td>0.947501</td>\n      <td>7.987221</td>\n      <td>6.248091</td>\n      <td>100.000000</td>\n    </tr>\n  </tbody>\n</table>\n</div>"
     },
     "execution_count": 19,
     "metadata": {},
     "output_type": "execute_result"
    }
   ],
   "source": [
    "df_summary"
   ],
   "metadata": {
    "collapsed": false,
    "ExecuteTime": {
     "end_time": "2024-03-20T14:42:18.768348719Z",
     "start_time": "2024-03-20T14:42:18.763832282Z"
    }
   },
   "id": "1b23a50ef229d5c3"
  },
  {
   "cell_type": "code",
   "execution_count": 50,
   "outputs": [
    {
     "data": {
      "text/plain": "0.0078000000000000005"
     },
     "execution_count": 50,
     "metadata": {},
     "output_type": "execute_result"
    }
   ],
   "source": [
    "import math\n",
    "\n",
    "0.78 / math.sqrt(10000)"
   ],
   "metadata": {
    "collapsed": false,
    "ExecuteTime": {
     "end_time": "2024-03-20T15:55:49.424943980Z",
     "start_time": "2024-03-20T15:55:49.383488938Z"
    }
   },
   "id": "7c24c1567efaca3e"
  },
  {
   "cell_type": "code",
   "execution_count": 20,
   "outputs": [
    {
     "name": "stderr",
     "output_type": "stream",
     "text": [
      "5329 of 10000 passed filters 53.3%\n"
     ]
    }
   ],
   "source": [
    "# Load test molecules\n",
    "\n",
    "PATH_TO_JT_DATA = './generated_joint_transformer.smi'\n",
    "df_ok, df_jf, df_summary = load_data_for_rd_filtering(PATH_TO_JT_DATA)\n"
   ],
   "metadata": {
    "collapsed": false,
    "ExecuteTime": {
     "end_time": "2024-03-20T14:42:53.814425812Z",
     "start_time": "2024-03-20T14:42:18.765966415Z"
    }
   },
   "id": "26383d644361456a"
  },
  {
   "cell_type": "code",
   "execution_count": 21,
   "outputs": [
    {
     "data": {
      "text/plain": "                MW         TPSA          QED           SA  PenalizedLogP  \\\ncount  9891.000000  9891.000000  9891.000000  9891.000000    9891.000000   \nmean    399.836055    80.876639     0.553497     2.834507       0.640850   \nstd     110.492932    38.035857     0.214702     0.781313       4.030826   \nmin      36.461000     0.000000     0.018806     1.200653    -102.493626   \n25%     324.393500    55.840000     0.393230     2.291084       0.146145   \n50%     388.253000    75.710000     0.569862     2.659638       1.251134   \n75%     461.585500    99.240000     0.728435     3.176139       2.147177   \nmax    1034.508000   353.900000     0.947682     7.962685       7.536385   \n\n            Length  \ncount  9891.000000  \nmean     47.940754  \nstd      14.274095  \nmin       2.000000  \n25%      38.000000  \n50%      46.000000  \n75%      56.000000  \nmax     117.000000  ",
      "text/html": "<div>\n<style scoped>\n    .dataframe tbody tr th:only-of-type {\n        vertical-align: middle;\n    }\n\n    .dataframe tbody tr th {\n        vertical-align: top;\n    }\n\n    .dataframe thead th {\n        text-align: right;\n    }\n</style>\n<table border=\"1\" class=\"dataframe\">\n  <thead>\n    <tr style=\"text-align: right;\">\n      <th></th>\n      <th>MW</th>\n      <th>TPSA</th>\n      <th>QED</th>\n      <th>SA</th>\n      <th>PenalizedLogP</th>\n      <th>Length</th>\n    </tr>\n  </thead>\n  <tbody>\n    <tr>\n      <th>count</th>\n      <td>9891.000000</td>\n      <td>9891.000000</td>\n      <td>9891.000000</td>\n      <td>9891.000000</td>\n      <td>9891.000000</td>\n      <td>9891.000000</td>\n    </tr>\n    <tr>\n      <th>mean</th>\n      <td>399.836055</td>\n      <td>80.876639</td>\n      <td>0.553497</td>\n      <td>2.834507</td>\n      <td>0.640850</td>\n      <td>47.940754</td>\n    </tr>\n    <tr>\n      <th>std</th>\n      <td>110.492932</td>\n      <td>38.035857</td>\n      <td>0.214702</td>\n      <td>0.781313</td>\n      <td>4.030826</td>\n      <td>14.274095</td>\n    </tr>\n    <tr>\n      <th>min</th>\n      <td>36.461000</td>\n      <td>0.000000</td>\n      <td>0.018806</td>\n      <td>1.200653</td>\n      <td>-102.493626</td>\n      <td>2.000000</td>\n    </tr>\n    <tr>\n      <th>25%</th>\n      <td>324.393500</td>\n      <td>55.840000</td>\n      <td>0.393230</td>\n      <td>2.291084</td>\n      <td>0.146145</td>\n      <td>38.000000</td>\n    </tr>\n    <tr>\n      <th>50%</th>\n      <td>388.253000</td>\n      <td>75.710000</td>\n      <td>0.569862</td>\n      <td>2.659638</td>\n      <td>1.251134</td>\n      <td>46.000000</td>\n    </tr>\n    <tr>\n      <th>75%</th>\n      <td>461.585500</td>\n      <td>99.240000</td>\n      <td>0.728435</td>\n      <td>3.176139</td>\n      <td>2.147177</td>\n      <td>56.000000</td>\n    </tr>\n    <tr>\n      <th>max</th>\n      <td>1034.508000</td>\n      <td>353.900000</td>\n      <td>0.947682</td>\n      <td>7.962685</td>\n      <td>7.536385</td>\n      <td>117.000000</td>\n    </tr>\n  </tbody>\n</table>\n</div>"
     },
     "execution_count": 21,
     "metadata": {},
     "output_type": "execute_result"
    }
   ],
   "source": [
    "df_summary"
   ],
   "metadata": {
    "collapsed": false,
    "ExecuteTime": {
     "end_time": "2024-03-20T14:42:53.823564485Z",
     "start_time": "2024-03-20T14:42:53.818542199Z"
    }
   },
   "id": "37bdb8fdeb3a9834"
  },
  {
   "cell_type": "code",
   "execution_count": 22,
   "outputs": [
    {
     "name": "stderr",
     "output_type": "stream",
     "text": [
      "5317 of 10000 passed filters 53.2%\n"
     ]
    }
   ],
   "source": [
    "# Load test molecules\n",
    "\n",
    "PATH_TO_GPT_DATA = './generated_gpt.smi'\n",
    "df_ok, df_gpt, df_summary = load_data_for_rd_filtering(PATH_TO_GPT_DATA)\n"
   ],
   "metadata": {
    "collapsed": false,
    "ExecuteTime": {
     "end_time": "2024-03-20T14:43:31.461848257Z",
     "start_time": "2024-03-20T14:42:53.820884765Z"
    }
   },
   "id": "4eb7c1607edd1b8f"
  },
  {
   "cell_type": "code",
   "execution_count": 23,
   "outputs": [
    {
     "data": {
      "text/plain": "                MW         TPSA          QED           SA  PenalizedLogP  \\\ncount  9909.000000  9909.000000  9909.000000  9909.000000    9909.000000   \nmean    401.317017    81.373779     0.548675     2.879342       0.547839   \nstd     109.485255    38.641512     0.215646     0.798298       4.133064   \nmin      88.150000     0.000000     0.016990     1.200653     -85.674748   \n25%     327.775000    55.630000     0.385894     2.326949       0.068278   \n50%     390.556000    75.760000     0.564986     2.695133       1.209264   \n75%     463.544000    99.880000     0.725052     3.243893       2.122374   \nmax    1182.319000   352.040000     0.947257     7.987767      10.108286   \n\n            Length  \ncount  9909.000000  \nmean     48.062368  \nstd      14.081843  \nmin       8.000000  \n25%      38.000000  \n50%      47.000000  \n75%      56.000000  \nmax     105.000000  ",
      "text/html": "<div>\n<style scoped>\n    .dataframe tbody tr th:only-of-type {\n        vertical-align: middle;\n    }\n\n    .dataframe tbody tr th {\n        vertical-align: top;\n    }\n\n    .dataframe thead th {\n        text-align: right;\n    }\n</style>\n<table border=\"1\" class=\"dataframe\">\n  <thead>\n    <tr style=\"text-align: right;\">\n      <th></th>\n      <th>MW</th>\n      <th>TPSA</th>\n      <th>QED</th>\n      <th>SA</th>\n      <th>PenalizedLogP</th>\n      <th>Length</th>\n    </tr>\n  </thead>\n  <tbody>\n    <tr>\n      <th>count</th>\n      <td>9909.000000</td>\n      <td>9909.000000</td>\n      <td>9909.000000</td>\n      <td>9909.000000</td>\n      <td>9909.000000</td>\n      <td>9909.000000</td>\n    </tr>\n    <tr>\n      <th>mean</th>\n      <td>401.317017</td>\n      <td>81.373779</td>\n      <td>0.548675</td>\n      <td>2.879342</td>\n      <td>0.547839</td>\n      <td>48.062368</td>\n    </tr>\n    <tr>\n      <th>std</th>\n      <td>109.485255</td>\n      <td>38.641512</td>\n      <td>0.215646</td>\n      <td>0.798298</td>\n      <td>4.133064</td>\n      <td>14.081843</td>\n    </tr>\n    <tr>\n      <th>min</th>\n      <td>88.150000</td>\n      <td>0.000000</td>\n      <td>0.016990</td>\n      <td>1.200653</td>\n      <td>-85.674748</td>\n      <td>8.000000</td>\n    </tr>\n    <tr>\n      <th>25%</th>\n      <td>327.775000</td>\n      <td>55.630000</td>\n      <td>0.385894</td>\n      <td>2.326949</td>\n      <td>0.068278</td>\n      <td>38.000000</td>\n    </tr>\n    <tr>\n      <th>50%</th>\n      <td>390.556000</td>\n      <td>75.760000</td>\n      <td>0.564986</td>\n      <td>2.695133</td>\n      <td>1.209264</td>\n      <td>47.000000</td>\n    </tr>\n    <tr>\n      <th>75%</th>\n      <td>463.544000</td>\n      <td>99.880000</td>\n      <td>0.725052</td>\n      <td>3.243893</td>\n      <td>2.122374</td>\n      <td>56.000000</td>\n    </tr>\n    <tr>\n      <th>max</th>\n      <td>1182.319000</td>\n      <td>352.040000</td>\n      <td>0.947257</td>\n      <td>7.987767</td>\n      <td>10.108286</td>\n      <td>105.000000</td>\n    </tr>\n  </tbody>\n</table>\n</div>"
     },
     "execution_count": 23,
     "metadata": {},
     "output_type": "execute_result"
    }
   ],
   "source": [
    "df_summary"
   ],
   "metadata": {
    "collapsed": false,
    "ExecuteTime": {
     "end_time": "2024-03-20T14:43:31.464701445Z",
     "start_time": "2024-03-20T14:43:31.461259911Z"
    }
   },
   "id": "5f551bced0e68e9a"
  },
  {
   "cell_type": "code",
   "execution_count": 40,
   "outputs": [
    {
     "data": {
      "text/plain": "<Figure size 640x480 with 1 Axes>",
      "image/png": "[encoded data removed]"
     },
     "metadata": {},
     "output_type": "display_data"
    }
   ],
   "source": [
    "qed = [df_test.QED.values, df_jf.QED.values, df_gpt.QED.values]\n",
    "import matplotlib.pyplot as plt\n",
    "import seaborn as sns\n",
    "\n",
    "def plot_kde(vectors, labels):\n",
    "    # Create a new figure\n",
    "    plt.figure()\n",
    "\n",
    "    # For each vector and corresponding label, plot the KDE\n",
    "    for vector, label in zip(vectors, labels):\n",
    "        sns.kdeplot(vector, label=label, fill=False, common_norm=False, palette=\"crest\", alpha=.3, linewidth=1.5)\n",
    "\n",
    "    # Set labels and title\n",
    "    plt.xlabel('Value')\n",
    "    plt.ylabel('Density')\n",
    "    plt.title('KDE Plot of Vectors')\n",
    "    \n",
    "    # Include a legend\n",
    "    plt.legend(loc='upper left')\n",
    "    \n",
    "    # Display the plot\n",
    "    plt.show()\n",
    "    \n",
    "plot_kde(qed, ['Test set', 'Jointformer', 'GPT'])"
   ],
   "metadata": {
    "collapsed": false,
    "ExecuteTime": {
     "end_time": "2024-03-20T15:04:17.727902698Z",
     "start_time": "2024-03-20T15:04:17.493199316Z"
    }
   },
   "id": "dcc26199c489059a"
  },
  {
   "cell_type": "code",
   "execution_count": 1,
   "outputs": [
    {
     "name": "stderr",
     "output_type": "stream",
     "text": [
      "/home/adam/miniconda3/envs/hybrid-transformer/lib/python3.11/site-packages/tqdm/auto.py:21: TqdmWarning: IProgress not found. Please update jupyter and ipywidgets. See https://ipywidgets.readthedocs.io/en/stable/user_install.html\n",
      "  from .autonotebook import tqdm as notebook_tqdm\n",
      "2024-03-20 11:47:12.953994: I tensorflow/core/util/port.cc:113] oneDNN custom operations are on. You may see slightly different numerical results due to floating-point round-off errors from different computation orders. To turn them off, set the environment variable `TF_ENABLE_ONEDNN_OPTS=0`.\n",
      "2024-03-20 11:47:13.020836: I external/local_tsl/tsl/cuda/cudart_stub.cc:31] Could not find cuda drivers on your machine, GPU will not be used.\n",
      "2024-03-20 11:47:13.370217: E external/local_xla/xla/stream_executor/cuda/cuda_dnn.cc:9261] Unable to register cuDNN factory: Attempting to register factory for plugin cuDNN when one has already been registered\n",
      "2024-03-20 11:47:13.370309: E external/local_xla/xla/stream_executor/cuda/cuda_fft.cc:607] Unable to register cuFFT factory: Attempting to register factory for plugin cuFFT when one has already been registered\n",
      "2024-03-20 11:47:13.428818: E external/local_xla/xla/stream_executor/cuda/cuda_blas.cc:1515] Unable to register cuBLAS factory: Attempting to register factory for plugin cuBLAS when one has already been registered\n",
      "2024-03-20 11:47:13.558391: I tensorflow/core/platform/cpu_feature_guard.cc:182] This TensorFlow binary is optimized to use available CPU instructions in performance-critical operations.\n",
      "To enable the following instructions: AVX2 AVX512F AVX512_VNNI FMA, in other operations, rebuild TensorFlow with the appropriate compiler flags.\n",
      "2024-03-20 11:47:14.898957: W tensorflow/compiler/tf2tensorrt/utils/py_utils.cc:38] TF-TRT Warning: Could not find TensorRT\n"
     ]
    },
    {
     "name": "stdout",
     "output_type": "stream",
     "text": [
      "WARNING:tensorflow:From /home/adam/miniconda3/envs/hybrid-transformer/lib/python3.11/site-packages/tensorflow/python/util/deprecation.py:588: calling function (from tensorflow.python.eager.polymorphic_function.polymorphic_function) with experimental_relax_shapes is deprecated and will be removed in a future version.\n",
      "Instructions for updating:\n",
      "experimental_relax_shapes is deprecated, use reduce_retracing instead\n"
     ]
    }
   ],
   "source": [
    "from deepchem.molnet.load_function.zinc15_datasets import load_zinc15\n",
    "from deepchem.feat import RawFeaturizer\n",
    "\n",
    "featurizer = RawFeaturizer(smiles=True)\n",
    "tasks, (train_dataset, val_dataset, test_dataset), transformers = load_zinc15(featurizer=featurizer, splitter='random', size='250K')"
   ],
   "metadata": {
    "collapsed": false,
    "ExecuteTime": {
     "end_time": "2024-03-20T10:49:40.252418849Z",
     "start_time": "2024-03-20T10:47:09.236031372Z"
    }
   },
   "id": "4bca1930ee82f95c"
  },
  {
   "cell_type": "code",
   "execution_count": 6,
   "outputs": [
    {
     "data": {
      "text/plain": "array(['C#CCCCC(=O)N[C@@H]1CC[C@@H](C)N(CC(=O)NCCCC)C1',\n       'Cc1cc(=NC(=O)[C@@H]2C[C@@H](C)O[C@@H](C)C2)[nH]n1CCC#N',\n       'CN(Cc1nncn1C)S(=O)(=O)Cc1cccc(C(=O)O)c1', ...,\n       'O=C(Nc1cnn(C2CNC2)c1)[C@H]1C[C@@H](O)CN1',\n       'COCC(=O)N[C@H]1CCN(C(=O)C(C)C)[C@H](C)C1',\n       'Cn1c(=O)nc(O)c2cc(C(=O)NC[C@H](CO)[C@@H]3CCOC3)cnc21'],\n      dtype='<U95')"
     },
     "execution_count": 6,
     "metadata": {},
     "output_type": "execute_result"
    }
   ],
   "source": [
    "smiles[1][0].X"
   ],
   "metadata": {
    "collapsed": false,
    "ExecuteTime": {
     "end_time": "2024-03-20T10:50:29.549384768Z",
     "start_time": "2024-03-20T10:50:29.438778687Z"
    }
   },
   "id": "e05f57df88c16cc2"
  },
  {
   "cell_type": "code",
   "execution_count": null,
   "outputs": [],
   "source": [],
   "metadata": {
    "collapsed": false
   },
   "id": "f2d7d0cbcef2c9be"
  }
 ],
 "metadata": {
  "kernelspec": {
   "display_name": "Python 3",
   "language": "python",
   "name": "python3"
  },
  "language_info": {
   "codemirror_mode": {
    "name": "ipython",
    "version": 2
   },
   "file_extension": ".py",
   "mimetype": "text/x-python",
   "name": "python",
   "nbconvert_exporter": "python",
   "pygments_lexer": "ipython2",
   "version": "2.7.6"
  }
 },
 "nbformat": 4,
 "nbformat_minor": 5
}
