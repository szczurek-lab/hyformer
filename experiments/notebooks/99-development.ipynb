{
 "cells": [
  {
   "cell_type": "code",
   "execution_count": 3,
   "metadata": {},
   "outputs": [],
   "source": [
    "import torch"
   ]
  },
  {
   "cell_type": "code",
   "execution_count": 11,
   "metadata": {},
   "outputs": [],
   "source": [
    "B, T, C = 2, 8, 16 # batch size, sequence length, embedding dimensionality (n_embd)\n",
    "\n",
    "\n",
    "k = torch.randn(size=(B, T, C, C)).transpose(1, 2) # (B, nh, T, hs)\n",
    "q = torch.randn(size=(B, T, C, C)).transpose(1, 2) # (B, nh, T, hs)\n",
    "v = torch.randn(size=(B, T, C, C)).transpose(1, 2) # (B, nh, T, hs)\n"
   ]
  },
  {
   "cell_type": "code",
   "execution_count": 12,
   "metadata": {},
   "outputs": [],
   "source": [
    "\n",
    "\n",
    "\n",
    "\n",
    "\n",
    "# causal self-attention; Self-attend: (B, nh, T, hs) x (B, nh, hs, T) -> (B, nh, T, T)\n",
    "\n",
    "    # efficient attention using Flash Attention CUDA kernels\n",
    "y = torch.nn.functional.scaled_dot_product_attention(q, k, v, attn_mask=None, dropout_p=0, is_causal=True)\n",
    "# y = y.transpose(1, 2).contiguous().view(B, T, C) # re-assemble all head outputs side by side\n",
    "\n",
    "# # output projection\n",
    "# y = self.resid_dropout(self.c_proj(y))\n"
   ]
  },
  {
   "cell_type": "code",
   "execution_count": 10,
   "metadata": {},
   "outputs": [
    {
     "data": {
      "text/plain": [
       "torch.Size([2, 16, 8, 16])"
      ]
     },
     "execution_count": 10,
     "metadata": {},
     "output_type": "execute_result"
    }
   ],
   "source": [
    "y.size()"
   ]
  },
  {
   "cell_type": "code",
   "execution_count": null,
   "metadata": {},
   "outputs": [],
   "source": [
    "\n",
    "\n",
    "        attn_mask = None if is_causal else attn_mask.unsqueeze(1).unsqueeze(1).expand(batch_size, self.num_heads, seq_len, seq_len)\n",
    "        \n",
    "        if self.flash_attention:\n",
    "            y = F.scaled_dot_product_attention(q, k, v, attn_mask=attn_mask, \n",
    "                is_causal=is_causal, dropout_p=self.dropout if self.training else 0.)\n",
    "        else:\n",
    "            y = self.scaled_dot_product_attention(q, k, v, seq_len, attn_mask=attn_mask, is_causal=is_causal)\n",
    "            \n",
    "        y = y.transpose(1, 2).contiguous().view(batch_size, seq_len, embedding_dim)        \n",
    "        y = self.out(y)\n",
    "        \n",
    "        return y\n",
    "    \n",
    "    def scaled_dot_product_attention(self, q, k, v, seq_len, attn_mask, is_causal) -> torch.Tensor:\n",
    "        att = (q @ k.transpose(-2, -1)) * (1.0 / math.sqrt(k.size(-1)))\n",
    "        if is_causal:\n",
    "            att = att.masked_fill(self.mask_causal[:, :, :seq_len, :seq_len] == 0, float('-inf'))\n",
    "        else:\n",
    "            att = att.masked_fill(attn_mask.int() == 0, float('-inf'))\n",
    "        att_probs = F.softmax(att, dim=-1)\n",
    "        y = self.attn_dropout(att_probs) @ v  # (B, nh, T, T) x (B, nh, T, hs) -> (B, nh, T, hs)\n",
    "        return y\n",
    "    "
   ]
  }
 ],
 "metadata": {
  "kernelspec": {
   "display_name": "jointformer-experiments",
   "language": "python",
   "name": "python3"
  },
  "language_info": {
   "codemirror_mode": {
    "name": "ipython",
    "version": 3
   },
   "file_extension": ".py",
   "mimetype": "text/x-python",
   "name": "python",
   "nbconvert_exporter": "python",
   "pygments_lexer": "ipython3",
   "version": "3.9.19"
  }
 },
 "nbformat": 4,
 "nbformat_minor": 2
}
