{
 "cells": [
  {
   "cell_type": "markdown",
   "metadata": {},
   "source": [
    "# Conditional sampling evaluation"
   ]
  },
  {
   "cell_type": "code",
   "execution_count": null,
   "metadata": {},
   "outputs": [
    {
     "name": "stdout",
     "output_type": "stream",
     "text": [
      "The autoreload extension is already loaded. To reload it, use:\n",
      "  %reload_ext autoreload\n"
     ]
    }
   ],
   "source": [
    "# Imports\n",
    "\n",
    "import os\n",
    "import torch\n",
    "\n",
    "from jointformer.configs.dataset import DatasetConfig\n",
    "from jointformer.utils.datasets.auto import AutoDataset\n",
    "\n",
    "from jointformer.utils.runtime import set_seed\n",
    "\n",
    "from jointformer.utils.properties.smiles.qed import QED\n",
    "from jointformer.utils.properties.smiles.logp import LogP\n",
    "from jointformer.utils.properties.smiles.sa import SA\n",
    "\n",
    "import pandas as pd\n",
    "import numpy as np\n",
    "\n",
    "%load_ext autoreload\n",
    "%autoreload 2"
   ]
  },
  {
   "cell_type": "markdown",
   "metadata": {},
   "source": [
    "## Fine-tune"
   ]
  },
  {
   "cell_type": "code",
   "execution_count": 12,
   "metadata": {},
   "outputs": [],
   "source": [
    "# Set logging\n",
    "\n",
    "import logging\n",
    "logger = logging.getLogger()\n",
    "logger.setLevel(logging.INFO)\n",
    "\n",
    "# set seed\n",
    "SEED = 1337\n",
    "\n",
    "set_seed(SEED)\n",
    "\n",
    "# Set device\n",
    "device = torch.device('cuda:0' if torch.cuda.is_available() else 'cpu')"
   ]
  },
  {
   "cell_type": "code",
   "execution_count": 61,
   "metadata": {},
   "outputs": [],
   "source": [
    "# Configs\n",
    "\n",
    "TARGET_NAME = 'sa'\n",
    "TARGET_VALUE = 0.7\n",
    "\n",
    "DATA_DIR = '/lustre/groups/aih/jointformer/icml25/data'\n",
    "PATH_TO_DATASET_CONFIG   = f'configs/datasets/guacamol_{TARGET_NAME}/config.json'\n",
    "\n",
    "PATH_TO_GENERATED_SAMPLES = f'/lustre/groups/aih/jointformer/results_icml25_rebuttal/conditional_sampling_corrected/{TARGET_NAME}/llama_backbone/max_epochs_10/decay_lr_true/batch_size_256/learning_rate_5e-4/weight_decay_1e-1/pooler_dropout_0.0/seed_0/generated_samples_{TARGET_NAME}.csv'\n",
    "\n",
    "# check if paths exist\n",
    "assert os.path.exists(PATH_TO_GENERATED_SAMPLES), f'Path to model checkpoint does not exist: {PATH_TO_GENERATED_SAMPLES}'\n"
   ]
  },
  {
   "cell_type": "code",
   "execution_count": 62,
   "metadata": {},
   "outputs": [
    {
     "name": "stdout",
     "output_type": "stream",
     "text": [
      "Converting target to float32.\n"
     ]
    }
   ],
   "source": [
    "# Load dataset\n",
    "\n",
    "dataset_config = DatasetConfig.from_config_file(PATH_TO_DATASET_CONFIG)\n",
    "train_dataset = AutoDataset.from_config(dataset_config, root=DATA_DIR, split='train')\n"
   ]
  },
  {
   "cell_type": "code",
   "execution_count": 63,
   "metadata": {},
   "outputs": [],
   "source": [
    "# Load samples\n",
    "\n",
    "_df = pd.read_csv(PATH_TO_GENERATED_SAMPLES)"
   ]
  },
  {
   "cell_type": "code",
   "execution_count": 64,
   "metadata": {},
   "outputs": [
    {
     "data": {
      "text/html": [
       "<div>\n",
       "<style scoped>\n",
       "    .dataframe tbody tr th:only-of-type {\n",
       "        vertical-align: middle;\n",
       "    }\n",
       "\n",
       "    .dataframe tbody tr th {\n",
       "        vertical-align: top;\n",
       "    }\n",
       "\n",
       "    .dataframe thead th {\n",
       "        text-align: right;\n",
       "    }\n",
       "</style>\n",
       "<table border=\"1\" class=\"dataframe\">\n",
       "  <thead>\n",
       "    <tr style=\"text-align: right;\">\n",
       "      <th></th>\n",
       "      <th>idx</th>\n",
       "      <th>smiles</th>\n",
       "      <th>properties</th>\n",
       "      <th>oracle_values</th>\n",
       "      <th>is_valid_smiles</th>\n",
       "    </tr>\n",
       "  </thead>\n",
       "  <tbody>\n",
       "    <tr>\n",
       "      <th>0</th>\n",
       "      <td>0</td>\n",
       "      <td>COc1cc(OC)cc(-c2cc3nc(C)cc(-c4ccccc4)n3n2)c1</td>\n",
       "      <td>0.875137</td>\n",
       "      <td>0.87</td>\n",
       "      <td>True</td>\n",
       "    </tr>\n",
       "    <tr>\n",
       "      <th>1</th>\n",
       "      <td>0</td>\n",
       "      <td>CC1CN(c2ncc(C(=O)NCCCCCCC(=O)NO)cc2C(F)(F)F)CCN1</td>\n",
       "      <td>-0.282562</td>\n",
       "      <td>0.76</td>\n",
       "      <td>True</td>\n",
       "    </tr>\n",
       "    <tr>\n",
       "      <th>2</th>\n",
       "      <td>0</td>\n",
       "      <td>OC(=Nc1ccc(C(F)(F)F)nc1)c1ccc(-c2nc(C3CCC5C(CC...</td>\n",
       "      <td>-2.456270</td>\n",
       "      <td>NaN</td>\n",
       "      <td>False</td>\n",
       "    </tr>\n",
       "    <tr>\n",
       "      <th>3</th>\n",
       "      <td>0</td>\n",
       "      <td>CCCCn1c(=O)c2nc(-c3ccc(Br)cc3)[nH]c2n(CCCC)c1=O</td>\n",
       "      <td>0.428467</td>\n",
       "      <td>0.83</td>\n",
       "      <td>True</td>\n",
       "    </tr>\n",
       "    <tr>\n",
       "      <th>4</th>\n",
       "      <td>0</td>\n",
       "      <td>COc1ccc(-c2nnn(Cc3nc(Cc4ccccc4)c4ccccn34)c2-c2...</td>\n",
       "      <td>0.397873</td>\n",
       "      <td>0.82</td>\n",
       "      <td>True</td>\n",
       "    </tr>\n",
       "    <tr>\n",
       "      <th>...</th>\n",
       "      <td>...</td>\n",
       "      <td>...</td>\n",
       "      <td>...</td>\n",
       "      <td>...</td>\n",
       "      <td>...</td>\n",
       "    </tr>\n",
       "    <tr>\n",
       "      <th>61435</th>\n",
       "      <td>29</td>\n",
       "      <td>Cc1ccccc1NS(=O)(=O)c1csc(C(N)Cn2ccc(=O)[nH]c2=...</td>\n",
       "      <td>-0.357309</td>\n",
       "      <td>0.75</td>\n",
       "      <td>True</td>\n",
       "    </tr>\n",
       "    <tr>\n",
       "      <th>61436</th>\n",
       "      <td>29</td>\n",
       "      <td>CCCCCCCCCC(=O)OC1=C(CC=C(C)C)C(=O)c2ccccc2C1=O</td>\n",
       "      <td>0.396136</td>\n",
       "      <td>0.82</td>\n",
       "      <td>True</td>\n",
       "    </tr>\n",
       "    <tr>\n",
       "      <th>61437</th>\n",
       "      <td>29</td>\n",
       "      <td>OCC(O)Cn1cnc2nc(OCc3nccs3)nc(O)c21</td>\n",
       "      <td>-0.805798</td>\n",
       "      <td>0.71</td>\n",
       "      <td>True</td>\n",
       "    </tr>\n",
       "    <tr>\n",
       "      <th>61438</th>\n",
       "      <td>29</td>\n",
       "      <td>O=C(O)c1ccc(Cl)c(S(=O)(=O)NCCOc2ccccc2)c1</td>\n",
       "      <td>1.214691</td>\n",
       "      <td>0.91</td>\n",
       "      <td>True</td>\n",
       "    </tr>\n",
       "    <tr>\n",
       "      <th>61439</th>\n",
       "      <td>29</td>\n",
       "      <td>CCOc1ccc(C(=O)OC2CC34C=CC(C(C)(C)C(=O)C3)CC4C2...</td>\n",
       "      <td>-2.584119</td>\n",
       "      <td>0.52</td>\n",
       "      <td>True</td>\n",
       "    </tr>\n",
       "  </tbody>\n",
       "</table>\n",
       "<p>61440 rows × 5 columns</p>\n",
       "</div>"
      ],
      "text/plain": [
       "       idx                                             smiles  properties  \\\n",
       "0        0       COc1cc(OC)cc(-c2cc3nc(C)cc(-c4ccccc4)n3n2)c1    0.875137   \n",
       "1        0   CC1CN(c2ncc(C(=O)NCCCCCCC(=O)NO)cc2C(F)(F)F)CCN1   -0.282562   \n",
       "2        0  OC(=Nc1ccc(C(F)(F)F)nc1)c1ccc(-c2nc(C3CCC5C(CC...   -2.456270   \n",
       "3        0    CCCCn1c(=O)c2nc(-c3ccc(Br)cc3)[nH]c2n(CCCC)c1=O    0.428467   \n",
       "4        0  COc1ccc(-c2nnn(Cc3nc(Cc4ccccc4)c4ccccn34)c2-c2...    0.397873   \n",
       "...    ...                                                ...         ...   \n",
       "61435   29  Cc1ccccc1NS(=O)(=O)c1csc(C(N)Cn2ccc(=O)[nH]c2=...   -0.357309   \n",
       "61436   29     CCCCCCCCCC(=O)OC1=C(CC=C(C)C)C(=O)c2ccccc2C1=O    0.396136   \n",
       "61437   29                 OCC(O)Cn1cnc2nc(OCc3nccs3)nc(O)c21   -0.805798   \n",
       "61438   29          O=C(O)c1ccc(Cl)c(S(=O)(=O)NCCOc2ccccc2)c1    1.214691   \n",
       "61439   29  CCOc1ccc(C(=O)OC2CC34C=CC(C(C)(C)C(=O)C3)CC4C2...   -2.584119   \n",
       "\n",
       "       oracle_values  is_valid_smiles  \n",
       "0               0.87             True  \n",
       "1               0.76             True  \n",
       "2                NaN            False  \n",
       "3               0.83             True  \n",
       "4               0.82             True  \n",
       "...              ...              ...  \n",
       "61435           0.75             True  \n",
       "61436           0.82             True  \n",
       "61437           0.71             True  \n",
       "61438           0.91             True  \n",
       "61439           0.52             True  \n",
       "\n",
       "[61440 rows x 5 columns]"
      ]
     },
     "execution_count": 64,
     "metadata": {},
     "output_type": "execute_result"
    }
   ],
   "source": [
    "_df"
   ]
  },
  {
   "cell_type": "code",
   "execution_count": 65,
   "metadata": {},
   "outputs": [
    {
     "data": {
      "text/plain": [
       "<matplotlib.collections.PathCollection at 0x7f87acc39f70>"
      ]
     },
     "execution_count": 65,
     "metadata": {},
     "output_type": "execute_result"
    },
    {
     "data": {
      "image/png": "[encoded data removed]",
      "text/plain": [
       "<Figure size 640x480 with 1 Axes>"
      ]
     },
     "metadata": {},
     "output_type": "display_data"
    }
   ],
   "source": [
    "# scatterplot\n",
    "\n",
    "import matplotlib.pyplot as plt\n",
    "\n",
    "plt.scatter(_df['properties'], train_dataset.target_transform(_df['oracle_values']))"
   ]
  },
  {
   "cell_type": "code",
   "execution_count": 73,
   "metadata": {},
   "outputs": [],
   "source": [
    "### best-of-K sampling (if you best of K is simply choosing _epsilon such that at least one sample is selected at every iteration)\n",
    "\n",
    "samples = []\n",
    "oracle_values = []\n",
    "is_valid_sample = []\n",
    "\n",
    "for idx in _df['idx'].unique():\n",
    "    # get samples\n",
    "    _samples = _df[_df['idx'] == idx]['smiles'].tolist()\n",
    "    # get scores\n",
    "    _oracle_values = _df[_df['idx'] == idx]['oracle_values'].tolist()\n",
    "    # get idx\n",
    "    _properties = _df[_df['idx'] == idx]['properties'].tolist() \n",
    "    # get is_valid_sample\n",
    "    _is_valid_sample = _df[_df['idx'] == idx]['is_valid_smiles'].tolist()\n",
    "\n",
    "    # get scores\n",
    "    _scores = np.abs(np.array(_properties) - train_dataset.target_transform(TARGET_VALUE))\n",
    "    _best_idx = np.argmin(_scores)\n",
    "\n",
    "    samples.append(_samples[_best_idx])\n",
    "    oracle_values.append(_oracle_values[_best_idx])\n",
    "    is_valid_sample.append(_is_valid_sample[_best_idx])\n",
    "\n",
    "oracle_values = np.array(oracle_values)\n"
   ]
  },
  {
   "cell_type": "code",
   "execution_count": 76,
   "metadata": {},
   "outputs": [
    {
     "name": "stdout",
     "output_type": "stream",
     "text": [
      "Sampled 30 samples\n",
      "---*---\n",
      "MAD (oracle space): 0.008\n",
      "STD (oracle space): 0.012\n",
      "---*---\n",
      "MAD (normalized space): 0.092\n",
      "STD (normalized space): 0.138\n",
      "---*---\n",
      "Validity: 1.000\n"
     ]
    }
   ],
   "source": [
    "# Filter out NaNs\n",
    "oracle_values = oracle_values[~np.isnan(oracle_values)]\n",
    "\n",
    "# Sampled\n",
    "print(f'Sampled {len(samples)} samples')\n",
    "\n",
    "# Calculate metrics\n",
    "print('---*---')\n",
    "mad = np.mean(np.abs(oracle_values - TARGET_VALUE))\n",
    "print(f'MAD (oracle space): {mad:.3f}')\n",
    "std = np.std(oracle_values)\n",
    "print(f'STD (oracle space): {std:.3f}')\n",
    "print('---*---')\n",
    "mad = np.mean(np.abs(train_dataset.target_transform(oracle_values) - train_dataset.target_transform(TARGET_VALUE)))\n",
    "print(f'MAD (normalized space): {mad:.3f}')\n",
    "std = np.std(train_dataset.target_transform(oracle_values))\n",
    "print(f'STD (normalized space): {std:.3f}')\n",
    "print('---*---')\n",
    "validity = len(is_valid_sample) / len(is_valid_sample)\n",
    "print(f'Validity: {validity:.3f}')\n"
   ]
  },
  {
   "cell_type": "code",
   "execution_count": 79,
   "metadata": {},
   "outputs": [],
   "source": [
    "### Joint sampling \n",
    "\n",
    "_epsilon = 0.001\n",
    "\n",
    "_scores = np.abs(np.array(_df['properties']) - train_dataset.target_transform(TARGET_VALUE))\n",
    "samples = _df.loc[_scores < _epsilon, 'smiles'].tolist()\n",
    "oracle_values = _df.loc[_scores < _epsilon, 'oracle_values']\n",
    "is_valid_sample = _df.loc[_scores < _epsilon, 'is_valid_smiles']"
   ]
  },
  {
   "cell_type": "code",
   "execution_count": 80,
   "metadata": {},
   "outputs": [
    {
     "name": "stdout",
     "output_type": "stream",
     "text": [
      "Sampled 18 samples\n",
      "---*---\n",
      "MAD (oracle space): 0.006\n",
      "STD (oracle space): 0.009\n",
      "---*---\n",
      "MAD (normalized space): 0.068\n",
      "STD (normalized space): 0.100\n",
      "---*---\n",
      "Validity: 1.000\n"
     ]
    }
   ],
   "source": [
    "# Filter out NaNs\n",
    "oracle_values = oracle_values[~oracle_values.isna()]\n",
    "\n",
    "# Sampled\n",
    "print(f'Sampled {len(samples)} samples')\n",
    "\n",
    "# Calculate metrics\n",
    "print('---*---')\n",
    "mad = np.mean(np.abs(oracle_values - TARGET_VALUE))\n",
    "print(f'MAD (oracle space): {mad:.3f}')\n",
    "std = np.std(oracle_values)\n",
    "print(f'STD (oracle space): {std:.3f}')\n",
    "print('---*---')\n",
    "mad = np.mean(np.abs(train_dataset.target_transform(oracle_values) - train_dataset.target_transform(TARGET_VALUE)))\n",
    "print(f'MAD (normalized space): {mad:.3f}')\n",
    "std = np.std(train_dataset.target_transform(oracle_values))\n",
    "print(f'STD (normalized space): {std:.3f}')\n",
    "print('---*---')\n",
    "validity = len(is_valid_sample) / len(is_valid_sample)\n",
    "print(f'Validity: {validity:.3f}')\n"
   ]
  },
  {
   "cell_type": "code",
   "execution_count": null,
   "metadata": {},
   "outputs": [],
   "source": []
  }
 ],
 "metadata": {
  "kernelspec": {
   "display_name": "Python 3 (ipykernel)",
   "language": "python",
   "name": "python3"
  },
  "language_info": {
   "codemirror_mode": {
    "name": "ipython",
    "version": 3
   },
   "file_extension": ".py",
   "mimetype": "text/x-python",
   "name": "python",
   "nbconvert_exporter": "python",
   "pygments_lexer": "ipython3",
   "version": "3.9.20"
  }
 },
 "nbformat": 4,
 "nbformat_minor": 2
}
