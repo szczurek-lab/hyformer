{
 "cells": [
  {
   "cell_type": "markdown",
   "metadata": {},
   "source": [
    "# Conditional sampling evaluation"
   ]
  },
  {
   "cell_type": "code",
   "execution_count": 1,
   "metadata": {},
   "outputs": [],
   "source": [
    "# Imports\n",
    "\n",
    "import os\n",
    "import torch\n",
    "\n",
    "from jointformer.configs.dataset import DatasetConfig\n",
    "from jointformer.utils.datasets.auto import AutoDataset\n",
    "\n",
    "from jointformer.utils.runtime import set_seed\n",
    "\n",
    "import pandas as pd\n",
    "import numpy as np\n",
    "\n",
    "%load_ext autoreload\n",
    "%autoreload 2"
   ]
  },
  {
   "cell_type": "code",
   "execution_count": 2,
   "metadata": {},
   "outputs": [],
   "source": [
    "os.chdir(\"/home/aih/adam.izdebski/project/jointformer-interface/jointformer\")"
   ]
  },
  {
   "cell_type": "markdown",
   "metadata": {},
   "source": [
    "## Fine-tune"
   ]
  },
  {
   "cell_type": "code",
   "execution_count": 3,
   "metadata": {},
   "outputs": [],
   "source": [
    "# Set logging\n",
    "\n",
    "import logging\n",
    "logger = logging.getLogger()\n",
    "logger.setLevel(logging.INFO)\n",
    "\n",
    "# set seed\n",
    "SEED = 1337\n",
    "\n",
    "set_seed(SEED)\n",
    "\n",
    "# Set device\n",
    "device = torch.device('cuda:0' if torch.cuda.is_available() else 'cpu')"
   ]
  },
  {
   "cell_type": "code",
   "execution_count": 4,
   "metadata": {},
   "outputs": [],
   "source": [
    "# Configs\n",
    "\n",
    "TARGET_NAME = 'sa'\n",
    "TARGET_VALUE = 0.7\n",
    "\n",
    "DATA_DIR = '/lustre/groups/aih/jointformer/icml25/data'\n",
    "PATH_TO_DATASET_CONFIG   = f'configs/datasets/guacamol_{TARGET_NAME}/config.json'\n",
    "\n",
    "PATH_TO_GENERATED_SAMPLES = f'/lustre/groups/aih/jointformer/results_icml25_rebuttal/conditional_sampling_corrected/{TARGET_NAME}/llama_backbone/max_epochs_10/decay_lr_true/batch_size_256/learning_rate_5e-4/weight_decay_1e-1/pooler_dropout_0.0/seed_0/temperature_0.9_top_k_10/generated_samples_{TARGET_NAME}.csv'\n",
    "# PATH_TO_GENERATED_SAMPLES = f'/lustre/groups/aih/jointformer/results_icml25_rebuttal/conditional_sampling_corrected_no_joint/{TARGET_NAME}/llama_backbone/max_epochs_10/decay_lr_true/batch_size_256/learning_rate_5e-4/weight_decay_1e-1/pooler_dropout_0.0/seed_0/temperature_0.9_top_k_10/generated_samples_{TARGET_NAME}.csv'\n",
    "\n",
    "# check if paths exist\n",
    "assert os.path.exists(PATH_TO_GENERATED_SAMPLES), f'Path to model checkpoint does not exist: {PATH_TO_GENERATED_SAMPLES}'\n"
   ]
  },
  {
   "cell_type": "code",
   "execution_count": 5,
   "metadata": {},
   "outputs": [
    {
     "name": "stdout",
     "output_type": "stream",
     "text": [
      "Converting target to float32.\n"
     ]
    }
   ],
   "source": [
    "# Load dataset\n",
    "\n",
    "dataset_config = DatasetConfig.from_config_file(PATH_TO_DATASET_CONFIG)\n",
    "train_dataset = AutoDataset.from_config(dataset_config, root=DATA_DIR, split='train')\n"
   ]
  },
  {
   "cell_type": "code",
   "execution_count": 7,
   "metadata": {},
   "outputs": [
    {
     "data": {
      "text/plain": [
       "array([0.17], dtype=float32)"
      ]
     },
     "execution_count": 7,
     "metadata": {},
     "output_type": "execute_result"
    }
   ],
   "source": [
    "min(train_dataset.target)"
   ]
  },
  {
   "cell_type": "code",
   "execution_count": 8,
   "metadata": {},
   "outputs": [
    {
     "data": {
      "text/plain": [
       "array([1.], dtype=float32)"
      ]
     },
     "execution_count": 8,
     "metadata": {},
     "output_type": "execute_result"
    }
   ],
   "source": [
    "max(train_dataset.target)"
   ]
  },
  {
   "cell_type": "code",
   "execution_count": 569,
   "metadata": {},
   "outputs": [],
   "source": [
    "# Load samples\n",
    "\n",
    "_df = pd.read_csv(PATH_TO_GENERATED_SAMPLES)\n",
    "\n",
    "# Subsample\n",
    "\n",
    "_df = _df[:100000]"
   ]
  },
  {
   "cell_type": "code",
   "execution_count": 570,
   "metadata": {},
   "outputs": [
    {
     "data": {
      "text/html": [
       "<div>\n",
       "<style scoped>\n",
       "    .dataframe tbody tr th:only-of-type {\n",
       "        vertical-align: middle;\n",
       "    }\n",
       "\n",
       "    .dataframe tbody tr th {\n",
       "        vertical-align: top;\n",
       "    }\n",
       "\n",
       "    .dataframe thead th {\n",
       "        text-align: right;\n",
       "    }\n",
       "</style>\n",
       "<table border=\"1\" class=\"dataframe\">\n",
       "  <thead>\n",
       "    <tr style=\"text-align: right;\">\n",
       "      <th></th>\n",
       "      <th>idx</th>\n",
       "      <th>smiles</th>\n",
       "      <th>properties</th>\n",
       "      <th>oracle_values</th>\n",
       "      <th>is_valid_smiles</th>\n",
       "    </tr>\n",
       "  </thead>\n",
       "  <tbody>\n",
       "    <tr>\n",
       "      <th>0</th>\n",
       "      <td>0</td>\n",
       "      <td>CCCCC(=O)N1CCC(c2cc(C)c3nc(-c4cnn(C)c4)ccc3c2)...</td>\n",
       "      <td>0.761403</td>\n",
       "      <td>4.3016</td>\n",
       "      <td>True</td>\n",
       "    </tr>\n",
       "    <tr>\n",
       "      <th>1</th>\n",
       "      <td>0</td>\n",
       "      <td>CN(Cc1ccccc1)CC1OCC2CCN(Cc3cccnc3)CC21</td>\n",
       "      <td>-0.077188</td>\n",
       "      <td>2.8320</td>\n",
       "      <td>True</td>\n",
       "    </tr>\n",
       "    <tr>\n",
       "      <th>2</th>\n",
       "      <td>0</td>\n",
       "      <td>NC(=O)c1cc(Br)c2ccccc2c1O</td>\n",
       "      <td>-0.576552</td>\n",
       "      <td>1.9988</td>\n",
       "      <td>True</td>\n",
       "    </tr>\n",
       "    <tr>\n",
       "      <th>3</th>\n",
       "      <td>0</td>\n",
       "      <td>O=c1c2c(O)cc(O)cc2nc2cccc([N+](=O)[O-])c12</td>\n",
       "      <td>-0.843218</td>\n",
       "      <td>NaN</td>\n",
       "      <td>False</td>\n",
       "    </tr>\n",
       "    <tr>\n",
       "      <th>4</th>\n",
       "      <td>0</td>\n",
       "      <td>CC(=Cc1ccccc1)CN(C)C</td>\n",
       "      <td>-0.298256</td>\n",
       "      <td>2.5467</td>\n",
       "      <td>True</td>\n",
       "    </tr>\n",
       "    <tr>\n",
       "      <th>...</th>\n",
       "      <td>...</td>\n",
       "      <td>...</td>\n",
       "      <td>...</td>\n",
       "      <td>...</td>\n",
       "      <td>...</td>\n",
       "    </tr>\n",
       "    <tr>\n",
       "      <th>99995</th>\n",
       "      <td>48</td>\n",
       "      <td>CCCCCCCCC(=O)C(F)(F)F</td>\n",
       "      <td>0.484833</td>\n",
       "      <td>3.8684</td>\n",
       "      <td>True</td>\n",
       "    </tr>\n",
       "    <tr>\n",
       "      <th>99996</th>\n",
       "      <td>48</td>\n",
       "      <td>COc1ccc(C(=O)C=Cc2ccc3occc(=O)c3c2)cc1</td>\n",
       "      <td>0.012981</td>\n",
       "      <td>3.0015</td>\n",
       "      <td>True</td>\n",
       "    </tr>\n",
       "    <tr>\n",
       "      <th>99997</th>\n",
       "      <td>48</td>\n",
       "      <td>O=C(O)c1ccccc1SSc1ccc(Br)cc1</td>\n",
       "      <td>0.974081</td>\n",
       "      <td>4.5650</td>\n",
       "      <td>True</td>\n",
       "    </tr>\n",
       "    <tr>\n",
       "      <th>99998</th>\n",
       "      <td>48</td>\n",
       "      <td>COc1ccc2c(c1)C1(C)CCN(C)C(C2)C1</td>\n",
       "      <td>-0.096980</td>\n",
       "      <td>2.8873</td>\n",
       "      <td>True</td>\n",
       "    </tr>\n",
       "    <tr>\n",
       "      <th>99999</th>\n",
       "      <td>48</td>\n",
       "      <td>O=C(COc1ccc(F)cc1)NCc1ccco1</td>\n",
       "      <td>-0.660683</td>\n",
       "      <td>1.8541</td>\n",
       "      <td>True</td>\n",
       "    </tr>\n",
       "  </tbody>\n",
       "</table>\n",
       "<p>100000 rows × 5 columns</p>\n",
       "</div>"
      ],
      "text/plain": [
       "       idx                                             smiles  properties  \\\n",
       "0        0  CCCCC(=O)N1CCC(c2cc(C)c3nc(-c4cnn(C)c4)ccc3c2)...    0.761403   \n",
       "1        0             CN(Cc1ccccc1)CC1OCC2CCN(Cc3cccnc3)CC21   -0.077188   \n",
       "2        0                          NC(=O)c1cc(Br)c2ccccc2c1O   -0.576552   \n",
       "3        0         O=c1c2c(O)cc(O)cc2nc2cccc([N+](=O)[O-])c12   -0.843218   \n",
       "4        0                               CC(=Cc1ccccc1)CN(C)C   -0.298256   \n",
       "...    ...                                                ...         ...   \n",
       "99995   48                              CCCCCCCCC(=O)C(F)(F)F    0.484833   \n",
       "99996   48             COc1ccc(C(=O)C=Cc2ccc3occc(=O)c3c2)cc1    0.012981   \n",
       "99997   48                       O=C(O)c1ccccc1SSc1ccc(Br)cc1    0.974081   \n",
       "99998   48                    COc1ccc2c(c1)C1(C)CCN(C)C(C2)C1   -0.096980   \n",
       "99999   48                        O=C(COc1ccc(F)cc1)NCc1ccco1   -0.660683   \n",
       "\n",
       "       oracle_values  is_valid_smiles  \n",
       "0             4.3016             True  \n",
       "1             2.8320             True  \n",
       "2             1.9988             True  \n",
       "3                NaN            False  \n",
       "4             2.5467             True  \n",
       "...              ...              ...  \n",
       "99995         3.8684             True  \n",
       "99996         3.0015             True  \n",
       "99997         4.5650             True  \n",
       "99998         2.8873             True  \n",
       "99999         1.8541             True  \n",
       "\n",
       "[100000 rows x 5 columns]"
      ]
     },
     "execution_count": 570,
     "metadata": {},
     "output_type": "execute_result"
    }
   ],
   "source": [
    "_df"
   ]
  },
  {
   "cell_type": "code",
   "execution_count": 571,
   "metadata": {},
   "outputs": [
    {
     "data": {
      "text/plain": [
       "<matplotlib.collections.PathCollection at 0x7f6ba529e310>"
      ]
     },
     "execution_count": 571,
     "metadata": {},
     "output_type": "execute_result"
    },
    {
     "data": {
      "image/png": "[encoded data removed]",
      "text/plain": [
       "<Figure size 640x480 with 1 Axes>"
      ]
     },
     "metadata": {},
     "output_type": "display_data"
    }
   ],
   "source": [
    "# scatterplot\n",
    "\n",
    "import matplotlib.pyplot as plt\n",
    "\n",
    "plt.scatter(_df['properties'], train_dataset.target_transform(_df['oracle_values']))"
   ]
  },
  {
   "cell_type": "code",
   "execution_count": 572,
   "metadata": {},
   "outputs": [],
   "source": [
    "### best-of-K sampling (if you best of K is simply choosing _epsilon such that at least one sample is selected at every iteration)\n",
    "\n",
    "samples = []\n",
    "oracle_values = []\n",
    "is_valid_sample = []\n",
    "\n",
    "for idx in _df['idx'].unique():\n",
    "    # get samples\n",
    "    _samples = _df[_df['idx'] == idx]['smiles'].tolist()\n",
    "    # get scores\n",
    "    _oracle_values = _df[_df['idx'] == idx]['oracle_values'].tolist()\n",
    "    # get idx\n",
    "    _properties = _df[_df['idx'] == idx]['properties'].tolist() \n",
    "    # get is_valid_sample\n",
    "    _is_valid_sample = _df[_df['idx'] == idx]['is_valid_smiles'].tolist()\n",
    "\n",
    "    # get scores\n",
    "    _scores = np.abs(np.array(_properties) - train_dataset.target_transform(TARGET_VALUE))\n",
    "    _best_idx = np.argmin(_scores)\n",
    "\n",
    "    samples.append(_samples[_best_idx])\n",
    "    oracle_values.append(_oracle_values[_best_idx])\n",
    "    is_valid_sample.append(_is_valid_sample[_best_idx])\n",
    "\n",
    "oracle_values = np.array(oracle_values)\n"
   ]
  },
  {
   "cell_type": "code",
   "execution_count": 573,
   "metadata": {},
   "outputs": [
    {
     "name": "stdout",
     "output_type": "stream",
     "text": [
      "Sampled 49 samples\n",
      "---*---\n",
      "MAD (oracle space): 0.047\n",
      "STD (oracle space): 0.063\n",
      "Validity: 1.000\n"
     ]
    }
   ],
   "source": [
    "# Filter out NaNs\n",
    "oracle_values = oracle_values[~np.isnan(oracle_values)]\n",
    "\n",
    "# Sampled\n",
    "print(f'Sampled {len(samples)} samples')\n",
    "\n",
    "# Calculate metrics\n",
    "print('---*---')\n",
    "mad = np.mean(np.abs(oracle_values - TARGET_VALUE))\n",
    "print(f'MAD (oracle space): {mad:.3f}')\n",
    "std = np.std(oracle_values)\n",
    "print(f'STD (oracle space): {std:.3f}')\n",
    "# print('---*---')\n",
    "# mad = np.mean(np.abs(train_dataset.target_transform(oracle_values) - train_dataset.target_transform(TARGET_VALUE)))\n",
    "# print(f'MAD (normalized space): {mad:.3f}')\n",
    "# std = np.std(train_dataset.target_transform(oracle_values))\n",
    "# print(f'STD (normalized space): {std:.3f}')\n",
    "# print('---*---')\n",
    "validity = len(is_valid_sample) / len(samples)\n",
    "print(f'Validity: {validity:.3f}')\n"
   ]
  },
  {
   "cell_type": "code",
   "execution_count": 574,
   "metadata": {},
   "outputs": [],
   "source": [
    "### Joint sampling \n",
    "\n",
    "_epsilon = 0.001\n",
    "\n",
    "_scores = np.abs(np.array(_df['properties']) - train_dataset.target_transform(TARGET_VALUE))\n",
    "samples = _df.loc[_scores < _epsilon, 'smiles'].tolist()\n",
    "oracle_values = _df.loc[_scores < _epsilon, 'oracle_values']\n",
    "is_valid_sample = _df.loc[_scores < _epsilon, 'is_valid_smiles']"
   ]
  },
  {
   "cell_type": "code",
   "execution_count": 575,
   "metadata": {},
   "outputs": [
    {
     "name": "stdout",
     "output_type": "stream",
     "text": [
      "Sampled 67 samples\n",
      "---*---\n",
      "MAD (oracle space): 0.047\n",
      "STD (oracle space): 0.058\n",
      "Validity: 0.985\n"
     ]
    }
   ],
   "source": [
    "# Filter out NaNs\n",
    "oracle_values = oracle_values[~oracle_values.isna()]\n",
    "\n",
    "# Sampled\n",
    "print(f'Sampled {len(samples)} samples')\n",
    "\n",
    "# Calculate metrics\n",
    "print('---*---')\n",
    "mad = np.mean(np.abs(oracle_values - TARGET_VALUE))\n",
    "print(f'MAD (oracle space): {mad:.3f}')\n",
    "std = np.std(oracle_values)\n",
    "print(f'STD (oracle space): {std:.3f}')\n",
    "# print('---*---')\n",
    "# mad = np.mean(np.abs(train_dataset.target_transform(oracle_values) - train_dataset.target_transform(TARGET_VALUE)))\n",
    "# print(f'MAD (normalized space): {mad:.3f}')\n",
    "# std = np.std(train_dataset.target_transform(oracle_values))\n",
    "# print(f'STD (normalized space): {std:.3f}')\n",
    "# print('---*---')\n",
    "validity = sum(is_valid_sample) / len(is_valid_sample)\n",
    "print(f'Validity: {validity:.3f}')\n"
   ]
  },
  {
   "cell_type": "code",
   "execution_count": 576,
   "metadata": {},
   "outputs": [
    {
     "data": {
      "text/plain": [
       "['COc1ccc(C(=O)c2c(NC(=O)c3ccccn3)sc3c2CCCC3)cc1',\n",
       " 'CCC1CC(=O)CCC1(O)CCC=C1CCCC2CC21',\n",
       " 'CCCCCCCCCCCN1c2nccc[n+]2CC1(O)c1ccco1',\n",
       " 'CC(=O)Oc1cccc2c1C13CCN(C)C(C2)C1C=C(OCc1ccccc1)C(=O)C3',\n",
       " 'Cc1cc(N)nc(CC2CNCC23c2ccccc2CCc2ccccc23)n1',\n",
       " 'CC(C)C1=C(C(=O)NC(C)(C)C)C(c2ccc(O)c(Br)c2)OC1',\n",
       " 'N=C1NC(c2cc(NC(=O)c3ccc(C#CC4CC4)cn3)ccc2F)(C(F)F)CC(C(F)(F)F)O1',\n",
       " 'CCCCC12c3ccccc3C(=NO)CC1(O)CCCC2',\n",
       " 'O=S(=O)(c1ccc(-c2ccc3cnn(O)c3c2)cc1)N1CCCC(c2ccccc2)C1',\n",
       " 'O=C(O)CCCCCCCCCCCC(=O)Nc1ccc(N2C(=O)CCC2=O)cc1',\n",
       " 'CCOCC1CCN(C(=O)c2ccc3cc(Oc4ccc(C(F)(F)F)cn4)ccc3n2)C1',\n",
       " 'COc1cc(F)c(CON=C2c3ccccc3C(=O)c3c([N+](=O)[O-])cccc32)c(F)c1',\n",
       " 'O=S(=O)(c1ccccc1)c1nnn2c1nc(Nc1ccccc1F)c1sccc12',\n",
       " 'Cc1ccsc1C=CC(=O)c1ccccc1F',\n",
       " 'O=C(c1ccc2c(c1)CCCN2C(=O)c1ccccc1)c1ccccc1',\n",
       " 'Cc1ccc(S(=O)(=O)Nc2cccc(Cl)c2C)cc1N(C)S(=O)(=O)c1cccs1',\n",
       " 'CC(C)=CC(=O)NC1=CC(=O)C2=C(C1=O)C1(C)CCCC(C)(C)C1CC2',\n",
       " 'CCC(C=CC(=O)NC(Cc1ccc(OC)cc1)C(=O)C(F)(F)C(=O)OC)NC(=O)C(CC(C)C)NC(=O)OCc1ccccc1',\n",
       " 'COc1c(C)c(OC)c(Br)c2c1C(=O)c1c(cc(C)c(Br)c1O)C2=O',\n",
       " 'CCCCCCC(O)Cc1cc(OC)c2c(c1O)C(=O)c1ccccc1C2=O',\n",
       " 'O=C(NC(C(=O)O)c1ccccc1)c1nc(Cl)c2ccccc2c1-c1ccccc1',\n",
       " 'O=C(CSc1nc(=O)n(Cc2ccccn2)c2c1CCC2)Nc1ccccc1F',\n",
       " 'Cc1cccc(C)c1-c1ccc2cc(NC(=O)C3CC3)ncc2c1',\n",
       " 'CCC(C(=O)Nc1ccc(C)cc1C)n1cc(Cl)c(C(F)(F)F)n1',\n",
       " 'O=S(=O)(c1cccc2c(N(CCCl)CCCl)cccc12)N(CCCl)CCCl',\n",
       " 'O=C(CN1CCCC1)Nc1cc(CNCc2ccccc2)cc(Nc2ccnc3cc(Cl)ccc23)c1',\n",
       " 'Cn1c2c(c3ccc(-n4ccc(-c5ccc(C(F)(F)F)cc5)cc4=O)nc31)CNCCC2',\n",
       " 'COc1ccc(CCNC(=O)c2cccc3c2C(=O)c2ccc(-c4ccc(OC)cc4)cc2S3(=O)=O)cc1OC',\n",
       " 'CC1CN(C(C)CO)C(=O)c2cccc(NC(=O)Nc3ccc(C(F)(F)F)cc3)c2OC1CN(C)S(=O)(=O)c1ccc(Cl)cc1',\n",
       " 'COc1ccc(N=Cc2c(-c3ccccc3)nn(-c3ccccc3)c2N)cc1',\n",
       " 'COc1ccc(-c2nnc(-c3ccc4nc(-c5ccc(OC)nc5)ccc4c3)o2)cc1',\n",
       " 'Cc1ccc(-c2ccc(S(=O)(=O)N3CCCCC3c3cccnc3)s2)o1',\n",
       " 'COc1cc(Cn2c(-c3ccccc3)nc3ccccc32)ccc1O',\n",
       " 'CC(C)OP(=O)(OC(C)C)C(O)c1ccc(OC(F)F)cc1',\n",
       " 'CN1C(c2ccccc2)C(c2ccccc2)=NN1c1ccccc1',\n",
       " 'COC(=O)c1ccc2c(c1)nc(-c1ccccc1)n2C1CCCCC1',\n",
       " 'Cc1cc2c(c(=O)o1)C=C1CCC(C(C)CNCc3ccc(C#N)cc3)CC1O2',\n",
       " 'Cc1ccc(CN2CCN(c3ccc(N4CC(Cn5cc(-c6cocn6)nn5)OC4=O)cc3F)CC2)cc1',\n",
       " 'COc1ccc(CCNC(=O)C2(C)CCCN2Cc2ccccc2Cl)cc1OC',\n",
       " 'COc1ccc(CCNC(=O)c2ccccc2NC(=O)c2csc3ccccc23)cc1OC',\n",
       " 'COc1ccc(CC2COCC2Cc2ccc(O)c(OC)c2)cc1OC',\n",
       " 'N#Cc1c(N)c(C#N)c(SCC(=O)c2ccc(OC(F)F)cc2)nc1-c1ccccc1',\n",
       " 'COc1ccc(C(=O)c2ccn(-c3cc(OCc4ccccc4)cnc3C)c2NC(C)=O)cc1',\n",
       " 'CCC(C)C(CN(C)N=O)N(CCn1cc(CCOC)nn1)Cc1ccccc1',\n",
       " 'Cc1nc2ccc(Cl)cc2cc1C(=O)NCC(=O)N1CCC(Oc2ccc(CN3CCCC3)cc2)CC1',\n",
       " 'Cc1cc(COc2ccc(S(=O)(=O)CCO(C)C)cc2)ccc1ncc(C)c(O)c1C#N',\n",
       " 'COc1ccc2c(c1)cc(-c1nnc(SCc3ccc(Cl)cc3)o1)c(=O)o2',\n",
       " 'O=C(C1CC1)N1CC2CCN(C(c3ncccc3F)c3ccc(C(F)(F)F)cc3)C2C1',\n",
       " 'CCCSc1nc2ccccc2c2nc(=O)n(-c3ccccc3)n12',\n",
       " 'CCCCNC(=O)C(Cc1ccc(OC(C(=O)O)C(=O)O)cc1)NC(=O)C(Cc1ccccc1)NC(=O)Cc1cccc2ccccc12',\n",
       " 'CN(C)CCN1CCC(Oc2ccc(NC(=O)c3ccccc3OCc3ccccc3)cc2)CC1',\n",
       " 'CC(C)C(N)c1nnc2n1-c1ccc(Cl)cc1C(c1ccccc1Cl)=NC2',\n",
       " 'CCN(CC)CCN(C)C(=O)c1ccc(N(c2cccc(C#N)c2)C2CC3CCC(C2)N3C)cc1',\n",
       " 'CC(=O)OCC1OC(n2cnc3c(I)c(SCc4ccccc4)c(I)cc3c2=O)C(OC(C)=O)C1OC(C)=O',\n",
       " 'CCCCCCCc1ccc(CCC(O)P(=O)(O)O)cc1',\n",
       " 'CNCc1c(C(=O)N(C)C)c(-c2ccc(Cl)cc2)n(-c2ccc(Cl)cc2Cl)n1',\n",
       " 'Cc1cccc(CC(=O)Nc2ccc(S(=O)(=O)Nc3cccc(C)c3C)cc2)c1',\n",
       " 'CC(CN1CCCCC1)Oc1cccc(C(=O)c2ccccc2)c1',\n",
       " 'O=C(c1cc(-c2ccco2)on1)N1Cc2cc(F)ccc2Oc2ccc(F)cc21',\n",
       " 'COCCNc1nc2cc(-c3cccc(C(F)(F)F)c3)sc2n2c(C)cnc12',\n",
       " 'COc1cccc(CN2CC3CCCC(CNc4ccccc4)C3C2)c1OC',\n",
       " 'O=C(Nc1cccc(OCc2ccccc2)c1)c1cc(Cl)ccc1O',\n",
       " 'O=C(Cc1ccccn1)Nc1nnc(CCSCCc2nnc(NC(=O)Cc3ccccc3)s2)s1',\n",
       " 'CC(C)(C)c1ccc(-n2c(C(C(=O)Nc3ccccc3)N3CCN(C(=O)c4ccco4)CC3)nc3ccccc3c2=O)cc1',\n",
       " 'COc1ccc(-c2cc(F)c(F)cc2-c2ccc(S(N)(=O)=O)cc2)cc1F',\n",
       " 'COC(=O)C1=CC2OC3CC4C(C)(C)CCCC4(C(=O)OC)C3(C)CC2(CCC1)OO',\n",
       " 'COc1ccc(C(=O)C=Cc2cccc3cc[nH]c23)c2c1C=CC(C)(C)O2']"
      ]
     },
     "execution_count": 576,
     "metadata": {},
     "output_type": "execute_result"
    }
   ],
   "source": [
    "samples"
   ]
  },
  {
   "cell_type": "code",
   "execution_count": 577,
   "metadata": {},
   "outputs": [],
   "source": [
    "list_valid_sample = is_valid_sample.tolist()\n",
    "valid_samples = [samples[i] for i in range(len(samples)) if list_valid_sample[i]][:3]"
   ]
  },
  {
   "cell_type": "code",
   "execution_count": 578,
   "metadata": {},
   "outputs": [],
   "source": [
    "# all_samples = []\n",
    "all_samples.extend(valid_samples)"
   ]
  },
  {
   "cell_type": "code",
   "execution_count": 579,
   "metadata": {},
   "outputs": [
    {
     "data": {
      "text/plain": [
       "27"
      ]
     },
     "execution_count": 579,
     "metadata": {},
     "output_type": "execute_result"
    }
   ],
   "source": [
    "len(all_samples)"
   ]
  },
  {
   "cell_type": "code",
   "execution_count": 580,
   "metadata": {},
   "outputs": [
    {
     "data": {
      "text/plain": [
       "['Cc1cc(N2CCCCC2)n2nc(C)[n+](CC(=O)c3ccc(Cl)cc3)c2n1',\n",
       " 'CCN(CC(=O)Nc1ccccc1OC)C(=O)c1ccc(S(=O)(=O)N(C)c2ccccc2)cc1',\n",
       " 'COc1cc2ccnc(Cc3ccc4cccc(OCC(C)N)c4n3)c2cc1OC',\n",
       " 'COc1ccc(C(=O)OCC(=O)NC2CC2)cc1S(=O)(=O)N1CCCCC1',\n",
       " 'O=C1NCCc2c1[nH]c1ccc(Cl)cc21',\n",
       " 'CC(=O)NC(C)Cc1ccc(C#Cc2cnc(Oc3ccccc3)nc2)cc1',\n",
       " 'CC(NC(=O)c1ccccc1)C(=O)N1CCCCC1',\n",
       " 'Cc1ccccc1NC(=O)c1ccc2c(c1)OCO2',\n",
       " 'O=C(Nc1ccc2c(c1)OCCO2)C(c1ccccc1F)N1CCCCC1',\n",
       " 'OC1=C2c3ccccc3-c3ccccc3C23CCN(CCc2cccnc2)CC31',\n",
       " 'Cc1ccc(S(=O)(=O)C2(c3ccc(NC(=O)N(C)OC)cc3)CCN(C(=O)C3(C)CCC(C(=O)O)CC3)C2)cc1F',\n",
       " 'Cc1cc(C(=O)NC(CC(C)C)C(=O)NC(C=O)CCCNC(=N)N)ccc1NC(=O)C1Cc2c(Cl)cccc2C1',\n",
       " 'CC(C)(C)c1cc(NC(=O)CN2CCCN(Cc3ccc(Cl)cc3)S2(=O)=O)no1',\n",
       " 'CCC(=O)c1c(O)cccc1OCC(O)CN(C(C)(C)C)Cc1ccccc1',\n",
       " 'N=C(O)N1CCCc2cc(-c3cncc(Cl)c3)cnc21',\n",
       " 'COc1ccccc1NC(=O)c1csc(-c2cccc3ccccc23)n1',\n",
       " 'Cc1ccc(S(=O)(=O)CC=Cc2ccccc2)cc1',\n",
       " 'CC(=O)Nc1ccc(S(=O)(=O)N2CCN(C(=O)C3CC3)CC2)cc1',\n",
       " 'Cc1cc([N+](=O)[O-])cc(NC(=O)CN2CCNC(=O)C2)c1C',\n",
       " 'CCC(C)NC(=O)c1cn(C)nc1OS(C)(=O)=O',\n",
       " 'COC(=O)C(C)NC(=O)c1cc2c(=O)n3ccccc3nc2n1C',\n",
       " 'Cc1nc(C=O)c(-c2ccc(S(C)(=O)=O)cc2)s1',\n",
       " 'O=C(Nc1cccc(S(=O)(=O)N2CCCCCC2)c1)c1ccc(N2CCOCC2)c([N+](=O)[O-])c1',\n",
       " 'C=CCNC(=O)C(C=C)1CCCCCCCCC(NS(=O)(=O)c2ccc(C(=O)NC)cc2)C(=O)N1',\n",
       " 'COc1ccc(C(=O)c2c(NC(=O)c3ccccn3)sc3c2CCCC3)cc1',\n",
       " 'CCC1CC(=O)CCC1(O)CCC=C1CCCC2CC21',\n",
       " 'CCCCCCCCCCCN1c2nccc[n+]2CC1(O)c1ccco1']"
      ]
     },
     "execution_count": 580,
     "metadata": {},
     "output_type": "execute_result"
    }
   ],
   "source": [
    "all_samples"
   ]
  },
  {
   "cell_type": "code",
   "execution_count": 583,
   "metadata": {},
   "outputs": [
    {
     "data": {
      "text/plain": [
       "{'qed=0.5': ['Cc1cc(N2CCCCC2)n2nc(C)[n+](CC(=O)c3ccc(Cl)cc3)c2n1',\n",
       "  'CCN(CC(=O)Nc1ccccc1OC)C(=O)c1ccc(S(=O)(=O)N(C)c2ccccc2)cc1',\n",
       "  'COc1cc2ccnc(Cc3ccc4cccc(OCC(C)N)c4n3)c2cc1OC'],\n",
       " 'qed=0.7': ['COc1ccc(C(=O)OCC(=O)NC2CC2)cc1S(=O)(=O)N1CCCCC1',\n",
       "  'O=C1NCCc2c1[nH]c1ccc(Cl)cc21',\n",
       "  'CC(=O)NC(C)Cc1ccc(C#Cc2cnc(Oc3ccccc3)nc2)cc1'],\n",
       " 'qed=0.9': ['CC(NC(=O)c1ccccc1)C(=O)N1CCCCC1',\n",
       "  'Cc1ccccc1NC(=O)c1ccc2c(c1)OCO2',\n",
       "  'O=C(Nc1ccc2c(c1)OCCO2)C(c1ccccc1F)N1CCCCC1'],\n",
       " 'sa=0.7': ['OC1=C2c3ccccc3-c3ccccc3C23CCN(CCc2cccnc2)CC31',\n",
       "  'Cc1ccc(S(=O)(=O)C2(c3ccc(NC(=O)N(C)OC)cc3)CCN(C(=O)C3(C)CCC(C(=O)O)CC3)C2)cc1F',\n",
       "  'Cc1cc(C(=O)NC(CC(C)C)C(=O)NC(C=O)CCCNC(=N)N)ccc1NC(=O)C1Cc2c(Cl)cccc2C1'],\n",
       " 'sa=0.8': ['CC(C)(C)c1cc(NC(=O)CN2CCCN(Cc3ccc(Cl)cc3)S2(=O)=O)no1',\n",
       "  'CCC(=O)c1c(O)cccc1OCC(O)CN(C(C)(C)C)Cc1ccccc1',\n",
       "  'N=C(O)N1CCCc2cc(-c3cncc(Cl)c3)cnc21'],\n",
       " 'sa=0.9': ['COc1ccccc1NC(=O)c1csc(-c2cccc3ccccc23)n1',\n",
       "  'Cc1ccc(S(=O)(=O)CC=Cc2ccccc2)cc1',\n",
       "  'CC(=O)Nc1ccc(S(=O)(=O)N2CCN(C(=O)C3CC3)CC2)cc1'],\n",
       " 'logp=0.0': ['Cc1cc([N+](=O)[O-])cc(NC(=O)CN2CCNC(=O)C2)c1C',\n",
       "  'CCC(C)NC(=O)c1cn(C)nc1OS(C)(=O)=O',\n",
       "  'COC(=O)C(C)NC(=O)c1cc2c(=O)n3ccccc3nc2n1C'],\n",
       " 'logp=2.0': ['Cc1nc(C=O)c(-c2ccc(S(C)(=O)=O)cc2)s1',\n",
       "  'O=C(Nc1cccc(S(=O)(=O)N2CCCCCC2)c1)c1ccc(N2CCOCC2)c([N+](=O)[O-])c1',\n",
       "  'C=CCNC(=O)C(C=C)1CCCCCCCCC(NS(=O)(=O)c2ccc(C(=O)NC)cc2)C(=O)N1'],\n",
       " 'logp=4.0': ['COc1ccc(C(=O)c2c(NC(=O)c3ccccn3)sc3c2CCCC3)cc1',\n",
       "  'CCC1CC(=O)CCC1(O)CCC=C1CCCC2CC21',\n",
       "  'CCCCCCCCCCCN1c2nccc[n+]2CC1(O)c1ccco1']}"
      ]
     },
     "execution_count": 583,
     "metadata": {},
     "output_type": "execute_result"
    }
   ],
   "source": [
    "{\"qed=0.5\": all_samples[0:3],\n",
    " \"qed=0.7\": all_samples[3:6],\n",
    " \"qed=0.9\": all_samples[6:9],\n",
    " \"sa=0.7\": all_samples[9:12],\n",
    " \"sa=0.8\": all_samples[12:15],\n",
    " \"sa=0.9\": all_samples[15:18],\n",
    " \"logp=0.0\": all_samples[18:21],\n",
    " \"logp=2.0\": all_samples[21:24],\n",
    " \"logp=4.0\": all_samples[24:27]}"
   ]
  },
  {
   "cell_type": "code",
   "execution_count": 581,
   "metadata": {},
   "outputs": [
    {
     "data": {
      "text/plain": [
       "'COc1ccc(C(=O)OCC(=O)NC2CC2)cc1S(=O)(=O)N1CCCCC1'"
      ]
     },
     "execution_count": 581,
     "metadata": {},
     "output_type": "execute_result"
    }
   ],
   "source": [
    "all_samples[3]"
   ]
  },
  {
   "cell_type": "code",
   "execution_count": null,
   "metadata": {},
   "outputs": [],
   "source": []
  }
 ],
 "metadata": {
  "kernelspec": {
   "display_name": "Python 3 (ipykernel)",
   "language": "python",
   "name": "python3"
  }
 },
 "nbformat": 4,
 "nbformat_minor": 2
}
