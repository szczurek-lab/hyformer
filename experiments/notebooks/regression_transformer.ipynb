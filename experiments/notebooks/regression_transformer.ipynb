{
 "cells": [
  {
   "cell_type": "markdown",
   "metadata": {},
   "source": [
    "1. Initialize RT class\n",
    "2. This contains the RT model \n",
    "3. Jan's generate method works "
   ]
  },
  {
   "cell_type": "code",
   "execution_count": 6,
   "metadata": {},
   "outputs": [
    {
     "data": {
      "text/plain": [
       "RegressionTransformer()"
      ]
     },
     "execution_count": 6,
     "metadata": {},
     "output_type": "execute_result"
    }
   ],
   "source": [
    "from jointformer.models.regression_transformer import RegressionTransformer\n",
    "\n",
    "\n",
    "TEMPERATURE = 0.2\n",
    "FRACTION_TO_MASK = 1.0\n",
    "TARGET = 'qed'\n",
    "FILENAME = '/home/aih/gawade.pankhil/.conda/regression-transformer/data/qed/chembl_smiles_eval.txt'\n",
    "\n",
    "model = RegressionTransformer()\n",
    "model.load_pretrained(FILENAME)\n",
    "model.to_guacamole_generator(TEMPERATURE, FRACTION_TO_MASK, 'cpu', TARGET)"
   ]
  },
  {
   "cell_type": "code",
   "execution_count": 7,
   "metadata": {},
   "outputs": [
    {
     "name": "stdout",
     "output_type": "stream",
     "text": [
      "INFO:gt4sd.algorithms.core:runnning RegressionTransformer with configuration=RegressionTransformerMolecules(algorithm_version='qed', search='sample', temperature=0.2, batch_size=8, tolerance=100.0, sampling_wrapper={'property_goal': {'<qed>': 0.599}, 'fraction_to_mask': 1.0})\n",
      "INFO:gt4sd.algorithms.conditional_generation.regression_transformer.core:ensure artifacts for the application are present.\n",
      "INFO:gt4sd.s3:starting syncing\n",
      "INFO:gt4sd.s3:syncing complete\n",
      "INFO:gt4sd.s3:starting syncing\n",
      "INFO:gt4sd.s3:syncing complete\n"
     ]
    },
    {
     "name": "stderr",
     "output_type": "stream",
     "text": [
      "The tokenizer class you load from this checkpoint is not the same type as the class this function is called from. It may result in unexpected tokenization. \n",
      "The tokenizer class you load from this checkpoint is 'XLNetTokenizer'. \n",
      "The class this function is called from is 'InferenceBertTokenizer'.\n",
      "/home/aih/gawade.pankhil/miniconda3/envs/rtgt4sd/lib/python3.9/site-packages/transformers/models/auto/modeling_auto.py:1132: FutureWarning: The class `AutoModelWithLMHead` is deprecated and will be removed in a future version. Please use `AutoModelForCausalLM` for causal language models, `AutoModelForMaskedLM` for masked language models and `AutoModelForSeq2SeqLM` for encoder-decoder models.\n",
      "  warnings.warn(\n",
      "/home/aih/gawade.pankhil/miniconda3/envs/rtgt4sd/lib/python3.9/site-packages/transformers/modeling_utils.py:399: FutureWarning: You are using `torch.load` with `weights_only=False` (the current default value), which uses the default pickle module implicitly. It is possible to construct malicious pickle data which will execute arbitrary code during unpickling (See https://github.com/pytorch/pytorch/blob/main/SECURITY.md#untrusted-models for more details). In a future release, the default value for `weights_only` will be flipped to `True`. This limits the functions that could be executed during unpickling. Arbitrary objects will no longer be allowed to be loaded via this mode unless they are explicitly allowlisted by the user via `torch.serialization.add_safe_globals`. We recommend you start setting `weights_only=True` for any use case where you don't have full control of the loaded file. Please open an issue on GitHub for any issues related to this experimental feature.\n",
      "  return torch.load(checkpoint_file, map_location=\"cpu\")\n"
     ]
    },
    {
     "name": "stdout",
     "output_type": "stream",
     "text": [
      "INFO:gt4sd.algorithms.conditional_generation.regression_transformer.implementation:Model restored from /home/aih/gawade.pankhil/.gt4sd/algorithms/conditional_generation/RegressionTransformer/RegressionTransformerMolecules/qed\n",
      "INFO:gt4sd.algorithms.conditional_generation.regression_transformer.implementation:Will start sampling molecules similar to O=C(Nc1n[nH]c2cc(ccc12)-c1cccc(c1)C(=O)N1CCC(CC1)N1CCCC1)C1CC1 with goal: {'<qed>': 0.599} and masking 1.0 of the tokens.\n",
      "INFO:gt4sd.algorithms.conditional_generation.regression_transformer.implementation:Starting prediction for sequence <qed>0.599|[MASK][MASK][MASK][MASK][MASK][MASK][MASK][MASK][MASK][MASK][MASK][MASK][MASK][MASK][MASK][MASK][MASK][MASK][MASK][MASK][MASK][MASK][MASK][MASK][MASK][MASK][MASK][MASK][MASK][MASK][MASK][MASK][MASK][MASK][MASK][MASK][MASK][MASK][MASK][MASK][MASK][MASK][MASK][MASK][MASK][MASK][MASK][MASK][MASK][MASK][MASK][MASK][MASK][MASK][MASK][MASK][MASK]\n",
      "INFO:gt4sd.algorithms.conditional_generation.regression_transformer.implementation:Successes: (('CC=CCCCCCCC(C)CCCCCCCCCC=CCCCCCCCCCCCCCCC=CC=CCCCCC=CC', '<qed>0.057'), ('CCCCCCCCCCCCCCCCCCCCCCCC=CCCCCCCCCCCCCCCCCCCCCCCC=1CC=1C', '<qed>0.047'), ('CCCCCCCCCC(C)CCCCCCCCCCCCCCCCCCCCCCCCCCCCCCCCC=CCCC1CC1C', '<qed>0.047'), ('CCCC1CCCCC1CCCCCCCCCCCC=CCCCCCCCCCCCCCCCCCCCCCCCCCC2CC2C', '<qed>0.047'))\n"
     ]
    },
    {
     "data": {
      "text/plain": [
       "'CC=CCCCCCCC(C)CCCCCCCCCC=CCCCCCCCCCCCCCCC=CC=CCCCCC=CC'"
      ]
     },
     "execution_count": 7,
     "metadata": {},
     "output_type": "execute_result"
    }
   ],
   "source": [
    "model._generate_single_example()"
   ]
  },
  {
   "cell_type": "code",
   "execution_count": 8,
   "metadata": {},
   "outputs": [
    {
     "name": "stderr",
     "output_type": "stream",
     "text": [
      "Generating samples:   0%|          | 0/2 [00:00<?, ?it/s]"
     ]
    },
    {
     "name": "stdout",
     "output_type": "stream",
     "text": [
      "INFO:gt4sd.algorithms.core:runnning RegressionTransformer with configuration=RegressionTransformerMolecules(algorithm_version='qed', search='sample', temperature=0.2, batch_size=8, tolerance=100.0, sampling_wrapper={'property_goal': {'<qed>': 0.603}, 'fraction_to_mask': 1.0})\n",
      "INFO:gt4sd.algorithms.conditional_generation.regression_transformer.core:ensure artifacts for the application are present.\n",
      "INFO:gt4sd.s3:starting syncing\n",
      "INFO:gt4sd.s3:syncing complete\n",
      "INFO:gt4sd.s3:starting syncing\n",
      "INFO:gt4sd.s3:syncing complete\n"
     ]
    },
    {
     "name": "stderr",
     "output_type": "stream",
     "text": [
      "The tokenizer class you load from this checkpoint is not the same type as the class this function is called from. It may result in unexpected tokenization. \n",
      "The tokenizer class you load from this checkpoint is 'XLNetTokenizer'. \n",
      "The class this function is called from is 'InferenceBertTokenizer'.\n",
      "/home/aih/gawade.pankhil/miniconda3/envs/rtgt4sd/lib/python3.9/site-packages/transformers/models/auto/modeling_auto.py:1132: FutureWarning: The class `AutoModelWithLMHead` is deprecated and will be removed in a future version. Please use `AutoModelForCausalLM` for causal language models, `AutoModelForMaskedLM` for masked language models and `AutoModelForSeq2SeqLM` for encoder-decoder models.\n",
      "  warnings.warn(\n",
      "/home/aih/gawade.pankhil/miniconda3/envs/rtgt4sd/lib/python3.9/site-packages/transformers/modeling_utils.py:399: FutureWarning: You are using `torch.load` with `weights_only=False` (the current default value), which uses the default pickle module implicitly. It is possible to construct malicious pickle data which will execute arbitrary code during unpickling (See https://github.com/pytorch/pytorch/blob/main/SECURITY.md#untrusted-models for more details). In a future release, the default value for `weights_only` will be flipped to `True`. This limits the functions that could be executed during unpickling. Arbitrary objects will no longer be allowed to be loaded via this mode unless they are explicitly allowlisted by the user via `torch.serialization.add_safe_globals`. We recommend you start setting `weights_only=True` for any use case where you don't have full control of the loaded file. Please open an issue on GitHub for any issues related to this experimental feature.\n",
      "  return torch.load(checkpoint_file, map_location=\"cpu\")\n"
     ]
    },
    {
     "name": "stdout",
     "output_type": "stream",
     "text": [
      "INFO:gt4sd.algorithms.conditional_generation.regression_transformer.implementation:Model restored from /home/aih/gawade.pankhil/.gt4sd/algorithms/conditional_generation/RegressionTransformer/RegressionTransformerMolecules/qed\n",
      "INFO:gt4sd.algorithms.conditional_generation.regression_transformer.implementation:Will start sampling molecules similar to CC(C)C1CC(=O)C2=CC(O)(C(=C)CO)C3(C)CC(=O)OC3CC12C with goal: {'<qed>': 0.603} and masking 1.0 of the tokens.\n",
      "INFO:gt4sd.algorithms.conditional_generation.regression_transformer.implementation:Starting prediction for sequence <qed>0.603|[MASK][MASK][MASK][MASK][MASK][MASK][MASK][MASK][MASK][MASK][MASK][MASK][MASK][MASK][MASK][MASK][MASK][MASK][MASK][MASK][MASK][MASK][MASK][MASK][MASK][MASK][MASK][MASK][MASK][MASK][MASK][MASK][MASK][MASK][MASK][MASK][MASK][MASK][MASK][MASK][MASK][MASK][MASK][MASK][MASK][MASK][PAD]\n",
      "INFO:gt4sd.algorithms.conditional_generation.regression_transformer.implementation:Successes: (('CCCCCCCCCC#CCCC1=CC1CCCCCCCCCCC=CCC2C=C2', '<qed>0.287'), ('CC=CCCCCCCC(C)CC=CCC=CCCCCCCC=C=CCCCCCCC#C', '<qed>0.187'), ('CCCC=CCCCCCCCCCCCCC=C=CCCCCCCCCCCCCC2CCC1CC12', '<qed>0.077'), ('CCCCCCCCCCCCCCCCCCCCCCCC=C1C=C1C=C=CCCC=C', '<qed>0.147'), ('CCCCCCCCCCCCCCCC1CC12C3C2C3C=CCCCCCCCCCC4C=C4', '<qed>0.097'), ('CCCCCCCCCCCCCCCC1CC1C2C=C2C3CC3C#CCCC=CCC', '<qed>0.287'), ('CCCCCCCCCCCCCCCCC1C=C1CCC=CCCCCCC=CC=CCCC=C', '<qed>0.087'), ('CCCCCCCCCCCCCCCCCCCCCCC1CC1C=CCCCCCC=CC2CC2C', '<qed>0.087'))\n"
     ]
    },
    {
     "name": "stderr",
     "output_type": "stream",
     "text": [
      "Generating samples:  50%|█████     | 1/2 [00:01<00:01,  1.19s/it]"
     ]
    },
    {
     "name": "stdout",
     "output_type": "stream",
     "text": [
      "INFO:gt4sd.algorithms.core:runnning RegressionTransformer with configuration=RegressionTransformerMolecules(algorithm_version='qed', search='sample', temperature=0.2, batch_size=8, tolerance=100.0, sampling_wrapper={'property_goal': {'<qed>': 0.237}, 'fraction_to_mask': 1.0})\n",
      "INFO:gt4sd.algorithms.conditional_generation.regression_transformer.core:ensure artifacts for the application are present.\n",
      "INFO:gt4sd.s3:starting syncing\n",
      "INFO:gt4sd.s3:syncing complete\n",
      "INFO:gt4sd.s3:starting syncing\n",
      "INFO:gt4sd.s3:syncing complete\n"
     ]
    },
    {
     "name": "stderr",
     "output_type": "stream",
     "text": [
      "The tokenizer class you load from this checkpoint is not the same type as the class this function is called from. It may result in unexpected tokenization. \n",
      "The tokenizer class you load from this checkpoint is 'XLNetTokenizer'. \n",
      "The class this function is called from is 'InferenceBertTokenizer'.\n"
     ]
    },
    {
     "name": "stdout",
     "output_type": "stream",
     "text": [
      "INFO:gt4sd.algorithms.conditional_generation.regression_transformer.implementation:Model restored from /home/aih/gawade.pankhil/.gt4sd/algorithms/conditional_generation/RegressionTransformer/RegressionTransformerMolecules/qed\n",
      "INFO:gt4sd.algorithms.conditional_generation.regression_transformer.implementation:Will start sampling molecules similar to NS(=O)(=O)c1ccc(CCNC(=S)NC2OC(CO)C(O)C(O)C2O)cc1 with goal: {'<qed>': 0.237} and masking 1.0 of the tokens.\n",
      "INFO:gt4sd.algorithms.conditional_generation.regression_transformer.implementation:Starting prediction for sequence <qed>0.237|[MASK][MASK][MASK][MASK][MASK][MASK][MASK][MASK][MASK][MASK][MASK][MASK][MASK][MASK][MASK][MASK][MASK][MASK][MASK][MASK][MASK][MASK][MASK][MASK][MASK][MASK][MASK][MASK][MASK][MASK][MASK][MASK][MASK][MASK][MASK][MASK][MASK][MASK][MASK][MASK][MASK][MASK][MASK][MASK][MASK][MASK][MASK]\n",
      "INFO:gt4sd.algorithms.conditional_generation.regression_transformer.implementation:Successes: (('CN(C)CCCCCCNCCCCCCCCCCCCCCCCCCCCCCCCCCCCCCC=CO', '<qed>0.077'), ('ONCCCCCCCCCCCCCCCCCCCCCCCCCCCCCCCCCCCCCCCCC=CC', '<qed>0.057'), ('ONNCCCCCCCCCCCCCCCCCCCCCCCCCCCCCCCCCCCCCCCC=CC', '<qed>0.047'), ('ONCCCCCCCCCCCCCCCCCCCCCCCCCCCCCCCCCCCCCCCC1CC1C', '<qed>0.047'), ('ON(C)CCCCCCCCCCCCCCCCCCCCCCCCCCCCCCCCCCCCC1CC1=O', '<qed>0.057'), ('ON(C)CCCCCCCCCCCCCCCCCC=O', '<qed>0.067'), ('ONCCCCCCCCCCCCCCCCCCCCCCCCCCCCCCCCCCCCCCCC1CC1C', '<qed>0.047'), ('OCCCCCCCCCCCCCCCCCCCCCCCCCCCCCCCC=CCCCCCCCCC=CC', '<qed>0.047'))\n"
     ]
    },
    {
     "name": "stderr",
     "output_type": "stream",
     "text": [
      "Generating samples: 100%|██████████| 2/2 [00:02<00:00,  1.16s/it]\n"
     ]
    },
    {
     "data": {
      "text/plain": [
       "['CCCCCCCCCC#CCCC1=CC1CCCCCCCCCCC=CCC2C=C2',\n",
       " 'CN(C)CCCCCCNCCCCCCCCCCCCCCCCCCCCCCCCCCCCCCC=CO']"
      ]
     },
     "execution_count": 8,
     "metadata": {},
     "output_type": "execute_result"
    }
   ],
   "source": [
    "model.generate(2)"
   ]
  },
  {
   "cell_type": "code",
   "execution_count": null,
   "metadata": {},
   "outputs": [],
   "source": []
  }
 ],
 "metadata": {
  "kernelspec": {
   "display_name": "terminator",
   "language": "python",
   "name": "python3"
  },
  "language_info": {
   "codemirror_mode": {
    "name": "ipython",
    "version": 3
   },
   "file_extension": ".py",
   "mimetype": "text/x-python",
   "name": "python",
   "nbconvert_exporter": "python",
   "pygments_lexer": "ipython3",
   "version": "3.9.19"
  }
 },
 "nbformat": 4,
 "nbformat_minor": 2
}
