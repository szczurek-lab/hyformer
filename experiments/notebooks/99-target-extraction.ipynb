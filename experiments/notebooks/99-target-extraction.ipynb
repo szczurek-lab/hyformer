{
 "cells": [
  {
   "cell_type": "code",
   "execution_count": null,
   "metadata": {},
   "outputs": [],
   "source": [
    "# A recipe for target extraction."
   ]
  },
  {
   "cell_type": "code",
   "execution_count": 17,
   "metadata": {},
   "outputs": [],
   "source": [
    "import torch\n",
    "from jointformer.utils.properties.auto import AutoTarget\n",
    "import argparse\n",
    "import multiprocessing as mp\n",
    "import numpy as np\n",
    "import os\n",
    "import math\n",
    "\n",
    "from jointformer.utils.data import read_strings_from_file\n",
    "\n",
    "%load_ext autoreload\n",
    "%autoreload 2"
   ]
  },
  {
   "cell_type": "code",
   "execution_count": 18,
   "metadata": {},
   "outputs": [],
   "source": [
    "# Configs\n",
    "\n",
    "REPOSITORY_DIR = '/home/adamizdebski/projects/jointformer'\n",
    "DATA_DIR = '/home/adamizdebski/files/data'\n",
    "OUTPUT_DIR = '/home/adamizdebski/files/jointformer/results/chemberta2/moleculenet'\n",
    "\n",
    "PATH_TO_DATASET_CONFIG   = '/home/adamizdebski/projects/jointformer/configs/datasets/guacamol'\n",
    "PATH_TO_TOKENIZER_CONFIG = '/home/adamizdebski/projects/jointformer/configs/tokenizers/smiles'\n",
    "PATH_TO_MODEL_CONFIG = '/home/adamizdebski/projects/jointformer/configs/models/jointformer_test'\n",
    "PATH_TO_TRAINER_CONFIG = '/home/adamizdebski/projects/jointformer/configs/trainers/test'"
   ]
  },
  {
   "cell_type": "code",
   "execution_count": 19,
   "metadata": {},
   "outputs": [],
   "source": [
    "os.chdir(REPOSITORY_DIR)"
   ]
  },
  {
   "cell_type": "code",
   "execution_count": 20,
   "metadata": {},
   "outputs": [],
   "source": [
    "# Data\n",
    "\n",
    "DATA_FILEPATH = f'{DATA_DIR}/datasets/guacamol/test/smiles.txt'\n",
    "\n",
    "data = read_strings_from_file(DATA_FILEPATH)\n",
    "examples = data[:2]\n"
   ]
  },
  {
   "cell_type": "code",
   "execution_count": 21,
   "metadata": {},
   "outputs": [
    {
     "name": "stderr",
     "output_type": "stream",
     "text": [
      "Calculating target data: 100%|██████████| 2/2 [00:00<00:00, 409.10it/s]"
     ]
    },
    {
     "name": "stderr",
     "output_type": "stream",
     "text": [
      "\n"
     ]
    },
    {
     "data": {
      "text/plain": [
       "array([[0.5652006 ],\n",
       "       [0.13383098]], dtype=float32)"
      ]
     },
     "execution_count": 21,
     "metadata": {},
     "output_type": "execute_result"
    }
   ],
   "source": [
    "# QED\n",
    "\n",
    "TARGET_LABEL = 'qed'\n",
    "\n",
    "oracle = AutoTarget.from_target_label(TARGET_LABEL)\n",
    "oracle(examples)\n"
   ]
  },
  {
   "cell_type": "code",
   "execution_count": 22,
   "metadata": {},
   "outputs": [],
   "source": [
    "TARGET_FILEPATH = f'{DATA_DIR}/datasets/guacamol/train/{TARGET_LABEL}.npy'\n",
    "target = np.load(TARGET_FILEPATH)"
   ]
  },
  {
   "cell_type": "code",
   "execution_count": 23,
   "metadata": {},
   "outputs": [
    {
     "data": {
      "text/plain": [
       "(10000, 1)"
      ]
     },
     "execution_count": 23,
     "metadata": {},
     "output_type": "execute_result"
    }
   ],
   "source": [
    "target.shape"
   ]
  },
  {
   "cell_type": "code",
   "execution_count": 57,
   "metadata": {},
   "outputs": [
    {
     "name": "stderr",
     "output_type": "stream",
     "text": [
      "Calculating target data: 2it [00:00,  6.26it/s]\n"
     ]
    },
    {
     "data": {
      "text/plain": [
       "tensor([[ 0.6528],\n",
       "        [-0.5677]])"
      ]
     },
     "execution_count": 57,
     "metadata": {},
     "output_type": "execute_result"
    }
   ],
   "source": [
    "# Penalized LogP\n",
    "\n",
    "TARGET_LABEL = 'plogp'\n",
    "oracle = AutoTarget.from_target_label(TARGET_LABEL)\n",
    "\n",
    "oracle(examples)\n"
   ]
  },
  {
   "cell_type": "code",
   "execution_count": 58,
   "metadata": {},
   "outputs": [],
   "source": [
    "TARGET_FILEPATH = f'{DATA_DIR}/datasets/guacamol/train/{TARGET_LABEL}.npy'\n",
    "target = np.load(TARGET_FILEPATH)"
   ]
  },
  {
   "cell_type": "code",
   "execution_count": 59,
   "metadata": {},
   "outputs": [
    {
     "data": {
      "text/plain": [
       "(1273104, 1)"
      ]
     },
     "execution_count": 59,
     "metadata": {},
     "output_type": "execute_result"
    }
   ],
   "source": [
    "target.shape"
   ]
  },
  {
   "cell_type": "code",
   "execution_count": 64,
   "metadata": {},
   "outputs": [
    {
     "name": "stderr",
     "output_type": "stream",
     "text": [
      "Calculating target data: 2it [00:00, 109.81it/s]\n"
     ]
    },
    {
     "data": {
      "text/plain": [
       "tensor([[1.6952e-01, 3.2928e-01, 4.9755e-02, 3.2129e-01, 3.9429e-22, 4.7077e-01,\n",
       "         7.9267e-07],\n",
       "        [1.2596e-01, 6.1987e-01, 6.1701e-01, 2.8868e-01, 1.6791e-07, 3.7842e-02,\n",
       "         5.3510e-02]])"
      ]
     },
     "execution_count": 64,
     "metadata": {},
     "output_type": "execute_result"
    }
   ],
   "source": [
    "# Guacamol MPO\n",
    "\n",
    "DATA_FILEPATH = f'{DATA_DIR}/datasets/guacamol/train/10000/seed_0/smiles.txt'\n",
    "TARGET_LABEL = 'guacamol_mpo'\n",
    "\n",
    "data = read_strings_from_file(DATA_FILEPATH)\n",
    "oracle = AutoTarget.from_target_label(TARGET_LABEL)\n",
    "\n",
    "oracle([data[0], data[1]])\n"
   ]
  },
  {
   "cell_type": "code",
   "execution_count": 67,
   "metadata": {},
   "outputs": [],
   "source": [
    "TARGET_FILEPATH = f'{DATA_DIR}/datasets/guacamol/train/10000/seed_0/{TARGET_LABEL}.npy'\n",
    "target = np.load(TARGET_FILEPATH)"
   ]
  },
  {
   "cell_type": "code",
   "execution_count": 68,
   "metadata": {},
   "outputs": [
    {
     "data": {
      "text/plain": [
       "(10000, 7)"
      ]
     },
     "execution_count": 68,
     "metadata": {},
     "output_type": "execute_result"
    }
   ],
   "source": [
    "target.shape"
   ]
  },
  {
   "cell_type": "code",
   "execution_count": 69,
   "metadata": {},
   "outputs": [
    {
     "name": "stderr",
     "output_type": "stream",
     "text": [
      "Calculating target data: 1it [00:00, 78.67it/s]\n"
     ]
    },
    {
     "data": {
      "text/plain": [
       "tensor([[9.8705e-01, 1.0608e-03, 1.1928e-03, 1.5063e-03, 4.2665e-03, 1.1835e-03,\n",
       "         1.4853e-03, 2.2672e-03, 4.3591e-03, 5.3751e-02, 1.8473e-03, 3.6033e-03,\n",
       "         1.2529e-03, 1.1637e-03, 5.2990e-10, 9.1254e-03, 1.6846e-01, 2.0833e-12,\n",
       "         2.0941e-01, 1.2566e-14, 6.4078e-01, 6.7277e-07, 6.6211e-05, 8.3925e-01,\n",
       "         1.5450e-09, 3.6734e-03, 9.7684e-01, 2.4649e-01, 2.0021e-02, 9.8891e-01,\n",
       "         9.9822e-01, 1.2140e-02, 3.8389e-03, 1.5560e-06, 1.9990e-03, 1.8780e-03,\n",
       "         6.1356e-01, 1.4697e-03, 1.2098e-02, 3.4839e-02, 1.2098e-02, 9.7911e-03,\n",
       "         8.9280e-01, 2.8195e-03, 8.2542e-01, 9.6289e-01, 2.8172e-01, 2.0830e-03,\n",
       "         3.7865e-03, 1.0817e-01, 3.5636e-02, 1.5721e-01, 1.5478e-01, 6.6188e-02,\n",
       "         3.3555e-02, 1.0796e-01, 1.1551e-02, 2.0409e-02, 1.9592e-08, 2.8389e-02,\n",
       "         5.3014e-05, 3.1866e-02, 4.2191e-10, 6.2190e-12, 4.6698e-12, 1.9237e-03,\n",
       "         5.3449e-02, 2.4321e-06, 7.3609e-21, 9.9738e-15, 6.1524e-12, 2.9919e-23,\n",
       "         1.3366e-01, 8.1803e-02, 6.3945e-18, 1.0377e-21, 6.9452e-01, 4.6754e-02,\n",
       "         1.1083e-01, 8.2503e-23, 2.9762e-02, 2.2105e-02, 3.8174e-01, 1.6652e-01,\n",
       "         2.8168e-13, 8.5848e-21, 5.9272e-01, 2.4502e-02, 1.9783e-02, 5.3014e-05,\n",
       "         5.3717e-21, 6.4361e-11, 4.8469e-09, 8.1289e-09, 9.7694e-01, 6.8097e-03,\n",
       "         1.1488e-06, 2.5223e-03, 5.4748e-01, 2.5467e-02, 1.5800e-01, 1.4635e-12,\n",
       "         5.3014e-05, 5.9682e-04, 5.3014e-05, 7.3740e-01, 5.3014e-05, 5.3014e-05,\n",
       "         5.3014e-05, 5.3014e-05, 5.3014e-05, 5.3014e-05, 7.6021e-01, 6.4961e-04,\n",
       "         7.6842e-16, 1.4404e-10, 4.4808e-22, 2.0590e-16, 7.4484e-13, 4.3766e-19,\n",
       "         4.2211e-17, 1.6528e-01, 3.9135e-21, 6.1060e-22, 5.5691e-02, 1.7824e-10,\n",
       "         1.6824e-01, 1.6843e-01, 1.6718e-01, 2.3968e-07, 5.3522e-07, 9.1025e-24,\n",
       "         7.1054e-15, 4.0453e-17, 8.8485e-21, 4.2211e-17, 1.6841e-01, 7.1054e-15,\n",
       "         1.6842e-01, 9.9969e-01, 1.6607e-01, 2.4072e-09, 4.3764e-21, 2.1879e-12,\n",
       "         1.2463e-09, 3.8415e-07, 3.5394e-08, 3.2879e-03, 3.3658e-02, 1.7562e-01,\n",
       "         1.3096e-10, 5.3014e-05, 3.3017e-01, 3.2445e-03, 1.1432e-18, 1.5642e-01,\n",
       "         9.3110e-19, 9.8702e-04, 8.7610e-01, 1.6834e-01, 1.6791e-01, 3.0302e-20,\n",
       "         1.6795e-01, 5.3014e-05, 4.6491e-05, 5.5866e-19, 1.6654e-01, 2.3635e-03,\n",
       "         1.6818e-01, 1.5586e-01, 4.7878e-21, 2.4897e-21, 2.7407e-18, 4.3136e-21,\n",
       "         1.6807e-01, 3.2879e-03, 1.2845e-03, 1.1179e-12, 1.5652e-01, 1.6638e-01,\n",
       "         5.0128e-18, 7.1054e-15, 5.1493e-09, 3.0641e-10, 2.9915e-16, 1.6788e-01,\n",
       "         5.3014e-05, 1.5656e-01, 7.1054e-15, 1.6604e-01, 5.8496e-24, 7.4512e-13,\n",
       "         7.1054e-15, 1.6841e-01, 1.6734e-01, 2.4684e-04, 3.4767e-17, 1.6466e-01,\n",
       "         2.8392e-16, 3.9839e-01]])"
      ]
     },
     "execution_count": 69,
     "metadata": {},
     "output_type": "execute_result"
    }
   ],
   "source": [
    "# Physicochemical Properties\n",
    "\n",
    "DATA_FILEPATH = f'{DATA_DIR}/datasets/guacamol/train/smiles.txt'\n",
    "TARGET_LABEL = 'physchem'\n",
    "\n",
    "data = read_strings_from_file(DATA_FILEPATH)\n",
    "oracle = AutoTarget.from_target_label(TARGET_LABEL)\n",
    "\n",
    "oracle(data[0])\n"
   ]
  },
  {
   "cell_type": "code",
   "execution_count": 70,
   "metadata": {},
   "outputs": [],
   "source": [
    "TARGET_FILEPATH = f'{DATA_DIR}/datasets/guacamol/train/10000/seed_0/{TARGET_LABEL}.npy'\n",
    "target = np.load(TARGET_FILEPATH)"
   ]
  },
  {
   "cell_type": "code",
   "execution_count": 71,
   "metadata": {},
   "outputs": [
    {
     "data": {
      "text/plain": [
       "(10000, 200)"
      ]
     },
     "execution_count": 71,
     "metadata": {},
     "output_type": "execute_result"
    }
   ],
   "source": [
    "target.shape"
   ]
  }
 ],
 "metadata": {
  "kernelspec": {
   "display_name": "jointformer-experiments",
   "language": "python",
   "name": "python3"
  },
  "language_info": {
   "codemirror_mode": {
    "name": "ipython",
    "version": 3
   },
   "file_extension": ".py",
   "mimetype": "text/x-python",
   "name": "python",
   "nbconvert_exporter": "python",
   "pygments_lexer": "ipython3",
   "version": "3.9.19"
  }
 },
 "nbformat": 4,
 "nbformat_minor": 2
}
