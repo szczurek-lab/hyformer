{
 "cells": [
  {
   "cell_type": "markdown",
   "metadata": {},
   "source": [
    "# Conditional sampling evaluation"
   ]
  },
  {
   "cell_type": "code",
   "execution_count": 2,
   "metadata": {},
   "outputs": [
    {
     "name": "stdout",
     "output_type": "stream",
     "text": [
      "The autoreload extension is already loaded. To reload it, use:\n",
      "  %reload_ext autoreload\n"
     ]
    }
   ],
   "source": [
    "# Imports\n",
    "\n",
    "import os\n",
    "import torch\n",
    "\n",
    "from jointformer.configs.dataset import DatasetConfig\n",
    "from jointformer.configs.tokenizer import TokenizerConfig\n",
    "from jointformer.configs.model import ModelConfig\n",
    "from jointformer.configs.trainer import TrainerConfig\n",
    "\n",
    "from jointformer.utils.datasets.auto import AutoDataset\n",
    "from jointformer.utils.tokenizers.auto import AutoTokenizer\n",
    "from jointformer.models.auto import AutoModel\n",
    "from jointformer.trainers.trainer_fixed import Trainer\n",
    "\n",
    "from jointformer.utils.runtime import set_seed\n",
    "\n",
    "from jointformer.utils.properties.smiles.qed import QED\n",
    "from jointformer.utils.properties.smiles.logp import LogP\n",
    "from jointformer.utils.properties.smiles.sa import SA\n",
    "\n",
    "from jointformer.utils.datasets.sequence import SequenceDataset\n",
    "\n",
    "from jointformer.utils.transforms.scaler import Scaler\n",
    "\n",
    "%load_ext autoreload\n",
    "%autoreload 2"
   ]
  },
  {
   "cell_type": "code",
   "execution_count": null,
   "metadata": {},
   "outputs": [],
   "source": [
    "# parralel processing // TODO: make this into a decorator\n",
    "\n",
    "import multiprocessing as mp\n",
    "import numpy as np\n",
    "from tqdm import tqdm\n",
    "from typing import Callable, List\n",
    "\n",
    "import matplotlib.pyplot as plt\n",
    "        \n",
    "\n",
    "def apply_function_parallel(\n",
    "    fn: Callable[[str], np.ndarray],\n",
    "    data: List[str],\n",
    "    num_workers: int = 4,\n",
    "    desc: str = \"Processing\",\n",
    "    chunksize: int = 10\n",
    ") -> np.ndarray:\n",
    "    \"\"\"\n",
    "    Apply a function that takes a string and returns a numpy array in parallel.\n",
    "\n",
    "    The results from each invocation are assumed to have the same shape,\n",
    "    and they will be stacked along a new first axis.\n",
    "\n",
    "    Args:\n",
    "        fn: Function that takes a string and returns a numpy array.\n",
    "        data: List of strings to process.\n",
    "        num_workers: Number of worker processes to use (default: 4).\n",
    "        desc: Description for the tqdm progress bar.\n",
    "        chunksize: Number of tasks to assign to each worker at a time (default: 10).\n",
    "\n",
    "    Returns:\n",
    "        A numpy array stacking the individual outputs along axis 0.\n",
    "    \"\"\"\n",
    "    ctx = mp.get_context(\"spawn\")\n",
    "    with ctx.Pool(processes=num_workers) as pool:\n",
    "        results = list(tqdm(pool.imap(fn, data, chunksize=chunksize), total=len(data), desc=desc))\n",
    "    return np.stack(results, axis=0).squeeze(-1)"
   ]
  },
  {
   "cell_type": "code",
   "execution_count": 29,
   "metadata": {},
   "outputs": [],
   "source": [
    "# unify oracles and validity checks\n",
    "\n",
    "import numpy as np\n",
    "from rdkit import Chem\n",
    "from rdkit.Chem import AllChem, Crippen\n",
    "from rdkit.Chem.QED import qed\n",
    "\n",
    "from jointformer.utils.properties.smiles.sascorer import compute_sa_score\n",
    "\n",
    "import multiprocessing\n",
    "\n",
    "def smiles_to_mol(smiles):\n",
    "    return Chem.MolFromSmiles(smiles)\n",
    "\n",
    "\n",
    "def is_valid(smiles):\n",
    "    try:\n",
    "        mol = Chem.MolFromSmiles(smiles)\n",
    "        if mol is None:\n",
    "            return False\n",
    "        try:\n",
    "            Chem.SanitizeMol(mol)\n",
    "        except ValueError:\n",
    "            return False\n",
    "        return True\n",
    "    except:\n",
    "        return False\n",
    "\n",
    "def get_qed(smiles):\n",
    "    try:\n",
    "        mol = Chem.MolFromSmiles(smiles)\n",
    "        try:\n",
    "            AllChem.Kekulize(mol, clearAromaticFlags=True)\n",
    "        except:\n",
    "            pass\n",
    "        mol.UpdatePropertyCache(strict=False)\n",
    "        return float(qed(mol))\n",
    "    except:\n",
    "        return float(\"nan\")\n",
    "\n",
    "\n",
    "def get_sa(smiles):\n",
    "    try:\n",
    "        mol = Chem.MolFromSmiles(smiles)\n",
    "        try:\n",
    "            AllChem.Kekulize(mol, clearAromaticFlags=True)\n",
    "        except:\n",
    "            pass\n",
    "        mol.UpdatePropertyCache(strict=False)\n",
    "        return float(compute_sa_score(mol))\n",
    "    except:\n",
    "        return float('nan')\n",
    "\n",
    "\n",
    "def get_logp(smiles):\n",
    "    try:\n",
    "        mol = Chem.MolFromSmiles(smiles)\n",
    "        try:\n",
    "            AllChem.Kekulize(mol, clearAromaticFlags=True)\n",
    "        except:\n",
    "            pass\n",
    "        mol.UpdatePropertyCache(strict=False)\n",
    "        return float(Crippen.MolLogP(mol))\n",
    "    except:\n",
    "        return float('nan')\n",
    "\n",
    "\n",
    "class QED:\n",
    "    def __init__(self, **kwargs):\n",
    "        pass \n",
    "    \n",
    "    def __call__(self, smiles):\n",
    "        return get_qed(smiles)\n",
    "\n",
    "\n",
    "class LogP:\n",
    "    def __init__(self, **kwargs):\n",
    "        pass \n",
    "    \n",
    "    def __call__(self, smiles):\n",
    "        return get_logp(smiles)\n",
    "\n",
    "\n",
    "class SA:\n",
    "    def __init__(self, **kwargs):\n",
    "        pass \n",
    "    \n",
    "    def __call__(self, smiles):\n",
    "        return get_sa(smiles)\n"
   ]
  },
  {
   "cell_type": "code",
   "execution_count": 33,
   "metadata": {},
   "outputs": [
    {
     "name": "stderr",
     "output_type": "stream",
     "text": [
      "Computing logp: 100%|██████████| 1273104/1273104 [03:19<00:00, 6381.93it/s]\n"
     ]
    },
    {
     "data": {
      "image/png": "[encoded data removed]",
      "text/plain": [
       "<Figure size 640x480 with 1 Axes>"
      ]
     },
     "metadata": {},
     "output_type": "display_data"
    },
    {
     "name": "stdout",
     "output_type": "stream",
     "text": [
      "Dataset mean for target logp on split train: 2.995084721452451\n",
      "Dataset std for target logp on split train: 1.7325130267016382\n"
     ]
    },
    {
     "name": "stderr",
     "output_type": "stream",
     "text": [
      "Computing logp: 100%|██████████| 79568/79568 [00:12<00:00, 6355.85it/s]\n"
     ]
    },
    {
     "data": {
      "image/png": "[encoded data removed]",
      "text/plain": [
       "<Figure size 640x480 with 1 Axes>"
      ]
     },
     "metadata": {},
     "output_type": "display_data"
    },
    {
     "name": "stdout",
     "output_type": "stream",
     "text": [
      "Dataset mean for target logp on split val: 2.989551278529059\n",
      "Dataset std for target logp on split val: 1.7424291307177946\n"
     ]
    },
    {
     "name": "stderr",
     "output_type": "stream",
     "text": [
      "Computing logp: 100%|██████████| 238706/238706 [00:37<00:00, 6395.00it/s]\n"
     ]
    },
    {
     "data": {
      "image/png": "[encoded data removed]",
      "text/plain": [
       "<Figure size 640x480 with 1 Axes>"
      ]
     },
     "metadata": {},
     "output_type": "display_data"
    },
    {
     "name": "stdout",
     "output_type": "stream",
     "text": [
      "Dataset mean for target logp on split test: 3.0006065858838924\n",
      "Dataset std for target logp on split test: 1.7337439683037925\n"
     ]
    },
    {
     "name": "stderr",
     "output_type": "stream",
     "text": [
      "Computing sa: 100%|██████████| 1273104/1273104 [11:09<00:00, 1900.79it/s]\n"
     ]
    },
    {
     "data": {
      "image/png": "[encoded data removed]",
      "text/plain": [
       "<Figure size 640x480 with 1 Axes>"
      ]
     },
     "metadata": {},
     "output_type": "display_data"
    },
    {
     "name": "stdout",
     "output_type": "stream",
     "text": [
      "Dataset mean for target sa on split train: 0.7896584646658871\n",
      "Dataset std for target sa on split train: 0.08999102410090047\n"
     ]
    },
    {
     "name": "stderr",
     "output_type": "stream",
     "text": [
      "Computing sa: 100%|██████████| 79568/79568 [00:41<00:00, 1912.42it/s]\n"
     ]
    },
    {
     "data": {
      "image/png": "[encoded data removed]",
      "text/plain": [
       "<Figure size 640x480 with 1 Axes>"
      ]
     },
     "metadata": {},
     "output_type": "display_data"
    },
    {
     "name": "stdout",
     "output_type": "stream",
     "text": [
      "Dataset mean for target sa on split val: 0.7894201186406595\n",
      "Dataset std for target sa on split val: 0.0901510816800199\n"
     ]
    },
    {
     "name": "stderr",
     "output_type": "stream",
     "text": [
      "Computing sa: 100%|██████████| 238706/238706 [02:04<00:00, 1917.89it/s]\n"
     ]
    },
    {
     "data": {
      "image/png": "[encoded data removed]",
      "text/plain": [
       "<Figure size 640x480 with 1 Axes>"
      ]
     },
     "metadata": {},
     "output_type": "display_data"
    },
    {
     "name": "stdout",
     "output_type": "stream",
     "text": [
      "Dataset mean for target sa on split test: 0.7896882357376858\n",
      "Dataset std for target sa on split test: 0.09007037983768094\n"
     ]
    }
   ],
   "source": [
    "# Paths\n",
    "\n",
    "for TARGET_NAME in ['logp', 'sa']:\n",
    "\n",
    "    DATA_DIR = '/lustre/groups/aih/jointformer/icml25/data'\n",
    "    PATH_TO_DATASET_CONFIG   = 'configs/datasets/guacamol/config.json'\n",
    "\n",
    "    # Oracles\n",
    "    _dtype = 'np'\n",
    "    _verbose = False\n",
    "    if TARGET_NAME == 'qed':\n",
    "        oracle = get_qed    \n",
    "    elif TARGET_NAME == 'logp':\n",
    "        oracle = get_logp\n",
    "    elif TARGET_NAME == 'sa':\n",
    "        oracle = get_sa\n",
    "    else:\n",
    "        raise ValueError(f\"Unknown target name: {TARGET_NAME}\")\n",
    "\n",
    "    # Configs\n",
    "    dataset_config = DatasetConfig.from_config_file(PATH_TO_DATASET_CONFIG)\n",
    "\n",
    "    # Extract\n",
    "    for split in ['train', 'val', 'test']:\n",
    "        \n",
    "        dataset = AutoDataset.from_config(dataset_config, root=DATA_DIR, split=split)\n",
    "        \n",
    "        with multiprocessing.Pool(processes=4) as pool:\n",
    "            properties = list(tqdm(pool.imap(oracle, dataset.data), total=len(dataset.data), desc=f\"Computing {TARGET_NAME}\"))\n",
    "            \n",
    "        properties = np.array(properties)\n",
    "        if len(properties.shape) == 1:\n",
    "            properties = properties[:, None]\n",
    "        elif len(properties.shape) == 3:\n",
    "            properties = properties.squeeze(-1)\n",
    "        else:\n",
    "            pass\n",
    "        assert len(properties.shape) == 2 and properties.shape[0] == len(dataset.data) and properties.shape[1] == 1 and not np.isnan(properties).any()\n",
    "        \n",
    "        # plot a histogram of the properties\n",
    "        plt.hist(properties, bins=100)\n",
    "        plt.title(f\"{TARGET_NAME} on split {split}\")\n",
    "        plt.show()\n",
    "\n",
    "        print(f\"Dataset mean for target {TARGET_NAME} on split {split}:\", properties.mean())\n",
    "        print(f\"Dataset std for target {TARGET_NAME} on split {split}:\", properties.std())\n",
    "\n",
    "        _path = os.path.join(DATA_DIR, f'guacamol_{TARGET_NAME}/{split}.npz')\n",
    "        if not os.path.exists(_path):\n",
    "            os.makedirs(os.path.dirname(_path), exist_ok=True)\n",
    "        np.savez(_path, sequence=dataset.data, properties=properties)"
   ]
  },
  {
   "cell_type": "code",
   "execution_count": 34,
   "metadata": {},
   "outputs": [
    {
     "data": {
      "text/plain": [
       "array([[0.8 ],\n",
       "       [0.63],\n",
       "       [0.87],\n",
       "       ...,\n",
       "       [0.88],\n",
       "       [0.85],\n",
       "       [0.76]])"
      ]
     },
     "execution_count": 34,
     "metadata": {},
     "output_type": "execute_result"
    }
   ],
   "source": [
    "properties"
   ]
  },
  {
   "cell_type": "markdown",
   "metadata": {},
   "source": [
    "## Fine-tune"
   ]
  },
  {
   "cell_type": "code",
   "execution_count": 3,
   "metadata": {},
   "outputs": [],
   "source": [
    "# Set logging\n",
    "\n",
    "import logging\n",
    "logger = logging.getLogger()\n",
    "logger.setLevel(logging.INFO)\n",
    "\n",
    "# set seed\n",
    "SEED = 1337\n",
    "\n",
    "set_seed(SEED)\n",
    "\n",
    "# Set device\n",
    "device = torch.device('cuda:0' if torch.cuda.is_available() else 'cpu')"
   ]
  },
  {
   "cell_type": "code",
   "execution_count": 4,
   "metadata": {},
   "outputs": [],
   "source": [
    "# Configs\n",
    "\n",
    "TARGET_NAME = 'sa'\n",
    "\n",
    "OUT_DIR = f'/lustre/groups/aih/jointformer/icml25/results/conditional_sampling/{TARGET_NAME}'\n",
    "\n",
    "DATA_DIR = '/lustre/groups/aih/jointformer/icml25/data'\n",
    "PATH_TO_DATASET_CONFIG   = f'configs/datasets/guacamol_{TARGET_NAME}/config.json'\n",
    "PATH_TO_TOKENIZER_CONFIG = 'configs/tokenizers/smiles_separate_task_token/config.json'\n",
    "PATH_TO_MODEL_CONFIG = 'configs/models/jointformer_prediction_deep/config.json'\n",
    "\n",
    "#hparams\n",
    "MAX_EPOCH = '2'\n",
    "DECAY_LR = 'true'\n",
    "BATCH_SIZE = '256'\n",
    "LEARNING_RATE = '5e-4'\n",
    "WEIGHT_DECAY = '1e-1'\n",
    "POOLER_DROPOUT = '0.0'\n",
    "\n",
    "PATH_TO_MODEL_CKPT = f'/lustre/groups/aih/jointformer/results_icml25_rebuttal/conditional_sampling/{TARGET_NAME}/llama_backbone/max_epochs_{MAX_EPOCH}/decay_lr_{DECAY_LR}/batch_size_{BATCH_SIZE}/learning_rate_{LEARNING_RATE}/weight_decay_{WEIGHT_DECAY}/pooler_dropout_{POOLER_DROPOUT}/seed_0/ckpt.pt'\n",
    "\n",
    "# check if paths exist\n",
    "assert os.path.exists(PATH_TO_MODEL_CKPT), f'Path to model checkpoint does not exist: {PATH_TO_MODEL_CKPT}'\n"
   ]
  },
  {
   "cell_type": "code",
   "execution_count": 5,
   "metadata": {},
   "outputs": [
    {
     "name": "stdout",
     "output_type": "stream",
     "text": [
      "Converting target to float32.\n",
      "Converting target to float32.\n",
      "Converting target to float32.\n"
     ]
    }
   ],
   "source": [
    "# Load dataset\n",
    "\n",
    "dataset_config = DatasetConfig.from_config_file(PATH_TO_DATASET_CONFIG)\n",
    "\n",
    "train_dataset = AutoDataset.from_config(dataset_config, root=DATA_DIR, split='train')\n",
    "val_dataset = AutoDataset.from_config(dataset_config, root=DATA_DIR, split='val')\n",
    "test_dataset = AutoDataset.from_config(dataset_config, root=DATA_DIR, split='test')"
   ]
  },
  {
   "cell_type": "code",
   "execution_count": 6,
   "metadata": {},
   "outputs": [],
   "source": [
    "# Load tokenizer\n",
    "\n",
    "tokenizer_config = TokenizerConfig.from_config_file(PATH_TO_TOKENIZER_CONFIG)\n",
    "tokenizer = AutoTokenizer.from_config(tokenizer_config)"
   ]
  },
  {
   "cell_type": "code",
   "execution_count": 7,
   "metadata": {},
   "outputs": [
    {
     "data": {
      "text/plain": [
       "JointformerForDownstreamPredictionDeep(\n",
       "  (token_embedding): Embedding(596, 256)\n",
       "  (layers): ModuleList(\n",
       "    (0-7): 8 x TransformerLayer(\n",
       "      (attention_layer): Attention(\n",
       "        (qkv): Linear(in_features=256, out_features=768, bias=False)\n",
       "        (out): Linear(in_features=256, out_features=256, bias=False)\n",
       "        (relative_embedding): RotaryPositionalEmbedding()\n",
       "      )\n",
       "      (feed_forward): FeedForward(\n",
       "        (w1): Linear(in_features=256, out_features=1024, bias=False)\n",
       "        (w3): Linear(in_features=256, out_features=1024, bias=False)\n",
       "        (w2): Linear(in_features=1024, out_features=256, bias=False)\n",
       "      )\n",
       "      (attention_layer_normalization): RMSNorm()\n",
       "      (feed_forward_normalization): RMSNorm()\n",
       "    )\n",
       "  )\n",
       "  (layer_norm): RMSNorm()\n",
       "  (lm_head): Linear(in_features=256, out_features=596, bias=False)\n",
       "  (mlm_head): Linear(in_features=256, out_features=596, bias=False)\n",
       "  (physchem_head): RegressionHead(\n",
       "    (net): Sequential(\n",
       "      (0): Linear(in_features=256, out_features=256, bias=True)\n",
       "      (1): GELU(approximate='none')\n",
       "      (2): LayerNorm((256,), eps=1e-05, elementwise_affine=True)\n",
       "      (3): Linear(in_features=256, out_features=200, bias=True)\n",
       "    )\n",
       "  )\n",
       "  (prediction_head): DownstreamPredictionHeadDeep(\n",
       "    (dense): Linear(in_features=256, out_features=256, bias=True)\n",
       "    (activation_fn): GELU(approximate='none')\n",
       "    (dropout): Dropout(p=0.0, inplace=False)\n",
       "    (out_proj): Linear(in_features=256, out_features=1, bias=True)\n",
       "  )\n",
       ")"
      ]
     },
     "execution_count": 7,
     "metadata": {},
     "output_type": "execute_result"
    }
   ],
   "source": [
    "# Load model\n",
    "\n",
    "model_config = ModelConfig.from_config_file(PATH_TO_MODEL_CONFIG)\n",
    "model = AutoModel.from_config(model_config, downstream_task=\"regression\", num_tasks=1)\n",
    "model.load_pretrained(PATH_TO_MODEL_CKPT)\n",
    "model.to(device)\n",
    "model.eval()"
   ]
  },
  {
   "cell_type": "code",
   "execution_count": null,
   "metadata": {},
   "outputs": [],
   "source": [
    "import numpy as np\n",
    "\n",
    "from tqdm.auto import tqdm\n",
    "\n",
    "from jointformer.utils.chemistry import is_valid"
   ]
  },
  {
   "cell_type": "code",
   "execution_count": null,
   "metadata": {},
   "outputs": [],
   "source": [
    "BATCH_SIZE = 256\n",
    "TEMPERATURE = 1.0\n",
    "GENERATION_K = 10\n",
    "K = BATCH_SIZE * 4\n",
    "NUM_SAMPLES = 64\n",
    "\n",
    "TARGET_NAME = 'sa'\n",
    "TARGET_PROPERTY_VALUE = 0.7\n",
    "\n",
    "BEST_OF_K = True\n"
   ]
  },
  {
   "cell_type": "code",
   "execution_count": null,
   "metadata": {},
   "outputs": [
    {
     "name": "stderr",
     "output_type": "stream",
     "text": [
      "100%|██████████| 64/64 [22:02<00:00, 20.66s/it]\n"
     ]
    }
   ],
   "source": [
    "### Best-ok-K sampling\n",
    "\n",
    "# Initialize generated samples\n",
    "generated_samples = []\n",
    "\n",
    "# Get target property value\n",
    "if hasattr(train_dataset, 'target_transform'):\n",
    "    target_property_value = train_dataset.target_transform(TARGET_PROPERTY_VALUE)\n",
    "else:\n",
    "    target_property_value = TARGET_PROPERTY_VALUE\n",
    "\n",
    "# Generate samples\n",
    "for num_sample in tqdm(range(NUM_SAMPLES)):\n",
    "\n",
    "    # 1. Generate K-many unique SMILES \n",
    "    smiles = []\n",
    "    while len(smiles) < K:\n",
    "        _smiles_idx = model.generate(\n",
    "            tokenizer=tokenizer,\n",
    "            batch_size=BATCH_SIZE,\n",
    "            temperature=TEMPERATURE,\n",
    "            top_k=GENERATION_K,\n",
    "            device=device\n",
    "            ).detach().cpu()\n",
    "        _smiles = tokenizer.decode(_smiles_idx)\n",
    "        smiles.extend(_smiles)\n",
    "        smiles = list(set(smiles))\n",
    "    smiles = smiles[:K]\n",
    "\n",
    "    # 2. Compute properties with a surrogate model\n",
    "    properties = []\n",
    "    for i in range(0, len(smiles), BATCH_SIZE):\n",
    "        _batch = smiles[i:i+BATCH_SIZE]\n",
    "        _inputs = tokenizer(_batch, task='prediction')\n",
    "        _inputs.to(device)\n",
    "        _properties = model.predict(**_inputs).detach().cpu()\n",
    "        properties.extend(_properties.numpy()) \n",
    "    \n",
    "    # 3. Transform properties to scores    \n",
    "    scores = np.array(properties)\n",
    "    scores = np.abs(scores - target_property_value)\n",
    "\n",
    "    # 4. Sort by scores\n",
    "    sorted_indices = np.argsort(scores.flatten())\n",
    "    smiles = [smiles[i] for i in sorted_indices]\n",
    "\n",
    "    # 5. Add the best smiles to generated samples\n",
    "    if BEST_OF_K:\n",
    "        # select the best smiles\n",
    "        for _best_idx in range(len(smiles)):\n",
    "            _best_smiles = smiles[_best_idx]\n",
    "            if _best_smiles not in generated_samples:\n",
    "                generated_samples.append(_best_smiles)\n",
    "                break\n",
    "    else:\n",
    "        # select, if score is smaller than epsilon\n",
    "        _epsilon = 0.005\n",
    "        _samples = [smiles[i] for i in range(len(smiles)) if scores[i] < _epsilon]\n",
    "        if len(_samples) > 0:\n",
    "            generated_samples.extend(_samples)  \n",
    "        generated_samples = list(set(generated_samples))  "
   ]
  },
  {
   "cell_type": "code",
   "execution_count": null,
   "metadata": {},
   "outputs": [
    {
     "name": "stdout",
     "output_type": "stream",
     "text": [
      "MAD: 0.836\n",
      "STD: 0.112\n",
      "Validity: 1.000\n",
      "---*---\n",
      "MAE: 0.677\n"
     ]
    }
   ],
   "source": [
    "### Evaluate generated samples\n",
    "\n",
    "# Define oracle\n",
    "\n",
    "if TARGET_NAME == 'qed':\n",
    "    oracle = QED(dtype='np', verbose=False)\n",
    "elif TARGET_NAME == 'logp':\n",
    "    oracle = LogP(dtype='np', verbose=False)\n",
    "elif TARGET_NAME == 'sa':\n",
    "    oracle = SA(dtype='np', verbose=False)\n",
    "else:\n",
    "    raise ValueError(f\"Unknown target name: {TARGET_NAME}\")\n",
    "\n",
    "# Filter valid samples\n",
    "valid_samples = [sample for sample in generated_samples if is_valid(sample)]\n",
    "\n",
    "# Compute properties\n",
    "oracle_properties = oracle(valid_samples)\n",
    "\n",
    "# Calculate metrics\n",
    "\n",
    "mad = np.mean(np.abs(train_dataset.target_transform(oracle_properties) - train_dataset.target_transform(TARGET_PROPERTY_VALUE)))\n",
    "print(f'MAD: {mad:.3f}')\n",
    "std = np.std(oracle_properties)\n",
    "print(f'STD: {std:.3f}')\n",
    "validity = len(valid_samples) / len(generated_samples)\n",
    "print(f'Validity: {validity:.3f}')\n",
    "print('---*---')\n",
    "mae = np.mean(np.abs(oracle_properties - TARGET_PROPERTY_VALUE))\n",
    "print(f'MAE: {mae:.3f}')\n"
   ]
  },
  {
   "cell_type": "code",
   "execution_count": null,
   "metadata": {},
   "outputs": [
    {
     "data": {
      "text/plain": [
       "array([[3.4122899],\n",
       "       [3.397034 ],\n",
       "       [3.373155 ],\n",
       "       [3.7671711],\n",
       "       [3.4728928],\n",
       "       [3.5324028],\n",
       "       [3.4994059],\n",
       "       [3.429823 ],\n",
       "       [3.572391 ],\n",
       "       [3.7795236],\n",
       "       [5.341826 ],\n",
       "       [3.5306134],\n",
       "       [3.39616  ],\n",
       "       [3.299311 ],\n",
       "       [3.327442 ],\n",
       "       [3.6105807],\n",
       "       [3.3180609],\n",
       "       [3.4575677],\n",
       "       [3.5187552],\n",
       "       [3.7830558],\n",
       "       [3.3723736],\n",
       "       [3.4237368],\n",
       "       [3.6101234],\n",
       "       [3.4551935],\n",
       "       [3.4074912],\n",
       "       [3.4582317],\n",
       "       [3.5209086],\n",
       "       [3.7737691],\n",
       "       [3.6801121],\n",
       "       [3.5038803],\n",
       "       [3.9969177],\n",
       "       [3.6283746],\n",
       "       [3.5416377],\n",
       "       [3.4621253],\n",
       "       [3.4263709],\n",
       "       [3.5331814],\n",
       "       [3.2201395],\n",
       "       [3.4046137],\n",
       "       [3.3145757],\n",
       "       [3.473243 ],\n",
       "       [3.488173 ],\n",
       "       [3.3659184],\n",
       "       [3.4335473],\n",
       "       [3.475624 ],\n",
       "       [3.3146908],\n",
       "       [3.3627005],\n",
       "       [3.423538 ],\n",
       "       [3.3893688],\n",
       "       [3.4208577],\n",
       "       [3.537182 ],\n",
       "       [3.394529 ],\n",
       "       [3.7349548],\n",
       "       [3.4771638],\n",
       "       [3.3967772],\n",
       "       [3.6357148],\n",
       "       [3.4119532],\n",
       "       [3.404015 ],\n",
       "       [3.4797552],\n",
       "       [3.2749188],\n",
       "       [3.451376 ],\n",
       "       [3.4189684],\n",
       "       [3.4773493],\n",
       "       [3.4643328]], dtype=float32)"
      ]
     },
     "execution_count": 32,
     "metadata": {},
     "output_type": "execute_result"
    }
   ],
   "source": [
    "oracle_properties"
   ]
  },
  {
   "cell_type": "code",
   "execution_count": null,
   "metadata": {},
   "outputs": [],
   "source": [
    "# ZINC dataset and MOSES benchmark\n",
    "\n",
    "2+2"
   ]
  },
  {
   "cell_type": "code",
   "execution_count": 7,
   "metadata": {},
   "outputs": [],
   "source": [
    "from jointformer.utils.properties.auto import AutoTarget\n",
    "import argparse\n",
    "import multiprocessing as mp\n",
    "import numpy as np\n",
    "import os\n",
    "import math\n",
    "\n",
    "from jointformer.utils.chemistry import is_valid\n"
   ]
  },
  {
   "cell_type": "code",
   "execution_count": 16,
   "metadata": {},
   "outputs": [],
   "source": [
    "split = 'train'\n",
    "DATA_PATH = f'/lustre/groups/aih/jointformer/icml25/data/moses/{split}.txt'\n",
    "TARGET = 'physchem'\n",
    "NUM_WORKERS = 4\n",
    "\n",
    "oracle = AutoTarget.from_target_label(TARGET, dtype='np')\n"
   ]
  },
  {
   "cell_type": "code",
   "execution_count": 17,
   "metadata": {},
   "outputs": [],
   "source": [
    "with open(DATA_PATH) as f:\n",
    "    data = f.readlines()\n",
    "data = data[1:]  # Skip header\n",
    "# remove part after comma \n",
    "data = [line.split(',')[0] for line in data]"
   ]
  },
  {
   "cell_type": "code",
   "execution_count": 18,
   "metadata": {},
   "outputs": [
    {
     "name": "stdout",
     "output_type": "stream",
     "text": [
      "Number of SMILES in train set: 1584663\n"
     ]
    }
   ],
   "source": [
    "print(f\"Number of SMILES in {split} set: {len(data)}\")"
   ]
  },
  {
   "cell_type": "code",
   "execution_count": 19,
   "metadata": {},
   "outputs": [],
   "source": [
    "valid_data = [smiles for smiles in data if is_valid(smiles)]"
   ]
  },
  {
   "cell_type": "code",
   "execution_count": 20,
   "metadata": {},
   "outputs": [
    {
     "data": {
      "text/plain": [
       "(1584663, 1584663)"
      ]
     },
     "execution_count": 20,
     "metadata": {},
     "output_type": "execute_result"
    }
   ],
   "source": [
    "len(data), len(valid_data)"
   ]
  },
  {
   "cell_type": "code",
   "execution_count": 21,
   "metadata": {},
   "outputs": [
    {
     "name": "stderr",
     "output_type": "stream",
     "text": [
      "Calculating target data: 100%|██████████| 396166/396166 [2:53:11<00:00, 38.12it/s]  \n",
      "Calculating target data: 100%|██████████| 396165/396165 [2:54:35<00:00, 37.82it/s]\n",
      "Calculating target data: 100%|██████████| 396166/396166 [2:54:42<00:00, 37.79it/s]\n",
      "Calculating target data: 100%|██████████| 396166/396166 [2:55:03<00:00, 37.72it/s]\n"
     ]
    }
   ],
   "source": [
    "def worker(oracle, chunk, id, ret_dict):\n",
    "    ret_dict[id] = oracle(chunk)\n",
    "    \n",
    "chunk_size = math.ceil(len(data) / 4)\n",
    "manager = mp.Manager()\n",
    "ret_dict = manager.dict()\n",
    "processes = []\n",
    "for i in range(4):\n",
    "    chunk = data[i*chunk_size: i*chunk_size + chunk_size]\n",
    "    p = mp.Process(target=worker, args=(oracle, chunk, i, ret_dict))\n",
    "    p.start()\n",
    "    processes.append(p)\n",
    "for p in processes:\n",
    "    p.join()\n",
    "\n",
    "ret = np.concatenate([v for _, v in sorted(ret_dict.items())], axis=0)\n"
   ]
  },
  {
   "cell_type": "code",
   "execution_count": 22,
   "metadata": {},
   "outputs": [
    {
     "name": "stdout",
     "output_type": "stream",
     "text": [
      "Saving results to /lustre/groups/aih/jointformer/icml25/data/moses/train.txt of shape (1584663, 200)\n"
     ]
    }
   ],
   "source": [
    "assert len(ret) == len(data)\n",
    "assert len(ret.shape) == 2\n",
    "assert ret.shape[0] == len(data)\n",
    "assert ret.shape[1] == 200\n",
    "assert not np.isnan(ret).any()\n",
    "\n",
    "# Save results\n",
    "print(f\"Saving results to {DATA_PATH} of shape {ret.shape}\")\n",
    "np.savez(f'/lustre/groups/aih/jointformer/icml25/data/moses/{split}.npz', sequence=data, properties=ret)"
   ]
  },
  {
   "cell_type": "code",
   "execution_count": 9,
   "metadata": {},
   "outputs": [],
   "source": [
    "model = model.to_guacamole_generator(tokenizer, 16, 1.0, 10, device)"
   ]
  },
  {
   "cell_type": "code",
   "execution_count": 11,
   "metadata": {},
   "outputs": [
    {
     "name": "stderr",
     "output_type": "stream",
     "text": [
      "Generating samples: 100%|██████████| 1/1 [00:02<00:00,  2.60s/it]\n"
     ]
    },
    {
     "data": {
      "text/plain": [
       "['CCc1ccc(-n2c(C)nc3c(-c4ccccc4NC(=O)Cc4ccccc4)nccc32)cc1',\n",
       " 'Cc1cccc(C)c1NC(=O)Cn1c(C(=O)O)cc2ccccc21',\n",
       " 'COc1ccc2c(c1)C(CC(C)=O)N(c1cccc(F)c1)O2',\n",
       " 'Nc1ncnc2c1ncn2CC#CCCCC(C=O)NC(=O)C1NC2c3c(ccc(CO)c3O)C(=O)N2C1',\n",
       " 'Clc1ccc(CN2CCN(c3ccccc3Cl)CC2)c(Cl)c1',\n",
       " 'O=C(CCCC1CCCCC1)NCCCCCNc1c2c(nc3cc(Cl)ccc13)CCCC2',\n",
       " 'Cc1cnccc1N1CCN(S(=O)(=O)c2c[nH]c3ccc(Br)cc23)CC1',\n",
       " 'CN1C2CCC1C1C(=O)N(CC34CC5CC(CC(CCOC(=O)c6ccccc6)(C5)C3)C4)C(=O)C21',\n",
       " 'CC(C)(C)c1ccc(-c2nnc(NCCCCCC(=O)NO)s2)cc1',\n",
       " 'CC(C)c1cc(-c2nc(-c3cccc(Cl)c3)no2)cc(C(C)C)c1O',\n",
       " 'NCC1(O)COc2ccc(-c3coc4cc(O)ccc4c3=O)cc2O1',\n",
       " 'CN(C)Cc1cc(Nc2cc(C(F)(F)F)nc(-c3ccccc3)n2)ccc1O',\n",
       " 'O=C(c1cccs1)N1CCC(N2CC3c4cccc(=O)n4CC(C)(C2)C3)C1',\n",
       " 'O=C(NN=CC1CC=CCC1)c1cc2ccccc2o1',\n",
       " 'COc1cc(NC2CC2)n2ncnc2n1',\n",
       " 'Cc1nnc(-c2ccncc2)nc1N1CCc2ccccc2C1']"
      ]
     },
     "execution_count": 11,
     "metadata": {},
     "output_type": "execute_result"
    }
   ],
   "source": [
    "model.generate(number_samples=16)"
   ]
  },
  {
   "cell_type": "code",
   "execution_count": null,
   "metadata": {},
   "outputs": [],
   "source": []
  }
 ],
 "metadata": {
  "kernelspec": {
   "display_name": "Python 3 (ipykernel)",
   "language": "python",
   "name": "python3"
  },
  "language_info": {
   "codemirror_mode": {
    "name": "ipython",
    "version": 3
   },
   "file_extension": ".py",
   "mimetype": "text/x-python",
   "name": "python",
   "nbconvert_exporter": "python",
   "pygments_lexer": "ipython3",
   "version": "3.9.20"
  }
 },
 "nbformat": 4,
 "nbformat_minor": 2
}
