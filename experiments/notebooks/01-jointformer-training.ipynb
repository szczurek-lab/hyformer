{
 "cells": [
  {
   "cell_type": "markdown",
   "metadata": {},
   "source": [
    "# Hyformer Training\n",
    "\n",
    "This notebook shows how to train Hyformer. "
   ]
  },
  {
   "cell_type": "code",
   "execution_count": 41,
   "metadata": {},
   "outputs": [
    {
     "name": "stdout",
     "output_type": "stream",
     "text": [
      "The autoreload extension is already loaded. To reload it, use:\n",
      "  %reload_ext autoreload\n"
     ]
    }
   ],
   "source": [
    "# Imports\n",
    "\n",
    "import os\n",
    "\n",
    "from hyformer.configs.dataset import DatasetConfig\n",
    "from hyformer.configs.tokenizer import TokenizerConfig\n",
    "from hyformer.configs.model import ModelConfig\n",
    "from hyformer.configs.trainer import TrainerConfig\n",
    "\n",
    "from hyformer.utils.datasets.auto import AutoDataset\n",
    "from hyformer.utils.tokenizers.auto import AutoTokenizer\n",
    "from hyformer.models.auto import AutoModel\n",
    "from hyformer.trainers.trainer import Trainer\n",
    "\n",
    "from hyformer.utils.runtime import set_seed\n",
    "\n",
    "%load_ext autoreload\n",
    "%autoreload 2"
   ]
  },
  {
   "cell_type": "code",
   "execution_count": 42,
   "metadata": {},
   "outputs": [],
   "source": [
    "# Set working directory of the project\n",
    "\n",
    "REPOSITORY_DIR = '/home/adamizdebski/projects/hyformer'\n",
    "os.chdir(REPOSITORY_DIR)"
   ]
  },
  {
   "cell_type": "code",
   "execution_count": 43,
   "metadata": {},
   "outputs": [],
   "source": [
    "# Configs\n",
    "\n",
    "DATA_DIR = '/home/adamizdebski/projects/hyformer/data/'\n",
    "OUTPUT_DIR = '/home/adamizdebski/projects/hyformer/results/finetune'\n",
    "\n",
    "PATH_TO_DATASET_CONFIG   = '/home/adamizdebski/projects/hyformer/configs/datasets/hi/drd2/config.json'\n",
    "PATH_TO_TOKENIZER_CONFIG = '/home/adamizdebski/projects/hyformer/configs/tokenizers/smiles_separate_task_token/config.json'\n",
    "PATH_TO_MODEL_CONFIG = '/home/adamizdebski/projects/hyformer/configs/models/hyformer_v2_prediction/config.json'\n",
    "PATH_TO_TRAINER_CONFIG = '/home/adamizdebski/projects/hyformer/configs/trainers/test/config.json'"
   ]
  },
  {
   "cell_type": "code",
   "execution_count": 44,
   "metadata": {},
   "outputs": [],
   "source": [
    "set_seed(1337)"
   ]
  },
  {
   "cell_type": "code",
   "execution_count": 45,
   "metadata": {},
   "outputs": [],
   "source": [
    "# Test Datsaset\n",
    "\n",
    "dataset_config = DatasetConfig.from_config_file(PATH_TO_DATASET_CONFIG)\n",
    "tokenizer_config = TokenizerConfig.from_config_file(PATH_TO_TOKENIZER_CONFIG)\n",
    "\n",
    "train_dataset = AutoDataset.from_config(dataset_config, root=DATA_DIR, split='train')\n",
    "val_dataset = AutoDataset.from_config(dataset_config, root=DATA_DIR, split='val')\n",
    "test_dataset = AutoDataset.from_config(dataset_config, root=DATA_DIR, split='test')\n",
    "\n",
    "tokenizer = AutoTokenizer.from_config(tokenizer_config)"
   ]
  },
  {
   "cell_type": "code",
   "execution_count": 46,
   "metadata": {},
   "outputs": [
    {
     "name": "stdout",
     "output_type": "stream",
     "text": [
      "number of parameters: 6.72M\n"
     ]
    }
   ],
   "source": [
    "# Init Hyformer\n",
    "\n",
    "model_config = ModelConfig.from_config_file(PATH_TO_MODEL_CONFIG)\n",
    "model = AutoModel.from_config(model_config, downstream_task=dataset_config.prediction_task_type, num_prediction_tasks=dataset_config.num_prediction_tasks, hidden_dim=256)\n",
    "# model.load_pretrained('ckpt.pt')"
   ]
  },
  {
   "cell_type": "code",
   "execution_count": 47,
   "metadata": {},
   "outputs": [
    {
     "name": "stdout",
     "output_type": "stream",
     "text": [
      "using fused AdamW: False\n"
     ]
    }
   ],
   "source": [
    "\n",
    "trainer_config = TrainerConfig.from_config_file(PATH_TO_TRAINER_CONFIG)\n",
    "trainer = Trainer(\n",
    "    config=trainer_config,\n",
    "    model=model,\n",
    "    train_dataset=train_dataset,\n",
    "    val_dataset=val_dataset,\n",
    "    test_dataset=test_dataset,\n",
    "    tokenizer=tokenizer,\n",
    "    device='cuda:0',\n",
    "    seed=1337,\n",
    "    test_metric=dataset_config.test_metric\n",
    "    )"
   ]
  },
  {
   "cell_type": "code",
   "execution_count": 48,
   "metadata": {},
   "outputs": [],
   "source": [
    "trainer._init_data_loaders()"
   ]
  },
  {
   "cell_type": "code",
   "execution_count": 55,
   "metadata": {},
   "outputs": [
    {
     "name": "stdout",
     "output_type": "stream",
     "text": [
      "Testing model with metric prc_auc...\n"
     ]
    },
    {
     "data": {
      "text/plain": [
       "0.6584794214696377"
      ]
     },
     "execution_count": 55,
     "metadata": {},
     "output_type": "execute_result"
    }
   ],
   "source": [
    "trainer.test()"
   ]
  },
  {
   "cell_type": "code",
   "execution_count": 54,
   "metadata": {},
   "outputs": [
    {
     "data": {
      "text/plain": [
       "'prc_auc'"
      ]
     },
     "execution_count": 54,
     "metadata": {},
     "output_type": "execute_result"
    }
   ],
   "source": [
    "dataset_config.test_metric"
   ]
  },
  {
   "cell_type": "code",
   "execution_count": 11,
   "metadata": {},
   "outputs": [
    {
     "name": "stdout",
     "output_type": "stream",
     "text": [
      "tensor([[ 1.7938e-01,  6.2100e-01,  4.1589e-01, -8.7854e-01, -5.4776e-01,\n",
      "         -2.6689e-02,  1.8406e-01, -1.3317e-01,  3.2801e-02, -7.4903e-01,\n",
      "          6.2528e-02,  7.4672e-01, -3.8328e-01, -9.9888e-01,  8.3748e-02,\n",
      "         -5.1927e-01,  4.2134e-01, -1.6152e-01, -2.1093e-01, -2.2474e-01,\n",
      "         -1.6463e-01,  4.1958e-01,  6.0405e-01, -1.6488e-01,  6.1693e-01,\n",
      "          2.1958e-02, -5.8056e-01,  2.6150e-02, -7.0434e-01,  9.4427e-01,\n",
      "         -6.8019e-01, -3.3226e-01, -3.7340e-01, -3.2278e-01,  4.2227e-01,\n",
      "         -8.4276e-01, -3.5122e-01,  4.8739e-01,  5.8796e-01, -5.6082e-01,\n",
      "         -8.7024e-01, -3.6497e-01, -1.2079e-01, -4.1559e-01,  3.4476e-01,\n",
      "         -1.3307e-01,  3.8978e-01, -2.1380e-01,  7.2153e-01,  5.5799e-01,\n",
      "          1.3965e-01,  3.2980e-01, -5.0698e-01, -7.1141e-03,  5.0818e-01,\n",
      "          4.8350e-01, -1.0274e-01, -8.4063e-01,  3.3236e-01, -1.4932e-01,\n",
      "          4.2687e-01,  3.7131e-01,  5.5743e-02, -6.2024e-01, -4.2108e-01,\n",
      "         -6.0014e-01,  1.2281e-01, -1.5386e-01,  3.3461e-01,  7.9454e-02,\n",
      "         -6.4677e-01, -5.2089e-01,  3.1711e-02,  1.3076e-02,  8.0760e-01,\n",
      "          2.2669e-01, -1.7337e-01, -1.4751e-02,  3.8508e-01,  2.2924e-01,\n",
      "         -5.3091e-01,  5.5577e-01,  8.2575e-01,  4.2608e-02,  5.4938e-01,\n",
      "         -1.0830e-01,  2.8003e-01, -5.2406e-01,  7.4349e-01, -1.8500e-01,\n",
      "         -1.0579e-01, -3.9972e-01, -9.5394e-02,  3.1265e-02,  4.6183e-01,\n",
      "         -2.7113e-01,  3.0625e-01, -3.2780e-01, -3.5324e-01, -7.2557e-01,\n",
      "          4.3281e-01, -5.1830e-01, -1.0274e+00, -2.3427e-01,  4.2094e-01,\n",
      "          1.8468e-01, -5.7228e-02,  5.0120e-02,  1.7876e-01, -1.0490e-01,\n",
      "         -7.8502e-01, -2.1708e-01, -1.0746e-01, -3.7780e-01,  2.3215e-01,\n",
      "          8.4226e-03, -9.6917e-02,  3.8276e-01, -3.0986e-01,  2.6786e-01,\n",
      "         -1.7408e-01,  1.2673e-01, -9.3878e-01,  8.4576e-01,  1.1526e-01,\n",
      "          2.8174e-01, -2.4094e-01,  1.5765e-01,  4.2056e-01,  5.6506e-01,\n",
      "          6.1352e-01, -2.8338e-01,  2.3294e-04,  1.0193e-01,  3.6026e-01,\n",
      "         -1.4823e-01,  1.2969e-01, -2.7344e-01, -2.6285e-02, -9.6688e-01,\n",
      "         -5.0540e-01,  9.3905e-01,  1.8316e-01,  4.7305e-01,  5.9483e-01,\n",
      "          4.1281e-03,  8.9423e-02,  8.6977e-02, -4.3867e-01,  1.1225e-01,\n",
      "         -2.2222e-01, -1.4469e-01,  4.8794e-01,  9.9635e-01,  3.2298e-01,\n",
      "         -1.3884e-01, -5.5883e-01, -5.8903e-01, -2.6206e-01, -6.7458e-01,\n",
      "         -7.7357e-01, -3.0336e-01, -1.5212e-01,  2.4768e-01, -9.5149e-02,\n",
      "         -6.3898e-01, -1.0244e-01,  9.7918e-02,  6.9676e-01, -2.8370e-01,\n",
      "          5.5898e-02, -5.4611e-01, -3.1313e-01, -4.3139e-01,  5.4660e-01,\n",
      "         -5.6388e-01,  2.9731e-01, -2.8817e-01,  6.0013e-01, -1.4575e-01,\n",
      "         -4.8705e-01, -1.2701e-01, -4.1541e-01, -6.5405e-01, -5.8328e-01,\n",
      "         -5.8763e-03, -4.9732e-01, -4.4912e-01, -6.6531e-01, -5.7864e-01,\n",
      "          7.4581e-01, -3.9755e-01,  3.3519e-01, -2.3528e-01, -1.7656e-02,\n",
      "          1.0609e+00,  4.6146e-02, -1.1242e-01,  2.5665e-01,  5.3801e-01,\n",
      "         -3.8132e-02, -9.4939e-02,  2.3129e-01, -3.6760e-01, -3.6571e-01,\n",
      "         -3.6690e-01, -2.2243e-01,  5.0574e-01, -1.5772e-01, -6.6467e-02,\n",
      "          4.7458e-01,  2.3665e-01, -2.9064e-01,  5.8701e-01, -1.0644e+00,\n",
      "          4.1144e-01, -3.4430e-01,  2.5131e-01,  5.5695e-01, -8.9167e-01,\n",
      "          4.8721e-02, -1.0687e+00, -2.9819e-02,  2.9259e-01, -6.4566e-03,\n",
      "         -3.3604e-02, -2.4621e-02, -3.8729e-01, -4.1380e-01, -6.1755e-01,\n",
      "          3.8300e-01, -1.6630e-01,  2.3039e-01,  8.1570e-01,  2.1813e-01,\n",
      "          2.6193e-01, -1.3787e-01, -3.5977e-01,  2.2677e-01,  4.0889e-01,\n",
      "         -4.4105e-01, -3.1929e-01, -1.1722e+00,  5.0489e-01, -6.2467e-01,\n",
      "          9.3674e-01, -2.1177e-01,  2.2332e-01,  1.0242e-01, -5.7969e-01,\n",
      "          7.7858e-01, -8.0590e-02, -7.4048e-02, -1.7969e-02, -6.5377e-02,\n",
      "         -5.6431e-02],\n",
      "        [ 1.8052e-01,  9.8512e-02, -1.0782e+00, -5.1021e-01, -9.8304e-02,\n",
      "         -5.2838e-01,  4.1504e-01,  1.9077e-01, -1.6857e-01,  9.6788e-01,\n",
      "          6.5508e-02, -6.3457e-01,  9.8735e-02, -3.6996e-01,  4.0069e-01,\n",
      "         -2.0474e-01, -6.8938e-01,  1.4254e-01,  7.5002e-03,  9.3685e-01,\n",
      "         -2.7231e-01,  4.1077e-01,  3.2659e-01, -3.6757e-01, -4.4325e-01,\n",
      "          2.3851e-01, -6.0209e-01, -1.9933e-01,  3.4403e-02,  1.7412e-01,\n",
      "          1.3354e-01,  6.1298e-01, -4.8449e-01,  5.3981e-01,  3.5251e-01,\n",
      "         -7.0643e-01,  3.7895e-01, -2.3327e-01, -2.0707e-01, -3.0302e-01,\n",
      "         -1.2891e-01, -3.4024e-01, -2.1841e-01,  4.7479e-01,  5.7694e-01,\n",
      "          7.8745e-01, -2.7462e-01,  1.1930e-01,  2.5487e-01, -1.9613e-01,\n",
      "          3.2578e-01, -1.3303e-01, -2.7326e-01,  6.4235e-01, -4.2963e-01,\n",
      "          3.2860e-02,  9.1660e-01, -9.5535e-02,  8.3655e-01,  3.1741e-01,\n",
      "         -1.7989e-01, -3.6931e-01,  1.4522e-01,  2.3780e-01,  9.6569e-01,\n",
      "         -7.7863e-01,  5.8792e-01, -7.5858e-01,  6.0404e-02,  3.7977e-01,\n",
      "          9.5179e-02,  3.7110e-02,  1.2480e-01, -4.0935e-01, -3.6034e-01,\n",
      "          3.6774e-03,  3.7256e-01, -4.5064e-01, -4.8460e-01, -5.7954e-01,\n",
      "          7.6839e-02, -2.4689e-01,  3.4897e-01, -2.4101e-01, -5.4208e-01,\n",
      "          1.8355e-01, -1.4883e-01,  5.7160e-02, -1.8171e-01,  3.8878e-01,\n",
      "         -5.4155e-01, -4.3872e-01, -4.0094e-01,  1.4134e-01, -7.8380e-01,\n",
      "          6.0695e-01,  6.0326e-01,  8.8489e-02,  6.4301e-01, -1.5416e-01,\n",
      "         -2.9191e-01,  4.1312e-01,  8.6229e-01,  6.9656e-01,  1.5353e-01,\n",
      "         -6.2860e-01,  4.0978e-01,  9.6169e-02,  2.9038e-01, -1.6781e-01,\n",
      "          1.1700e-01, -4.8500e-01,  3.1864e-01, -2.2239e-01, -2.5674e-01,\n",
      "          3.9252e-01, -6.8440e-01, -5.0751e-02,  1.4929e-01, -4.6827e-02,\n",
      "         -7.2067e-03, -1.6844e-02, -2.6572e-01, -9.1095e-02, -3.9851e-01,\n",
      "         -7.3714e-01,  5.8824e-01,  5.6851e-01, -1.0978e-01,  7.4201e-03,\n",
      "          4.8613e-01, -4.7403e-01, -9.1379e-02, -6.6343e-01,  6.8223e-01,\n",
      "          5.4128e-02, -2.8086e-01, -5.7707e-02,  5.9747e-01,  5.4564e-01,\n",
      "          2.1002e-01,  1.0217e+00, -4.0728e-02, -1.2636e-01,  4.5451e-02,\n",
      "          4.3204e-01,  2.9963e-01,  2.9521e-01, -1.1401e+00, -6.7401e-03,\n",
      "         -3.7080e-01, -7.4741e-01, -3.7728e-01,  1.1363e-01,  4.0333e-01,\n",
      "         -7.4877e-01, -2.2348e-01,  2.6737e-01,  9.9015e-02, -2.7266e-01,\n",
      "         -4.8419e-01,  9.1543e-01, -2.1344e-01, -3.4752e-02, -6.5139e-01,\n",
      "          3.7821e-02, -4.1285e-01, -1.0749e+00, -5.3660e-01,  1.3686e-01,\n",
      "         -4.5321e-01,  4.6653e-01,  3.0308e-01, -7.3592e-02, -4.0047e-01,\n",
      "          3.2433e-01, -5.7021e-02,  1.1252e+00, -2.1390e-01, -2.2526e-01,\n",
      "          4.6525e-01,  2.4497e-01, -2.5474e-01,  2.1394e-01, -2.2336e-01,\n",
      "          3.0420e-01, -3.1444e-01, -6.2133e-01,  4.4156e-01, -4.3576e-02,\n",
      "         -3.6482e-02,  9.4084e-02, -5.6921e-01, -5.6038e-02, -6.6179e-01,\n",
      "         -3.0373e-01, -2.6629e-01,  3.5571e-01,  1.0810e-01, -1.0632e-01,\n",
      "         -6.8081e-01,  5.2237e-01,  1.8836e-01,  5.8533e-01,  3.1019e-01,\n",
      "          4.2716e-01, -7.0941e-02,  5.9650e-01, -5.0426e-01, -1.6927e-01,\n",
      "         -8.7196e-01,  2.4241e-01, -4.3118e-01,  1.9476e-01,  3.0723e-01,\n",
      "          3.4031e-01, -2.2875e-01, -1.0383e-01,  1.1331e-01,  4.1492e-01,\n",
      "         -8.6432e-02, -5.8164e-02,  3.6454e-01, -2.4108e-01, -3.0972e-01,\n",
      "         -3.1141e-01,  7.2335e-01, -1.0823e-01, -3.6234e-01,  1.4127e-01,\n",
      "          1.0831e+00, -8.0567e-01, -1.6241e-01, -3.6200e-01,  1.6313e-01,\n",
      "         -8.3475e-02, -2.3141e-01, -3.5547e-01,  8.5647e-02, -1.8210e-01,\n",
      "         -4.8869e-01, -1.9950e-02, -2.6891e-01, -4.0326e-01, -7.0754e-02,\n",
      "         -5.2045e-01, -2.9476e-01, -2.3470e-01, -8.9949e-01,  5.7343e-01,\n",
      "         -2.3465e-01, -5.2014e-01, -6.3216e-01,  8.8875e-02, -2.4895e-01,\n",
      "          8.8933e-01]], device='cuda:0', grad_fn=<AddmmBackward0>)\n"
     ]
    }
   ],
   "source": [
    "import torch \n",
    "\n",
    "trainer._init_data_loaders()\n",
    "\n",
    "batch = next(iter(trainer.train_loader))\n",
    "batch.to('cuda')\n",
    "model.to('cuda')\n",
    "batch['task'] = 'mlm'\n",
    "outputs = model(**batch, context=torch.randn(trainer_config.batch_size, 512).to('cuda'))"
   ]
  },
  {
   "cell_type": "code",
   "execution_count": 22,
   "metadata": {},
   "outputs": [],
   "source": [
    "inputs = tokenizer([train_dataset[idx] for idx in range(2)], task='generation')\n",
    "inputs = inputs.to('cuda')\n",
    "model_outputs = model.get_loss(**inputs)"
   ]
  },
  {
   "cell_type": "code",
   "execution_count": 28,
   "metadata": {},
   "outputs": [
    {
     "data": {
      "text/plain": [
       "dict_keys(['input_ids', 'attention_mask', 'task', 'input_labels', 'properties'])"
      ]
     },
     "execution_count": 28,
     "metadata": {},
     "output_type": "execute_result"
    }
   ],
   "source": [
    "inputs.keys()"
   ]
  },
  {
   "cell_type": "code",
   "execution_count": 24,
   "metadata": {},
   "outputs": [
    {
     "data": {
      "text/plain": [
       "{'input_ids': tensor([[605, 603, 453,  55,   2, 602, 602, 602, 602, 602, 602, 602, 602, 602,\n",
       "          602, 602, 602, 602, 602, 602, 602, 602, 602, 602, 602, 602, 602, 602,\n",
       "          602, 602, 602, 602, 602, 602, 602, 602, 602, 602, 602, 602, 602, 602,\n",
       "          602, 602, 602, 602, 602, 602, 602, 602, 602, 602, 602, 602, 602, 602,\n",
       "          602, 602, 602, 602, 602, 602, 602, 602, 602, 602, 602, 602, 602, 602,\n",
       "          602, 602, 602, 602, 602, 602, 602, 602, 602, 602, 602, 602, 602, 602,\n",
       "          602, 602, 602, 602, 602, 602, 602, 602, 602, 602, 602, 602, 602, 602,\n",
       "          602, 602, 602, 602, 602, 602, 602, 602, 602, 602, 602, 602, 602, 602,\n",
       "          602, 602, 602, 602, 602, 602, 602, 602, 602, 602, 602, 602, 602, 602,\n",
       "          602, 602]]),\n",
       " 'attention_mask': tensor([[ True,  True,  True,  True,  True, False, False, False, False, False,\n",
       "          False, False, False, False, False, False, False, False, False, False,\n",
       "          False, False, False, False, False, False, False, False, False, False,\n",
       "          False, False, False, False, False, False, False, False, False, False,\n",
       "          False, False, False, False, False, False, False, False, False, False,\n",
       "          False, False, False, False, False, False, False, False, False, False,\n",
       "          False, False, False, False, False, False, False, False, False, False,\n",
       "          False, False, False, False, False, False, False, False, False, False,\n",
       "          False, False, False, False, False, False, False, False, False, False,\n",
       "          False, False, False, False, False, False, False, False, False, False,\n",
       "          False, False, False, False, False, False, False, False, False, False,\n",
       "          False, False, False, False, False, False, False, False, False, False,\n",
       "          False, False, False, False, False, False, False, False]]),\n",
       " 'task': 'generation',\n",
       " 'input_labels': tensor([[-100,  453,   55,    2, -100, -100, -100, -100, -100, -100, -100, -100,\n",
       "          -100, -100, -100, -100, -100, -100, -100, -100, -100, -100, -100, -100,\n",
       "          -100, -100, -100, -100, -100, -100, -100, -100, -100, -100, -100, -100,\n",
       "          -100, -100, -100, -100, -100, -100, -100, -100, -100, -100, -100, -100,\n",
       "          -100, -100, -100, -100, -100, -100, -100, -100, -100, -100, -100, -100,\n",
       "          -100, -100, -100, -100, -100, -100, -100, -100, -100, -100, -100, -100,\n",
       "          -100, -100, -100, -100, -100, -100, -100, -100, -100, -100, -100, -100,\n",
       "          -100, -100, -100, -100, -100, -100, -100, -100, -100, -100, -100, -100,\n",
       "          -100, -100, -100, -100, -100, -100, -100, -100, -100, -100, -100, -100,\n",
       "          -100, -100, -100, -100, -100, -100, -100, -100, -100, -100, -100, -100,\n",
       "          -100, -100, -100, -100, -100, -100, -100]]),\n",
       " 'properties': None}"
      ]
     },
     "execution_count": 24,
     "metadata": {},
     "output_type": "execute_result"
    }
   ],
   "source": [
    "smiles = 'ClC[C]'\n",
    "tokenizer(smiles, task='generation')"
   ]
  },
  {
   "cell_type": "code",
   "execution_count": 29,
   "metadata": {},
   "outputs": [
    {
     "data": {
      "text/plain": [
       "'[BOS]'"
      ]
     },
     "execution_count": 29,
     "metadata": {},
     "output_type": "execute_result"
    }
   ],
   "source": [
    "tokenizer.tokenizer.cls_token"
   ]
  },
  {
   "cell_type": "code",
   "execution_count": 37,
   "metadata": {},
   "outputs": [
    {
     "data": {
      "text/plain": [
       "{'unk_token': '[UNK]',\n",
       " 'sep_token': '[EOS]',\n",
       " 'pad_token': '[PAD]',\n",
       " 'cls_token': '[BOS]',\n",
       " 'mask_token': '[MASK]',\n",
       " 'additional_special_tokens': ['[GEN]', '[PRED]', '[REC]']}"
      ]
     },
     "execution_count": 37,
     "metadata": {},
     "output_type": "execute_result"
    }
   ],
   "source": [
    "tokenizer.tokenizer.special_tokens_map"
   ]
  },
  {
   "cell_type": "code",
   "execution_count": null,
   "metadata": {},
   "outputs": [],
   "source": []
  }
 ],
 "metadata": {
  "kernelspec": {
   "display_name": "hyformer-experiments",
   "language": "python",
   "name": "python3"
  },
  "language_info": {
   "codemirror_mode": {
    "name": "ipython",
    "version": 3
   },
   "file_extension": ".py",
   "mimetype": "text/x-python",
   "name": "python",
   "nbconvert_exporter": "python",
   "pygments_lexer": "ipython3",
   "version": "3.9.19"
  }
 },
 "nbformat": 4,
 "nbformat_minor": 2
}
