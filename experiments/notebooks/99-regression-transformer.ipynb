{
 "cells": [
  {
   "cell_type": "markdown",
   "metadata": {},
   "source": [
    "# Regression Transformer Example \n",
    "\n",
    "This notebook executes unconditional generation and embedding extraction with Regression Transformer [1].\n",
    "\n",
    "[1] Born, J. and Manica, M. Regression transformer enables concurrent sequence regression and generation for molecular language modelling.\n",
    "Nature Machine Intelligence, 5(4):432–444, 2023."
   ]
  },
  {
   "cell_type": "code",
   "execution_count": 1,
   "metadata": {},
   "outputs": [],
   "source": [
    "from jointformer.configs.model import ModelConfig\n",
    "from jointformer.models.auto import AutoModel\n",
    "%load_ext autoreload\n",
    "%autoreload 2"
   ]
  },
  {
   "cell_type": "code",
   "execution_count": 2,
   "metadata": {},
   "outputs": [],
   "source": [
    "path_to_model_ckpt ='qed'\n",
    "path_to_model_config = '../../configs/models/regression_transformer'\n",
    "chembl_training_file = '/Users/pankhilgawade/Downloads/guacamol_v1_train.smiles'\n",
    "seed_dataset_file = '/Users/pankhilgawade/jointformer/chembl_smiles_eval.txt'\n",
    "\n",
    "temperature = 1.0\n",
    "top_k = None\n",
    "device = 'cpu'\n",
    "fraction_to_mask = 0.4\n",
    "embedding_dim= 256"
   ]
  },
  {
   "cell_type": "code",
   "execution_count": 3,
   "metadata": {},
   "outputs": [],
   "source": [
    "model_config = ModelConfig.from_config_file(path_to_model_config)"
   ]
  },
  {
   "cell_type": "code",
   "execution_count": 4,
   "metadata": {},
   "outputs": [
    {
     "name": "stdout",
     "output_type": "stream",
     "text": [
      "INFO:gt4sd.configuration:using as local cache path for algorithms: algorithms\n",
      "INFO:gt4sd.configuration:using as local cache path for properties: properties\n"
     ]
    }
   ],
   "source": [
    "model = AutoModel.from_config(model_config)\n",
    "generator = model.to_guacamole_generator(\n",
    "    temperature=temperature, fraction_to_mask=fraction_to_mask, seed_dataset_file=seed_dataset_file, device=device)\n"
   ]
  },
  {
   "cell_type": "code",
   "execution_count": 5,
   "metadata": {},
   "outputs": [],
   "source": [
    "generator.load_pretrained(path_to_model_ckpt)"
   ]
  },
  {
   "cell_type": "code",
   "execution_count": 6,
   "metadata": {},
   "outputs": [
    {
     "name": "stderr",
     "output_type": "stream",
     "text": [
      "Generating samples:   0%|          | 0/2 [00:00<?, ?it/s]"
     ]
    },
    {
     "name": "stdout",
     "output_type": "stream",
     "text": [
      "INFO:gt4sd.algorithms.core:runnning RegressionTransformer with configuration=RegressionTransformerMolecules(algorithm_version='qed', search='sample', temperature=1.0, batch_size=8, tolerance=100.0, sampling_wrapper={'property_goal': {'<qed>': 0.907}, 'fraction_to_mask': 0.4})\n",
      "INFO:gt4sd.algorithms.conditional_generation.regression_transformer.core:ensure artifacts for the application are present.\n",
      "INFO:gt4sd.s3:starting syncing\n",
      "INFO:gt4sd.s3:syncing complete\n",
      "INFO:gt4sd.s3:starting syncing\n",
      "INFO:gt4sd.s3:syncing complete\n"
     ]
    },
    {
     "name": "stderr",
     "output_type": "stream",
     "text": [
      "The tokenizer class you load from this checkpoint is not the same type as the class this function is called from. It may result in unexpected tokenization. \n",
      "The tokenizer class you load from this checkpoint is 'XLNetTokenizer'. \n",
      "The class this function is called from is 'InferenceBertTokenizer'.\n"
     ]
    },
    {
     "name": "stdout",
     "output_type": "stream",
     "text": [
      "INFO:gt4sd.algorithms.conditional_generation.regression_transformer.implementation:Model restored from /Users/pankhilgawade/.gt4sd/algorithms/conditional_generation/RegressionTransformer/RegressionTransformerMolecules/qed\n",
      "INFO:gt4sd.algorithms.conditional_generation.regression_transformer.implementation:Will start sampling molecules similar to Cc1ccc(F)c(OC2(CCN(CC2)C(=O)C2CCCC2)C(O)=O)c1 with goal: {'<qed>': 0.907} and masking 0.4 of the tokens.\n",
      "INFO:gt4sd.algorithms.conditional_generation.regression_transformer.implementation:Starting prediction for sequence <qed>0.907|[C][C][=C][C][MASK][MASK][C][F][MASK][MASK][MASK][MASK][MASK][C][Branch2_1][Ring1][Branch1_1][C][C][N][Branch1_1][Branch1_1][MASK][C][MASK][Branch1_2][C][Branch1_2][C][MASK][C][MASK][C][MASK][C][Ring1][Branch1_1][C][MASK][MASK][MASK][MASK][=C][Ring2][MASK][MASK][PAD]\n"
     ]
    },
    {
     "name": "stderr",
     "output_type": "stream",
     "text": [
      "/opt/anaconda3/envs/rtgt4sd/lib/python3.11/site-packages/transformers/models/auto/modeling_auto.py:1132: FutureWarning: The class `AutoModelWithLMHead` is deprecated and will be removed in a future version. Please use `AutoModelForCausalLM` for causal language models, `AutoModelForMaskedLM` for masked language models and `AutoModelForSeq2SeqLM` for encoder-decoder models.\n",
      "  warnings.warn(\n",
      "/opt/anaconda3/envs/rtgt4sd/lib/python3.11/site-packages/transformers/modeling_utils.py:399: FutureWarning: You are using `torch.load` with `weights_only=False` (the current default value), which uses the default pickle module implicitly. It is possible to construct malicious pickle data which will execute arbitrary code during unpickling (See https://github.com/pytorch/pytorch/blob/main/SECURITY.md#untrusted-models for more details). In a future release, the default value for `weights_only` will be flipped to `True`. This limits the functions that could be executed during unpickling. Arbitrary objects will no longer be allowed to be loaded via this mode unless they are explicitly allowlisted by the user via `torch.serialization.add_safe_globals`. We recommend you start setting `weights_only=True` for any use case where you don't have full control of the loaded file. Please open an issue on GitHub for any issues related to this experimental feature.\n",
      "  return torch.load(checkpoint_file, map_location=\"cpu\")\n"
     ]
    },
    {
     "name": "stdout",
     "output_type": "stream",
     "text": [
      "INFO:gt4sd.algorithms.conditional_generation.regression_transformer.implementation:Successes: (('C4C=CC=C(F)C(OC1(CCN(CC1)C(=O)C2CCCC23)C3O)=C4', '<qed>0.849'), ('CC=C3C=C(F)C(OC1(CCN(CC1)C(=O)C2CCOC2)C(OO))=C3', '<qed>0.899'), ('CC=CC=C(F)C(OC1(CCN(CC1)C(=O)C2CCCC23)C3)=C', '<qed>0.847'), ('C3C=CC=C(F)C#COC1(CCN(CC1)C(=O)C2CCNC2)CCCO3', '<qed>0.879'), ('C1C=CC1(CF)NC2(CCN(CC2)C(=O)C3CCCC3)C(O)=O', '<qed>0.879'), ('CC=C3C=C(F)C(CC1(CCN(CC1)C(=O)C2CCOC2)C(OO))=C3', '<qed>0.899'), ('CC=CC3=C(F)C(CC1(CCN(CC1)C(=O)C2CCCC24)C34)=C', '<qed>0.767'), ('C3C=CC=C(F)C(NC1(CCN(CC1)C(=O)C2CCOC2)C(O)C)=C3', '<qed>0.859'))\n"
     ]
    },
    {
     "name": "stderr",
     "output_type": "stream",
     "text": [
      "Generating samples:  50%|█████     | 1/2 [00:01<00:01,  1.69s/it]"
     ]
    },
    {
     "name": "stdout",
     "output_type": "stream",
     "text": [
      "INFO:gt4sd.algorithms.core:runnning RegressionTransformer with configuration=RegressionTransformerMolecules(algorithm_version='qed', search='sample', temperature=1.0, batch_size=8, tolerance=100.0, sampling_wrapper={'property_goal': {'<qed>': 0.499}, 'fraction_to_mask': 0.4})\n",
      "INFO:gt4sd.algorithms.conditional_generation.regression_transformer.core:ensure artifacts for the application are present.\n",
      "INFO:gt4sd.s3:starting syncing\n",
      "INFO:gt4sd.s3:syncing complete\n",
      "INFO:gt4sd.s3:starting syncing\n",
      "INFO:gt4sd.s3:syncing complete\n"
     ]
    },
    {
     "name": "stderr",
     "output_type": "stream",
     "text": [
      "The tokenizer class you load from this checkpoint is not the same type as the class this function is called from. It may result in unexpected tokenization. \n",
      "The tokenizer class you load from this checkpoint is 'XLNetTokenizer'. \n",
      "The class this function is called from is 'InferenceBertTokenizer'.\n"
     ]
    },
    {
     "name": "stdout",
     "output_type": "stream",
     "text": [
      "INFO:gt4sd.algorithms.conditional_generation.regression_transformer.implementation:Model restored from /Users/pankhilgawade/.gt4sd/algorithms/conditional_generation/RegressionTransformer/RegressionTransformerMolecules/qed\n",
      "INFO:gt4sd.algorithms.conditional_generation.regression_transformer.implementation:Will start sampling molecules similar to COc1ccc(OC)c(NC(=O)C=Cc2ccccc2N(=O)=O)c1 with goal: {'<qed>': 0.499} and masking 0.4 of the tokens.\n",
      "INFO:gt4sd.algorithms.conditional_generation.regression_transformer.implementation:Starting prediction for sequence <qed>0.499|[C][MASK][MASK][=C][MASK][=C][MASK][Ring1][O][C][C][Branch2_1][MASK][MASK][MASK][C][MASK][C][MASK][C][=C][C][MASK][MASK][MASK][C][=C][Ring1][MASK][N][MASK][C][=O][=O][=C][Ring2][MASK][Branch1_2][PAD]\n",
      "INFO:gt4sd.algorithms.conditional_generation.regression_transformer.implementation:Successes: (('COC2=CC=C(OC)C(OCOCOC1=CC=C(C=C1)N(O)O)=C2', '<qed>0.397'), ('COC2=CC=C(OC)C(NC=CCOC1=CC=C(C=C1)N(O)O)=C2', '<qed>0.447'), ('C2OC=CC=C(OC)C(OC(O)C1=CC=C(C=C1)N(O)O)=C2', '<qed>0.517'), ('C2OC=CC=C(OC)C(OC(O)C1=CC=C(C=C1)N(O)O)=C2', '<qed>0.517'), ('COC2=CC=C(OC)C(CCCC#CC1=CC=C(C=C1)N(O)O)=C2', '<qed>0.347'), ('C2OC=CC=C(OC)C(NC(O)C1=CC=C(C=C1)N(O)O)=C2', '<qed>0.667'), ('COC2=CC=C(OC)C(NCCCNC1=CC=C(C=C1)N(O)O)=C2', '<qed>0.499'), ('COC2=CC=C(OC)C(OCCC=CC1=CC=C(C=C1)N(O)O)=C2', '<qed>0.497'))\n"
     ]
    },
    {
     "name": "stderr",
     "output_type": "stream",
     "text": [
      "Generating samples: 100%|██████████| 2/2 [00:03<00:00,  1.62s/it]\n"
     ]
    },
    {
     "data": {
      "text/plain": [
       "['C4C=CC=C(F)C(OC1(CCN(CC1)C(=O)C2CCCC23)C3O)=C4',\n",
       " 'COC2=CC=C(OC)C(OCOCOC1=CC=C(C=C1)N(O)O)=C2']"
      ]
     },
     "execution_count": 6,
     "metadata": {},
     "output_type": "execute_result"
    }
   ],
   "source": [
    "generator.generate(number_samples=2)"
   ]
  },
  {
   "cell_type": "code",
   "execution_count": 51,
   "metadata": {},
   "outputs": [],
   "source": [
    "smiles  =['CC12CC(CC(=O)C1CCC3(C)C2C4OC(=O)C3(O)COC4C)C=CC=COC#C',\n",
    " 'CC1=CC=C([N-][N+]#N)C=C1','BrC1=CC=C(C=C1)C(=O)C=CC2=CC=CC=C2',\n",
    " 'BrC1=CC=C(C=C1)C(=O)C=CC2=CC=CC=C2']"
   ]
  },
  {
   "cell_type": "code",
   "execution_count": 52,
   "metadata": {},
   "outputs": [],
   "source": [
    "path_to_encoder_ckpt= '/Users/pankhilgawade/jointformer/qed'\n",
    "#path_to_encoder_ckpt = '/Users/pankhilgawade/.gt4sd/algorithms/conditional_generation/RegressionTransformer/RegressionTransformerMolecules/qed'"
   ]
  },
  {
   "cell_type": "code",
   "execution_count": 53,
   "metadata": {},
   "outputs": [],
   "source": [
    "model_config = ModelConfig.from_config_file(path_to_model_config)"
   ]
  },
  {
   "cell_type": "code",
   "execution_count": 54,
   "metadata": {},
   "outputs": [],
   "source": [
    "model = AutoModel.from_config(model_config)"
   ]
  },
  {
   "cell_type": "code",
   "execution_count": 55,
   "metadata": {},
   "outputs": [
    {
     "data": {
      "text/plain": [
       "RegressionTransformer()"
      ]
     },
     "execution_count": 55,
     "metadata": {},
     "output_type": "execute_result"
    }
   ],
   "source": [
    "model.to_smiles_encoder(tokenizer=None,batch_size=None,device='cpu')"
   ]
  },
  {
   "cell_type": "code",
   "execution_count": 56,
   "metadata": {},
   "outputs": [
    {
     "name": "stderr",
     "output_type": "stream",
     "text": [
      "The tokenizer class you load from this checkpoint is not the same type as the class this function is called from. It may result in unexpected tokenization. \n",
      "The tokenizer class you load from this checkpoint is 'XLNetTokenizer'. \n",
      "The class this function is called from is 'InferenceBertTokenizer'.\n"
     ]
    },
    {
     "name": "stdout",
     "output_type": "stream",
     "text": [
      "INFO:gt4sd.algorithms.conditional_generation.regression_transformer.implementation:Model restored from /Users/pankhilgawade/jointformer/qed\n"
     ]
    },
    {
     "name": "stderr",
     "output_type": "stream",
     "text": [
      "/opt/anaconda3/envs/rtgt4sd/lib/python3.11/site-packages/transformers/models/auto/modeling_auto.py:1132: FutureWarning: The class `AutoModelWithLMHead` is deprecated and will be removed in a future version. Please use `AutoModelForCausalLM` for causal language models, `AutoModelForMaskedLM` for masked language models and `AutoModelForSeq2SeqLM` for encoder-decoder models.\n",
      "  warnings.warn(\n",
      "/opt/anaconda3/envs/rtgt4sd/lib/python3.11/site-packages/transformers/modeling_utils.py:399: FutureWarning: You are using `torch.load` with `weights_only=False` (the current default value), which uses the default pickle module implicitly. It is possible to construct malicious pickle data which will execute arbitrary code during unpickling (See https://github.com/pytorch/pytorch/blob/main/SECURITY.md#untrusted-models for more details). In a future release, the default value for `weights_only` will be flipped to `True`. This limits the functions that could be executed during unpickling. Arbitrary objects will no longer be allowed to be loaded via this mode unless they are explicitly allowlisted by the user via `torch.serialization.add_safe_globals`. We recommend you start setting `weights_only=True` for any use case where you don't have full control of the loaded file. Please open an issue on GitHub for any issues related to this experimental feature.\n",
      "  return torch.load(checkpoint_file, map_location=\"cpu\")\n"
     ]
    },
    {
     "name": "stdout",
     "output_type": "stream",
     "text": [
      "INFO:gt4sd.algorithms.conditional_generation.regression_transformer.implementation:Model restored from /Users/pankhilgawade/jointformer/qed\n"
     ]
    },
    {
     "name": "stderr",
     "output_type": "stream",
     "text": [
      "The tokenizer class you load from this checkpoint is not the same type as the class this function is called from. It may result in unexpected tokenization. \n",
      "The tokenizer class you load from this checkpoint is 'XLNetTokenizer'. \n",
      "The class this function is called from is 'InferenceBertTokenizer'.\n"
     ]
    }
   ],
   "source": [
    "\n",
    "model.load_pretrained(path_to_encoder_ckpt)"
   ]
  },
  {
   "cell_type": "code",
   "execution_count": 65,
   "metadata": {},
   "outputs": [
    {
     "name": "stderr",
     "output_type": "stream",
     "text": [
      "Encoding samples: 100%|██████████| 4/4 [00:00<00:00, 19.34it/s]\n"
     ]
    },
    {
     "data": {
      "text/plain": [
       "array([[ 0.9671758 , -0.41499734,  1.296763  , ...,  0.6502534 ,\n",
       "         0.10490204, -0.85646594],\n",
       "       [ 1.303101  , -0.57494247,  1.1045016 , ...,  0.557437  ,\n",
       "        -0.05404019, -0.5745893 ],\n",
       "       [ 0.36216116, -0.4644822 ,  0.96407056, ...,  0.6472383 ,\n",
       "        -0.08904713, -0.94837767],\n",
       "       [ 0.36216116, -0.4644822 ,  0.96407056, ...,  0.6472383 ,\n",
       "        -0.08904713, -0.94837767]], dtype=float32)"
      ]
     },
     "execution_count": 65,
     "metadata": {},
     "output_type": "execute_result"
    }
   ],
   "source": [
    "model.encode(smiles)\n"
   ]
  }
 ],
 "metadata": {
  "kernelspec": {
   "display_name": "rtgt4sd",
   "language": "python",
   "name": "python3"
  },
  "language_info": {
   "codemirror_mode": {
    "name": "ipython",
    "version": 3
   },
   "file_extension": ".py",
   "mimetype": "text/x-python",
   "name": "python",
   "nbconvert_exporter": "python",
   "pygments_lexer": "ipython3",
   "version": "3.11.9"
  }
 },
 "nbformat": 4,
 "nbformat_minor": 2
}
