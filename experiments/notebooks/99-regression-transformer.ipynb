{
 "cells": [
  {
   "cell_type": "markdown",
   "metadata": {},
   "source": [
    "# Regression Transformer Example \n",
    "\n",
    "This notebook executes unconditional generation and embedding extraction with Regression Transformer [1].\n",
    "\n",
    "[1] Born, J. and Manica, M. Regression transformer enables concurrent sequence regression and generation for molecular language modelling.\n",
    "Nature Machine Intelligence, 5(4):432–444, 2023."
   ]
  },
  {
   "cell_type": "code",
   "execution_count": 1,
   "metadata": {},
   "outputs": [],
   "source": [
    "from jointformer.configs.model import ModelConfig\n",
    "from jointformer.models.auto import AutoModel\n",
    "%load_ext autoreload\n",
    "%autoreload 2"
   ]
  },
  {
   "cell_type": "code",
   "execution_count": 2,
   "metadata": {},
   "outputs": [],
   "source": [
    "path_to_model_ckpt ='qed'\n",
    "path_to_model_config = '../../configs/models/regression_transformer'\n",
    "chembl_training_file = '/Users/pankhilgawade/Downloads/guacamol_v1_train.smiles'\n",
    "seed_dataset_file = '/Users/pankhilgawade/jointformer/chembl_smiles_eval.txt'\n",
    "\n",
    "temperature = 1.0\n",
    "top_k = None\n",
    "device = 'cpu'\n",
    "fraction_to_mask = 0.4\n",
    "embedding_dim= 256"
   ]
  },
  {
   "cell_type": "code",
   "execution_count": 3,
   "metadata": {},
   "outputs": [],
   "source": [
    "model_config = ModelConfig.from_config_file(path_to_model_config)"
   ]
  },
  {
   "cell_type": "code",
   "execution_count": 4,
   "metadata": {},
   "outputs": [
    {
     "name": "stdout",
     "output_type": "stream",
     "text": [
      "INFO:gt4sd.configuration:using as local cache path for algorithms: algorithms\n",
      "INFO:gt4sd.configuration:using as local cache path for properties: properties\n"
     ]
    }
   ],
   "source": [
    "model = AutoModel.from_config(model_config)\n",
    "generator = model.to_guacamole_generator(\n",
    "    temperature=temperature, fraction_to_mask=fraction_to_mask, seed_dataset_file=seed_dataset_file, device=device)\n"
   ]
  },
  {
   "cell_type": "code",
   "execution_count": 5,
   "metadata": {},
   "outputs": [],
   "source": [
    "generator.load_pretrained(path_to_model_ckpt)"
   ]
  },
  {
   "cell_type": "code",
   "execution_count": 6,
   "metadata": {},
   "outputs": [
    {
     "name": "stderr",
     "output_type": "stream",
     "text": [
      "Generating samples:   0%|          | 0/2 [00:00<?, ?it/s]"
     ]
    },
    {
     "name": "stdout",
     "output_type": "stream",
     "text": [
      "INFO:gt4sd.algorithms.core:runnning RegressionTransformer with configuration=RegressionTransformerMolecules(algorithm_version='qed', search='sample', temperature=1.0, batch_size=8, tolerance=100.0, sampling_wrapper={'property_goal': {'<qed>': 0.345}, 'fraction_to_mask': 0.4})\n",
      "INFO:gt4sd.algorithms.conditional_generation.regression_transformer.core:ensure artifacts for the application are present.\n",
      "INFO:gt4sd.s3:starting syncing\n",
      "INFO:gt4sd.s3:syncing complete\n",
      "INFO:gt4sd.s3:starting syncing\n",
      "INFO:gt4sd.s3:syncing complete\n"
     ]
    },
    {
     "name": "stderr",
     "output_type": "stream",
     "text": [
      "The tokenizer class you load from this checkpoint is not the same type as the class this function is called from. It may result in unexpected tokenization. \n",
      "The tokenizer class you load from this checkpoint is 'XLNetTokenizer'. \n",
      "The class this function is called from is 'InferenceBertTokenizer'.\n"
     ]
    },
    {
     "name": "stdout",
     "output_type": "stream",
     "text": [
      "INFO:gt4sd.algorithms.conditional_generation.regression_transformer.implementation:Model restored from /Users/pankhilgawade/.gt4sd/algorithms/conditional_generation/RegressionTransformer/RegressionTransformerMolecules/qed\n"
     ]
    },
    {
     "name": "stderr",
     "output_type": "stream",
     "text": [
      "/opt/anaconda3/envs/rtgt4sd/lib/python3.11/site-packages/transformers/models/auto/modeling_auto.py:1132: FutureWarning: The class `AutoModelWithLMHead` is deprecated and will be removed in a future version. Please use `AutoModelForCausalLM` for causal language models, `AutoModelForMaskedLM` for masked language models and `AutoModelForSeq2SeqLM` for encoder-decoder models.\n",
      "  warnings.warn(\n",
      "/opt/anaconda3/envs/rtgt4sd/lib/python3.11/site-packages/transformers/modeling_utils.py:399: FutureWarning: You are using `torch.load` with `weights_only=False` (the current default value), which uses the default pickle module implicitly. It is possible to construct malicious pickle data which will execute arbitrary code during unpickling (See https://github.com/pytorch/pytorch/blob/main/SECURITY.md#untrusted-models for more details). In a future release, the default value for `weights_only` will be flipped to `True`. This limits the functions that could be executed during unpickling. Arbitrary objects will no longer be allowed to be loaded via this mode unless they are explicitly allowlisted by the user via `torch.serialization.add_safe_globals`. We recommend you start setting `weights_only=True` for any use case where you don't have full control of the loaded file. Please open an issue on GitHub for any issues related to this experimental feature.\n",
      "  return torch.load(checkpoint_file, map_location=\"cpu\")\n"
     ]
    },
    {
     "name": "stdout",
     "output_type": "stream",
     "text": [
      "INFO:gt4sd.algorithms.conditional_generation.regression_transformer.implementation:Will start sampling molecules similar to COC12C3NC3CN1C1=C(C2COC(N)=O)C(=O)C(NCCN2CCCC2)=C(C)C1=O with goal: {'<qed>': 0.345} and masking 0.4 of the tokens.\n",
      "INFO:gt4sd.algorithms.conditional_generation.regression_transformer.implementation:Starting prediction for sequence <qed>0.345|[C][MASK][C][C][MASK][C][MASK][Ring1][C][N][Ring1][MASK][C][=C][MASK][O][C][MASK][MASK][C][MASK][MASK][Branch1_1][C][N][MASK][C][Branch1_2][MASK][MASK][MASK][MASK][MASK][N][MASK][C][N][C][C][MASK][MASK][Ring1][MASK][MASK][Branch1_1][C][C][C][MASK][Ring1][Branch1_2][=O][PAD]\n",
      "INFO:gt4sd.algorithms.conditional_generation.regression_transformer.implementation:Successes: (('C1OC2CCC1N2C=C(C=C(C(N3)=N))C(=CC(NCCNC4=C3))N(C)CC4=O', '<qed>0.287'), ('C1OCCNC1NC4=C(C2=CCC3OC(N)=O)C(=CC2NCCNC=C3)N(C)C4=O', '<qed>0.487'), ('C13C2CCCC1N2C=C(C(COC(N)=O))C(=O)N(C)C3=O', '<qed>0.557'), ('C1C23CCCC1N2C=C(C(C#N)=C(N)N)C(=NNN=O)N(C)C3=O', '<qed>0.187'), ('CC1CCOC1(CN)C=C(CC(O)=C(N)O)C(=NN=C(N)CC)N(C)C=O', '<qed>0.387'), ('C1NCCCC1(CN)C2=C(C2CNC(N)=O)C(=NC=CONCCNC=C)N(C)C=O', '<qed>0.387'), ('C13OC2CCC1N2C=CCOC(C)N=C(N)NC(=O)N(C)C3=O', '<qed>0.587'))\n"
     ]
    },
    {
     "name": "stderr",
     "output_type": "stream",
     "text": [
      "Generating samples:  50%|█████     | 1/2 [00:02<00:02,  2.19s/it]"
     ]
    },
    {
     "name": "stdout",
     "output_type": "stream",
     "text": [
      "INFO:gt4sd.algorithms.core:runnning RegressionTransformer with configuration=RegressionTransformerMolecules(algorithm_version='qed', search='sample', temperature=1.0, batch_size=8, tolerance=100.0, sampling_wrapper={'property_goal': {'<qed>': 0.477}, 'fraction_to_mask': 0.4})\n",
      "INFO:gt4sd.algorithms.conditional_generation.regression_transformer.core:ensure artifacts for the application are present.\n",
      "INFO:gt4sd.s3:starting syncing\n",
      "INFO:gt4sd.s3:syncing complete\n",
      "INFO:gt4sd.s3:starting syncing\n",
      "INFO:gt4sd.s3:syncing complete\n"
     ]
    },
    {
     "name": "stderr",
     "output_type": "stream",
     "text": [
      "The tokenizer class you load from this checkpoint is not the same type as the class this function is called from. It may result in unexpected tokenization. \n",
      "The tokenizer class you load from this checkpoint is 'XLNetTokenizer'. \n",
      "The class this function is called from is 'InferenceBertTokenizer'.\n"
     ]
    },
    {
     "name": "stdout",
     "output_type": "stream",
     "text": [
      "INFO:gt4sd.algorithms.conditional_generation.regression_transformer.implementation:Model restored from /Users/pankhilgawade/.gt4sd/algorithms/conditional_generation/RegressionTransformer/RegressionTransformerMolecules/qed\n",
      "INFO:gt4sd.algorithms.conditional_generation.regression_transformer.implementation:Will start sampling molecules similar to COc1cc(CC2N(C(C)=O)C(=O)C(NC2=O)=Cc2cc(OC)c(OC)c(C)c2OC)c(OC)c(C)c1OC with goal: {'<qed>': 0.477} and masking 0.4 of the tokens.\n",
      "INFO:gt4sd.algorithms.conditional_generation.regression_transformer.implementation:Starting prediction for sequence <qed>0.477|[C][O][C][=C][C][Branch2_1][Ring2][MASK][C][MASK][MASK][Branch1_1][Branch1_2][C][Branch1_1][MASK][C][=O][MASK][Branch1_2][MASK][MASK][MASK][MASK][Branch1_2][MASK][MASK][MASK][MASK][=O][=C][MASK][MASK][C][Branch1_1][Ring1][O][C][=C][MASK][Ring1][O][C][C][MASK][C][C][=C][Ring1][MASK][O][MASK][MASK][MASK][MASK][MASK][C][MASK][MASK][C][C][MASK][Ring2][Ring2][MASK][O][C]\n",
      "INFO:gt4sd.algorithms.conditional_generation.regression_transformer.implementation:Successes: (('COC=C2C(CCN(C(C)=O)C(=O)C(N(N=O))=CC1=CC(OC)=C(OC)C(C)=C1OC=C)=C=CCC(CC)=C2OC', '<qed>0.157'), ('COC2=CC(C=CC(C(C)=O)C(=O)C(C(C=O))=CC1=CC(OC)=C(OC)C(C)=C1OCC)(C)C(C)C=C2OC', '<qed>0.127'), ('C2OC=CC(CCN(C(C)=O)C(=O)C(C(O)=O)=CC1=CC(OC)=C(OC)C(C)=C1OC)(C(CC=C2OC))', '<qed>0.357'), ('C2OC=CC(CCC(C(C)=O)C(=O)C(C(O))=CC1=CC(OC)=C(OC)C(C)=C1OC)=C(C(CC=C2OC))', '<qed>0.207'), ('COC=CC2(CC=C(C(C)=O)C(=O)C(CCC)=CC1=CC(OC)=C(OC)C(C)=C1O)C=CCCC(CC=C2OC)', '<qed>0.347'), ('COC=CC(C=CC(C(C)=O)C(=O)C(CC=O)=CC1=CC(OC)=C(OC)C(C)=C1OC)=O', '<qed>0.217'), ('C2OC=CC(CC=C(C(C)=O)C(=O)C(C(O)=O)=CC1=CC(OC)=C(OC)C(C)=C1OC)=C=CC=C2OC', '<qed>0.287'), ('COC=C2C(CC=C(C(C)=O)C(=O)C(C(O)=O)=CC1=CC(OC)=C(OC)C(C)=C1OC)=CC=CC(CC=C2OC)', '<qed>0.187'))\n"
     ]
    },
    {
     "name": "stderr",
     "output_type": "stream",
     "text": [
      "Generating samples: 100%|██████████| 2/2 [00:04<00:00,  2.34s/it]\n"
     ]
    },
    {
     "data": {
      "text/plain": [
       "['C1OC2CCC1N2C=C(C=C(C(N3)=N))C(=CC(NCCNC4=C3))N(C)CC4=O',\n",
       " 'COC=C2C(CCN(C(C)=O)C(=O)C(N(N=O))=CC1=CC(OC)=C(OC)C(C)=C1OC=C)=C=CCC(CC)=C2OC']"
      ]
     },
     "execution_count": 6,
     "metadata": {},
     "output_type": "execute_result"
    }
   ],
   "source": [
    "generator.generate(number_samples=2)"
   ]
  },
  {
   "cell_type": "code",
   "execution_count": 7,
   "metadata": {},
   "outputs": [],
   "source": [
    "smiles  =['CC12CC(CC(=O)C1CCC3(C)C2C4OC(=O)C3(O)COC4C)C=CC=COC#C',\n",
    " 'CC1=CC=C([N-][N+]#N)C=C1','BrC1=CC=C(C=C1)C(=O)C=CC2=CC=CC=C2',\n",
    " 'BrC1=CC=C(C=C1)C(=O)C=CC2=CC=CC=C2']"
   ]
  },
  {
   "cell_type": "code",
   "execution_count": 8,
   "metadata": {},
   "outputs": [],
   "source": [
    "path_to_encoder_ckpt= '/Users/pankhilgawade/jointformer/qed'\n",
    "#path_to_encoder_ckpt = '/Users/pankhilgawade/.gt4sd/algorithms/conditional_generation/RegressionTransformer/RegressionTransformerMolecules/qed'"
   ]
  },
  {
   "cell_type": "code",
   "execution_count": 9,
   "metadata": {},
   "outputs": [],
   "source": [
    "model_config = ModelConfig.from_config_file(path_to_model_config)"
   ]
  },
  {
   "cell_type": "code",
   "execution_count": 10,
   "metadata": {},
   "outputs": [],
   "source": [
    "model = AutoModel.from_config(model_config)"
   ]
  },
  {
   "cell_type": "code",
   "execution_count": 27,
   "metadata": {},
   "outputs": [
    {
     "data": {
      "text/plain": [
       "RegressionTransformer(\n",
       "  (search): SamplingSearch()\n",
       "  (_search): SamplingSearch()\n",
       ")"
      ]
     },
     "execution_count": 27,
     "metadata": {},
     "output_type": "execute_result"
    }
   ],
   "source": [
    "model.to_smiles_encoder(tokenizer=None,batch_size=None,device='cpu',search='sample')"
   ]
  },
  {
   "cell_type": "code",
   "execution_count": 28,
   "metadata": {},
   "outputs": [
    {
     "name": "stderr",
     "output_type": "stream",
     "text": [
      "The tokenizer class you load from this checkpoint is not the same type as the class this function is called from. It may result in unexpected tokenization. \n",
      "The tokenizer class you load from this checkpoint is 'XLNetTokenizer'. \n",
      "The class this function is called from is 'InferenceBertTokenizer'.\n"
     ]
    },
    {
     "name": "stdout",
     "output_type": "stream",
     "text": [
      "INFO:gt4sd.algorithms.conditional_generation.regression_transformer.implementation:Model restored from /Users/pankhilgawade/jointformer/qed\n"
     ]
    },
    {
     "name": "stderr",
     "output_type": "stream",
     "text": [
      "/opt/anaconda3/envs/rtgt4sd/lib/python3.11/site-packages/transformers/models/auto/modeling_auto.py:1132: FutureWarning: The class `AutoModelWithLMHead` is deprecated and will be removed in a future version. Please use `AutoModelForCausalLM` for causal language models, `AutoModelForMaskedLM` for masked language models and `AutoModelForSeq2SeqLM` for encoder-decoder models.\n",
      "  warnings.warn(\n",
      "/opt/anaconda3/envs/rtgt4sd/lib/python3.11/site-packages/transformers/modeling_utils.py:399: FutureWarning: You are using `torch.load` with `weights_only=False` (the current default value), which uses the default pickle module implicitly. It is possible to construct malicious pickle data which will execute arbitrary code during unpickling (See https://github.com/pytorch/pytorch/blob/main/SECURITY.md#untrusted-models for more details). In a future release, the default value for `weights_only` will be flipped to `True`. This limits the functions that could be executed during unpickling. Arbitrary objects will no longer be allowed to be loaded via this mode unless they are explicitly allowlisted by the user via `torch.serialization.add_safe_globals`. We recommend you start setting `weights_only=True` for any use case where you don't have full control of the loaded file. Please open an issue on GitHub for any issues related to this experimental feature.\n",
      "  return torch.load(checkpoint_file, map_location=\"cpu\")\n"
     ]
    },
    {
     "name": "stdout",
     "output_type": "stream",
     "text": [
      "INFO:gt4sd.algorithms.conditional_generation.regression_transformer.implementation:Model restored from /Users/pankhilgawade/jointformer/qed\n"
     ]
    },
    {
     "name": "stderr",
     "output_type": "stream",
     "text": [
      "The tokenizer class you load from this checkpoint is not the same type as the class this function is called from. It may result in unexpected tokenization. \n",
      "The tokenizer class you load from this checkpoint is 'XLNetTokenizer'. \n",
      "The class this function is called from is 'InferenceBertTokenizer'.\n"
     ]
    }
   ],
   "source": [
    "\n",
    "model.load_pretrained(path_to_encoder_ckpt)"
   ]
  },
  {
   "cell_type": "code",
   "execution_count": 29,
   "metadata": {},
   "outputs": [
    {
     "name": "stderr",
     "output_type": "stream",
     "text": [
      "Encoding samples: 100%|██████████| 4/4 [00:00<00:00, 24.48it/s]\n"
     ]
    },
    {
     "data": {
      "text/plain": [
       "array([[ 0.9671758 , -0.41499734,  1.296763  , ...,  0.6502534 ,\n",
       "         0.10490204, -0.85646594],\n",
       "       [ 1.303101  , -0.57494247,  1.1045016 , ...,  0.557437  ,\n",
       "        -0.05404019, -0.5745893 ],\n",
       "       [ 0.36216116, -0.4644822 ,  0.96407056, ...,  0.6472383 ,\n",
       "        -0.08904713, -0.94837767],\n",
       "       [ 0.36216116, -0.4644822 ,  0.96407056, ...,  0.6472383 ,\n",
       "        -0.08904713, -0.94837767]], dtype=float32)"
      ]
     },
     "execution_count": 29,
     "metadata": {},
     "output_type": "execute_result"
    }
   ],
   "source": [
    "model.encode(smiles)\n"
   ]
  },
  {
   "cell_type": "code",
   "execution_count": 32,
   "metadata": {},
   "outputs": [
    {
     "name": "stderr",
     "output_type": "stream",
     "text": [
      "Predicting qed: 100%|██████████| 4/4 [00:00<00:00, 24.57it/s]\n"
     ]
    },
    {
     "data": {
      "text/plain": [
       "array([['<qed>0.331'],\n",
       "       ['<qed>0.429'],\n",
       "       ['<qed>0.606'],\n",
       "       ['<qed>0.606']], dtype='<U10')"
      ]
     },
     "execution_count": 32,
     "metadata": {},
     "output_type": "execute_result"
    }
   ],
   "source": [
    "model.predict(smiles)"
   ]
  },
  {
   "cell_type": "code",
   "execution_count": null,
   "metadata": {},
   "outputs": [],
   "source": []
  }
 ],
 "metadata": {
  "kernelspec": {
   "display_name": "rtgt4sd",
   "language": "python",
   "name": "python3"
  },
  "language_info": {
   "codemirror_mode": {
    "name": "ipython",
    "version": 3
   },
   "file_extension": ".py",
   "mimetype": "text/x-python",
   "name": "python",
   "nbconvert_exporter": "python",
   "pygments_lexer": "ipython3",
   "version": "3.11.9"
  }
 },
 "nbformat": 4,
 "nbformat_minor": 2
}
