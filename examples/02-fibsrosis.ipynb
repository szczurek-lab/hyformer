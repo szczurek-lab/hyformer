{
 "cells": [
  {
   "cell_type": "markdown",
   "metadata": {},
   "source": [
    "# Process data for Fibrosis"
   ]
  },
  {
   "cell_type": "markdown",
   "metadata": {},
   "source": [
    "\n",
    "\n",
    "def data_splitting(data_df,type_of_split, \n",
    "                   random_state=42,\n",
    "                   butina_cutoff=0.5,\n",
    "                   Hi_cutoff=0.5,hi_threshold=0.4):\n",
    "    '''Function that splits data and returns list of indices \n",
    "    \n",
    "        data_df : dataframe with SMILES and Activity\n",
    "        \n",
    "        type_of_split : \"random\", \"random_stratified\",\"butina\",\"LoHi_Hi_split\" \n",
    "        \n",
    "        butina_cutoff: default = 0.5\n",
    "        \n",
    "        Hi_cutoff:default = 0.5\n",
    "        \n",
    "        Hi_threshold:default = 0.4\n",
    "        \n",
    "        random_state = 42 (default)\n",
    "   '''\n",
    "    if type_of_split == \"LoHi_Hi_split\":\n",
    "        hi_split_df=data_df[[\"SMILES\"]]\n",
    "        hi_split_df = data_df[[\"SMILES\"]].rename(columns={\"SMILES\": \"smiles\"})\n",
    "        train_indices, test_indices= get_hi_split(hi_split_df,\n",
    "                                                       threshold = hi_threshold,\n",
    "                                                       cutoff=Hi_cutoff,\n",
    "                                                       seed=42)\n",
    "        return(train_indices.index.to_list(), test_indices.index.to_list())\n",
    "\n",
    "    elif type_of_split == \"random\":\n",
    "        train_indices, test_indices = train_test_split(data_df['SMILES'], \n",
    "                                                       test_size=0.2, \n",
    "                                                       random_state=random_state)\n",
    "        return(train_indices.index.to_list(), test_indices.index.to_list())\n",
    "        \n",
    "    elif type_of_split == \"random_stratified\":\n",
    "        train_indices, test_indices = train_test_split(data_df['SMILES'], \n",
    "                                                       test_size=0.2, \n",
    "                                                       stratify=data_df['Activity'],\n",
    "                                                       random_state=random_state)\n",
    "        return(train_indices.index.to_list(), test_indices.index.to_list())\n",
    "        \n",
    "    elif type_of_split == \"butina\":\n",
    "        train_indices, test_indices = butina_split(data_df[\"SMILES\"],\n",
    "                                                   cutoff=butina_cutoff,\n",
    "                                                   seed = random_state)\n",
    "    \n",
    "        return(train_indices, test_indices)"
   ]
  },
  {
   "cell_type": "code",
   "execution_count": null,
   "metadata": {
    "vscode": {
     "languageId": "plaintext"
    }
   },
   "outputs": [],
   "source": [
    "DATA_FILE_PATH = '"
   ]
  }
 ],
 "metadata": {
  "language_info": {
   "name": "python"
  }
 },
 "nbformat": 4,
 "nbformat_minor": 2
}
