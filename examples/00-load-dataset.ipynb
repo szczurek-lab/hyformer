{
 "cells": [
  {
   "cell_type": "markdown",
   "metadata": {},
   "source": [
    "# Loading a custom dataset"
   ]
  },
  {
   "cell_type": "code",
   "execution_count": 19,
   "metadata": {},
   "outputs": [
    {
     "name": "stdout",
     "output_type": "stream",
     "text": [
      "The autoreload extension is already loaded. To reload it, use:\n",
      "  %reload_ext autoreload\n"
     ]
    }
   ],
   "source": [
    "# Imports\n",
    "\n",
    "import os\n",
    "\n",
    "import numpy as np\n",
    "\n",
    "from hyformer.configs.dataset import DatasetConfig\n",
    "from hyformer.utils.datasets.auto import AutoDataset\n",
    "\n",
    "# autoreload modules\n",
    "%load_ext autoreload\n",
    "%autoreload 2\n"
   ]
  },
  {
   "cell_type": "code",
   "execution_count": 25,
   "metadata": {},
   "outputs": [],
   "source": [
    "# Constants\n",
    "\n",
    "ROOT_DIR = \"/lustre/groups/aih/hyformer/data/\"\n",
    "DATASET_CONFIG_PATH = \"configs/datasets/guacamol/config.json\"\n",
    "\n",
    "\n",
    "_DATA_DTYPE = '<U100'\n",
    "_TARGET_DTYPE = np.float32"
   ]
  },
  {
   "cell_type": "code",
   "execution_count": 26,
   "metadata": {},
   "outputs": [],
   "source": [
    "# Extract data from raw files\n",
    "\n",
    "for split in ['train', 'valid', 'test']:\n",
    "    data_filepath = f\"/lustre/groups/aih/hyformer/data/guacamol/raw/guacamol_v1_{split}.smiles\"\n",
    "    target_filepath = f\"/lustre/groups/aih/hyformer/data/guacamol/raw/guacamol_v1_{split}_physchem.smiles\"\n",
    "    \n",
    "    split = 'val' if split == 'valid' else split\n",
    "    output_filepath = f\"/lustre/groups/aih/hyformer/data/guacamol/{split}.npz\"\n",
    "\n",
    "    with open(data_filepath) as f:\n",
    "        data = f.readlines()\n",
    "\n",
    "    data = np.array(data, dtype=_DATA_DTYPE)\n",
    "    if target_filepath is not None:\n",
    "        target = np.load(target_filepath)\n",
    "        target = np.array(target, dtype=_TARGET_DTYPE)\n",
    "    else:\n",
    "        target = None\n",
    "        \n",
    "    assert len(data) == len(target)\n",
    "    assert len(data) > 0\n",
    "    assert not np.isnan(target).any()    \n",
    "\n",
    "    np.savez(output_filepath, smiles=data, target=None, np_version=np.__version__)\n"
   ]
  },
  {
   "cell_type": "code",
   "execution_count": 27,
   "metadata": {},
   "outputs": [],
   "source": [
    "# load the dataset\n",
    "\n",
    "dataset_config = DatasetConfig.from_config_path(DATASET_CONFIG_PATH)\n",
    "train_dataset = AutoDataset.from_config(dataset_config, split=\"train\", root=ROOT_DIR)\n"
   ]
  },
  {
   "cell_type": "code",
   "execution_count": 28,
   "metadata": {},
   "outputs": [
    {
     "data": {
      "text/plain": [
       "{'data': 'CCC(C)(C)Br\\n', 'target': None}"
      ]
     },
     "execution_count": 28,
     "metadata": {},
     "output_type": "execute_result"
    }
   ],
   "source": [
    "_idx = 0\n",
    "train_dataset[_idx]"
   ]
  }
 ],
 "metadata": {
  "kernelspec": {
   "display_name": "Python 3 (ipykernel)",
   "language": "python",
   "name": "python3"
  }
 },
 "nbformat": 4,
 "nbformat_minor": 2
}
