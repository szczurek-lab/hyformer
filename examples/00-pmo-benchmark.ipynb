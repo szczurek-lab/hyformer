{
 "cells": [
  {
   "cell_type": "markdown",
   "metadata": {},
   "source": [
    "# PMO benchmark evaluation"
   ]
  },
  {
   "cell_type": "markdown",
   "metadata": {},
   "source": [
    "The goal is to test all functionalities of the PMO benchmark.\n",
    "\n",
    "1. Get a random subset of 100 molecules, get all metrics necessary for reporting the results. \n",
    "2. Sample from a pre-trained Hyformer and do the same. \n",
    "3. Come up with a script:\n",
    "    a. Sample 1000 molecules\n",
    "    b. Evaluate\n",
    "    c. Jointly fine-tune: first, on generated, then on generated (upsampled) + ZINC with NANs for properties (= -1)\n",
    "    d. Iterate 10x\n",
    "    e. print results\n",
    "4. Frozen + predictor vs joint"
   ]
  },
  {
   "cell_type": "code",
   "execution_count": 1,
   "metadata": {},
   "outputs": [
    {
     "name": "stderr",
     "output_type": "stream",
     "text": [
      "/home/aih/adam.izdebski/miniconda3/envs/hyformer/lib/python3.9/site-packages/tqdm/auto.py:21: TqdmWarning: IProgress not found. Please update jupyter and ipywidgets. See https://ipywidgets.readthedocs.io/en/stable/user_install.html\n",
      "  from .autonotebook import tqdm as notebook_tqdm\n",
      "2025-03-26 13:52:37.145342: I tensorflow/core/util/util.cc:169] oneDNN custom operations are on. You may see slightly different numerical results due to floating-point round-off errors from different computation orders. To turn them off, set the environment variable `TF_ENABLE_ONEDNN_OPTS=0`.\n",
      "Skipped loading modules with pytorch-geometric dependency, missing a dependency. No module named 'torch_geometric'\n",
      "Skipped loading modules with pytorch-geometric dependency, missing a dependency. cannot import name 'DMPNN' from 'deepchem.models.torch_models' (/home/aih/adam.izdebski/miniconda3/envs/hyformer/lib/python3.9/site-packages/deepchem/models/torch_models/__init__.py)\n",
      "Skipped loading modules with pytorch-lightning dependency, missing a dependency. No module named 'lightning'\n",
      "Skipped loading some Jax models, missing a dependency. No module named 'jax'\n"
     ]
    }
   ],
   "source": [
    "# Imports\n",
    "\n",
    "import os\n",
    "import torch\n",
    "\n",
    "from hyformer.configs.dataset import DatasetConfig\n",
    "from hyformer.configs.tokenizer import TokenizerConfig\n",
    "from hyformer.configs.model import ModelConfig\n",
    "from hyformer.configs.trainer import TrainerConfig\n",
    "\n",
    "from hyformer.utils.datasets.auto import AutoDataset\n",
    "from hyformer.utils.tokenizers.auto import AutoTokenizer\n",
    "from hyformer.models.auto import AutoModel\n",
    "from hyformer.trainers.trainer_fixed import Trainer\n",
    "\n",
    "from hyformer.utils.runtime import set_seed\n",
    "\n",
    "%load_ext autoreload\n",
    "%autoreload 2"
   ]
  },
  {
   "cell_type": "code",
   "execution_count": 57,
   "metadata": {},
   "outputs": [],
   "source": [
    "# Additional imports\n",
    "\n",
    "from typing import List, Union\n",
    "\n",
    "from tqdm.auto import tqdm\n",
    "from tdc import Oracle as TDCOracle\n",
    "from rdkit import Chem\n",
    "\n",
    "import numpy as np \n",
    "\n",
    "from hyformer.utils.chemistry import is_valid\n",
    "\n",
    "import pandas as pd\n",
    "\n",
    "from hyformer.utils.datasets.sequence import SequenceDataset\n",
    "\n",
    "from hyformer.utils.transforms.enumerator import SmilesEnumerator\n",
    "\n",
    "\n",
    "# Constants\n",
    "\n",
    "AVAILABLE_ORACLES = [\n",
    "    \"Albuterol_Similarity\",\n",
    "    \"Amlodipine_MPO\",\n",
    "    \"Celecoxib_Rediscovery\",\n",
    "    \"Deco_Hop\",\n",
    "    \"DRD2\", \n",
    "    \"Fexofenadine_MPO\",\n",
    "    \"GSK3B\",\n",
    "    \"Isomers_C7H8N2O2\",\n",
    "    \"Isomers_C7H8N2O3\",\n",
    "    \"Isomers_C9H10N2O2PF2Cl\",\n",
    "    \"JNK3\",\n",
    "    \"Median 1\",\n",
    "    \"Median 2\",\n",
    "    \"Mestranol_Similarity\", \n",
    "    \"Osimertinib_MPO\",\n",
    "    \"Perindopril_MPO\",\n",
    "    \"QED\",\n",
    "    \"Ranolazine_MPO\",\n",
    "    \"Scaffold_Hop\",\n",
    "    \"Sitagliptin_MPO\",\n",
    "    \"Thiothixene_Rediscovery\", \n",
    "    \"Troglitazone_Rediscovery\",\n",
    "    \"Valsartan_Smarts\",\n",
    "    \"Zaleplon_MPO\"\n",
    "    ]\n",
    "\n",
    "GUACAMOL_ORACLES = [oracle_name for oracle_name in AVAILABLE_ORACLES if oracle_name.endswith('MPO')]\n",
    "\n",
    "# Classes \n",
    "\n",
    "class Oracle:\n",
    "\n",
    "    def __init__(self, name: str, dtype: str = None) -> None:\n",
    "        if name not in AVAILABLE_ORACLES:\n",
    "            raise ValueError(f\"Oracle {name} not available\")\n",
    "        self.oracle = TDCOracle(name) if name in AVAILABLE_ORACLES else None\n",
    "        self.dtype = dtype\n",
    "\n",
    "    def _to_dtype(self, outputs: List[float]) -> Union[torch.Tensor, np.array, List[float]]:\n",
    "        if self.dtype == 'pt':\n",
    "            return torch.tensor(outputs)\n",
    "        elif self.dtype == 'np':    \n",
    "            return np.array(outputs)\n",
    "        else:\n",
    "            return outputs\n",
    "\n",
    "    def __call__(self, molecules: Union[List[str], str]) -> float:\n",
    "\n",
    "        if isinstance(molecules, str):\n",
    "            molecules = [molecules]\n",
    "\n",
    "        _values = []\n",
    "        for molecule in molecules:\n",
    "        \n",
    "            try:\n",
    "                _is_valid = is_valid(molecule)\n",
    "            except:\n",
    "                _is_valid = False\n",
    "        \n",
    "            _value = self.oracle(molecule) if _is_valid else np.nan\n",
    "            _values.append(_value)\n",
    "        \n",
    "        return self._to_dtype(_values)\n",
    "    \n",
    "    def __str__(self) -> str:\n",
    "        return f\"Oracle {self.oracle.name}\"\n",
    "    \n",
    "    def __repr__(self) -> str:\n",
    "        return self.__str__()\n",
    "        \n",
    "            \n",
    "class MoleculeBuffer:\n",
    "\n",
    "    def __init__(self, max_oracle_calls, freq_log, initial_mol_buffer: dict = None):\n",
    "        self.max_oracle_calls = max_oracle_calls\n",
    "        self.freq_log = freq_log\n",
    "        self.mol_buffer = {} if initial_mol_buffer is None else initial_mol_buffer\n",
    "    \n",
    "    def __str__(self) -> str:\n",
    "        return f\"Buffer with {len(self.mol_buffer)} molecules\"\n",
    "    \n",
    "    def __repr__(self) -> str:\n",
    "        return self.__str__()\n",
    "    \n",
    "    def __len__(self) -> int:\n",
    "        return len(self.mol_buffer)\n",
    "    \n",
    "    def get_data(self, top_k: int = None):\n",
    "        # get smiles and properties from the buffer that are not nan\n",
    "        self.sort_buffer()\n",
    "        smiles = []\n",
    "        properties = []\n",
    "        for molecule, (prop, _) in self.mol_buffer.items():\n",
    "            if prop == prop:\n",
    "                smiles.append(molecule)\n",
    "                properties.append(prop)\n",
    "        if top_k is not None and top_k < len(smiles):\n",
    "            smiles = smiles[:top_k]\n",
    "            properties = properties[:top_k]\n",
    "        return smiles, properties\n",
    "    \n",
    "    def add(self, molecules: Union[str, List[str]], properties: Union[float, List[float]]):\n",
    "        \n",
    "        if isinstance(molecules, str):\n",
    "            molecules = [molecules]\n",
    "            properties = [properties]\n",
    "        \n",
    "        assert len(molecules) == len(properties), \"Molecules and properties must have the same length\"\n",
    "        assert len(self.mol_buffer) + len(molecules) <= self.max_oracle_calls, \"Buffer full\"\n",
    "\n",
    "        for molecule, prop in zip(molecules, properties):\n",
    "            if molecule not in self.mol_buffer:\n",
    "                self.mol_buffer[molecule] = [prop, len(self.mol_buffer) + 1]\n",
    "        \n",
    "        self.sort_buffer()\n",
    "    \n",
    "    def sort_buffer(self):\n",
    "        self.mol_buffer = dict(sorted(self.mol_buffer.items(), key=lambda kv: kv[1][0], reverse=True))\n",
    "    \n",
    "    def calculate_top_auc(self, k: int):\n",
    "        return self._calculate_top_auc(self.mol_buffer, k, True, self.freq_log, self.max_oracle_calls)\n",
    "\n",
    "    def save(self, path):\n",
    "\n",
    "        idx = []\n",
    "        molecules = []\n",
    "        properties = []\n",
    "\n",
    "        for _, (_molecule, (_prop, _idx)) in enumerate(self.mol_buffer.items()):\n",
    "            idx.append(_idx)\n",
    "            molecules.append(_molecule)\n",
    "            properties.append(_prop)\n",
    "\n",
    "        _df = pd.DataFrame({\n",
    "            'idx': idx,\n",
    "            'molecule': molecules,\n",
    "            'property': properties\n",
    "        })\n",
    "        _df.to_csv(path, index=False)\n",
    "\n",
    "    @staticmethod\n",
    "    def _calculate_top_auc(buffer, top_n, finish, freq_log, max_oracle_calls):\n",
    "\n",
    "        # filter out properties that are equal to NaNs\n",
    "        _buffer = buffer.copy()\n",
    "        _buffer = {k: v for k, v in buffer.items() if v[0] == v[0]}\n",
    "\n",
    "        # calculate the top auc\n",
    "        sum = 0\n",
    "        prev = 0\n",
    "        called = 0\n",
    "        ordered_results = list(sorted(_buffer.items(), key=lambda kv: kv[1][1], reverse=False))\n",
    "        for idx in range(freq_log, min(len(_buffer), max_oracle_calls), freq_log):\n",
    "            temp_result = ordered_results[:idx]\n",
    "            temp_result = list(sorted(temp_result, key=lambda kv: kv[1][0], reverse=True))[:top_n]\n",
    "            top_n_now = np.mean([item[1][0] for item in temp_result])\n",
    "            sum += freq_log * (top_n_now + prev) / 2\n",
    "            prev = top_n_now\n",
    "            called = idx\n",
    "        temp_result = list(sorted(ordered_results, key=lambda kv: kv[1][0], reverse=True))[:top_n]\n",
    "        top_n_now = np.mean([item[1][0] for item in temp_result])\n",
    "        sum += (len(_buffer) - called) * (top_n_now + prev) / 2\n",
    "        if finish and len(_buffer) < max_oracle_calls:\n",
    "            sum += (max_oracle_calls - len(_buffer)) * top_n_now\n",
    "        return sum / max_oracle_calls\n"
   ]
  },
  {
   "cell_type": "markdown",
   "metadata": {},
   "source": [
    "## Experiment 1: unconditional generation"
   ]
  },
  {
   "cell_type": "code",
   "execution_count": 21,
   "metadata": {},
   "outputs": [],
   "source": [
    "# hyperparameters // hparams search on mean AUC top-10 calculated across 3 random seeds and 7 MPOs\n",
    "\n",
    "ORACLE_NAME = 'Zaleplon_MPO'\n",
    "MAX_ORACLE_CALLS = 10000\n",
    "FREQ_LOG = 100\n",
    "SEED = 0\n",
    "TOP_K = 10\n",
    "PATH_RESULTS = '/home/aih/adam.izdebski/project/hyformer-interface/hyformer/results.csv'\n",
    "\n",
    "PATH_TO_TOKENIZER_CONFIG = 'configs/tokenizers/smiles_separate_task_token/config.json'\n",
    "PATH_TO_MODEL_CONFIG = 'configs/models/hyformer_prediction_deep/config.json'\n",
    "PATH_TO_TRAINER_CONFIG = 'configs/trainers/pmo/config.json'\n",
    "\n",
    "PATH_TO_MODEL_CKPT = '/lustre/groups/aih/hyformer/icml25/results/pretrain/guacamol/hyformer/llama_backbone/pretrain_generation_mlm_physchem/ckpt.pt'"
   ]
  },
  {
   "cell_type": "code",
   "execution_count": 22,
   "metadata": {},
   "outputs": [],
   "source": [
    "# Set logging\n",
    "\n",
    "import logging\n",
    "logger = logging.getLogger()\n",
    "logger.setLevel(logging.INFO)"
   ]
  },
  {
   "cell_type": "code",
   "execution_count": 23,
   "metadata": {},
   "outputs": [],
   "source": [
    "# Set device\n",
    "\n",
    "device = torch.device('cuda:0' if torch.cuda.is_available() else 'cpu')"
   ]
  },
  {
   "cell_type": "code",
   "execution_count": 24,
   "metadata": {},
   "outputs": [],
   "source": [
    "# set seed\n",
    "\n",
    "set_seed(SEED)"
   ]
  },
  {
   "cell_type": "code",
   "execution_count": 52,
   "metadata": {},
   "outputs": [
    {
     "data": {
      "text/plain": [
       "HyformerForDownstreamPredictionDeep(\n",
       "  (token_embedding): Embedding(596, 256)\n",
       "  (layers): ModuleList(\n",
       "    (0-7): 8 x TransformerLayer(\n",
       "      (attention_layer): Attention(\n",
       "        (qkv): Linear(in_features=256, out_features=768, bias=False)\n",
       "        (out): Linear(in_features=256, out_features=256, bias=False)\n",
       "        (relative_embedding): RotaryPositionalEmbedding()\n",
       "      )\n",
       "      (feed_forward): FeedForward(\n",
       "        (w1): Linear(in_features=256, out_features=1024, bias=False)\n",
       "        (w3): Linear(in_features=256, out_features=1024, bias=False)\n",
       "        (w2): Linear(in_features=1024, out_features=256, bias=False)\n",
       "      )\n",
       "      (attention_layer_normalization): RMSNorm()\n",
       "      (feed_forward_normalization): RMSNorm()\n",
       "    )\n",
       "  )\n",
       "  (layer_norm): RMSNorm()\n",
       "  (lm_head): Linear(in_features=256, out_features=596, bias=False)\n",
       "  (mlm_head): Linear(in_features=256, out_features=596, bias=False)\n",
       "  (physchem_head): RegressionHead(\n",
       "    (net): Sequential(\n",
       "      (0): Linear(in_features=256, out_features=256, bias=True)\n",
       "      (1): GELU(approximate='none')\n",
       "      (2): LayerNorm((256,), eps=1e-05, elementwise_affine=True)\n",
       "      (3): Linear(in_features=256, out_features=200, bias=True)\n",
       "    )\n",
       "  )\n",
       "  (prediction_head): DownstreamPredictionHeadDeep(\n",
       "    (dense): Linear(in_features=256, out_features=256, bias=True)\n",
       "    (activation_fn): GELU(approximate='none')\n",
       "    (dropout): Dropout(p=0.0, inplace=False)\n",
       "    (out_proj): Linear(in_features=256, out_features=1, bias=True)\n",
       "  )\n",
       ")"
      ]
     },
     "execution_count": 52,
     "metadata": {},
     "output_type": "execute_result"
    }
   ],
   "source": [
    "# Tokenizer\n",
    "tokenizer_config = TokenizerConfig.from_config_file(PATH_TO_TOKENIZER_CONFIG)\n",
    "tokenizer = AutoTokenizer.from_config(tokenizer_config)\n",
    "\n",
    "# Model\n",
    "\n",
    "model_config = ModelConfig.from_config_file(PATH_TO_MODEL_CONFIG)\n",
    "model = AutoModel.from_config(model_config, downstream_task=\"regression\", num_tasks=1)\n",
    "model.load_pretrained(PATH_TO_MODEL_CKPT)\n",
    "model.to(device)\n",
    "model.eval()"
   ]
  },
  {
   "cell_type": "code",
   "execution_count": 53,
   "metadata": {},
   "outputs": [
    {
     "name": "stdout",
     "output_type": "stream",
     "text": [
      "Freezing all weights except for the predictor head...\n"
     ]
    }
   ],
   "source": [
    "# Freeze weights // try to have only layer 7 and 8 unfreezed \n",
    "\n",
    "for name, param in model.named_parameters():\n",
    "    if name.startswith('prediction_head') or name.startswith('layers.7') or name.startswith('layers.6'):\n",
    "        param.requires_grad = True\n",
    "    else:\n",
    "        param.requires_grad = False\n",
    "print(\"Freezing all weights except for the predictor head...\", flush=True)"
   ]
  },
  {
   "cell_type": "code",
   "execution_count": 54,
   "metadata": {},
   "outputs": [
    {
     "name": "stdout",
     "output_type": "stream",
     "text": [
      "token_embedding.weight False\n",
      "layers.0.attention_layer.qkv.weight False\n",
      "layers.0.attention_layer.out.weight False\n",
      "layers.0.feed_forward.w1.weight False\n",
      "layers.0.feed_forward.w3.weight False\n",
      "layers.0.feed_forward.w2.weight False\n",
      "layers.0.attention_layer_normalization.weight False\n",
      "layers.0.feed_forward_normalization.weight False\n",
      "layers.1.attention_layer.qkv.weight False\n",
      "layers.1.attention_layer.out.weight False\n",
      "layers.1.feed_forward.w1.weight False\n",
      "layers.1.feed_forward.w3.weight False\n",
      "layers.1.feed_forward.w2.weight False\n",
      "layers.1.attention_layer_normalization.weight False\n",
      "layers.1.feed_forward_normalization.weight False\n",
      "layers.2.attention_layer.qkv.weight False\n",
      "layers.2.attention_layer.out.weight False\n",
      "layers.2.feed_forward.w1.weight False\n",
      "layers.2.feed_forward.w3.weight False\n",
      "layers.2.feed_forward.w2.weight False\n",
      "layers.2.attention_layer_normalization.weight False\n",
      "layers.2.feed_forward_normalization.weight False\n",
      "layers.3.attention_layer.qkv.weight False\n",
      "layers.3.attention_layer.out.weight False\n",
      "layers.3.feed_forward.w1.weight False\n",
      "layers.3.feed_forward.w3.weight False\n",
      "layers.3.feed_forward.w2.weight False\n",
      "layers.3.attention_layer_normalization.weight False\n",
      "layers.3.feed_forward_normalization.weight False\n",
      "layers.4.attention_layer.qkv.weight False\n",
      "layers.4.attention_layer.out.weight False\n",
      "layers.4.feed_forward.w1.weight False\n",
      "layers.4.feed_forward.w3.weight False\n",
      "layers.4.feed_forward.w2.weight False\n",
      "layers.4.attention_layer_normalization.weight False\n",
      "layers.4.feed_forward_normalization.weight False\n",
      "layers.5.attention_layer.qkv.weight False\n",
      "layers.5.attention_layer.out.weight False\n",
      "layers.5.feed_forward.w1.weight False\n",
      "layers.5.feed_forward.w3.weight False\n",
      "layers.5.feed_forward.w2.weight False\n",
      "layers.5.attention_layer_normalization.weight False\n",
      "layers.5.feed_forward_normalization.weight False\n",
      "layers.6.attention_layer.qkv.weight True\n",
      "layers.6.attention_layer.out.weight True\n",
      "layers.6.feed_forward.w1.weight True\n",
      "layers.6.feed_forward.w3.weight True\n",
      "layers.6.feed_forward.w2.weight True\n",
      "layers.6.attention_layer_normalization.weight True\n",
      "layers.6.feed_forward_normalization.weight True\n",
      "layers.7.attention_layer.qkv.weight True\n",
      "layers.7.attention_layer.out.weight True\n",
      "layers.7.feed_forward.w1.weight True\n",
      "layers.7.feed_forward.w3.weight True\n",
      "layers.7.feed_forward.w2.weight True\n",
      "layers.7.attention_layer_normalization.weight True\n",
      "layers.7.feed_forward_normalization.weight True\n",
      "layer_norm.weight False\n",
      "physchem_head.net.0.weight False\n",
      "physchem_head.net.0.bias False\n",
      "physchem_head.net.2.weight False\n",
      "physchem_head.net.2.bias False\n",
      "physchem_head.net.3.weight False\n",
      "physchem_head.net.3.bias False\n",
      "prediction_head.dense.weight True\n",
      "prediction_head.dense.bias True\n",
      "prediction_head.out_proj.weight True\n",
      "prediction_head.out_proj.bias True\n"
     ]
    }
   ],
   "source": [
    "for name, param in model.named_parameters():\n",
    "    print(name, param.requires_grad)"
   ]
  },
  {
   "cell_type": "code",
   "execution_count": 55,
   "metadata": {},
   "outputs": [],
   "source": [
    "# Trainer config\n",
    "\n",
    "trainer_config = TrainerConfig.from_config_file(PATH_TO_TRAINER_CONFIG)\n",
    "trainer_config.tasks = {'prediction': 0.5, 'generation': 0.5}"
   ]
  },
  {
   "cell_type": "code",
   "execution_count": 58,
   "metadata": {},
   "outputs": [
    {
     "name": "stdout",
     "output_type": "stream",
     "text": [
      "Number of optimization steps: 100\n",
      "Number of samples per optimization step: 100\n",
      "Oracle zaleplon_mpo\n"
     ]
    },
    {
     "name": "stderr",
     "output_type": "stream",
     "text": [
      "100%|██████████| 20/20 [01:44<00:00,  5.20s/it]\n"
     ]
    },
    {
     "name": "stdout",
     "output_type": "stream",
     "text": [
      "Step 0, AUC Top-10: 0.000\n",
      "Number of data points: 93\n",
      "MAX: 0.0023516068153027645\n"
     ]
    },
    {
     "name": "stderr",
     "output_type": "stream",
     "text": [
      "100%|██████████| 20/20 [01:43<00:00,  5.15s/it]\n"
     ]
    },
    {
     "name": "stdout",
     "output_type": "stream",
     "text": [
      "Step 1, AUC Top-10: 0.006\n",
      "Number of data points: 100\n",
      "MAX: 0.056770659761769295\n"
     ]
    },
    {
     "name": "stderr",
     "output_type": "stream",
     "text": [
      "100%|██████████| 20/20 [01:42<00:00,  5.12s/it]\n"
     ]
    },
    {
     "name": "stdout",
     "output_type": "stream",
     "text": [
      "Step 2, AUC Top-10: 0.006\n",
      "Number of data points: 100\n",
      "MAX: 0.056770659761769295\n"
     ]
    },
    {
     "name": "stderr",
     "output_type": "stream",
     "text": [
      "100%|██████████| 20/20 [01:44<00:00,  5.21s/it]\n"
     ]
    },
    {
     "name": "stdout",
     "output_type": "stream",
     "text": [
      "Step 3, AUC Top-10: 0.006\n",
      "Number of data points: 100\n",
      "MAX: 0.056770659761769295\n"
     ]
    },
    {
     "name": "stderr",
     "output_type": "stream",
     "text": [
      "100%|██████████| 20/20 [01:42<00:00,  5.12s/it]\n"
     ]
    },
    {
     "name": "stdout",
     "output_type": "stream",
     "text": [
      "Step 4, AUC Top-10: 0.006\n",
      "Number of data points: 100\n",
      "MAX: 0.056770659761769295\n"
     ]
    },
    {
     "name": "stderr",
     "output_type": "stream",
     "text": [
      "100%|██████████| 20/20 [01:42<00:00,  5.14s/it]\n"
     ]
    },
    {
     "name": "stdout",
     "output_type": "stream",
     "text": [
      "Step 5, AUC Top-10: 0.006\n",
      "Number of data points: 100\n",
      "MAX: 0.056770659761769295\n"
     ]
    },
    {
     "name": "stderr",
     "output_type": "stream",
     "text": [
      "100%|██████████| 20/20 [01:42<00:00,  5.14s/it]\n"
     ]
    },
    {
     "name": "stdout",
     "output_type": "stream",
     "text": [
      "Step 6, AUC Top-10: 0.006\n",
      "Number of data points: 100\n",
      "MAX: 0.056770659761769295\n"
     ]
    },
    {
     "name": "stderr",
     "output_type": "stream",
     "text": [
      "100%|██████████| 20/20 [01:42<00:00,  5.13s/it]\n"
     ]
    },
    {
     "name": "stdout",
     "output_type": "stream",
     "text": [
      "Step 7, AUC Top-10: 0.006\n",
      "Number of data points: 100\n",
      "MAX: 0.056770659761769295\n"
     ]
    },
    {
     "name": "stderr",
     "output_type": "stream",
     "text": [
      "100%|██████████| 20/20 [01:43<00:00,  5.17s/it]\n"
     ]
    },
    {
     "name": "stdout",
     "output_type": "stream",
     "text": [
      "Step 8, AUC Top-10: 0.006\n",
      "Number of data points: 100\n",
      "MAX: 0.056770659761769295\n"
     ]
    },
    {
     "name": "stderr",
     "output_type": "stream",
     "text": [
      "100%|██████████| 20/20 [01:42<00:00,  5.14s/it]\n"
     ]
    },
    {
     "name": "stdout",
     "output_type": "stream",
     "text": [
      "Step 9, AUC Top-10: 0.006\n",
      "Number of data points: 100\n",
      "MAX: 0.056770659761769295\n"
     ]
    },
    {
     "name": "stderr",
     "output_type": "stream",
     "text": [
      "100%|██████████| 20/20 [01:42<00:00,  5.13s/it]\n"
     ]
    },
    {
     "name": "stdout",
     "output_type": "stream",
     "text": [
      "Step 10, AUC Top-10: 0.006\n",
      "Number of data points: 100\n",
      "MAX: 0.056770659761769295\n"
     ]
    },
    {
     "name": "stderr",
     "output_type": "stream",
     "text": [
      "100%|██████████| 20/20 [01:42<00:00,  5.12s/it]\n"
     ]
    },
    {
     "name": "stdout",
     "output_type": "stream",
     "text": [
      "Step 11, AUC Top-10: 0.006\n",
      "Number of data points: 100\n",
      "MAX: 0.056770659761769295\n"
     ]
    },
    {
     "name": "stderr",
     "output_type": "stream",
     "text": [
      "100%|██████████| 20/20 [01:42<00:00,  5.14s/it]\n"
     ]
    },
    {
     "name": "stdout",
     "output_type": "stream",
     "text": [
      "Step 12, AUC Top-10: 0.006\n",
      "Number of data points: 100\n",
      "MAX: 0.056770659761769295\n"
     ]
    },
    {
     "name": "stderr",
     "output_type": "stream",
     "text": [
      "100%|██████████| 20/20 [01:42<00:00,  5.12s/it]\n"
     ]
    },
    {
     "name": "stdout",
     "output_type": "stream",
     "text": [
      "Step 13, AUC Top-10: 0.006\n",
      "Number of data points: 100\n",
      "MAX: 0.056770659761769295\n"
     ]
    },
    {
     "name": "stderr",
     "output_type": "stream",
     "text": [
      "100%|██████████| 20/20 [01:42<00:00,  5.12s/it]\n"
     ]
    },
    {
     "name": "stdout",
     "output_type": "stream",
     "text": [
      "Step 14, AUC Top-10: 0.006\n",
      "Number of data points: 100\n",
      "MAX: 0.056770659761769295\n"
     ]
    },
    {
     "name": "stderr",
     "output_type": "stream",
     "text": [
      "100%|██████████| 20/20 [01:42<00:00,  5.13s/it]\n"
     ]
    },
    {
     "name": "stdout",
     "output_type": "stream",
     "text": [
      "Step 15, AUC Top-10: 0.006\n",
      "Number of data points: 100\n",
      "MAX: 0.056770659761769295\n"
     ]
    },
    {
     "name": "stderr",
     "output_type": "stream",
     "text": [
      "100%|██████████| 20/20 [01:42<00:00,  5.12s/it]\n"
     ]
    },
    {
     "name": "stdout",
     "output_type": "stream",
     "text": [
      "Step 16, AUC Top-10: 0.006\n",
      "Number of data points: 100\n",
      "MAX: 0.056770659761769295\n"
     ]
    },
    {
     "name": "stderr",
     "output_type": "stream",
     "text": [
      "100%|██████████| 20/20 [01:42<00:00,  5.12s/it]\n"
     ]
    },
    {
     "name": "stdout",
     "output_type": "stream",
     "text": [
      "Step 17, AUC Top-10: 0.006\n",
      "Number of data points: 100\n",
      "MAX: 0.056770659761769295\n"
     ]
    },
    {
     "name": "stderr",
     "output_type": "stream",
     "text": [
      "100%|██████████| 20/20 [01:43<00:00,  5.16s/it]\n"
     ]
    },
    {
     "name": "stdout",
     "output_type": "stream",
     "text": [
      "Step 18, AUC Top-10: 0.006\n",
      "Number of data points: 100\n",
      "MAX: 0.056770659761769295\n"
     ]
    },
    {
     "name": "stderr",
     "output_type": "stream",
     "text": [
      "100%|██████████| 20/20 [01:42<00:00,  5.12s/it]\n"
     ]
    },
    {
     "name": "stdout",
     "output_type": "stream",
     "text": [
      "Step 19, AUC Top-10: 0.006\n",
      "Number of data points: 100\n",
      "MAX: 0.056770659761769295\n"
     ]
    },
    {
     "name": "stderr",
     "output_type": "stream",
     "text": [
      "100%|██████████| 20/20 [01:42<00:00,  5.12s/it]\n"
     ]
    },
    {
     "name": "stdout",
     "output_type": "stream",
     "text": [
      "Step 20, AUC Top-10: 0.006\n",
      "Number of data points: 100\n",
      "MAX: 0.056770659761769295\n"
     ]
    },
    {
     "name": "stderr",
     "output_type": "stream",
     "text": [
      "100%|██████████| 20/20 [01:42<00:00,  5.13s/it]\n"
     ]
    },
    {
     "name": "stdout",
     "output_type": "stream",
     "text": [
      "Step 21, AUC Top-10: 0.006\n",
      "Number of data points: 100\n",
      "MAX: 0.056770659761769295\n"
     ]
    },
    {
     "name": "stderr",
     "output_type": "stream",
     "text": [
      "100%|██████████| 20/20 [01:42<00:00,  5.12s/it]\n"
     ]
    },
    {
     "name": "stdout",
     "output_type": "stream",
     "text": [
      "Step 22, AUC Top-10: 0.006\n",
      "Number of data points: 100\n",
      "MAX: 0.056770659761769295\n"
     ]
    },
    {
     "name": "stderr",
     "output_type": "stream",
     "text": [
      "100%|██████████| 20/20 [01:42<00:00,  5.12s/it]\n"
     ]
    },
    {
     "name": "stdout",
     "output_type": "stream",
     "text": [
      "Step 23, AUC Top-10: 0.006\n",
      "Number of data points: 100\n",
      "MAX: 0.056770659761769295\n"
     ]
    },
    {
     "name": "stderr",
     "output_type": "stream",
     "text": [
      "100%|██████████| 20/20 [01:43<00:00,  5.16s/it]\n"
     ]
    },
    {
     "name": "stdout",
     "output_type": "stream",
     "text": [
      "Step 24, AUC Top-10: 0.006\n",
      "Number of data points: 100\n",
      "MAX: 0.056770659761769295\n"
     ]
    },
    {
     "name": "stderr",
     "output_type": "stream",
     "text": [
      "100%|██████████| 20/20 [01:42<00:00,  5.14s/it]\n"
     ]
    },
    {
     "name": "stdout",
     "output_type": "stream",
     "text": [
      "Step 25, AUC Top-10: 0.006\n",
      "Number of data points: 100\n",
      "MAX: 0.056770659761769295\n"
     ]
    },
    {
     "name": "stderr",
     "output_type": "stream",
     "text": [
      "100%|██████████| 20/20 [01:42<00:00,  5.12s/it]\n"
     ]
    },
    {
     "name": "stdout",
     "output_type": "stream",
     "text": [
      "Step 26, AUC Top-10: 0.006\n",
      "Number of data points: 100\n",
      "MAX: 0.056770659761769295\n"
     ]
    },
    {
     "name": "stderr",
     "output_type": "stream",
     "text": [
      "100%|██████████| 20/20 [01:42<00:00,  5.15s/it]\n"
     ]
    },
    {
     "name": "stdout",
     "output_type": "stream",
     "text": [
      "Step 27, AUC Top-10: 0.006\n",
      "Number of data points: 100\n",
      "MAX: 0.056770659761769295\n"
     ]
    },
    {
     "name": "stderr",
     "output_type": "stream",
     "text": [
      "100%|██████████| 20/20 [01:42<00:00,  5.12s/it]\n"
     ]
    },
    {
     "name": "stdout",
     "output_type": "stream",
     "text": [
      "Step 28, AUC Top-10: 0.006\n",
      "Number of data points: 100\n",
      "MAX: 0.056770659761769295\n"
     ]
    },
    {
     "name": "stderr",
     "output_type": "stream",
     "text": [
      "100%|██████████| 20/20 [01:42<00:00,  5.12s/it]\n"
     ]
    },
    {
     "name": "stdout",
     "output_type": "stream",
     "text": [
      "Step 29, AUC Top-10: 0.006\n",
      "Number of data points: 100\n",
      "MAX: 0.056770659761769295\n"
     ]
    },
    {
     "name": "stderr",
     "output_type": "stream",
     "text": [
      "100%|██████████| 20/20 [01:42<00:00,  5.14s/it]\n"
     ]
    },
    {
     "name": "stdout",
     "output_type": "stream",
     "text": [
      "Step 30, AUC Top-10: 0.006\n",
      "Number of data points: 100\n",
      "MAX: 0.056770659761769295\n"
     ]
    },
    {
     "name": "stderr",
     "output_type": "stream",
     "text": [
      "100%|██████████| 20/20 [01:42<00:00,  5.12s/it]\n"
     ]
    },
    {
     "name": "stdout",
     "output_type": "stream",
     "text": [
      "Step 31, AUC Top-10: 0.006\n",
      "Number of data points: 100\n",
      "MAX: 0.056770659761769295\n"
     ]
    },
    {
     "name": "stderr",
     "output_type": "stream",
     "text": [
      "100%|██████████| 20/20 [01:42<00:00,  5.13s/it]\n"
     ]
    },
    {
     "name": "stdout",
     "output_type": "stream",
     "text": [
      "Step 32, AUC Top-10: 0.006\n",
      "Number of data points: 100\n",
      "MAX: 0.056770659761769295\n"
     ]
    },
    {
     "name": "stderr",
     "output_type": "stream",
     "text": [
      "100%|██████████| 20/20 [01:42<00:00,  5.13s/it]\n"
     ]
    },
    {
     "name": "stdout",
     "output_type": "stream",
     "text": [
      "Step 33, AUC Top-10: 0.006\n",
      "Number of data points: 100\n",
      "MAX: 0.056770659761769295\n"
     ]
    },
    {
     "name": "stderr",
     "output_type": "stream",
     "text": [
      "100%|██████████| 20/20 [01:42<00:00,  5.12s/it]\n"
     ]
    },
    {
     "name": "stdout",
     "output_type": "stream",
     "text": [
      "Step 34, AUC Top-10: 0.006\n",
      "Number of data points: 100\n",
      "MAX: 0.056770659761769295\n"
     ]
    },
    {
     "name": "stderr",
     "output_type": "stream",
     "text": [
      "100%|██████████| 20/20 [01:42<00:00,  5.12s/it]\n"
     ]
    },
    {
     "name": "stdout",
     "output_type": "stream",
     "text": [
      "Step 35, AUC Top-10: 0.006\n",
      "Number of data points: 100\n",
      "MAX: 0.056770659761769295\n"
     ]
    },
    {
     "name": "stderr",
     "output_type": "stream",
     "text": [
      "100%|██████████| 20/20 [01:42<00:00,  5.13s/it]\n"
     ]
    },
    {
     "name": "stdout",
     "output_type": "stream",
     "text": [
      "Step 36, AUC Top-10: 0.006\n",
      "Number of data points: 100\n",
      "MAX: 0.056770659761769295\n"
     ]
    },
    {
     "name": "stderr",
     "output_type": "stream",
     "text": [
      "100%|██████████| 20/20 [01:42<00:00,  5.12s/it]\n"
     ]
    },
    {
     "name": "stdout",
     "output_type": "stream",
     "text": [
      "Step 37, AUC Top-10: 0.006\n",
      "Number of data points: 100\n",
      "MAX: 0.056770659761769295\n"
     ]
    },
    {
     "name": "stderr",
     "output_type": "stream",
     "text": [
      "100%|██████████| 20/20 [01:42<00:00,  5.13s/it]\n"
     ]
    },
    {
     "name": "stdout",
     "output_type": "stream",
     "text": [
      "Step 38, AUC Top-10: 0.006\n",
      "Number of data points: 100\n",
      "MAX: 0.056770659761769295\n"
     ]
    },
    {
     "name": "stderr",
     "output_type": "stream",
     "text": [
      "100%|██████████| 20/20 [01:42<00:00,  5.12s/it]\n"
     ]
    },
    {
     "name": "stdout",
     "output_type": "stream",
     "text": [
      "Step 39, AUC Top-10: 0.006\n",
      "Number of data points: 100\n",
      "MAX: 0.056770659761769295\n"
     ]
    },
    {
     "name": "stderr",
     "output_type": "stream",
     "text": [
      "100%|██████████| 20/20 [01:42<00:00,  5.15s/it]\n"
     ]
    },
    {
     "name": "stdout",
     "output_type": "stream",
     "text": [
      "Step 40, AUC Top-10: 0.006\n",
      "Number of data points: 100\n",
      "MAX: 0.056770659761769295\n"
     ]
    },
    {
     "name": "stderr",
     "output_type": "stream",
     "text": [
      "100%|██████████| 20/20 [01:42<00:00,  5.12s/it]\n"
     ]
    },
    {
     "name": "stdout",
     "output_type": "stream",
     "text": [
      "Step 41, AUC Top-10: 0.006\n",
      "Number of data points: 100\n",
      "MAX: 0.056770659761769295\n"
     ]
    },
    {
     "name": "stderr",
     "output_type": "stream",
     "text": [
      "100%|██████████| 20/20 [01:42<00:00,  5.15s/it]\n"
     ]
    },
    {
     "name": "stdout",
     "output_type": "stream",
     "text": [
      "Step 42, AUC Top-10: 0.006\n",
      "Number of data points: 100\n",
      "MAX: 0.056770659761769295\n"
     ]
    },
    {
     "name": "stderr",
     "output_type": "stream",
     "text": [
      "100%|██████████| 20/20 [01:42<00:00,  5.12s/it]\n"
     ]
    },
    {
     "name": "stdout",
     "output_type": "stream",
     "text": [
      "Step 43, AUC Top-10: 0.006\n",
      "Number of data points: 100\n",
      "MAX: 0.056770659761769295\n"
     ]
    },
    {
     "name": "stderr",
     "output_type": "stream",
     "text": [
      "100%|██████████| 20/20 [01:42<00:00,  5.13s/it]\n"
     ]
    },
    {
     "name": "stdout",
     "output_type": "stream",
     "text": [
      "Step 44, AUC Top-10: 0.006\n",
      "Number of data points: 100\n",
      "MAX: 0.056770659761769295\n"
     ]
    },
    {
     "name": "stderr",
     "output_type": "stream",
     "text": [
      "100%|██████████| 20/20 [01:42<00:00,  5.13s/it]\n"
     ]
    },
    {
     "name": "stdout",
     "output_type": "stream",
     "text": [
      "Step 45, AUC Top-10: 0.006\n",
      "Number of data points: 100\n",
      "MAX: 0.056770659761769295\n"
     ]
    },
    {
     "name": "stderr",
     "output_type": "stream",
     "text": [
      "100%|██████████| 20/20 [01:42<00:00,  5.12s/it]\n"
     ]
    },
    {
     "name": "stdout",
     "output_type": "stream",
     "text": [
      "Step 46, AUC Top-10: 0.006\n",
      "Number of data points: 100\n",
      "MAX: 0.056770659761769295\n"
     ]
    },
    {
     "name": "stderr",
     "output_type": "stream",
     "text": [
      "100%|██████████| 20/20 [01:42<00:00,  5.15s/it]\n"
     ]
    },
    {
     "name": "stdout",
     "output_type": "stream",
     "text": [
      "Step 47, AUC Top-10: 0.006\n",
      "Number of data points: 100\n",
      "MAX: 0.056770659761769295\n"
     ]
    },
    {
     "name": "stderr",
     "output_type": "stream",
     "text": [
      "100%|██████████| 20/20 [01:42<00:00,  5.12s/it]\n"
     ]
    },
    {
     "name": "stdout",
     "output_type": "stream",
     "text": [
      "Step 48, AUC Top-10: 0.006\n",
      "Number of data points: 100\n",
      "MAX: 0.056770659761769295\n"
     ]
    },
    {
     "name": "stderr",
     "output_type": "stream",
     "text": [
      "100%|██████████| 20/20 [01:42<00:00,  5.15s/it]\n"
     ]
    },
    {
     "name": "stdout",
     "output_type": "stream",
     "text": [
      "Step 49, AUC Top-10: 0.006\n",
      "Number of data points: 100\n",
      "MAX: 0.056770659761769295\n"
     ]
    },
    {
     "name": "stderr",
     "output_type": "stream",
     "text": [
      "100%|██████████| 20/20 [01:42<00:00,  5.13s/it]\n"
     ]
    },
    {
     "name": "stdout",
     "output_type": "stream",
     "text": [
      "Step 50, AUC Top-10: 0.006\n",
      "Number of data points: 100\n",
      "MAX: 0.056770659761769295\n"
     ]
    },
    {
     "name": "stderr",
     "output_type": "stream",
     "text": [
      "100%|██████████| 20/20 [01:42<00:00,  5.13s/it]\n"
     ]
    },
    {
     "name": "stdout",
     "output_type": "stream",
     "text": [
      "Step 51, AUC Top-10: 0.006\n",
      "Number of data points: 100\n",
      "MAX: 0.056770659761769295\n"
     ]
    },
    {
     "name": "stderr",
     "output_type": "stream",
     "text": [
      "100%|██████████| 20/20 [01:42<00:00,  5.14s/it]\n"
     ]
    },
    {
     "name": "stdout",
     "output_type": "stream",
     "text": [
      "Step 52, AUC Top-10: 0.006\n",
      "Number of data points: 100\n",
      "MAX: 0.056770659761769295\n"
     ]
    },
    {
     "name": "stderr",
     "output_type": "stream",
     "text": [
      "100%|██████████| 20/20 [01:43<00:00,  5.15s/it]\n"
     ]
    },
    {
     "name": "stdout",
     "output_type": "stream",
     "text": [
      "Step 53, AUC Top-10: 0.006\n",
      "Number of data points: 100\n",
      "MAX: 0.056770659761769295\n"
     ]
    },
    {
     "name": "stderr",
     "output_type": "stream",
     "text": [
      "100%|██████████| 20/20 [01:43<00:00,  5.16s/it]\n"
     ]
    },
    {
     "name": "stdout",
     "output_type": "stream",
     "text": [
      "Step 54, AUC Top-10: 0.006\n",
      "Number of data points: 100\n",
      "MAX: 0.056770659761769295\n"
     ]
    },
    {
     "name": "stderr",
     "output_type": "stream",
     "text": [
      "100%|██████████| 20/20 [01:42<00:00,  5.14s/it]\n"
     ]
    },
    {
     "name": "stdout",
     "output_type": "stream",
     "text": [
      "Step 55, AUC Top-10: 0.006\n",
      "Number of data points: 100\n",
      "MAX: 0.056770659761769295\n"
     ]
    },
    {
     "name": "stderr",
     "output_type": "stream",
     "text": [
      "100%|██████████| 20/20 [01:42<00:00,  5.12s/it]\n"
     ]
    },
    {
     "name": "stdout",
     "output_type": "stream",
     "text": [
      "Step 56, AUC Top-10: 0.006\n",
      "Number of data points: 100\n",
      "MAX: 0.056770659761769295\n"
     ]
    },
    {
     "name": "stderr",
     "output_type": "stream",
     "text": [
      "100%|██████████| 20/20 [01:42<00:00,  5.13s/it]\n"
     ]
    },
    {
     "name": "stdout",
     "output_type": "stream",
     "text": [
      "Step 57, AUC Top-10: 0.006\n",
      "Number of data points: 100\n",
      "MAX: 0.056770659761769295\n"
     ]
    },
    {
     "name": "stderr",
     "output_type": "stream",
     "text": [
      "100%|██████████| 20/20 [01:42<00:00,  5.13s/it]\n"
     ]
    },
    {
     "name": "stdout",
     "output_type": "stream",
     "text": [
      "Step 58, AUC Top-10: 0.006\n",
      "Number of data points: 100\n",
      "MAX: 0.056770659761769295\n"
     ]
    },
    {
     "name": "stderr",
     "output_type": "stream",
     "text": [
      "100%|██████████| 20/20 [01:42<00:00,  5.15s/it]\n"
     ]
    },
    {
     "name": "stdout",
     "output_type": "stream",
     "text": [
      "Step 59, AUC Top-10: 0.006\n",
      "Number of data points: 100\n",
      "MAX: 0.056770659761769295\n"
     ]
    },
    {
     "name": "stderr",
     "output_type": "stream",
     "text": [
      "100%|██████████| 20/20 [01:42<00:00,  5.13s/it]\n"
     ]
    },
    {
     "name": "stdout",
     "output_type": "stream",
     "text": [
      "Step 60, AUC Top-10: 0.006\n",
      "Number of data points: 100\n",
      "MAX: 0.056770659761769295\n"
     ]
    },
    {
     "name": "stderr",
     "output_type": "stream",
     "text": [
      "100%|██████████| 20/20 [01:42<00:00,  5.13s/it]\n"
     ]
    },
    {
     "name": "stdout",
     "output_type": "stream",
     "text": [
      "Step 61, AUC Top-10: 0.006\n",
      "Number of data points: 100\n",
      "MAX: 0.056770659761769295\n"
     ]
    },
    {
     "name": "stderr",
     "output_type": "stream",
     "text": [
      "100%|██████████| 20/20 [01:42<00:00,  5.12s/it]\n"
     ]
    },
    {
     "name": "stdout",
     "output_type": "stream",
     "text": [
      "Step 62, AUC Top-10: 0.006\n",
      "Number of data points: 100\n",
      "MAX: 0.056770659761769295\n"
     ]
    },
    {
     "name": "stderr",
     "output_type": "stream",
     "text": [
      "100%|██████████| 20/20 [01:42<00:00,  5.15s/it]\n"
     ]
    },
    {
     "name": "stdout",
     "output_type": "stream",
     "text": [
      "Step 63, AUC Top-10: 0.006\n",
      "Number of data points: 100\n",
      "MAX: 0.056770659761769295\n"
     ]
    },
    {
     "name": "stderr",
     "output_type": "stream",
     "text": [
      "100%|██████████| 20/20 [01:46<00:00,  5.33s/it]\n"
     ]
    },
    {
     "name": "stdout",
     "output_type": "stream",
     "text": [
      "Step 64, AUC Top-10: 0.006\n",
      "Number of data points: 100\n",
      "MAX: 0.056770659761769295\n"
     ]
    },
    {
     "name": "stderr",
     "output_type": "stream",
     "text": [
      "100%|██████████| 20/20 [01:42<00:00,  5.13s/it]\n"
     ]
    },
    {
     "name": "stdout",
     "output_type": "stream",
     "text": [
      "Step 65, AUC Top-10: 0.006\n",
      "Number of data points: 100\n",
      "MAX: 0.056770659761769295\n"
     ]
    },
    {
     "name": "stderr",
     "output_type": "stream",
     "text": [
      "100%|██████████| 20/20 [01:43<00:00,  5.18s/it]\n"
     ]
    },
    {
     "name": "stdout",
     "output_type": "stream",
     "text": [
      "Step 66, AUC Top-10: 0.006\n",
      "Number of data points: 100\n",
      "MAX: 0.056770659761769295\n"
     ]
    },
    {
     "name": "stderr",
     "output_type": "stream",
     "text": [
      "100%|██████████| 20/20 [01:42<00:00,  5.13s/it]\n"
     ]
    },
    {
     "name": "stdout",
     "output_type": "stream",
     "text": [
      "Step 67, AUC Top-10: 0.006\n",
      "Number of data points: 100\n",
      "MAX: 0.056770659761769295\n"
     ]
    },
    {
     "name": "stderr",
     "output_type": "stream",
     "text": [
      "100%|██████████| 20/20 [01:42<00:00,  5.12s/it]\n"
     ]
    },
    {
     "name": "stdout",
     "output_type": "stream",
     "text": [
      "Step 68, AUC Top-10: 0.006\n",
      "Number of data points: 100\n",
      "MAX: 0.056770659761769295\n"
     ]
    },
    {
     "name": "stderr",
     "output_type": "stream",
     "text": [
      "100%|██████████| 20/20 [01:42<00:00,  5.15s/it]\n"
     ]
    },
    {
     "name": "stdout",
     "output_type": "stream",
     "text": [
      "Step 69, AUC Top-10: 0.006\n",
      "Number of data points: 100\n",
      "MAX: 0.056770659761769295\n"
     ]
    },
    {
     "name": "stderr",
     "output_type": "stream",
     "text": [
      "100%|██████████| 20/20 [01:42<00:00,  5.13s/it]\n"
     ]
    },
    {
     "name": "stdout",
     "output_type": "stream",
     "text": [
      "Step 70, AUC Top-10: 0.006\n",
      "Number of data points: 100\n",
      "MAX: 0.056770659761769295\n"
     ]
    },
    {
     "name": "stderr",
     "output_type": "stream",
     "text": [
      "100%|██████████| 20/20 [01:42<00:00,  5.12s/it]\n"
     ]
    },
    {
     "name": "stdout",
     "output_type": "stream",
     "text": [
      "Step 71, AUC Top-10: 0.006\n",
      "Number of data points: 100\n",
      "MAX: 0.056770659761769295\n"
     ]
    },
    {
     "name": "stderr",
     "output_type": "stream",
     "text": [
      "100%|██████████| 20/20 [01:42<00:00,  5.12s/it]\n"
     ]
    },
    {
     "name": "stdout",
     "output_type": "stream",
     "text": [
      "Step 72, AUC Top-10: 0.006\n",
      "Number of data points: 100\n",
      "MAX: 0.056770659761769295\n"
     ]
    },
    {
     "name": "stderr",
     "output_type": "stream",
     "text": [
      "100%|██████████| 20/20 [01:42<00:00,  5.13s/it]\n"
     ]
    },
    {
     "name": "stdout",
     "output_type": "stream",
     "text": [
      "Step 73, AUC Top-10: 0.006\n",
      "Number of data points: 100\n",
      "MAX: 0.056770659761769295\n"
     ]
    },
    {
     "name": "stderr",
     "output_type": "stream",
     "text": [
      "100%|██████████| 20/20 [01:43<00:00,  5.15s/it]\n"
     ]
    },
    {
     "name": "stdout",
     "output_type": "stream",
     "text": [
      "Step 74, AUC Top-10: 0.006\n",
      "Number of data points: 100\n",
      "MAX: 0.056770659761769295\n"
     ]
    },
    {
     "name": "stderr",
     "output_type": "stream",
     "text": [
      "100%|██████████| 20/20 [01:42<00:00,  5.15s/it]\n"
     ]
    },
    {
     "name": "stdout",
     "output_type": "stream",
     "text": [
      "Step 75, AUC Top-10: 0.006\n",
      "Number of data points: 100\n",
      "MAX: 0.056770659761769295\n"
     ]
    },
    {
     "name": "stderr",
     "output_type": "stream",
     "text": [
      "100%|██████████| 20/20 [01:42<00:00,  5.13s/it]\n"
     ]
    },
    {
     "name": "stdout",
     "output_type": "stream",
     "text": [
      "Step 76, AUC Top-10: 0.006\n",
      "Number of data points: 100\n",
      "MAX: 0.056770659761769295\n"
     ]
    },
    {
     "name": "stderr",
     "output_type": "stream",
     "text": [
      "100%|██████████| 20/20 [01:42<00:00,  5.12s/it]\n"
     ]
    },
    {
     "name": "stdout",
     "output_type": "stream",
     "text": [
      "Step 77, AUC Top-10: 0.006\n",
      "Number of data points: 100\n",
      "MAX: 0.056770659761769295\n"
     ]
    },
    {
     "name": "stderr",
     "output_type": "stream",
     "text": [
      "100%|██████████| 20/20 [01:46<00:00,  5.34s/it]\n"
     ]
    },
    {
     "name": "stdout",
     "output_type": "stream",
     "text": [
      "Step 78, AUC Top-10: 0.006\n",
      "Number of data points: 100\n",
      "MAX: 0.056770659761769295\n"
     ]
    },
    {
     "name": "stderr",
     "output_type": "stream",
     "text": [
      "100%|██████████| 20/20 [01:42<00:00,  5.12s/it]\n"
     ]
    },
    {
     "name": "stdout",
     "output_type": "stream",
     "text": [
      "Step 79, AUC Top-10: 0.006\n",
      "Number of data points: 100\n",
      "MAX: 0.056770659761769295\n"
     ]
    },
    {
     "name": "stderr",
     "output_type": "stream",
     "text": [
      "100%|██████████| 20/20 [01:42<00:00,  5.12s/it]\n"
     ]
    },
    {
     "name": "stdout",
     "output_type": "stream",
     "text": [
      "Step 80, AUC Top-10: 0.006\n",
      "Number of data points: 100\n",
      "MAX: 0.056770659761769295\n"
     ]
    },
    {
     "name": "stderr",
     "output_type": "stream",
     "text": [
      "100%|██████████| 20/20 [01:43<00:00,  5.19s/it]\n"
     ]
    },
    {
     "name": "stdout",
     "output_type": "stream",
     "text": [
      "Step 81, AUC Top-10: 0.006\n",
      "Number of data points: 100\n",
      "MAX: 0.056770659761769295\n"
     ]
    },
    {
     "name": "stderr",
     "output_type": "stream",
     "text": [
      "100%|██████████| 20/20 [01:42<00:00,  5.13s/it]\n"
     ]
    },
    {
     "name": "stdout",
     "output_type": "stream",
     "text": [
      "Step 82, AUC Top-10: 0.006\n",
      "Number of data points: 100\n",
      "MAX: 0.056770659761769295\n"
     ]
    },
    {
     "name": "stderr",
     "output_type": "stream",
     "text": [
      "100%|██████████| 20/20 [01:42<00:00,  5.15s/it]\n"
     ]
    },
    {
     "name": "stdout",
     "output_type": "stream",
     "text": [
      "Step 83, AUC Top-10: 0.006\n",
      "Number of data points: 100\n",
      "MAX: 0.056770659761769295\n"
     ]
    },
    {
     "name": "stderr",
     "output_type": "stream",
     "text": [
      "100%|██████████| 20/20 [01:42<00:00,  5.13s/it]\n"
     ]
    },
    {
     "name": "stdout",
     "output_type": "stream",
     "text": [
      "Step 84, AUC Top-10: 0.006\n",
      "Number of data points: 100\n",
      "MAX: 0.056770659761769295\n"
     ]
    },
    {
     "name": "stderr",
     "output_type": "stream",
     "text": [
      "100%|██████████| 20/20 [01:42<00:00,  5.14s/it]\n"
     ]
    },
    {
     "name": "stdout",
     "output_type": "stream",
     "text": [
      "Step 85, AUC Top-10: 0.006\n",
      "Number of data points: 100\n",
      "MAX: 0.056770659761769295\n"
     ]
    },
    {
     "name": "stderr",
     "output_type": "stream",
     "text": [
      "100%|██████████| 20/20 [01:42<00:00,  5.12s/it]\n"
     ]
    },
    {
     "name": "stdout",
     "output_type": "stream",
     "text": [
      "Step 86, AUC Top-10: 0.006\n",
      "Number of data points: 100\n",
      "MAX: 0.056770659761769295\n"
     ]
    },
    {
     "name": "stderr",
     "output_type": "stream",
     "text": [
      "100%|██████████| 20/20 [01:43<00:00,  5.16s/it]\n"
     ]
    },
    {
     "name": "stdout",
     "output_type": "stream",
     "text": [
      "Step 87, AUC Top-10: 0.006\n",
      "Number of data points: 100\n",
      "MAX: 0.056770659761769295\n"
     ]
    },
    {
     "name": "stderr",
     "output_type": "stream",
     "text": [
      "100%|██████████| 20/20 [01:42<00:00,  5.15s/it]\n"
     ]
    },
    {
     "name": "stdout",
     "output_type": "stream",
     "text": [
      "Step 88, AUC Top-10: 0.006\n",
      "Number of data points: 100\n",
      "MAX: 0.056770659761769295\n"
     ]
    },
    {
     "name": "stderr",
     "output_type": "stream",
     "text": [
      "100%|██████████| 20/20 [01:42<00:00,  5.13s/it]\n"
     ]
    },
    {
     "name": "stdout",
     "output_type": "stream",
     "text": [
      "Step 89, AUC Top-10: 0.006\n",
      "Number of data points: 100\n",
      "MAX: 0.056770659761769295\n"
     ]
    },
    {
     "name": "stderr",
     "output_type": "stream",
     "text": [
      "100%|██████████| 20/20 [01:42<00:00,  5.13s/it]\n"
     ]
    },
    {
     "name": "stdout",
     "output_type": "stream",
     "text": [
      "Step 90, AUC Top-10: 0.006\n",
      "Number of data points: 100\n",
      "MAX: 0.056770659761769295\n"
     ]
    },
    {
     "name": "stderr",
     "output_type": "stream",
     "text": [
      "100%|██████████| 20/20 [01:42<00:00,  5.13s/it]\n"
     ]
    },
    {
     "name": "stdout",
     "output_type": "stream",
     "text": [
      "Step 91, AUC Top-10: 0.006\n",
      "Number of data points: 100\n",
      "MAX: 0.056770659761769295\n"
     ]
    },
    {
     "name": "stderr",
     "output_type": "stream",
     "text": [
      "100%|██████████| 20/20 [01:42<00:00,  5.12s/it]\n"
     ]
    },
    {
     "name": "stdout",
     "output_type": "stream",
     "text": [
      "Step 92, AUC Top-10: 0.006\n",
      "Number of data points: 100\n",
      "MAX: 0.056770659761769295\n"
     ]
    },
    {
     "name": "stderr",
     "output_type": "stream",
     "text": [
      "100%|██████████| 20/20 [01:42<00:00,  5.13s/it]\n"
     ]
    },
    {
     "name": "stdout",
     "output_type": "stream",
     "text": [
      "Step 93, AUC Top-10: 0.006\n",
      "Number of data points: 100\n",
      "MAX: 0.056770659761769295\n"
     ]
    },
    {
     "name": "stderr",
     "output_type": "stream",
     "text": [
      "100%|██████████| 20/20 [01:42<00:00,  5.12s/it]\n"
     ]
    },
    {
     "name": "stdout",
     "output_type": "stream",
     "text": [
      "Step 94, AUC Top-10: 0.006\n",
      "Number of data points: 100\n",
      "MAX: 0.056770659761769295\n"
     ]
    },
    {
     "name": "stderr",
     "output_type": "stream",
     "text": [
      "100%|██████████| 20/20 [01:42<00:00,  5.12s/it]\n"
     ]
    },
    {
     "name": "stdout",
     "output_type": "stream",
     "text": [
      "Step 95, AUC Top-10: 0.006\n",
      "Number of data points: 100\n",
      "MAX: 0.056770659761769295\n"
     ]
    },
    {
     "name": "stderr",
     "output_type": "stream",
     "text": [
      "100%|██████████| 20/20 [01:43<00:00,  5.15s/it]\n"
     ]
    },
    {
     "name": "stdout",
     "output_type": "stream",
     "text": [
      "Step 96, AUC Top-10: 0.006\n",
      "Number of data points: 100\n",
      "MAX: 0.056770659761769295\n"
     ]
    },
    {
     "name": "stderr",
     "output_type": "stream",
     "text": [
      "100%|██████████| 20/20 [01:42<00:00,  5.12s/it]\n"
     ]
    },
    {
     "name": "stdout",
     "output_type": "stream",
     "text": [
      "Step 97, AUC Top-10: 0.006\n",
      "Number of data points: 100\n",
      "MAX: 0.056770659761769295\n"
     ]
    },
    {
     "name": "stderr",
     "output_type": "stream",
     "text": [
      "100%|██████████| 20/20 [01:42<00:00,  5.12s/it]\n"
     ]
    },
    {
     "name": "stdout",
     "output_type": "stream",
     "text": [
      "Step 98, AUC Top-10: 0.006\n",
      "Number of data points: 100\n",
      "MAX: 0.056770659761769295\n"
     ]
    },
    {
     "name": "stderr",
     "output_type": "stream",
     "text": [
      "100%|██████████| 20/20 [01:42<00:00,  5.13s/it]\n"
     ]
    },
    {
     "name": "stdout",
     "output_type": "stream",
     "text": [
      "Step 99, AUC Top-10: 0.006\n",
      "Number of data points: 100\n",
      "MAX: 0.056770659761769295\n"
     ]
    },
    {
     "name": "stderr",
     "output_type": "stream",
     "text": [
      "100it [2:55:57, 105.58s/it]\n"
     ]
    }
   ],
   "source": [
    "# Set number of optimization steps\n",
    "num_optimization_steps = MAX_ORACLE_CALLS // FREQ_LOG\n",
    "num_samples_per_optimization_step = MAX_ORACLE_CALLS // num_optimization_steps\n",
    "batch_size = 256\n",
    "temperature = 1.0\n",
    "top_k = 25\n",
    "\n",
    "print(f\"Number of optimization steps: {num_optimization_steps}\")\n",
    "print(f\"Number of samples per optimization step: {num_samples_per_optimization_step}\")\n",
    "\n",
    "# Initialize the oracle\n",
    "oracle = Oracle(name=ORACLE_NAME)\n",
    "print(oracle)\n",
    "\n",
    "# Initialize the augmentation\n",
    "data_transform = SmilesEnumerator(enumeration_probability=0.75)\n",
    "\n",
    "# Initialize the buffer\n",
    "mol_buffer = MoleculeBuffer(MAX_ORACLE_CALLS, FREQ_LOG)\n",
    "\n",
    "# Run the optimization loop\n",
    "_filter = False\n",
    "_smiles_cache = []\n",
    "for step, optimization_step in tqdm(enumerate(range(num_optimization_steps))):\n",
    "\n",
    "    # Sample molecules and properties\n",
    "    smiles = []\n",
    "    targets = []\n",
    "    for _ in tqdm(range(20)):\n",
    "        _smiles = model.generate(tokenizer=tokenizer, batch_size=batch_size, temperature=temperature, top_k=top_k, device=device).detach().cpu()\n",
    "        _smiles = tokenizer.decode(_smiles)\n",
    "        inputs = tokenizer(_smiles, task='prediction')\n",
    "        inputs.to(device)\n",
    "        _targets = model.predict(**inputs).detach().cpu()\n",
    "        smiles.extend(_smiles)\n",
    "        targets.extend(_targets.numpy()) \n",
    "    \n",
    "    # Convert to numpy\n",
    "    targets = np.array(targets).reshape(-1, 1)\n",
    "\n",
    "    # filter\n",
    "    if _filter:\n",
    "        sorted_indices = np.argsort(-targets, axis=0)\n",
    "        sorted_indices = sorted_indices.flatten()\n",
    "        sorted_smiles = [smiles[idx] for idx in sorted_indices]\n",
    "        sorted_targets = [targets[idx] for idx in sorted_indices]\n",
    "        smiles = sorted_smiles[:num_samples_per_optimization_step]\n",
    "    else:\n",
    "        smiles = smiles[:num_samples_per_optimization_step]\n",
    "\n",
    "    # Remove duplicates\n",
    "    smiles = list(set(smiles))    \n",
    "    smiles = [smile for smile in smiles if smile not in _smiles_cache]\n",
    "    _smiles_cache.extend(smiles)\n",
    "\n",
    "    # Call the oracle\n",
    "    properties = oracle(smiles)\n",
    "    \n",
    "    # Add to the buffer\n",
    "    mol_buffer.add(smiles, properties)\n",
    "\n",
    "    # Calculate the top AUC\n",
    "    top_auc = mol_buffer.calculate_top_auc(TOP_K)\n",
    "    print(f\"Step {step}, AUC Top-{TOP_K}: {top_auc.item():.3f}\")\n",
    "\n",
    "    # Save the buffer\n",
    "    mol_buffer.save(PATH_RESULTS)\n",
    "\n",
    "    # Update the model \n",
    "    data, target = mol_buffer.get_data(top_k=100)\n",
    "    print(f\"Number of data points: {len(data)}\")\n",
    "    print(f\"MAX: {max(target)}\")\n",
    "    dataset = SequenceDataset(data=data, target=np.array(target, dtype=np.float32).reshape(-1, 1), data_transform=data_transform)\n",
    "    trainer_config.correct_for_num_train_examples(num_train_examples=len(dataset))\n",
    "    model = AutoModel.from_config(model_config, downstream_task=\"regression\", num_tasks=1)\n",
    "    model.load_pretrained(PATH_TO_MODEL_CKPT)\n",
    "    model.to(device)\n",
    "    trainer = Trainer(config=trainer_config, model=model, tokenizer=tokenizer, device=device, train_dataset=dataset, val_dataset=None)\n",
    "    trainer.train()\n",
    "    model = trainer.model\n",
    "    model.eval()\n",
    "    _filter = True\n"
   ]
  },
  {
   "cell_type": "code",
   "execution_count": 13,
   "metadata": {},
   "outputs": [
    {
     "name": "stderr",
     "output_type": "stream",
     "text": [
      "Downloading...\n",
      "100%|██████████| 11.8M/11.8M [00:01<00:00, 9.84MiB/s]\n",
      "Loading...\n",
      "Done!\n"
     ]
    }
   ],
   "source": [
    "from tdc.generation import MolGen\n",
    "data = MolGen(name = 'ZINC')\n",
    "split = data.get_split()\n"
   ]
  },
  {
   "cell_type": "code",
   "execution_count": 49,
   "metadata": {},
   "outputs": [],
   "source": [
    "oracle = Oracle(name=ORACLE_NAME)\n",
    "new_properties = oracle(split['train'].sample(1000)['smiles'].tolist())"
   ]
  },
  {
   "cell_type": "code",
   "execution_count": 50,
   "metadata": {},
   "outputs": [
    {
     "data": {
      "text/plain": [
       "0.06354327489573058"
      ]
     },
     "execution_count": 50,
     "metadata": {},
     "output_type": "execute_result"
    }
   ],
   "source": [
    "max(new_properties)"
   ]
  },
  {
   "cell_type": "code",
   "execution_count": 48,
   "metadata": {},
   "outputs": [],
   "source": [
    "set_seed(42)"
   ]
  },
  {
   "cell_type": "code",
   "execution_count": 51,
   "metadata": {},
   "outputs": [
    {
     "data": {
      "text/plain": [
       "174618"
      ]
     },
     "execution_count": 51,
     "metadata": {},
     "output_type": "execute_result"
    }
   ],
   "source": [
    "len(split['train'])"
   ]
  },
  {
   "cell_type": "code",
   "execution_count": null,
   "metadata": {},
   "outputs": [],
   "source": []
  }
 ],
 "metadata": {
  "kernelspec": {
   "display_name": "Python 3 (ipykernel)",
   "language": "python",
   "name": "python3"
  },
  "language_info": {
   "codemirror_mode": {
    "name": "ipython",
    "version": 3
   },
   "file_extension": ".py",
   "mimetype": "text/x-python",
   "name": "python",
   "nbconvert_exporter": "python",
   "pygments_lexer": "ipython3",
   "version": "3.9.20"
  }
 },
 "nbformat": 4,
 "nbformat_minor": 2
}
