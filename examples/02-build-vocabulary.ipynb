{
 "cells": [
  {
   "cell_type": "markdown",
   "metadata": {},
   "source": [
    "# Build a vocabulary using all tokens"
   ]
  },
  {
   "cell_type": "code",
   "execution_count": 1,
   "metadata": {},
   "outputs": [],
   "source": [
    "# Imports\n",
    "\n",
    "import pandas as pd\n",
    "import numpy as np\n",
    "import os\n",
    "import json\n",
    "\n",
    "from tqdm.auto import tqdm\n",
    "\n",
    "from hyformer.configs.dataset import DatasetConfig\n",
    "from hyformer.utils.datasets.auto import AutoDataset\n",
    "\n",
    "\n",
    "# autoreload\n",
    "%load_ext autoreload\n",
    "%autoreload 2\n"
   ]
  },
  {
   "cell_type": "code",
   "execution_count": 2,
   "metadata": {},
   "outputs": [],
   "source": [
    "\n",
    "# constants\n",
    "\n",
    "DATA_DIR = '/lustre/groups/aih/hyformer/data'\n",
    "\n",
    "BENCHMARKS = [\n",
    "    'guacamol',\n",
    "    'hi/drd2',\n",
    "    'hi/hiv',\n",
    "    'hi/kdr',\n",
    "    'hi/sol',\n",
    "    'lo/drd2',\n",
    "    'lo/kdr',\n",
    "    'lo/kcnh2',\n",
    "    'molecule_net/scaffold/bace',\n",
    "    'molecule_net/scaffold/bbbp',\n",
    "    'molecule_net/scaffold/clintox',\n",
    "    'molecule_net/scaffold/esol',\n",
    "    'molecule_net/scaffold/freesolv',\n",
    "    'molecule_net/scaffold/hiv',\n",
    "    'molecule_net/scaffold/lipo',\n",
    "    'molecule_net/scaffold/sider',\n",
    "    'molecule_net/scaffold/tox21',\n",
    "    'molecule_net/scaffold/toxcast',\n",
    "    # 'unimol'\n",
    "]\n",
    "\n",
    "ADDITIONAL_DATASETS_FILEPATH = '/lustre/groups/aih/hyformer/data_proprietary/fibrosis/raw/FDA_Div_Filtered_Dataset.csv'\n",
    "    \n",
    "\n",
    "CONFIG_FILEPATH = 'configs/datasets/{benchmark}/config.json'"
   ]
  },
  {
   "cell_type": "code",
   "execution_count": 3,
   "metadata": {},
   "outputs": [],
   "source": [
    "import re\n",
    "\n",
    "\n",
    "class RegexTokenizer:\n",
    "\n",
    "    SMILES_REGEX_PATTERN = r\"\"\"(\\[[^\\]]+\\]|Br?|Cl?|N|O|S|P|F|I|b|c|n|o|s|p|\\(|\\)|\\.|=|#|-|\\+|\\\\|\\/|:|~|@|\\?|>>?|\\*|\\$|%[0-9]{2}|[0-9])\"\"\"\n",
    "    def __init__(self, regex_pattern: str = SMILES_REGEX_PATTERN):\n",
    "        self.regex = re.compile(regex_pattern)\n",
    "\n",
    "    def get_tokens(self, text):\n",
    "        return list(set(self.regex.findall(text)))\n",
    "\n"
   ]
  },
  {
   "cell_type": "code",
   "execution_count": 4,
   "metadata": {},
   "outputs": [],
   "source": [
    "tokens = []\n",
    "tokenizer = RegexTokenizer()"
   ]
  },
  {
   "cell_type": "code",
   "execution_count": 5,
   "metadata": {},
   "outputs": [
    {
     "data": {
      "application/vnd.jupyter.widget-view+json": {
       "model_id": "970d94db80074de69c58a5d357880cbd",
       "version_major": 2,
       "version_minor": 0
      },
      "text/plain": [
       "Extracting tokens from guacamol train split:   0%|          | 0/1273104 [00:00<?, ?it/s]"
      ]
     },
     "metadata": {},
     "output_type": "display_data"
    },
    {
     "data": {
      "application/vnd.jupyter.widget-view+json": {
       "model_id": "2cc4a4fa65324430bd1fe7b725ce4989",
       "version_major": 2,
       "version_minor": 0
      },
      "text/plain": [
       "Extracting tokens from guacamol val split:   0%|          | 0/79568 [00:00<?, ?it/s]"
      ]
     },
     "metadata": {},
     "output_type": "display_data"
    },
    {
     "data": {
      "application/vnd.jupyter.widget-view+json": {
       "model_id": "c34763f23a4d41e2b564cc436444d649",
       "version_major": 2,
       "version_minor": 0
      },
      "text/plain": [
       "Extracting tokens from guacamol test split:   0%|          | 0/238706 [00:00<?, ?it/s]"
      ]
     },
     "metadata": {},
     "output_type": "display_data"
    },
    {
     "data": {
      "application/vnd.jupyter.widget-view+json": {
       "model_id": "73e1c4cfcfaa4454b8c8cf915ed3e4cf",
       "version_major": 2,
       "version_minor": 0
      },
      "text/plain": [
       "Extracting tokens from hi/drd2 train split:   0%|          | 0/2146 [00:00<?, ?it/s]"
      ]
     },
     "metadata": {},
     "output_type": "display_data"
    },
    {
     "data": {
      "application/vnd.jupyter.widget-view+json": {
       "model_id": "d737346d06f24191bdcc5dade423014b",
       "version_major": 2,
       "version_minor": 0
      },
      "text/plain": [
       "Extracting tokens from hi/drd2 val split:   0%|          | 0/239 [00:00<?, ?it/s]"
      ]
     },
     "metadata": {},
     "output_type": "display_data"
    },
    {
     "data": {
      "application/vnd.jupyter.widget-view+json": {
       "model_id": "3553d3c443fe4b15939176da4efa28a3",
       "version_major": 2,
       "version_minor": 0
      },
      "text/plain": [
       "Extracting tokens from hi/drd2 test split:   0%|          | 0/1190 [00:00<?, ?it/s]"
      ]
     },
     "metadata": {},
     "output_type": "display_data"
    },
    {
     "data": {
      "application/vnd.jupyter.widget-view+json": {
       "model_id": "90e6a30bb1594bfcb13302924c00a40e",
       "version_major": 2,
       "version_minor": 0
      },
      "text/plain": [
       "Extracting tokens from hi/hiv train split:   0%|          | 0/14126 [00:00<?, ?it/s]"
      ]
     },
     "metadata": {},
     "output_type": "display_data"
    },
    {
     "data": {
      "application/vnd.jupyter.widget-view+json": {
       "model_id": "2e0aafde9ab942d4a0d3c29760d71468",
       "version_major": 2,
       "version_minor": 0
      },
      "text/plain": [
       "Extracting tokens from hi/hiv val split:   0%|          | 0/1570 [00:00<?, ?it/s]"
      ]
     },
     "metadata": {},
     "output_type": "display_data"
    },
    {
     "data": {
      "application/vnd.jupyter.widget-view+json": {
       "model_id": "c44ba44610d74b229984b9de19f5c4bb",
       "version_major": 2,
       "version_minor": 0
      },
      "text/plain": [
       "Extracting tokens from hi/hiv test split:   0%|          | 0/7847 [00:00<?, ?it/s]"
      ]
     },
     "metadata": {},
     "output_type": "display_data"
    },
    {
     "data": {
      "application/vnd.jupyter.widget-view+json": {
       "model_id": "3e3a3d4bcdd34a1e8f2900be95c82cff",
       "version_major": 2,
       "version_minor": 0
      },
      "text/plain": [
       "Extracting tokens from hi/kdr train split:   0%|          | 0/450 [00:00<?, ?it/s]"
      ]
     },
     "metadata": {},
     "output_type": "display_data"
    },
    {
     "data": {
      "application/vnd.jupyter.widget-view+json": {
       "model_id": "abca9e130f10421e8cbe641d39b3a242",
       "version_major": 2,
       "version_minor": 0
      },
      "text/plain": [
       "Extracting tokens from hi/kdr val split:   0%|          | 0/50 [00:00<?, ?it/s]"
      ]
     },
     "metadata": {},
     "output_type": "display_data"
    },
    {
     "data": {
      "application/vnd.jupyter.widget-view+json": {
       "model_id": "dd4d2fb0e7294df09d97f6ca43f58e0e",
       "version_major": 2,
       "version_minor": 0
      },
      "text/plain": [
       "Extracting tokens from hi/kdr test split:   0%|          | 0/3116 [00:00<?, ?it/s]"
      ]
     },
     "metadata": {},
     "output_type": "display_data"
    },
    {
     "data": {
      "application/vnd.jupyter.widget-view+json": {
       "model_id": "4fd1395593f74c118fed70ce5bd0180a",
       "version_major": 2,
       "version_minor": 0
      },
      "text/plain": [
       "Extracting tokens from hi/sol train split:   0%|          | 0/1297 [00:00<?, ?it/s]"
      ]
     },
     "metadata": {},
     "output_type": "display_data"
    },
    {
     "data": {
      "application/vnd.jupyter.widget-view+json": {
       "model_id": "52a1bda8922b4e279194478c64f45f2a",
       "version_major": 2,
       "version_minor": 0
      },
      "text/plain": [
       "Extracting tokens from hi/sol val split:   0%|          | 0/145 [00:00<?, ?it/s]"
      ]
     },
     "metadata": {},
     "output_type": "display_data"
    },
    {
     "data": {
      "application/vnd.jupyter.widget-view+json": {
       "model_id": "7339f452cf73436886ef4fc537443553",
       "version_major": 2,
       "version_minor": 0
      },
      "text/plain": [
       "Extracting tokens from hi/sol test split:   0%|          | 0/721 [00:00<?, ?it/s]"
      ]
     },
     "metadata": {},
     "output_type": "display_data"
    },
    {
     "data": {
      "application/vnd.jupyter.widget-view+json": {
       "model_id": "46be881c1e554d5f9a47d9703a17c62c",
       "version_major": 2,
       "version_minor": 0
      },
      "text/plain": [
       "Extracting tokens from lo/drd2 train split:   0%|          | 0/1985 [00:00<?, ?it/s]"
      ]
     },
     "metadata": {},
     "output_type": "display_data"
    },
    {
     "data": {
      "application/vnd.jupyter.widget-view+json": {
       "model_id": "111bee6dc7884eb38ff971d0fb327b1a",
       "version_major": 2,
       "version_minor": 0
      },
      "text/plain": [
       "Extracting tokens from lo/drd2 val split:   0%|          | 0/221 [00:00<?, ?it/s]"
      ]
     },
     "metadata": {},
     "output_type": "display_data"
    },
    {
     "data": {
      "application/vnd.jupyter.widget-view+json": {
       "model_id": "2f3dc47fd3974ac9bfff8e9832ab9039",
       "version_major": 2,
       "version_minor": 0
      },
      "text/plain": [
       "Extracting tokens from lo/drd2 test split:   0%|          | 0/267 [00:00<?, ?it/s]"
      ]
     },
     "metadata": {},
     "output_type": "display_data"
    },
    {
     "data": {
      "application/vnd.jupyter.widget-view+json": {
       "model_id": "a83d1dbe23854140a5532491254239f6",
       "version_major": 2,
       "version_minor": 0
      },
      "text/plain": [
       "Extracting tokens from lo/kdr train split:   0%|          | 0/450 [00:00<?, ?it/s]"
      ]
     },
     "metadata": {},
     "output_type": "display_data"
    },
    {
     "data": {
      "application/vnd.jupyter.widget-view+json": {
       "model_id": "686b9aa493764d4786a3e786ddd00b04",
       "version_major": 2,
       "version_minor": 0
      },
      "text/plain": [
       "Extracting tokens from lo/kdr val split:   0%|          | 0/50 [00:00<?, ?it/s]"
      ]
     },
     "metadata": {},
     "output_type": "display_data"
    },
    {
     "data": {
      "application/vnd.jupyter.widget-view+json": {
       "model_id": "71b55cd75779401982236f4b3c39974b",
       "version_major": 2,
       "version_minor": 0
      },
      "text/plain": [
       "Extracting tokens from lo/kdr test split:   0%|          | 0/437 [00:00<?, ?it/s]"
      ]
     },
     "metadata": {},
     "output_type": "display_data"
    },
    {
     "data": {
      "application/vnd.jupyter.widget-view+json": {
       "model_id": "dff332761bbe4b849cfa5483f40f6b1e",
       "version_major": 2,
       "version_minor": 0
      },
      "text/plain": [
       "Extracting tokens from lo/kcnh2 train split:   0%|          | 0/2981 [00:00<?, ?it/s]"
      ]
     },
     "metadata": {},
     "output_type": "display_data"
    },
    {
     "data": {
      "application/vnd.jupyter.widget-view+json": {
       "model_id": "0dc611b5b9b44e86995d3fc8e4cdbc34",
       "version_major": 2,
       "version_minor": 0
      },
      "text/plain": [
       "Extracting tokens from lo/kcnh2 val split:   0%|          | 0/332 [00:00<?, ?it/s]"
      ]
     },
     "metadata": {},
     "output_type": "display_data"
    },
    {
     "data": {
      "application/vnd.jupyter.widget-view+json": {
       "model_id": "a60ae7c9a45a49ca8966b31c67b45d20",
       "version_major": 2,
       "version_minor": 0
      },
      "text/plain": [
       "Extracting tokens from lo/kcnh2 test split:   0%|          | 0/406 [00:00<?, ?it/s]"
      ]
     },
     "metadata": {},
     "output_type": "display_data"
    },
    {
     "data": {
      "application/vnd.jupyter.widget-view+json": {
       "model_id": "2f0f98b4f6a741239c0ae2fac0eefde0",
       "version_major": 2,
       "version_minor": 0
      },
      "text/plain": [
       "Extracting tokens from molecule_net/scaffold/bace train split:   0%|          | 0/1210 [00:00<?, ?it/s]"
      ]
     },
     "metadata": {},
     "output_type": "display_data"
    },
    {
     "data": {
      "application/vnd.jupyter.widget-view+json": {
       "model_id": "99d8892a66484970a0b9cfeeadf1ae3f",
       "version_major": 2,
       "version_minor": 0
      },
      "text/plain": [
       "Extracting tokens from molecule_net/scaffold/bace val split:   0%|          | 0/151 [00:00<?, ?it/s]"
      ]
     },
     "metadata": {},
     "output_type": "display_data"
    },
    {
     "data": {
      "application/vnd.jupyter.widget-view+json": {
       "model_id": "1b2b082476c044c48d138d65696991d1",
       "version_major": 2,
       "version_minor": 0
      },
      "text/plain": [
       "Extracting tokens from molecule_net/scaffold/bace test split:   0%|          | 0/152 [00:00<?, ?it/s]"
      ]
     },
     "metadata": {},
     "output_type": "display_data"
    },
    {
     "data": {
      "application/vnd.jupyter.widget-view+json": {
       "model_id": "16cd843d8ea2445f91a1c6bd5260863e",
       "version_major": 2,
       "version_minor": 0
      },
      "text/plain": [
       "Extracting tokens from molecule_net/scaffold/bbbp train split:   0%|          | 0/1631 [00:00<?, ?it/s]"
      ]
     },
     "metadata": {},
     "output_type": "display_data"
    },
    {
     "data": {
      "application/vnd.jupyter.widget-view+json": {
       "model_id": "601c0a05b0ba4ef2acbabb48faa36fd6",
       "version_major": 2,
       "version_minor": 0
      },
      "text/plain": [
       "Extracting tokens from molecule_net/scaffold/bbbp val split:   0%|          | 0/204 [00:00<?, ?it/s]"
      ]
     },
     "metadata": {},
     "output_type": "display_data"
    },
    {
     "data": {
      "application/vnd.jupyter.widget-view+json": {
       "model_id": "90adfa5a95fc4420b15ac7863c43c0b1",
       "version_major": 2,
       "version_minor": 0
      },
      "text/plain": [
       "Extracting tokens from molecule_net/scaffold/bbbp test split:   0%|          | 0/204 [00:00<?, ?it/s]"
      ]
     },
     "metadata": {},
     "output_type": "display_data"
    },
    {
     "data": {
      "application/vnd.jupyter.widget-view+json": {
       "model_id": "f6804e5adbac4296906e20d54808c3d5",
       "version_major": 2,
       "version_minor": 0
      },
      "text/plain": [
       "Extracting tokens from molecule_net/scaffold/clintox train split:   0%|          | 0/1182 [00:00<?, ?it/s]"
      ]
     },
     "metadata": {},
     "output_type": "display_data"
    },
    {
     "data": {
      "application/vnd.jupyter.widget-view+json": {
       "model_id": "bfa047b7740d4e6798486d8571f63e9a",
       "version_major": 2,
       "version_minor": 0
      },
      "text/plain": [
       "Extracting tokens from molecule_net/scaffold/clintox val split:   0%|          | 0/148 [00:00<?, ?it/s]"
      ]
     },
     "metadata": {},
     "output_type": "display_data"
    },
    {
     "data": {
      "application/vnd.jupyter.widget-view+json": {
       "model_id": "31b3c2aa93734addb2da4089c4770350",
       "version_major": 2,
       "version_minor": 0
      },
      "text/plain": [
       "Extracting tokens from molecule_net/scaffold/clintox test split:   0%|          | 0/148 [00:00<?, ?it/s]"
      ]
     },
     "metadata": {},
     "output_type": "display_data"
    },
    {
     "data": {
      "application/vnd.jupyter.widget-view+json": {
       "model_id": "2671825a0bcd4ff0a4e0f9e47ae9ce61",
       "version_major": 2,
       "version_minor": 0
      },
      "text/plain": [
       "Extracting tokens from molecule_net/scaffold/esol train split:   0%|          | 0/902 [00:00<?, ?it/s]"
      ]
     },
     "metadata": {},
     "output_type": "display_data"
    },
    {
     "data": {
      "application/vnd.jupyter.widget-view+json": {
       "model_id": "8a740eb5f4cd47a4851fa6998dc49653",
       "version_major": 2,
       "version_minor": 0
      },
      "text/plain": [
       "Extracting tokens from molecule_net/scaffold/esol val split:   0%|          | 0/113 [00:00<?, ?it/s]"
      ]
     },
     "metadata": {},
     "output_type": "display_data"
    },
    {
     "data": {
      "application/vnd.jupyter.widget-view+json": {
       "model_id": "159ee35f578f4be78a44bea6253ad606",
       "version_major": 2,
       "version_minor": 0
      },
      "text/plain": [
       "Extracting tokens from molecule_net/scaffold/esol test split:   0%|          | 0/113 [00:00<?, ?it/s]"
      ]
     },
     "metadata": {},
     "output_type": "display_data"
    },
    {
     "data": {
      "application/vnd.jupyter.widget-view+json": {
       "model_id": "0b715410e7104374bca9e580199629d1",
       "version_major": 2,
       "version_minor": 0
      },
      "text/plain": [
       "Extracting tokens from molecule_net/scaffold/freesolv train split:   0%|          | 0/513 [00:00<?, ?it/s]"
      ]
     },
     "metadata": {},
     "output_type": "display_data"
    },
    {
     "data": {
      "application/vnd.jupyter.widget-view+json": {
       "model_id": "205a2a7680064fb69d7f0bb3727e0f04",
       "version_major": 2,
       "version_minor": 0
      },
      "text/plain": [
       "Extracting tokens from molecule_net/scaffold/freesolv val split:   0%|          | 0/64 [00:00<?, ?it/s]"
      ]
     },
     "metadata": {},
     "output_type": "display_data"
    },
    {
     "data": {
      "application/vnd.jupyter.widget-view+json": {
       "model_id": "e8e2c204ff5e42768330a971a1f20f6b",
       "version_major": 2,
       "version_minor": 0
      },
      "text/plain": [
       "Extracting tokens from molecule_net/scaffold/freesolv test split:   0%|          | 0/65 [00:00<?, ?it/s]"
      ]
     },
     "metadata": {},
     "output_type": "display_data"
    },
    {
     "data": {
      "application/vnd.jupyter.widget-view+json": {
       "model_id": "3df623d6541446e084af24a103ae9d1f",
       "version_major": 2,
       "version_minor": 0
      },
      "text/plain": [
       "Extracting tokens from molecule_net/scaffold/hiv train split:   0%|          | 0/32901 [00:00<?, ?it/s]"
      ]
     },
     "metadata": {},
     "output_type": "display_data"
    },
    {
     "data": {
      "application/vnd.jupyter.widget-view+json": {
       "model_id": "76489260a036425487e7487ed49de1d1",
       "version_major": 2,
       "version_minor": 0
      },
      "text/plain": [
       "Extracting tokens from molecule_net/scaffold/hiv val split:   0%|          | 0/4113 [00:00<?, ?it/s]"
      ]
     },
     "metadata": {},
     "output_type": "display_data"
    },
    {
     "data": {
      "application/vnd.jupyter.widget-view+json": {
       "model_id": "d19e8aa0b492443b88ae3c9bd00a82f0",
       "version_major": 2,
       "version_minor": 0
      },
      "text/plain": [
       "Extracting tokens from molecule_net/scaffold/hiv test split:   0%|          | 0/4113 [00:00<?, ?it/s]"
      ]
     },
     "metadata": {},
     "output_type": "display_data"
    },
    {
     "data": {
      "application/vnd.jupyter.widget-view+json": {
       "model_id": "fb287a84145f4ce498a9b0586391717c",
       "version_major": 2,
       "version_minor": 0
      },
      "text/plain": [
       "Extracting tokens from molecule_net/scaffold/lipo train split:   0%|          | 0/3360 [00:00<?, ?it/s]"
      ]
     },
     "metadata": {},
     "output_type": "display_data"
    },
    {
     "data": {
      "application/vnd.jupyter.widget-view+json": {
       "model_id": "1942bee36f9b4d6baeaa45bf675b9d12",
       "version_major": 2,
       "version_minor": 0
      },
      "text/plain": [
       "Extracting tokens from molecule_net/scaffold/lipo val split:   0%|          | 0/420 [00:00<?, ?it/s]"
      ]
     },
     "metadata": {},
     "output_type": "display_data"
    },
    {
     "data": {
      "application/vnd.jupyter.widget-view+json": {
       "model_id": "cff98e73488b40dab18caa136bcf8e20",
       "version_major": 2,
       "version_minor": 0
      },
      "text/plain": [
       "Extracting tokens from molecule_net/scaffold/lipo test split:   0%|          | 0/420 [00:00<?, ?it/s]"
      ]
     },
     "metadata": {},
     "output_type": "display_data"
    },
    {
     "data": {
      "application/vnd.jupyter.widget-view+json": {
       "model_id": "58f8170ecdf345939b482c418e0e8363",
       "version_major": 2,
       "version_minor": 0
      },
      "text/plain": [
       "Extracting tokens from molecule_net/scaffold/sider train split:   0%|          | 0/1141 [00:00<?, ?it/s]"
      ]
     },
     "metadata": {},
     "output_type": "display_data"
    },
    {
     "data": {
      "application/vnd.jupyter.widget-view+json": {
       "model_id": "82174b1cf27446e2a681b5fa7b762cd9",
       "version_major": 2,
       "version_minor": 0
      },
      "text/plain": [
       "Extracting tokens from molecule_net/scaffold/sider val split:   0%|          | 0/143 [00:00<?, ?it/s]"
      ]
     },
     "metadata": {},
     "output_type": "display_data"
    },
    {
     "data": {
      "application/vnd.jupyter.widget-view+json": {
       "model_id": "1028c7012467432582dc94058e8bf4e1",
       "version_major": 2,
       "version_minor": 0
      },
      "text/plain": [
       "Extracting tokens from molecule_net/scaffold/sider test split:   0%|          | 0/143 [00:00<?, ?it/s]"
      ]
     },
     "metadata": {},
     "output_type": "display_data"
    },
    {
     "data": {
      "application/vnd.jupyter.widget-view+json": {
       "model_id": "a6a4b32c8c274ebca8b1ae7c95c941d2",
       "version_major": 2,
       "version_minor": 0
      },
      "text/plain": [
       "Extracting tokens from molecule_net/scaffold/tox21 train split:   0%|          | 0/6264 [00:00<?, ?it/s]"
      ]
     },
     "metadata": {},
     "output_type": "display_data"
    },
    {
     "data": {
      "application/vnd.jupyter.widget-view+json": {
       "model_id": "f72e6bc7bd934d8394e2062881873421",
       "version_major": 2,
       "version_minor": 0
      },
      "text/plain": [
       "Extracting tokens from molecule_net/scaffold/tox21 val split:   0%|          | 0/783 [00:00<?, ?it/s]"
      ]
     },
     "metadata": {},
     "output_type": "display_data"
    },
    {
     "data": {
      "application/vnd.jupyter.widget-view+json": {
       "model_id": "2c19ee6f9eb34788999a982f16f1e946",
       "version_major": 2,
       "version_minor": 0
      },
      "text/plain": [
       "Extracting tokens from molecule_net/scaffold/tox21 test split:   0%|          | 0/784 [00:00<?, ?it/s]"
      ]
     },
     "metadata": {},
     "output_type": "display_data"
    },
    {
     "data": {
      "application/vnd.jupyter.widget-view+json": {
       "model_id": "ee286488d2a74fecb3943494e18d8f80",
       "version_major": 2,
       "version_minor": 0
      },
      "text/plain": [
       "Extracting tokens from molecule_net/scaffold/toxcast train split:   0%|          | 0/6860 [00:00<?, ?it/s]"
      ]
     },
     "metadata": {},
     "output_type": "display_data"
    },
    {
     "data": {
      "application/vnd.jupyter.widget-view+json": {
       "model_id": "9382f7787ce144ec8fa9063ab711d1c6",
       "version_major": 2,
       "version_minor": 0
      },
      "text/plain": [
       "Extracting tokens from molecule_net/scaffold/toxcast val split:   0%|          | 0/858 [00:00<?, ?it/s]"
      ]
     },
     "metadata": {},
     "output_type": "display_data"
    },
    {
     "data": {
      "application/vnd.jupyter.widget-view+json": {
       "model_id": "c840f1a6e1024ffb9ec4172221c7b4c2",
       "version_major": 2,
       "version_minor": 0
      },
      "text/plain": [
       "Extracting tokens from molecule_net/scaffold/toxcast test split:   0%|          | 0/858 [00:00<?, ?it/s]"
      ]
     },
     "metadata": {},
     "output_type": "display_data"
    }
   ],
   "source": [
    "# Load data and extract tokens\n",
    "\n",
    "for benchmark in BENCHMARKS:\n",
    "    \n",
    "    config_filepath = CONFIG_FILEPATH.format(benchmark=benchmark)\n",
    "    dataset_config = DatasetConfig.from_config_filepath(config_filepath)\n",
    "    \n",
    "    for split in ['train', 'val', 'test']:\n",
    "        dataset = AutoDataset.from_config(dataset_config, split=split, root=DATA_DIR)\n",
    "        for idx in tqdm(range(len(dataset)), desc=f\"Extracting tokens from {benchmark} {split} split\"):\n",
    "            # extract tokens based on regex pattern from tokenizer\n",
    "            tokens.extend(tokenizer.get_tokens(dataset[idx]['data']))\n",
    "            break\n",
    "        tokens = list(set(tokens))  \n",
    "\n",
    "tokens.sort()\n"
   ]
  },
  {
   "cell_type": "code",
   "execution_count": 26,
   "metadata": {},
   "outputs": [
    {
     "data": {
      "text/plain": [
       "75"
      ]
     },
     "execution_count": 26,
     "metadata": {},
     "output_type": "execute_result"
    }
   ],
   "source": [
    "len(tokens)"
   ]
  },
  {
   "cell_type": "code",
   "execution_count": 34,
   "metadata": {},
   "outputs": [
    {
     "name": "stdout",
     "output_type": "stream",
     "text": [
      "Loaded vocabulary length: 458\n"
     ]
    }
   ],
   "source": [
    "vocab = {}\n",
    "with open('data/vocabulary/unimol.txt', \"r\", encoding=\"utf-8\") as f:\n",
    "    for i, line in enumerate(f):\n",
    "        token = line.strip()\n",
    "        if token:  # Skip empty lines\n",
    "            vocab[token] = i\n",
    "            \n",
    "print(\"Loaded vocabulary length:\", len(vocab))\n",
    "\n",
    "tokens = list(vocab.keys())"
   ]
  },
  {
   "cell_type": "code",
   "execution_count": 32,
   "metadata": {},
   "outputs": [
    {
     "name": "stdout",
     "output_type": "stream",
     "text": [
      "Extended vocabulary length: 75\n"
     ]
    }
   ],
   "source": [
    "# Add new tokens to vocabulary\n",
    "\n",
    "new_tokens = []\n",
    "data = pd.read_csv(ADDITIONAL_DATASETS_FILEPATH, index_col=0)['standard_smiles'].tolist()\n",
    "\n",
    "for idx in range(len(data)):\n",
    "    new_tokens.extend(tokenizer.get_tokens(data[idx]))\n",
    "\n",
    "new_tokens = list(set(new_tokens))\n",
    "\n",
    "print(\"Extended vocabulary length:\", len(new_tokens))\n",
    "\n",
    "\n"
   ]
  },
  {
   "cell_type": "code",
   "execution_count": 37,
   "metadata": {},
   "outputs": [],
   "source": [
    "tokens_extended = list(set(tokens + new_tokens))"
   ]
  },
  {
   "cell_type": "code",
   "execution_count": 38,
   "metadata": {},
   "outputs": [
    {
     "data": {
      "text/plain": [
       "460"
      ]
     },
     "execution_count": 38,
     "metadata": {},
     "output_type": "execute_result"
    }
   ],
   "source": [
    "len(tokens_extended)"
   ]
  },
  {
   "cell_type": "code",
   "execution_count": 40,
   "metadata": {},
   "outputs": [],
   "source": [
    "with open('data/vocabulary/unimol_extended.txt', 'w') as f:\n",
    "    for token in tokens_extended:\n",
    "        f.write(token + '\\n')\n"
   ]
  },
  {
   "cell_type": "code",
   "execution_count": 17,
   "metadata": {},
   "outputs": [],
   "source": []
  },
  {
   "cell_type": "code",
   "execution_count": 20,
   "metadata": {},
   "outputs": [
    {
     "data": {
      "text/plain": [
       "['[S-]',\n",
       " '[n+]',\n",
       " '\\\\',\n",
       " '5',\n",
       " '.',\n",
       " 'I',\n",
       " '[se]',\n",
       " '[Li+]',\n",
       " '[S+]',\n",
       " '[I-]',\n",
       " '[Hg]',\n",
       " '[Gd+3]',\n",
       " 'c',\n",
       " 'O',\n",
       " '4',\n",
       " 'C',\n",
       " '[o+]',\n",
       " '[Pt]',\n",
       " '[2H]',\n",
       " '[Co+3]',\n",
       " 'P',\n",
       " '[Cl-]',\n",
       " '[C@]',\n",
       " '[n-]',\n",
       " '[Cu+2]',\n",
       " 'n',\n",
       " '[C@@]',\n",
       " '-',\n",
       " '[N@@+]',\n",
       " 'B',\n",
       " '=',\n",
       " 's',\n",
       " '[Ca+2]',\n",
       " ')',\n",
       " '[nH]',\n",
       " '[P@]',\n",
       " '[Br-]',\n",
       " '2',\n",
       " '3',\n",
       " '[C@H]',\n",
       " '#',\n",
       " '[O-]',\n",
       " 'Br',\n",
       " '[C-]',\n",
       " '9',\n",
       " '/',\n",
       " '[N@+]',\n",
       " '7',\n",
       " '[Se]',\n",
       " '[Au+]',\n",
       " 'N',\n",
       " '[Fe+4]',\n",
       " 'F',\n",
       " 'S',\n",
       " '[C@@H]',\n",
       " '[Sb]',\n",
       " '[nH+]',\n",
       " '[N+]',\n",
       " '[Na+]',\n",
       " 'o',\n",
       " '[NH2+]',\n",
       " '[As]',\n",
       " '8',\n",
       " '[cH-]',\n",
       " '[Mn+2]',\n",
       " '[Zn+2]',\n",
       " '1',\n",
       " '[N-]',\n",
       " '[K+]',\n",
       " '[Pt+2]',\n",
       " '(',\n",
       " '6',\n",
       " '[NH+]',\n",
       " '[c+]',\n",
       " 'Cl']"
      ]
     },
     "execution_count": 20,
     "metadata": {},
     "output_type": "execute_result"
    }
   ],
   "source": [
    "new_tokens = []\n",
    "\n",
    "for idx in range(len(data)):\n",
    "    new_tokens.extend(tokenizer.get_tokens(data[idx]))\n",
    "\n",
    "new_tokens = list(set(new_tokens))\n",
    "\n",
    "new_tokens\n",
    "\n"
   ]
  },
  {
   "cell_type": "code",
   "execution_count": 21,
   "metadata": {},
   "outputs": [],
   "source": [
    "tokens.extend(new_tokens)\n",
    "\n",
    "tokens = list(set(tokens))\n",
    "\n"
   ]
  },
  {
   "cell_type": "code",
   "execution_count": 22,
   "metadata": {},
   "outputs": [
    {
     "data": {
      "text/plain": [
       "['6',\n",
       " '[S-]',\n",
       " '.',\n",
       " '[n+]',\n",
       " '\\\\',\n",
       " '5',\n",
       " 'I',\n",
       " '[NH+]',\n",
       " '[se]',\n",
       " '[Li+]',\n",
       " '[S+]',\n",
       " '[I-]',\n",
       " 'c',\n",
       " 'O',\n",
       " '4',\n",
       " 'C',\n",
       " '[o+]',\n",
       " '(',\n",
       " '[Pt]',\n",
       " '[2H]',\n",
       " '[Co+3]',\n",
       " 'P',\n",
       " '[Cl-]',\n",
       " '[K+]',\n",
       " '[C@]',\n",
       " '[n-]',\n",
       " 'n',\n",
       " '[C@@]',\n",
       " '-',\n",
       " 'B',\n",
       " '=',\n",
       " '[Ca+2]',\n",
       " ')',\n",
       " '[nH]',\n",
       " '[P@]',\n",
       " '[Br-]',\n",
       " '2',\n",
       " '3',\n",
       " '[C@H]',\n",
       " '#',\n",
       " '[O-]',\n",
       " 'Br',\n",
       " '[C-]',\n",
       " '9',\n",
       " '/',\n",
       " '[N@+]',\n",
       " '7',\n",
       " '[Se]',\n",
       " '[Au+]',\n",
       " 'N',\n",
       " '[Fe+4]',\n",
       " 'F',\n",
       " 'S',\n",
       " '[C@@H]',\n",
       " '[Sb]',\n",
       " 'Cl',\n",
       " '[nH+]',\n",
       " '[N+]',\n",
       " '[Na+]',\n",
       " 'o',\n",
       " '[NH2+]',\n",
       " '[As]',\n",
       " '8',\n",
       " '[cH-]',\n",
       " '[Mn+2]',\n",
       " '[Zn+2]',\n",
       " '1',\n",
       " '[N-]',\n",
       " '[Hg]',\n",
       " '[Pt+2]',\n",
       " 's',\n",
       " '[Gd+3]',\n",
       " '[N@@+]',\n",
       " '[c+]',\n",
       " '[Cu+2]']"
      ]
     },
     "execution_count": 22,
     "metadata": {},
     "output_type": "execute_result"
    }
   ],
   "source": [
    "tokens"
   ]
  },
  {
   "cell_type": "code",
   "execution_count": null,
   "metadata": {},
   "outputs": [],
   "source": []
  }
 ],
 "metadata": {
  "kernelspec": {
   "display_name": "Python 3 (ipykernel)",
   "language": "python",
   "name": "python3"
  }
 },
 "nbformat": 4,
 "nbformat_minor": 2
}
