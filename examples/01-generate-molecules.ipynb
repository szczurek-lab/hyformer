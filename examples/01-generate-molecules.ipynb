{
 "cells": [
  {
   "cell_type": "markdown",
   "metadata": {},
   "source": [
    "# Generate molecules"
   ]
  },
  {
   "cell_type": "code",
   "execution_count": 34,
   "metadata": {},
   "outputs": [],
   "source": [
    "# Imports\n",
    "\n",
    "from hyformer.configs.tokenizer import TokenizerConfig\n",
    "from hyformer.configs.model import ModelConfig\n",
    "\n",
    "from hyformer.utils.tokenizers.auto import AutoTokenizer\n",
    "from hyformer.models.auto import AutoModel\n",
    "\n",
    "from hyformer.utils.chemistry import is_valid\n",
    "\n",
    "\n",
    "# auxiliary imports\n",
    "import torch\n",
    "import torch.nn.functional as F\n",
    "\n",
    "# autoreload magic\n",
    "%reload_ext autoreload\n",
    "%autoreload 2\n"
   ]
  },
  {
   "cell_type": "code",
   "execution_count": 35,
   "metadata": {},
   "outputs": [],
   "source": [
    "# Paths\n",
    "\n",
    "MODEL_NAME = 'hyformer_small'\n",
    "TASK_NAME = 'lm'\n",
    "\n",
    "TOKENIZER_CONFIG_PATH = 'configs/tokenizers/smiles/config.json'\n",
    "MODEL_CONFIG_PATH = 'configs/models/hyformer_small/config.json'\n",
    "MODEL_CHECKPOINT_PATH = f'/lustre/groups/aih/hyformer/results/distribution_learning/guacamol/hyformer_small/lm_enumerated/checkpoint.pt'"
   ]
  },
  {
   "cell_type": "code",
   "execution_count": 42,
   "metadata": {},
   "outputs": [],
   "source": [
    "# Load model\n",
    "\n",
    "tokenizer_config = TokenizerConfig.from_config_filepath(TOKENIZER_CONFIG_PATH)\n",
    "tokenizer = AutoTokenizer.from_config(tokenizer_config)\n",
    "\n",
    "# Load model\n",
    "model_config = ModelConfig.from_config_filepath(MODEL_CONFIG_PATH)\n",
    "model = AutoModel.from_config(model_config)\n",
    "model.load_pretrained(filepath=MODEL_CHECKPOINT_PATH)\n",
    "\n",
    "\n"
   ]
  },
  {
   "cell_type": "code",
   "execution_count": 43,
   "metadata": {},
   "outputs": [
    {
     "name": "stderr",
     "output_type": "stream",
     "text": [
      "Generating samples: 100%|██████████| 16/16 [00:15<00:00,  1.01it/s]"
     ]
    },
    {
     "name": "stdout",
     "output_type": "stream",
     "text": [
      "Validity:  0.995\n"
     ]
    },
    {
     "name": "stderr",
     "output_type": "stream",
     "text": [
      "\n"
     ]
    }
   ],
   "source": [
    "batch_size = 64\n",
    "temperature = 1.2\n",
    "top_k = None\n",
    "top_p = 0.9\n",
    "max_sequence_length = 100\n",
    "\n",
    "device = 'cuda:0'\n",
    "\n",
    "generator = model.to_generator(\n",
    "    tokenizer=tokenizer,\n",
    "    batch_size=batch_size,\n",
    "    temperature=temperature,\n",
    "    top_k=top_k,\n",
    "    top_p=top_p,\n",
    "    max_sequence_length=max_sequence_length,\n",
    "    device=device,\n",
    "    use_cache=False\n",
    "    )\n",
    "\n",
    "samples = generator.generate(number_samples=1000)\n",
    "is_valid_smiles = [is_valid(sample) for sample in samples]\n",
    "print(\"Validity: \", sum(is_valid_smiles) / len(is_valid_smiles))"
   ]
  },
  {
   "cell_type": "code",
   "execution_count": 51,
   "metadata": {},
   "outputs": [
    {
     "data": {
      "text/plain": [
       "1.0"
      ]
     },
     "execution_count": 51,
     "metadata": {},
     "output_type": "execute_result"
    }
   ],
   "source": [
    "len(list(set(samples))) / len(samples)"
   ]
  },
  {
   "cell_type": "code",
   "execution_count": null,
   "metadata": {},
   "outputs": [],
   "source": []
  }
 ],
 "metadata": {
  "kernelspec": {
   "display_name": "Python 3 (ipykernel)",
   "language": "python",
   "name": "python3"
  },
  "language_info": {
   "codemirror_mode": {
    "name": "ipython",
    "version": 3
   },
   "file_extension": ".py",
   "mimetype": "text/x-python",
   "name": "python",
   "nbconvert_exporter": "python",
   "pygments_lexer": "ipython3",
   "version": "3.10.16"
  }
 },
 "nbformat": 4,
 "nbformat_minor": 2
}
