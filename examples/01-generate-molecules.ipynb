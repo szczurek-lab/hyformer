{
 "cells": [
  {
   "cell_type": "markdown",
   "metadata": {},
   "source": [
    "# Generate molecules"
   ]
  },
  {
   "cell_type": "code",
   "execution_count": 11,
   "metadata": {},
   "outputs": [],
   "source": [
    "# Imports\n",
    "\n",
    "from hyformer.configs.tokenizer import TokenizerConfig\n",
    "from hyformer.configs.model import ModelConfig\n",
    "\n",
    "from hyformer.utils.tokenizers.auto import AutoTokenizer\n",
    "from hyformer.models.auto import AutoModel\n",
    "\n",
    "from hyformer.utils.chemistry import is_valid\n",
    "\n",
    "\n",
    "# auxiliary imports\n",
    "import torch\n",
    "import torch.nn.functional as F\n",
    "\n",
    "# autoreload magic\n",
    "%reload_ext autoreload\n",
    "%autoreload 2\n"
   ]
  },
  {
   "cell_type": "code",
   "execution_count": 2,
   "metadata": {},
   "outputs": [],
   "source": [
    "# Paths\n",
    "\n",
    "MODEL_NAME = 'hyformer_small'\n",
    "TASK_NAME = 'lm'\n",
    "\n",
    "TOKENIZER_CONFIG_PATH = 'configs/tokenizers/smiles/config.json'\n",
    "MODEL_CONFIG_PATH = 'configs/models/hyformer_small/config.json'\n",
    "MODEL_CHECKPOINT_PATH = f'/lustre/groups/aih/hyformer/results/distribution_learning/guacamol/{MODEL_NAME}/{TASK_NAME}/checkpoint.pt'"
   ]
  },
  {
   "cell_type": "code",
   "execution_count": 87,
   "metadata": {},
   "outputs": [],
   "source": [
    "# Load model\n",
    "\n",
    "tokenizer_config = TokenizerConfig.from_config_path(TOKENIZER_CONFIG_PATH)\n",
    "tokenizer = AutoTokenizer.from_config(tokenizer_config)\n",
    "\n",
    "# Load model\n",
    "model_config = ModelConfig.from_config_path(MODEL_CONFIG_PATH)\n",
    "model = AutoModel.from_config(model_config)\n",
    "model.load_pretrained(filepath=MODEL_CHECKPOINT_PATH)\n",
    "\n"
   ]
  },
  {
   "cell_type": "code",
   "execution_count": 145,
   "metadata": {},
   "outputs": [],
   "source": [
    "batch_size = 2\n",
    "temperature = 1.3\n",
    "top_k = 50\n",
    "top_p = 1.0\n",
    "max_sequence_length = 10\n",
    "\n",
    "device = 'cuda:0'\n",
    "\n",
    "generator = model.to_generator(\n",
    "    tokenizer=tokenizer,\n",
    "    batch_size=batch_size,\n",
    "    temperature=temperature,\n",
    "    top_k=top_k,\n",
    "    top_p=top_p,\n",
    "    max_sequence_length=max_sequence_length,\n",
    "    device=device\n",
    "    )"
   ]
  },
  {
   "cell_type": "code",
   "execution_count": 146,
   "metadata": {},
   "outputs": [
    {
     "name": "stderr",
     "output_type": "stream",
     "text": [
      "Generating samples: 100%|██████████| 15/15 [00:00<00:00, 20.25it/s]\n"
     ]
    }
   ],
   "source": [
    "samples = generator.generate(number_samples=30)"
   ]
  },
  {
   "cell_type": "code",
   "execution_count": 147,
   "metadata": {},
   "outputs": [
    {
     "data": {
      "text/plain": [
       "['CS#CcNN',\n",
       " 'C=C==Oc',\n",
       " 'CcCc[n+]7c',\n",
       " 'ONc1CN',\n",
       " 'BrCc3O=S',\n",
       " 'CcCC[n+]c[H]',\n",
       " 'cOC)C=(',\n",
       " 'OnCccCN',\n",
       " 'Cc=[o+]c)c',\n",
       " 'Ccc(ccc',\n",
       " 'FCCC#Cc',\n",
       " 'C=#5CNC',\n",
       " 'COCNCCC',\n",
       " 'NNC)(O',\n",
       " 'CccCc(C',\n",
       " 'CCc1C(C',\n",
       " 'Cc((C[N+]C',\n",
       " 'CCCCnC#',\n",
       " 'CcCONCn',\n",
       " 'Cc=2Cl#N',\n",
       " 'CCc1N)c',\n",
       " 'NCC(Cc(',\n",
       " 'CcONCCc',\n",
       " 'CSN==c(',\n",
       " 'CCNc1CC',\n",
       " 'Oc=cN(C',\n",
       " 'NC(CCNN',\n",
       " 'cCCCCCC',\n",
       " 'CCC(N)C',\n",
       " '-[S+]C(=(C']"
      ]
     },
     "execution_count": 147,
     "metadata": {},
     "output_type": "execute_result"
    }
   ],
   "source": [
    "samples"
   ]
  },
  {
   "cell_type": "code",
   "execution_count": null,
   "metadata": {},
   "outputs": [],
   "source": []
  }
 ],
 "metadata": {
  "kernelspec": {
   "display_name": "Python 3 (ipykernel)",
   "language": "python",
   "name": "python3"
  },
  "language_info": {
   "codemirror_mode": {
    "name": "ipython",
    "version": 3
   },
   "file_extension": ".py",
   "mimetype": "text/x-python",
   "name": "python",
   "nbconvert_exporter": "python",
   "pygments_lexer": "ipython3",
   "version": "3.10.16"
  }
 },
 "nbformat": 4,
 "nbformat_minor": 2
}
