{
 "cells": [
  {
   "cell_type": "markdown",
   "source": [
    "# Run Joint Learning Benchmark"
   ],
   "metadata": {
    "collapsed": false
   },
   "id": "b26dcdcd117802dc"
  },
  {
   "cell_type": "code",
   "execution_count": 1,
   "outputs": [
    {
     "name": "stdout",
     "output_type": "stream",
     "text": [
      "/home/adam/Projects/hybrid-transformer\n"
     ]
    }
   ],
   "source": [
    "%cd .."
   ],
   "metadata": {
    "collapsed": false,
    "ExecuteTime": {
     "end_time": "2023-12-30T21:05:35.968053977Z",
     "start_time": "2023-12-30T21:05:35.964560673Z"
    }
   },
   "id": "422d4f35c0246db1"
  },
  {
   "cell_type": "code",
   "execution_count": 2,
   "outputs": [
    {
     "name": "stderr",
     "output_type": "stream",
     "text": [
      "/home/adam/miniconda3/envs/hybrid-transformer/lib/python3.11/site-packages/tqdm/auto.py:21: TqdmWarning: IProgress not found. Please update jupyter and ipywidgets. See https://ipywidgets.readthedocs.io/en/stable/user_install.html\n",
      "  from .autonotebook import tqdm as notebook_tqdm\n",
      "2023-12-30 22:05:39.050616: I tensorflow/core/util/port.cc:113] oneDNN custom operations are on. You may see slightly different numerical results due to floating-point round-off errors from different computation orders. To turn them off, set the environment variable `TF_ENABLE_ONEDNN_OPTS=0`.\n",
      "2023-12-30 22:05:39.083278: I external/local_tsl/tsl/cuda/cudart_stub.cc:31] Could not find cuda drivers on your machine, GPU will not be used.\n",
      "2023-12-30 22:05:39.235551: E external/local_xla/xla/stream_executor/cuda/cuda_dnn.cc:9261] Unable to register cuDNN factory: Attempting to register factory for plugin cuDNN when one has already been registered\n",
      "2023-12-30 22:05:39.235585: E external/local_xla/xla/stream_executor/cuda/cuda_fft.cc:607] Unable to register cuFFT factory: Attempting to register factory for plugin cuFFT when one has already been registered\n",
      "2023-12-30 22:05:39.264343: E external/local_xla/xla/stream_executor/cuda/cuda_blas.cc:1515] Unable to register cuBLAS factory: Attempting to register factory for plugin cuBLAS when one has already been registered\n",
      "2023-12-30 22:05:39.324205: I tensorflow/core/platform/cpu_feature_guard.cc:182] This TensorFlow binary is optimized to use available CPU instructions in performance-critical operations.\n",
      "To enable the following instructions: AVX2 AVX512F AVX512_VNNI FMA, in other operations, rebuild TensorFlow with the appropriate compiler flags.\n",
      "2023-12-30 22:05:40.295390: W tensorflow/compiler/tf2tensorrt/utils/py_utils.cc:38] TF-TRT Warning: Could not find TensorRT\n"
     ]
    }
   ],
   "source": [
    "import os\n",
    "import torch\n",
    "import wandb\n",
    "\n",
    "from hybrid_transformer.configs.task import TaskConfig\n",
    "from hybrid_transformer.configs.model import ModelConfig\n",
    "from hybrid_transformer.configs.trainer import TrainerConfig\n",
    "from hybrid_transformer.configs.logger import LoggerConfig\n",
    "\n",
    "from hybrid_transformer.utils.datasets.auto import AutoDataset\n",
    "from hybrid_transformer.utils.tokenizers.auto import AutoTokenizer\n",
    "from hybrid_transformer.models.auto import AutoModel\n",
    "from hybrid_transformer.utils.loggers.wandb import WandbLogger\n",
    "\n",
    "from hybrid_transformer.trainers.trainer import Trainer\n",
    "\n",
    "from scripts.pretrain.train import DEFAULT_CONFIG_FILES\n",
    "\n",
    "from hybrid_transformer.utils.objectives.guacamol.objective import GUACAMOL_TASKS\n",
    "from hybrid_transformer.models.prediction import PREDICTION_MODEL_CONFIGS\n",
    "%load_ext autoreload\n",
    "%autoreload 2"
   ],
   "metadata": {
    "collapsed": false,
    "ExecuteTime": {
     "end_time": "2023-12-30T21:05:41.554074038Z",
     "start_time": "2023-12-30T21:05:36.608053433Z"
    }
   },
   "id": "388ac09832efcd15"
  },
  {
   "cell_type": "code",
   "execution_count": 6,
   "outputs": [
    {
     "name": "stdout",
     "output_type": "stream",
     "text": [
      "Validating Guacamol dataset...\n"
     ]
    },
    {
     "name": "stderr",
     "output_type": "stream",
     "text": [
      "79568it [00:10, 7837.35it/s]\n"
     ]
    },
    {
     "name": "stdout",
     "output_type": "stream",
     "text": [
      "Guacamol dataset loaded with 79568 valid examples!\n",
      "Loaded osmb data.\n",
      "number of parameters: 38.06M\n",
      "tokens per iteration will be: 512\n",
      "Using cuda device\n",
      "num decayed parameter tensors: 63, with 38,115,840 parameters\n",
      "num non-decayed parameter tensors: 25, with 12,800 parameters\n",
      "using fused AdamW: True\n",
      "Compiling model..\n"
     ]
    },
    {
     "data": {
      "text/plain": "<IPython.core.display.HTML object>",
      "text/html": "Finishing last run (ID:cfmfejow) before initializing another..."
     },
     "metadata": {},
     "output_type": "display_data"
    },
    {
     "name": "stderr",
     "output_type": "stream",
     "text": [
      "wandb: WARNING Source type is set to 'repo' but some required information is missing from the environment. A job will not be created from this run. See https://docs.wandb.ai/guides/launch/create-job\n"
     ]
    },
    {
     "data": {
      "text/plain": "<IPython.core.display.HTML object>",
      "text/html": " View run <strong style=\"color:#cdcd00\">JointGPT_osimertinib</strong> at: <a href='https://wandb.ai/adam-izdebski/debug/runs/cfmfejow' target=\"_blank\">https://wandb.ai/adam-izdebski/debug/runs/cfmfejow</a><br/>Synced 6 W&B file(s), 0 media file(s), 0 artifact file(s) and 0 other file(s)"
     },
     "metadata": {},
     "output_type": "display_data"
    },
    {
     "data": {
      "text/plain": "<IPython.core.display.HTML object>",
      "text/html": "Find logs at: <code>./wandb/run-20231230_221019-cfmfejow/logs</code>"
     },
     "metadata": {},
     "output_type": "display_data"
    },
    {
     "data": {
      "text/plain": "<IPython.core.display.HTML object>",
      "text/html": "Successfully finished last run (ID:cfmfejow). Initializing new run:<br/>"
     },
     "metadata": {},
     "output_type": "display_data"
    },
    {
     "data": {
      "text/plain": "<IPython.core.display.HTML object>",
      "text/html": "Tracking run with wandb version 0.16.1"
     },
     "metadata": {},
     "output_type": "display_data"
    },
    {
     "data": {
      "text/plain": "<IPython.core.display.HTML object>",
      "text/html": "Run data is saved locally in <code>/home/adam/Projects/hybrid-transformer/wandb/run-20231230_224652-g28lfcng</code>"
     },
     "metadata": {},
     "output_type": "display_data"
    },
    {
     "data": {
      "text/plain": "<IPython.core.display.HTML object>",
      "text/html": "Syncing run <strong><a href='https://wandb.ai/adam-izdebski/debug/runs/g28lfcng' target=\"_blank\">GPTForPrediction_osimertinib</a></strong> to <a href='https://wandb.ai/adam-izdebski/debug' target=\"_blank\">Weights & Biases</a> (<a href='https://wandb.me/run' target=\"_blank\">docs</a>)<br/>"
     },
     "metadata": {},
     "output_type": "display_data"
    },
    {
     "data": {
      "text/plain": "<IPython.core.display.HTML object>",
      "text/html": " View project at <a href='https://wandb.ai/adam-izdebski/debug' target=\"_blank\">https://wandb.ai/adam-izdebski/debug</a>"
     },
     "metadata": {},
     "output_type": "display_data"
    },
    {
     "data": {
      "text/plain": "<IPython.core.display.HTML object>",
      "text/html": " View run at <a href='https://wandb.ai/adam-izdebski/debug/runs/g28lfcng' target=\"_blank\">https://wandb.ai/adam-izdebski/debug/runs/g28lfcng</a>"
     },
     "metadata": {},
     "output_type": "display_data"
    },
    {
     "name": "stdout",
     "output_type": "stream",
     "text": [
      "Evaluation at iter 0: train loss 0.0276, val loss 0.0550, percent 0.0000\n",
      "Evaluation at iter 1: train loss 0.0747, val loss 0.0538, percent 0.0000\n",
      "Evaluation at iter 2: train loss 0.0438, val loss 0.0227, percent 0.0000\n",
      "Training finished.0, time 2473.47ms.\n",
      "number of parameters: 38.06M\n",
      "tokens per iteration will be: 512\n",
      "Using cuda device\n",
      "num decayed parameter tensors: 63, with 38,115,840 parameters\n",
      "num non-decayed parameter tensors: 25, with 12,800 parameters\n",
      "using fused AdamW: True\n",
      "Compiling model..\n"
     ]
    },
    {
     "data": {
      "text/plain": "<IPython.core.display.HTML object>",
      "text/html": "Finishing last run (ID:g28lfcng) before initializing another..."
     },
     "metadata": {},
     "output_type": "display_data"
    },
    {
     "name": "stderr",
     "output_type": "stream",
     "text": [
      "wandb: WARNING Source type is set to 'repo' but some required information is missing from the environment. A job will not be created from this run. See https://docs.wandb.ai/guides/launch/create-job\n"
     ]
    },
    {
     "data": {
      "text/plain": "<IPython.core.display.HTML object>",
      "text/html": "<style>\n    table.wandb td:nth-child(1) { padding: 0 10px; text-align: left ; width: auto;} td:nth-child(2) {text-align: left ; width: 100%}\n    .wandb-row { display: flex; flex-direction: row; flex-wrap: wrap; justify-content: flex-start; width: 100% }\n    .wandb-col { display: flex; flex-direction: column; flex-basis: 100%; flex: 1; padding: 10px; }\n    </style>\n<div class=\"wandb-row\"><div class=\"wandb-col\"><h3>Run history:</h3><br/><table class=\"wandb\"><tr><td>iter</td><td>▁▅█</td></tr><tr><td>lr</td><td>▁▅█</td></tr><tr><td>train/loss</td><td>▁█▃</td></tr><tr><td>train/loss_supervised</td><td>▁█▃</td></tr><tr><td>train/loss_unsupervised</td><td>█▁▃</td></tr><tr><td>val/loss</td><td>██▁</td></tr><tr><td>val/loss_supervised</td><td>██▁</td></tr><tr><td>val/loss_unsupervised</td><td>▁▃█</td></tr><tr><td>val/valid</td><td>▁▁▁</td></tr></table><br/></div><div class=\"wandb-col\"><h3>Run summary:</h3><br/><table class=\"wandb\"><tr><td>iter</td><td>2</td></tr><tr><td>lr</td><td>0.0</td></tr><tr><td>train/loss</td><td>0.04376</td></tr><tr><td>train/loss_supervised</td><td>0.04376</td></tr><tr><td>train/loss_unsupervised</td><td>3.61361</td></tr><tr><td>val/loss</td><td>0.02273</td></tr><tr><td>val/loss_supervised</td><td>0.02273</td></tr><tr><td>val/loss_unsupervised</td><td>3.88283</td></tr><tr><td>val/valid</td><td>0.0</td></tr></table><br/></div></div>"
     },
     "metadata": {},
     "output_type": "display_data"
    },
    {
     "data": {
      "text/plain": "<IPython.core.display.HTML object>",
      "text/html": " View run <strong style=\"color:#cdcd00\">GPTForPrediction_osimertinib</strong> at: <a href='https://wandb.ai/adam-izdebski/debug/runs/g28lfcng' target=\"_blank\">https://wandb.ai/adam-izdebski/debug/runs/g28lfcng</a><br/>Synced 6 W&B file(s), 0 media file(s), 0 artifact file(s) and 0 other file(s)"
     },
     "metadata": {},
     "output_type": "display_data"
    },
    {
     "data": {
      "text/plain": "<IPython.core.display.HTML object>",
      "text/html": "Find logs at: <code>./wandb/run-20231230_224652-g28lfcng/logs</code>"
     },
     "metadata": {},
     "output_type": "display_data"
    },
    {
     "data": {
      "text/plain": "<IPython.core.display.HTML object>",
      "text/html": "Successfully finished last run (ID:g28lfcng). Initializing new run:<br/>"
     },
     "metadata": {},
     "output_type": "display_data"
    },
    {
     "data": {
      "text/plain": "<IPython.core.display.HTML object>",
      "text/html": "Tracking run with wandb version 0.16.1"
     },
     "metadata": {},
     "output_type": "display_data"
    },
    {
     "data": {
      "text/plain": "<IPython.core.display.HTML object>",
      "text/html": "Run data is saved locally in <code>/home/adam/Projects/hybrid-transformer/wandb/run-20231230_224742-a93gkppi</code>"
     },
     "metadata": {},
     "output_type": "display_data"
    },
    {
     "data": {
      "text/plain": "<IPython.core.display.HTML object>",
      "text/html": "Syncing run <strong><a href='https://wandb.ai/adam-izdebski/debug/runs/a93gkppi' target=\"_blank\">JointGPT_osimertinib</a></strong> to <a href='https://wandb.ai/adam-izdebski/debug' target=\"_blank\">Weights & Biases</a> (<a href='https://wandb.me/run' target=\"_blank\">docs</a>)<br/>"
     },
     "metadata": {},
     "output_type": "display_data"
    },
    {
     "data": {
      "text/plain": "<IPython.core.display.HTML object>",
      "text/html": " View project at <a href='https://wandb.ai/adam-izdebski/debug' target=\"_blank\">https://wandb.ai/adam-izdebski/debug</a>"
     },
     "metadata": {},
     "output_type": "display_data"
    },
    {
     "data": {
      "text/plain": "<IPython.core.display.HTML object>",
      "text/html": " View run at <a href='https://wandb.ai/adam-izdebski/debug/runs/a93gkppi' target=\"_blank\">https://wandb.ai/adam-izdebski/debug/runs/a93gkppi</a>"
     },
     "metadata": {},
     "output_type": "display_data"
    },
    {
     "name": "stdout",
     "output_type": "stream",
     "text": [
      "Evaluation at iter 0: train loss 4.3206, val loss 3.7270, percent 0.0000\n",
      "Evaluation at iter 1: train loss 3.4616, val loss 3.8427, percent 0.0000\n",
      "Evaluation at iter 2: train loss 3.3065, val loss 3.5399, percent 0.0000\n",
      "Training finished.7, time 2456.78ms.\n",
      "number of parameters: 38.06M\n",
      "tokens per iteration will be: 512\n",
      "Using cuda device\n",
      "num decayed parameter tensors: 63, with 38,115,840 parameters\n",
      "num non-decayed parameter tensors: 25, with 12,800 parameters\n",
      "using fused AdamW: True\n",
      "Compiling model..\n"
     ]
    },
    {
     "data": {
      "text/plain": "<IPython.core.display.HTML object>",
      "text/html": "Finishing last run (ID:a93gkppi) before initializing another..."
     },
     "metadata": {},
     "output_type": "display_data"
    },
    {
     "name": "stderr",
     "output_type": "stream",
     "text": [
      "wandb: WARNING Source type is set to 'repo' but some required information is missing from the environment. A job will not be created from this run. See https://docs.wandb.ai/guides/launch/create-job\n"
     ]
    },
    {
     "data": {
      "text/plain": "<IPython.core.display.HTML object>",
      "text/html": "<style>\n    table.wandb td:nth-child(1) { padding: 0 10px; text-align: left ; width: auto;} td:nth-child(2) {text-align: left ; width: 100%}\n    .wandb-row { display: flex; flex-direction: row; flex-wrap: wrap; justify-content: flex-start; width: 100% }\n    .wandb-col { display: flex; flex-direction: column; flex-basis: 100%; flex: 1; padding: 10px; }\n    </style>\n<div class=\"wandb-row\"><div class=\"wandb-col\"><h3>Run history:</h3><br/><table class=\"wandb\"><tr><td>iter</td><td>▁▅█</td></tr><tr><td>lr</td><td>▁▅█</td></tr><tr><td>train/loss</td><td>█▂▁</td></tr><tr><td>train/loss_supervised</td><td>█▅▁</td></tr><tr><td>train/loss_unsupervised</td><td>█▁▂</td></tr><tr><td>val/loss</td><td>▅█▁</td></tr><tr><td>val/loss_supervised</td><td>▅█▁</td></tr><tr><td>val/loss_unsupervised</td><td>▃▁█</td></tr><tr><td>val/valid</td><td>▁▁▁</td></tr></table><br/></div><div class=\"wandb-col\"><h3>Run summary:</h3><br/><table class=\"wandb\"><tr><td>iter</td><td>2</td></tr><tr><td>lr</td><td>0.0</td></tr><tr><td>train/loss</td><td>3.30649</td></tr><tr><td>train/loss_supervised</td><td>0.19248</td></tr><tr><td>train/loss_unsupervised</td><td>3.11402</td></tr><tr><td>val/loss</td><td>3.53988</td></tr><tr><td>val/loss_supervised</td><td>0.29079</td></tr><tr><td>val/loss_unsupervised</td><td>3.24909</td></tr><tr><td>val/valid</td><td>0.0</td></tr></table><br/></div></div>"
     },
     "metadata": {},
     "output_type": "display_data"
    },
    {
     "data": {
      "text/plain": "<IPython.core.display.HTML object>",
      "text/html": " View run <strong style=\"color:#cdcd00\">JointGPT_osimertinib</strong> at: <a href='https://wandb.ai/adam-izdebski/debug/runs/a93gkppi' target=\"_blank\">https://wandb.ai/adam-izdebski/debug/runs/a93gkppi</a><br/>Synced 6 W&B file(s), 0 media file(s), 0 artifact file(s) and 0 other file(s)"
     },
     "metadata": {},
     "output_type": "display_data"
    },
    {
     "data": {
      "text/plain": "<IPython.core.display.HTML object>",
      "text/html": "Find logs at: <code>./wandb/run-20231230_224742-a93gkppi/logs</code>"
     },
     "metadata": {},
     "output_type": "display_data"
    },
    {
     "data": {
      "text/plain": "<IPython.core.display.HTML object>",
      "text/html": "Successfully finished last run (ID:a93gkppi). Initializing new run:<br/>"
     },
     "metadata": {},
     "output_type": "display_data"
    },
    {
     "data": {
      "text/plain": "<IPython.core.display.HTML object>",
      "text/html": "Tracking run with wandb version 0.16.1"
     },
     "metadata": {},
     "output_type": "display_data"
    },
    {
     "data": {
      "text/plain": "<IPython.core.display.HTML object>",
      "text/html": "Run data is saved locally in <code>/home/adam/Projects/hybrid-transformer/wandb/run-20231230_224951-8dcpfjtc</code>"
     },
     "metadata": {},
     "output_type": "display_data"
    },
    {
     "data": {
      "text/plain": "<IPython.core.display.HTML object>",
      "text/html": "Syncing run <strong><a href='https://wandb.ai/adam-izdebski/debug/runs/8dcpfjtc' target=\"_blank\">JointGPTNonLikelihood_osimertinib</a></strong> to <a href='https://wandb.ai/adam-izdebski/debug' target=\"_blank\">Weights & Biases</a> (<a href='https://wandb.me/run' target=\"_blank\">docs</a>)<br/>"
     },
     "metadata": {},
     "output_type": "display_data"
    },
    {
     "data": {
      "text/plain": "<IPython.core.display.HTML object>",
      "text/html": " View project at <a href='https://wandb.ai/adam-izdebski/debug' target=\"_blank\">https://wandb.ai/adam-izdebski/debug</a>"
     },
     "metadata": {},
     "output_type": "display_data"
    },
    {
     "data": {
      "text/plain": "<IPython.core.display.HTML object>",
      "text/html": " View run at <a href='https://wandb.ai/adam-izdebski/debug/runs/8dcpfjtc' target=\"_blank\">https://wandb.ai/adam-izdebski/debug/runs/8dcpfjtc</a>"
     },
     "metadata": {},
     "output_type": "display_data"
    },
    {
     "name": "stdout",
     "output_type": "stream",
     "text": [
      "Evaluation at iter 0: train loss 4.3445, val loss 3.5670, percent 0.0000\n",
      "Evaluation at iter 1: train loss 3.5383, val loss 3.8854, percent 0.0000\n",
      "Evaluation at iter 2: train loss 3.2390, val loss 3.5561, percent 0.0000\n",
      "Training finished.1, time 2458.56ms.\n",
      "number of parameters: 38.06M\n",
      "tokens per iteration will be: 512\n",
      "Using cuda device\n",
      "num decayed parameter tensors: 63, with 38,115,840 parameters\n",
      "num non-decayed parameter tensors: 25, with 12,800 parameters\n",
      "using fused AdamW: True\n",
      "Compiling model..\n"
     ]
    },
    {
     "data": {
      "text/plain": "<IPython.core.display.HTML object>",
      "text/html": "Finishing last run (ID:8dcpfjtc) before initializing another..."
     },
     "metadata": {},
     "output_type": "display_data"
    },
    {
     "name": "stderr",
     "output_type": "stream",
     "text": [
      "wandb: WARNING Source type is set to 'repo' but some required information is missing from the environment. A job will not be created from this run. See https://docs.wandb.ai/guides/launch/create-job\n"
     ]
    },
    {
     "data": {
      "text/plain": "<IPython.core.display.HTML object>",
      "text/html": "<style>\n    table.wandb td:nth-child(1) { padding: 0 10px; text-align: left ; width: auto;} td:nth-child(2) {text-align: left ; width: 100%}\n    .wandb-row { display: flex; flex-direction: row; flex-wrap: wrap; justify-content: flex-start; width: 100% }\n    .wandb-col { display: flex; flex-direction: column; flex-basis: 100%; flex: 1; padding: 10px; }\n    </style>\n<div class=\"wandb-row\"><div class=\"wandb-col\"><h3>Run history:</h3><br/><table class=\"wandb\"><tr><td>iter</td><td>▁▅█</td></tr><tr><td>lr</td><td>▁▅█</td></tr><tr><td>train/loss</td><td>█▃▁</td></tr><tr><td>train/loss_supervised</td><td>█▅▁</td></tr><tr><td>train/loss_unsupervised</td><td>█▁▁</td></tr><tr><td>val/loss</td><td>▁█▁</td></tr><tr><td>val/loss_supervised</td><td>▅█▁</td></tr><tr><td>val/loss_unsupervised</td><td>▁▅█</td></tr><tr><td>val/valid</td><td>▁▁▁</td></tr></table><br/></div><div class=\"wandb-col\"><h3>Run summary:</h3><br/><table class=\"wandb\"><tr><td>iter</td><td>2</td></tr><tr><td>lr</td><td>0.0</td></tr><tr><td>train/loss</td><td>3.23899</td></tr><tr><td>train/loss_supervised</td><td>0.1892</td></tr><tr><td>train/loss_unsupervised</td><td>3.04979</td></tr><tr><td>val/loss</td><td>3.55609</td></tr><tr><td>val/loss_supervised</td><td>0.28659</td></tr><tr><td>val/loss_unsupervised</td><td>3.2695</td></tr><tr><td>val/valid</td><td>0.0</td></tr></table><br/></div></div>"
     },
     "metadata": {},
     "output_type": "display_data"
    },
    {
     "data": {
      "text/plain": "<IPython.core.display.HTML object>",
      "text/html": " View run <strong style=\"color:#cdcd00\">JointGPTNonLikelihood_osimertinib</strong> at: <a href='https://wandb.ai/adam-izdebski/debug/runs/8dcpfjtc' target=\"_blank\">https://wandb.ai/adam-izdebski/debug/runs/8dcpfjtc</a><br/>Synced 6 W&B file(s), 0 media file(s), 0 artifact file(s) and 0 other file(s)"
     },
     "metadata": {},
     "output_type": "display_data"
    },
    {
     "data": {
      "text/plain": "<IPython.core.display.HTML object>",
      "text/html": "Find logs at: <code>./wandb/run-20231230_224951-8dcpfjtc/logs</code>"
     },
     "metadata": {},
     "output_type": "display_data"
    },
    {
     "data": {
      "text/plain": "<IPython.core.display.HTML object>",
      "text/html": "Successfully finished last run (ID:8dcpfjtc). Initializing new run:<br/>"
     },
     "metadata": {},
     "output_type": "display_data"
    },
    {
     "data": {
      "text/plain": "<IPython.core.display.HTML object>",
      "text/html": "Tracking run with wandb version 0.16.1"
     },
     "metadata": {},
     "output_type": "display_data"
    },
    {
     "data": {
      "text/plain": "<IPython.core.display.HTML object>",
      "text/html": "Run data is saved locally in <code>/home/adam/Projects/hybrid-transformer/wandb/run-20231230_225040-u2s50mt5</code>"
     },
     "metadata": {},
     "output_type": "display_data"
    },
    {
     "data": {
      "text/plain": "<IPython.core.display.HTML object>",
      "text/html": "Syncing run <strong><a href='https://wandb.ai/adam-izdebski/debug/runs/u2s50mt5' target=\"_blank\">HybridTransformerGPTInit_osimertinib</a></strong> to <a href='https://wandb.ai/adam-izdebski/debug' target=\"_blank\">Weights & Biases</a> (<a href='https://wandb.me/run' target=\"_blank\">docs</a>)<br/>"
     },
     "metadata": {},
     "output_type": "display_data"
    },
    {
     "data": {
      "text/plain": "<IPython.core.display.HTML object>",
      "text/html": " View project at <a href='https://wandb.ai/adam-izdebski/debug' target=\"_blank\">https://wandb.ai/adam-izdebski/debug</a>"
     },
     "metadata": {},
     "output_type": "display_data"
    },
    {
     "data": {
      "text/plain": "<IPython.core.display.HTML object>",
      "text/html": " View run at <a href='https://wandb.ai/adam-izdebski/debug/runs/u2s50mt5' target=\"_blank\">https://wandb.ai/adam-izdebski/debug/runs/u2s50mt5</a>"
     },
     "metadata": {},
     "output_type": "display_data"
    },
    {
     "name": "stdout",
     "output_type": "stream",
     "text": [
      "Evaluation at iter 0: train loss 1.9493, val loss 1.4402, percent 0.0000\n",
      "Evaluation at iter 1: train loss 1.6378, val loss 1.6417, percent 0.0000\n",
      "Evaluation at iter 2: train loss 1.4221, val loss 1.4515, percent 0.0000\n",
      "Training finished.1, time 2439.95ms.\n",
      "number of parameters: 38.06M\n",
      "tokens per iteration will be: 512\n",
      "Using cuda device\n",
      "num decayed parameter tensors: 63, with 38,115,840 parameters\n",
      "num non-decayed parameter tensors: 25, with 12,800 parameters\n",
      "using fused AdamW: True\n",
      "Compiling model..\n"
     ]
    },
    {
     "data": {
      "text/plain": "<IPython.core.display.HTML object>",
      "text/html": "Finishing last run (ID:u2s50mt5) before initializing another..."
     },
     "metadata": {},
     "output_type": "display_data"
    },
    {
     "name": "stderr",
     "output_type": "stream",
     "text": [
      "wandb: WARNING Source type is set to 'repo' but some required information is missing from the environment. A job will not be created from this run. See https://docs.wandb.ai/guides/launch/create-job\n"
     ]
    },
    {
     "data": {
      "text/plain": "<IPython.core.display.HTML object>",
      "text/html": "<style>\n    table.wandb td:nth-child(1) { padding: 0 10px; text-align: left ; width: auto;} td:nth-child(2) {text-align: left ; width: 100%}\n    .wandb-row { display: flex; flex-direction: row; flex-wrap: wrap; justify-content: flex-start; width: 100% }\n    .wandb-col { display: flex; flex-direction: column; flex-basis: 100%; flex: 1; padding: 10px; }\n    </style>\n<div class=\"wandb-row\"><div class=\"wandb-col\"><h3>Run history:</h3><br/><table class=\"wandb\"><tr><td>iter</td><td>▁▅█</td></tr><tr><td>lr</td><td>▁▅█</td></tr><tr><td>train/loss</td><td>█▄▁</td></tr><tr><td>train/loss_supervised</td><td>█▅▁</td></tr><tr><td>train/loss_unsupervised</td><td>█▅▁</td></tr><tr><td>val/loss</td><td>▁█▁</td></tr><tr><td>val/loss_supervised</td><td>█▇▁</td></tr><tr><td>val/loss_unsupervised</td><td>▂█▁</td></tr><tr><td>val/valid</td><td>▁▁▁</td></tr></table><br/></div><div class=\"wandb-col\"><h3>Run summary:</h3><br/><table class=\"wandb\"><tr><td>iter</td><td>2</td></tr><tr><td>lr</td><td>0.0</td></tr><tr><td>train/loss</td><td>1.42208</td></tr><tr><td>train/loss_supervised</td><td>0.15594</td></tr><tr><td>train/loss_unsupervised</td><td>2.23001</td></tr><tr><td>val/loss</td><td>1.45151</td></tr><tr><td>val/loss_supervised</td><td>0.20537</td></tr><tr><td>val/loss_unsupervised</td><td>2.2453</td></tr><tr><td>val/valid</td><td>0.0</td></tr></table><br/></div></div>"
     },
     "metadata": {},
     "output_type": "display_data"
    },
    {
     "data": {
      "text/plain": "<IPython.core.display.HTML object>",
      "text/html": " View run <strong style=\"color:#cdcd00\">HybridTransformerGPTInit_osimertinib</strong> at: <a href='https://wandb.ai/adam-izdebski/debug/runs/u2s50mt5' target=\"_blank\">https://wandb.ai/adam-izdebski/debug/runs/u2s50mt5</a><br/>Synced 6 W&B file(s), 0 media file(s), 0 artifact file(s) and 0 other file(s)"
     },
     "metadata": {},
     "output_type": "display_data"
    },
    {
     "data": {
      "text/plain": "<IPython.core.display.HTML object>",
      "text/html": "Find logs at: <code>./wandb/run-20231230_225040-u2s50mt5/logs</code>"
     },
     "metadata": {},
     "output_type": "display_data"
    },
    {
     "data": {
      "text/plain": "<IPython.core.display.HTML object>",
      "text/html": "Successfully finished last run (ID:u2s50mt5). Initializing new run:<br/>"
     },
     "metadata": {},
     "output_type": "display_data"
    },
    {
     "data": {
      "text/plain": "<IPython.core.display.HTML object>",
      "text/html": "Tracking run with wandb version 0.16.1"
     },
     "metadata": {},
     "output_type": "display_data"
    },
    {
     "data": {
      "text/plain": "<IPython.core.display.HTML object>",
      "text/html": "Run data is saved locally in <code>/home/adam/Projects/hybrid-transformer/wandb/run-20231230_225146-hlbi7h0q</code>"
     },
     "metadata": {},
     "output_type": "display_data"
    },
    {
     "data": {
      "text/plain": "<IPython.core.display.HTML object>",
      "text/html": "Syncing run <strong><a href='https://wandb.ai/adam-izdebski/debug/runs/hlbi7h0q' target=\"_blank\">HybridTransformer_osimertinib</a></strong> to <a href='https://wandb.ai/adam-izdebski/debug' target=\"_blank\">Weights & Biases</a> (<a href='https://wandb.me/run' target=\"_blank\">docs</a>)<br/>"
     },
     "metadata": {},
     "output_type": "display_data"
    },
    {
     "data": {
      "text/plain": "<IPython.core.display.HTML object>",
      "text/html": " View project at <a href='https://wandb.ai/adam-izdebski/debug' target=\"_blank\">https://wandb.ai/adam-izdebski/debug</a>"
     },
     "metadata": {},
     "output_type": "display_data"
    },
    {
     "data": {
      "text/plain": "<IPython.core.display.HTML object>",
      "text/html": " View run at <a href='https://wandb.ai/adam-izdebski/debug/runs/hlbi7h0q' target=\"_blank\">https://wandb.ai/adam-izdebski/debug/runs/hlbi7h0q</a>"
     },
     "metadata": {},
     "output_type": "display_data"
    },
    {
     "name": "stdout",
     "output_type": "stream",
     "text": [
      "Evaluation at iter 0: train loss 1.9106, val loss 1.5000, percent 0.0000\n",
      "Evaluation at iter 1: train loss 1.5707, val loss 1.6001, percent 0.0000\n",
      "Evaluation at iter 2: train loss 1.3970, val loss 1.4243, percent 0.0000\n",
      "Training finished.8, time 2454.09ms.\n",
      "number of parameters: 38.06M\n",
      "tokens per iteration will be: 512\n",
      "Using cuda device\n",
      "num decayed parameter tensors: 63, with 38,115,840 parameters\n",
      "num non-decayed parameter tensors: 25, with 12,800 parameters\n",
      "using fused AdamW: True\n",
      "Compiling model..\n"
     ]
    },
    {
     "data": {
      "text/plain": "<IPython.core.display.HTML object>",
      "text/html": "Finishing last run (ID:hlbi7h0q) before initializing another..."
     },
     "metadata": {},
     "output_type": "display_data"
    },
    {
     "name": "stderr",
     "output_type": "stream",
     "text": [
      "wandb: WARNING Source type is set to 'repo' but some required information is missing from the environment. A job will not be created from this run. See https://docs.wandb.ai/guides/launch/create-job\n"
     ]
    },
    {
     "data": {
      "text/plain": "<IPython.core.display.HTML object>",
      "text/html": "<style>\n    table.wandb td:nth-child(1) { padding: 0 10px; text-align: left ; width: auto;} td:nth-child(2) {text-align: left ; width: 100%}\n    .wandb-row { display: flex; flex-direction: row; flex-wrap: wrap; justify-content: flex-start; width: 100% }\n    .wandb-col { display: flex; flex-direction: column; flex-basis: 100%; flex: 1; padding: 10px; }\n    </style>\n<div class=\"wandb-row\"><div class=\"wandb-col\"><h3>Run history:</h3><br/><table class=\"wandb\"><tr><td>iter</td><td>▁▅█</td></tr><tr><td>lr</td><td>▁▅█</td></tr><tr><td>train/loss</td><td>█▃▁</td></tr><tr><td>train/loss_supervised</td><td>█▅▁</td></tr><tr><td>train/loss_unsupervised</td><td>█▄▁</td></tr><tr><td>val/loss</td><td>▄█▁</td></tr><tr><td>val/loss_supervised</td><td>█▆▁</td></tr><tr><td>val/loss_unsupervised</td><td>█▇▁</td></tr><tr><td>val/valid</td><td>▁▁▁</td></tr></table><br/></div><div class=\"wandb-col\"><h3>Run summary:</h3><br/><table class=\"wandb\"><tr><td>iter</td><td>2</td></tr><tr><td>lr</td><td>0.0</td></tr><tr><td>train/loss</td><td>1.39704</td></tr><tr><td>train/loss_supervised</td><td>0.15206</td></tr><tr><td>train/loss_unsupervised</td><td>2.20391</td></tr><tr><td>val/loss</td><td>1.42426</td></tr><tr><td>val/loss_supervised</td><td>0.19925</td></tr><tr><td>val/loss_unsupervised</td><td>2.20747</td></tr><tr><td>val/valid</td><td>0.0</td></tr></table><br/></div></div>"
     },
     "metadata": {},
     "output_type": "display_data"
    },
    {
     "data": {
      "text/plain": "<IPython.core.display.HTML object>",
      "text/html": " View run <strong style=\"color:#cdcd00\">HybridTransformer_osimertinib</strong> at: <a href='https://wandb.ai/adam-izdebski/debug/runs/hlbi7h0q' target=\"_blank\">https://wandb.ai/adam-izdebski/debug/runs/hlbi7h0q</a><br/>Synced 6 W&B file(s), 0 media file(s), 0 artifact file(s) and 0 other file(s)"
     },
     "metadata": {},
     "output_type": "display_data"
    },
    {
     "data": {
      "text/plain": "<IPython.core.display.HTML object>",
      "text/html": "Find logs at: <code>./wandb/run-20231230_225146-hlbi7h0q/logs</code>"
     },
     "metadata": {},
     "output_type": "display_data"
    },
    {
     "data": {
      "text/plain": "<IPython.core.display.HTML object>",
      "text/html": "Successfully finished last run (ID:hlbi7h0q). Initializing new run:<br/>"
     },
     "metadata": {},
     "output_type": "display_data"
    },
    {
     "data": {
      "text/plain": "<IPython.core.display.HTML object>",
      "text/html": "Tracking run with wandb version 0.16.1"
     },
     "metadata": {},
     "output_type": "display_data"
    },
    {
     "data": {
      "text/plain": "<IPython.core.display.HTML object>",
      "text/html": "Run data is saved locally in <code>/home/adam/Projects/hybrid-transformer/wandb/run-20231230_225248-oxsj9vfh</code>"
     },
     "metadata": {},
     "output_type": "display_data"
    },
    {
     "data": {
      "text/plain": "<IPython.core.display.HTML object>",
      "text/html": "Syncing run <strong><a href='https://wandb.ai/adam-izdebski/debug/runs/oxsj9vfh' target=\"_blank\">HybridTransformerPenalty_osimertinib</a></strong> to <a href='https://wandb.ai/adam-izdebski/debug' target=\"_blank\">Weights & Biases</a> (<a href='https://wandb.me/run' target=\"_blank\">docs</a>)<br/>"
     },
     "metadata": {},
     "output_type": "display_data"
    },
    {
     "data": {
      "text/plain": "<IPython.core.display.HTML object>",
      "text/html": " View project at <a href='https://wandb.ai/adam-izdebski/debug' target=\"_blank\">https://wandb.ai/adam-izdebski/debug</a>"
     },
     "metadata": {},
     "output_type": "display_data"
    },
    {
     "data": {
      "text/plain": "<IPython.core.display.HTML object>",
      "text/html": " View run at <a href='https://wandb.ai/adam-izdebski/debug/runs/oxsj9vfh' target=\"_blank\">https://wandb.ai/adam-izdebski/debug/runs/oxsj9vfh</a>"
     },
     "metadata": {},
     "output_type": "display_data"
    },
    {
     "name": "stdout",
     "output_type": "stream",
     "text": [
      "Evaluation at iter 0: train loss 2.7217, val loss 2.3374, percent 0.0000\n"
     ]
    },
    {
     "ename": "OutOfMemoryError",
     "evalue": "CUDA out of memory. Tried to allocate 246.00 MiB. GPU 0 has a total capacty of 1.83 GiB of which 94.94 MiB is free. Including non-PyTorch memory, this process has 1.73 GiB memory in use. Of the allocated memory 1.44 GiB is allocated by PyTorch, and 218.81 MiB is reserved by PyTorch but unallocated. If reserved but unallocated memory is large try setting max_split_size_mb to avoid fragmentation.  See documentation for Memory Management and PYTORCH_CUDA_ALLOC_CONF",
     "output_type": "error",
     "traceback": [
      "\u001B[0;31m---------------------------------------------------------------------------\u001B[0m",
      "\u001B[0;31mOutOfMemoryError\u001B[0m                          Traceback (most recent call last)",
      "Cell \u001B[0;32mIn[6], line 35\u001B[0m\n\u001B[1;32m     32\u001B[0m logger \u001B[38;5;241m=\u001B[39m WandbLogger(logger_config, [task_config, model_config, trainer_config])\n\u001B[1;32m     33\u001B[0m trainer \u001B[38;5;241m=\u001B[39m Trainer(config\u001B[38;5;241m=\u001B[39mtrainer_config, model\u001B[38;5;241m=\u001B[39mmodel, train_dataset\u001B[38;5;241m=\u001B[39mdataset, eval_dataset\u001B[38;5;241m=\u001B[39mdataset, tokenizer\u001B[38;5;241m=\u001B[39mtokenizer, logger\u001B[38;5;241m=\u001B[39mlogger)\n\u001B[0;32m---> 35\u001B[0m \u001B[43mtrainer\u001B[49m\u001B[38;5;241;43m.\u001B[39;49m\u001B[43mtrain\u001B[49m\u001B[43m(\u001B[49m\u001B[43m)\u001B[49m\n",
      "File \u001B[0;32m~/Projects/hybrid-transformer/hybrid_transformer/trainers/trainer.py:333\u001B[0m, in \u001B[0;36mTrainer.train\u001B[0;34m(self)\u001B[0m\n\u001B[1;32m    331\u001B[0m     task \u001B[38;5;241m=\u001B[39m \u001B[38;5;28mself\u001B[39m\u001B[38;5;241m.\u001B[39mget_task(task_p\u001B[38;5;241m=\u001B[39m\u001B[38;5;28mself\u001B[39m\u001B[38;5;241m.\u001B[39mmodel\u001B[38;5;241m.\u001B[39mtask_p)\n\u001B[1;32m    332\u001B[0m     inputs \u001B[38;5;241m=\u001B[39m \u001B[38;5;28mself\u001B[39m\u001B[38;5;241m.\u001B[39mget_batch(split\u001B[38;5;241m=\u001B[39m\u001B[38;5;124m'\u001B[39m\u001B[38;5;124mtrain\u001B[39m\u001B[38;5;124m'\u001B[39m, task\u001B[38;5;241m=\u001B[39mtask)\n\u001B[0;32m--> 333\u001B[0m     \u001B[38;5;28;43mself\u001B[39;49m\u001B[38;5;241;43m.\u001B[39;49m\u001B[43mscaler\u001B[49m\u001B[38;5;241;43m.\u001B[39;49m\u001B[43mscale\u001B[49m\u001B[43m(\u001B[49m\u001B[43mloss\u001B[49m\u001B[43m)\u001B[49m\u001B[38;5;241;43m.\u001B[39;49m\u001B[43mbackward\u001B[49m\u001B[43m(\u001B[49m\u001B[43m)\u001B[49m\n\u001B[1;32m    335\u001B[0m \u001B[38;5;28;01mif\u001B[39;00m \u001B[38;5;28mself\u001B[39m\u001B[38;5;241m.\u001B[39mgrad_clip \u001B[38;5;241m!=\u001B[39m \u001B[38;5;241m0.0\u001B[39m:\n\u001B[1;32m    336\u001B[0m     \u001B[38;5;28mself\u001B[39m\u001B[38;5;241m.\u001B[39mscaler\u001B[38;5;241m.\u001B[39munscale_(\u001B[38;5;28mself\u001B[39m\u001B[38;5;241m.\u001B[39moptimizer)\n",
      "File \u001B[0;32m~/miniconda3/envs/hybrid-transformer/lib/python3.11/site-packages/torch/_tensor.py:492\u001B[0m, in \u001B[0;36mTensor.backward\u001B[0;34m(self, gradient, retain_graph, create_graph, inputs)\u001B[0m\n\u001B[1;32m    482\u001B[0m \u001B[38;5;28;01mif\u001B[39;00m has_torch_function_unary(\u001B[38;5;28mself\u001B[39m):\n\u001B[1;32m    483\u001B[0m     \u001B[38;5;28;01mreturn\u001B[39;00m handle_torch_function(\n\u001B[1;32m    484\u001B[0m         Tensor\u001B[38;5;241m.\u001B[39mbackward,\n\u001B[1;32m    485\u001B[0m         (\u001B[38;5;28mself\u001B[39m,),\n\u001B[0;32m   (...)\u001B[0m\n\u001B[1;32m    490\u001B[0m         inputs\u001B[38;5;241m=\u001B[39minputs,\n\u001B[1;32m    491\u001B[0m     )\n\u001B[0;32m--> 492\u001B[0m \u001B[43mtorch\u001B[49m\u001B[38;5;241;43m.\u001B[39;49m\u001B[43mautograd\u001B[49m\u001B[38;5;241;43m.\u001B[39;49m\u001B[43mbackward\u001B[49m\u001B[43m(\u001B[49m\n\u001B[1;32m    493\u001B[0m \u001B[43m    \u001B[49m\u001B[38;5;28;43mself\u001B[39;49m\u001B[43m,\u001B[49m\u001B[43m \u001B[49m\u001B[43mgradient\u001B[49m\u001B[43m,\u001B[49m\u001B[43m \u001B[49m\u001B[43mretain_graph\u001B[49m\u001B[43m,\u001B[49m\u001B[43m \u001B[49m\u001B[43mcreate_graph\u001B[49m\u001B[43m,\u001B[49m\u001B[43m \u001B[49m\u001B[43minputs\u001B[49m\u001B[38;5;241;43m=\u001B[39;49m\u001B[43minputs\u001B[49m\n\u001B[1;32m    494\u001B[0m \u001B[43m\u001B[49m\u001B[43m)\u001B[49m\n",
      "File \u001B[0;32m~/miniconda3/envs/hybrid-transformer/lib/python3.11/site-packages/torch/autograd/__init__.py:251\u001B[0m, in \u001B[0;36mbackward\u001B[0;34m(tensors, grad_tensors, retain_graph, create_graph, grad_variables, inputs)\u001B[0m\n\u001B[1;32m    246\u001B[0m     retain_graph \u001B[38;5;241m=\u001B[39m create_graph\n\u001B[1;32m    248\u001B[0m \u001B[38;5;66;03m# The reason we repeat the same comment below is that\u001B[39;00m\n\u001B[1;32m    249\u001B[0m \u001B[38;5;66;03m# some Python versions print out the first line of a multi-line function\u001B[39;00m\n\u001B[1;32m    250\u001B[0m \u001B[38;5;66;03m# calls in the traceback and some print out the last line\u001B[39;00m\n\u001B[0;32m--> 251\u001B[0m \u001B[43mVariable\u001B[49m\u001B[38;5;241;43m.\u001B[39;49m\u001B[43m_execution_engine\u001B[49m\u001B[38;5;241;43m.\u001B[39;49m\u001B[43mrun_backward\u001B[49m\u001B[43m(\u001B[49m\u001B[43m  \u001B[49m\u001B[38;5;66;43;03m# Calls into the C++ engine to run the backward pass\u001B[39;49;00m\n\u001B[1;32m    252\u001B[0m \u001B[43m    \u001B[49m\u001B[43mtensors\u001B[49m\u001B[43m,\u001B[49m\n\u001B[1;32m    253\u001B[0m \u001B[43m    \u001B[49m\u001B[43mgrad_tensors_\u001B[49m\u001B[43m,\u001B[49m\n\u001B[1;32m    254\u001B[0m \u001B[43m    \u001B[49m\u001B[43mretain_graph\u001B[49m\u001B[43m,\u001B[49m\n\u001B[1;32m    255\u001B[0m \u001B[43m    \u001B[49m\u001B[43mcreate_graph\u001B[49m\u001B[43m,\u001B[49m\n\u001B[1;32m    256\u001B[0m \u001B[43m    \u001B[49m\u001B[43minputs\u001B[49m\u001B[43m,\u001B[49m\n\u001B[1;32m    257\u001B[0m \u001B[43m    \u001B[49m\u001B[43mallow_unreachable\u001B[49m\u001B[38;5;241;43m=\u001B[39;49m\u001B[38;5;28;43;01mTrue\u001B[39;49;00m\u001B[43m,\u001B[49m\n\u001B[1;32m    258\u001B[0m \u001B[43m    \u001B[49m\u001B[43maccumulate_grad\u001B[49m\u001B[38;5;241;43m=\u001B[39;49m\u001B[38;5;28;43;01mTrue\u001B[39;49;00m\u001B[43m,\u001B[49m\n\u001B[1;32m    259\u001B[0m \u001B[43m\u001B[49m\u001B[43m)\u001B[49m\n",
      "File \u001B[0;32m~/miniconda3/envs/hybrid-transformer/lib/python3.11/site-packages/torch/autograd/function.py:288\u001B[0m, in \u001B[0;36mBackwardCFunction.apply\u001B[0;34m(self, *args)\u001B[0m\n\u001B[1;32m    282\u001B[0m     \u001B[38;5;28;01mraise\u001B[39;00m \u001B[38;5;167;01mRuntimeError\u001B[39;00m(\n\u001B[1;32m    283\u001B[0m         \u001B[38;5;124m\"\u001B[39m\u001B[38;5;124mImplementing both \u001B[39m\u001B[38;5;124m'\u001B[39m\u001B[38;5;124mbackward\u001B[39m\u001B[38;5;124m'\u001B[39m\u001B[38;5;124m and \u001B[39m\u001B[38;5;124m'\u001B[39m\u001B[38;5;124mvjp\u001B[39m\u001B[38;5;124m'\u001B[39m\u001B[38;5;124m for a custom \u001B[39m\u001B[38;5;124m\"\u001B[39m\n\u001B[1;32m    284\u001B[0m         \u001B[38;5;124m\"\u001B[39m\u001B[38;5;124mFunction is not allowed. You should only implement one \u001B[39m\u001B[38;5;124m\"\u001B[39m\n\u001B[1;32m    285\u001B[0m         \u001B[38;5;124m\"\u001B[39m\u001B[38;5;124mof them.\u001B[39m\u001B[38;5;124m\"\u001B[39m\n\u001B[1;32m    286\u001B[0m     )\n\u001B[1;32m    287\u001B[0m user_fn \u001B[38;5;241m=\u001B[39m vjp_fn \u001B[38;5;28;01mif\u001B[39;00m vjp_fn \u001B[38;5;129;01mis\u001B[39;00m \u001B[38;5;129;01mnot\u001B[39;00m Function\u001B[38;5;241m.\u001B[39mvjp \u001B[38;5;28;01melse\u001B[39;00m backward_fn\n\u001B[0;32m--> 288\u001B[0m \u001B[38;5;28;01mreturn\u001B[39;00m \u001B[43muser_fn\u001B[49m\u001B[43m(\u001B[49m\u001B[38;5;28;43mself\u001B[39;49m\u001B[43m,\u001B[49m\u001B[43m \u001B[49m\u001B[38;5;241;43m*\u001B[39;49m\u001B[43margs\u001B[49m\u001B[43m)\u001B[49m\n",
      "File \u001B[0;32m~/miniconda3/envs/hybrid-transformer/lib/python3.11/site-packages/torch/_functorch/aot_autograd.py:3232\u001B[0m, in \u001B[0;36maot_dispatch_autograd.<locals>.CompiledFunction.backward\u001B[0;34m(ctx, *flat_args)\u001B[0m\n\u001B[1;32m   3230\u001B[0m     out \u001B[38;5;241m=\u001B[39m CompiledFunctionBackward\u001B[38;5;241m.\u001B[39mapply(\u001B[38;5;241m*\u001B[39mall_args)\n\u001B[1;32m   3231\u001B[0m \u001B[38;5;28;01melse\u001B[39;00m:\n\u001B[0;32m-> 3232\u001B[0m     out \u001B[38;5;241m=\u001B[39m \u001B[43mcall_compiled_backward\u001B[49m\u001B[43m(\u001B[49m\u001B[43m)\u001B[49m\n\u001B[1;32m   3233\u001B[0m \u001B[38;5;28;01mreturn\u001B[39;00m out\n",
      "File \u001B[0;32m~/miniconda3/envs/hybrid-transformer/lib/python3.11/site-packages/torch/_functorch/aot_autograd.py:3204\u001B[0m, in \u001B[0;36maot_dispatch_autograd.<locals>.CompiledFunction.backward.<locals>.call_compiled_backward\u001B[0;34m()\u001B[0m\n\u001B[1;32m   3199\u001B[0m     \u001B[38;5;28;01mwith\u001B[39;00m tracing(saved_context), context(), track_graph_compiling(aot_config, \u001B[38;5;124m\"\u001B[39m\u001B[38;5;124mbackward\u001B[39m\u001B[38;5;124m\"\u001B[39m):\n\u001B[1;32m   3200\u001B[0m         CompiledFunction\u001B[38;5;241m.\u001B[39mcompiled_bw \u001B[38;5;241m=\u001B[39m aot_config\u001B[38;5;241m.\u001B[39mbw_compiler(\n\u001B[1;32m   3201\u001B[0m             bw_module, placeholder_list\n\u001B[1;32m   3202\u001B[0m         )\n\u001B[0;32m-> 3204\u001B[0m out \u001B[38;5;241m=\u001B[39m \u001B[43mcall_func_with_args\u001B[49m\u001B[43m(\u001B[49m\n\u001B[1;32m   3205\u001B[0m \u001B[43m    \u001B[49m\u001B[43mCompiledFunction\u001B[49m\u001B[38;5;241;43m.\u001B[39;49m\u001B[43mcompiled_bw\u001B[49m\u001B[43m,\u001B[49m\n\u001B[1;32m   3206\u001B[0m \u001B[43m    \u001B[49m\u001B[43mall_args\u001B[49m\u001B[43m,\u001B[49m\n\u001B[1;32m   3207\u001B[0m \u001B[43m    \u001B[49m\u001B[43msteal_args\u001B[49m\u001B[38;5;241;43m=\u001B[39;49m\u001B[38;5;28;43;01mTrue\u001B[39;49;00m\u001B[43m,\u001B[49m\n\u001B[1;32m   3208\u001B[0m \u001B[43m    \u001B[49m\u001B[43mdisable_amp\u001B[49m\u001B[38;5;241;43m=\u001B[39;49m\u001B[43mdisable_amp\u001B[49m\u001B[43m,\u001B[49m\n\u001B[1;32m   3209\u001B[0m \u001B[43m\u001B[49m\u001B[43m)\u001B[49m\n\u001B[1;32m   3211\u001B[0m out \u001B[38;5;241m=\u001B[39m functionalized_rng_runtime_epilogue(CompiledFunction\u001B[38;5;241m.\u001B[39mmetadata, out)\n\u001B[1;32m   3212\u001B[0m \u001B[38;5;28;01mreturn\u001B[39;00m \u001B[38;5;28mtuple\u001B[39m(out)\n",
      "File \u001B[0;32m~/miniconda3/envs/hybrid-transformer/lib/python3.11/site-packages/torch/_functorch/aot_autograd.py:1506\u001B[0m, in \u001B[0;36mcall_func_with_args\u001B[0;34m(f, args, steal_args, disable_amp)\u001B[0m\n\u001B[1;32m   1504\u001B[0m \u001B[38;5;28;01mwith\u001B[39;00m context():\n\u001B[1;32m   1505\u001B[0m     \u001B[38;5;28;01mif\u001B[39;00m \u001B[38;5;28mhasattr\u001B[39m(f, \u001B[38;5;124m\"\u001B[39m\u001B[38;5;124m_boxed_call\u001B[39m\u001B[38;5;124m\"\u001B[39m):\n\u001B[0;32m-> 1506\u001B[0m         out \u001B[38;5;241m=\u001B[39m normalize_as_list(\u001B[43mf\u001B[49m\u001B[43m(\u001B[49m\u001B[43margs\u001B[49m\u001B[43m)\u001B[49m)\n\u001B[1;32m   1507\u001B[0m     \u001B[38;5;28;01melse\u001B[39;00m:\n\u001B[1;32m   1508\u001B[0m         \u001B[38;5;66;03m# TODO: Please remove soon\u001B[39;00m\n\u001B[1;32m   1509\u001B[0m         \u001B[38;5;66;03m# https://github.com/pytorch/pytorch/pull/83137#issuecomment-1211320670\u001B[39;00m\n\u001B[1;32m   1510\u001B[0m         warnings\u001B[38;5;241m.\u001B[39mwarn(\n\u001B[1;32m   1511\u001B[0m             \u001B[38;5;124m\"\u001B[39m\u001B[38;5;124mYour compiler for AOTAutograd is returning a function that doesn\u001B[39m\u001B[38;5;124m'\u001B[39m\u001B[38;5;124mt take boxed arguments. \u001B[39m\u001B[38;5;124m\"\u001B[39m\n\u001B[1;32m   1512\u001B[0m             \u001B[38;5;124m\"\u001B[39m\u001B[38;5;124mPlease wrap it with functorch.compile.make_boxed_func or handle the boxed arguments yourself. \u001B[39m\u001B[38;5;124m\"\u001B[39m\n\u001B[1;32m   1513\u001B[0m             \u001B[38;5;124m\"\u001B[39m\u001B[38;5;124mSee https://github.com/pytorch/pytorch/pull/83137#issuecomment-1211320670 for rationale.\u001B[39m\u001B[38;5;124m\"\u001B[39m\n\u001B[1;32m   1514\u001B[0m         )\n",
      "File \u001B[0;32m~/miniconda3/envs/hybrid-transformer/lib/python3.11/site-packages/torch/_dynamo/eval_frame.py:328\u001B[0m, in \u001B[0;36m_TorchDynamoContext.__call__.<locals>._fn\u001B[0;34m(*args, **kwargs)\u001B[0m\n\u001B[1;32m    326\u001B[0m dynamic_ctx\u001B[38;5;241m.\u001B[39m\u001B[38;5;21m__enter__\u001B[39m()\n\u001B[1;32m    327\u001B[0m \u001B[38;5;28;01mtry\u001B[39;00m:\n\u001B[0;32m--> 328\u001B[0m     \u001B[38;5;28;01mreturn\u001B[39;00m \u001B[43mfn\u001B[49m\u001B[43m(\u001B[49m\u001B[38;5;241;43m*\u001B[39;49m\u001B[43margs\u001B[49m\u001B[43m,\u001B[49m\u001B[43m \u001B[49m\u001B[38;5;241;43m*\u001B[39;49m\u001B[38;5;241;43m*\u001B[39;49m\u001B[43mkwargs\u001B[49m\u001B[43m)\u001B[49m\n\u001B[1;32m    329\u001B[0m \u001B[38;5;28;01mfinally\u001B[39;00m:\n\u001B[1;32m    330\u001B[0m     set_eval_frame(prior)\n",
      "File \u001B[0;32m~/miniconda3/envs/hybrid-transformer/lib/python3.11/site-packages/torch/_dynamo/external_utils.py:17\u001B[0m, in \u001B[0;36mwrap_inline.<locals>.inner\u001B[0;34m(*args, **kwargs)\u001B[0m\n\u001B[1;32m     15\u001B[0m \u001B[38;5;129m@functools\u001B[39m\u001B[38;5;241m.\u001B[39mwraps(fn)\n\u001B[1;32m     16\u001B[0m \u001B[38;5;28;01mdef\u001B[39;00m \u001B[38;5;21minner\u001B[39m(\u001B[38;5;241m*\u001B[39margs, \u001B[38;5;241m*\u001B[39m\u001B[38;5;241m*\u001B[39mkwargs):\n\u001B[0;32m---> 17\u001B[0m     \u001B[38;5;28;01mreturn\u001B[39;00m \u001B[43mfn\u001B[49m\u001B[43m(\u001B[49m\u001B[38;5;241;43m*\u001B[39;49m\u001B[43margs\u001B[49m\u001B[43m,\u001B[49m\u001B[43m \u001B[49m\u001B[38;5;241;43m*\u001B[39;49m\u001B[38;5;241;43m*\u001B[39;49m\u001B[43mkwargs\u001B[49m\u001B[43m)\u001B[49m\n",
      "File \u001B[0;32m~/miniconda3/envs/hybrid-transformer/lib/python3.11/site-packages/torch/_inductor/codecache.py:374\u001B[0m, in \u001B[0;36mCompiledFxGraph.__call__\u001B[0;34m(self, inputs)\u001B[0m\n\u001B[1;32m    373\u001B[0m \u001B[38;5;28;01mdef\u001B[39;00m \u001B[38;5;21m__call__\u001B[39m(\u001B[38;5;28mself\u001B[39m, inputs) \u001B[38;5;241m-\u001B[39m\u001B[38;5;241m>\u001B[39m Any:\n\u001B[0;32m--> 374\u001B[0m     \u001B[38;5;28;01mreturn\u001B[39;00m \u001B[38;5;28;43mself\u001B[39;49m\u001B[38;5;241;43m.\u001B[39;49m\u001B[43mget_current_callable\u001B[49m\u001B[43m(\u001B[49m\u001B[43m)\u001B[49m\u001B[43m(\u001B[49m\u001B[43minputs\u001B[49m\u001B[43m)\u001B[49m\n",
      "File \u001B[0;32m~/miniconda3/envs/hybrid-transformer/lib/python3.11/site-packages/torch/_inductor/compile_fx.py:628\u001B[0m, in \u001B[0;36malign_inputs_from_check_idxs.<locals>.run\u001B[0;34m(new_inputs)\u001B[0m\n\u001B[1;32m    626\u001B[0m \u001B[38;5;28;01mdef\u001B[39;00m \u001B[38;5;21mrun\u001B[39m(new_inputs):\n\u001B[1;32m    627\u001B[0m     copy_misaligned_inputs(new_inputs, inputs_to_check)\n\u001B[0;32m--> 628\u001B[0m     \u001B[38;5;28;01mreturn\u001B[39;00m \u001B[43mmodel\u001B[49m\u001B[43m(\u001B[49m\u001B[43mnew_inputs\u001B[49m\u001B[43m)\u001B[49m\n",
      "File \u001B[0;32m~/miniconda3/envs/hybrid-transformer/lib/python3.11/site-packages/torch/_inductor/codecache.py:401\u001B[0m, in \u001B[0;36m_run_from_cache\u001B[0;34m(compiled_graph, inputs)\u001B[0m\n\u001B[1;32m    391\u001B[0m     \u001B[38;5;28;01mfrom\u001B[39;00m \u001B[38;5;21;01m.\u001B[39;00m\u001B[38;5;21;01mcodecache\u001B[39;00m \u001B[38;5;28;01mimport\u001B[39;00m PyCodeCache\n\u001B[1;32m    393\u001B[0m     compiled_graph\u001B[38;5;241m.\u001B[39mcompiled_artifact \u001B[38;5;241m=\u001B[39m PyCodeCache\u001B[38;5;241m.\u001B[39mload_by_key_path(\n\u001B[1;32m    394\u001B[0m         compiled_graph\u001B[38;5;241m.\u001B[39mcache_key,\n\u001B[1;32m    395\u001B[0m         compiled_graph\u001B[38;5;241m.\u001B[39martifact_path,\n\u001B[0;32m   (...)\u001B[0m\n\u001B[1;32m    398\u001B[0m         \u001B[38;5;28;01melse\u001B[39;00m (),\n\u001B[1;32m    399\u001B[0m     )\u001B[38;5;241m.\u001B[39mcall\n\u001B[0;32m--> 401\u001B[0m \u001B[38;5;28;01mreturn\u001B[39;00m \u001B[43mcompiled_graph\u001B[49m\u001B[38;5;241;43m.\u001B[39;49m\u001B[43mcompiled_artifact\u001B[49m\u001B[43m(\u001B[49m\u001B[43minputs\u001B[49m\u001B[43m)\u001B[49m\n",
      "File \u001B[0;32m/tmp/torchinductor_adam/u7/cu7zqqfp6sg5n4ldmb2ymgdqqueqsb36lxnderfhyodtprp7knbm.py:1298\u001B[0m, in \u001B[0;36mcall\u001B[0;34m(args)\u001B[0m\n\u001B[1;32m   1296\u001B[0m buf7 \u001B[38;5;241m=\u001B[39m empty_strided((\u001B[38;5;241m2\u001B[39m, \u001B[38;5;241m128\u001B[39m, \u001B[38;5;241m588\u001B[39m), (\u001B[38;5;241m75264\u001B[39m, \u001B[38;5;241m588\u001B[39m, \u001B[38;5;241m1\u001B[39m), device\u001B[38;5;241m=\u001B[39m\u001B[38;5;124m'\u001B[39m\u001B[38;5;124mcuda\u001B[39m\u001B[38;5;124m'\u001B[39m, dtype\u001B[38;5;241m=\u001B[39mtorch\u001B[38;5;241m.\u001B[39mfloat32)\n\u001B[1;32m   1297\u001B[0m \u001B[38;5;66;03m# Source Nodes: [], Original ATen: [aten.add, aten.slice_backward]\u001B[39;00m\n\u001B[0;32m-> 1298\u001B[0m \u001B[43mtriton_poi_fused_add_slice_backward_4\u001B[49m\u001B[38;5;241;43m.\u001B[39;49m\u001B[43mrun\u001B[49m\u001B[43m(\u001B[49m\u001B[43mtangents_4\u001B[49m\u001B[43m,\u001B[49m\u001B[43m \u001B[49m\u001B[43mbuf5\u001B[49m\u001B[43m,\u001B[49m\u001B[43m \u001B[49m\u001B[43msub_38\u001B[49m\u001B[43m,\u001B[49m\u001B[43m \u001B[49m\u001B[43mbuf6\u001B[49m\u001B[43m,\u001B[49m\u001B[43m \u001B[49m\u001B[43mbuf7\u001B[49m\u001B[43m,\u001B[49m\u001B[43m \u001B[49m\u001B[38;5;241;43m150528\u001B[39;49m\u001B[43m,\u001B[49m\u001B[43m \u001B[49m\u001B[43mgrid\u001B[49m\u001B[38;5;241;43m=\u001B[39;49m\u001B[43mgrid\u001B[49m\u001B[43m(\u001B[49m\u001B[38;5;241;43m150528\u001B[39;49m\u001B[43m)\u001B[49m\u001B[43m,\u001B[49m\u001B[43m \u001B[49m\u001B[43mstream\u001B[49m\u001B[38;5;241;43m=\u001B[39;49m\u001B[43mstream0\u001B[49m\u001B[43m)\u001B[49m\n\u001B[1;32m   1299\u001B[0m \u001B[38;5;28;01mdel\u001B[39;00m buf5\n\u001B[1;32m   1300\u001B[0m \u001B[38;5;28;01mdel\u001B[39;00m buf6\n",
      "File \u001B[0;32m~/miniconda3/envs/hybrid-transformer/lib/python3.11/site-packages/torch/_inductor/triton_heuristics.py:401\u001B[0m, in \u001B[0;36mCachingAutotuner.run\u001B[0;34m(self, grid, stream, *args)\u001B[0m\n\u001B[1;32m    399\u001B[0m         \u001B[38;5;28mself\u001B[39m\u001B[38;5;241m.\u001B[39mprecompile()\n\u001B[1;32m    400\u001B[0m     \u001B[38;5;28;01mif\u001B[39;00m \u001B[38;5;28mlen\u001B[39m(\u001B[38;5;28mself\u001B[39m\u001B[38;5;241m.\u001B[39mlaunchers) \u001B[38;5;241m>\u001B[39m \u001B[38;5;241m1\u001B[39m:\n\u001B[0;32m--> 401\u001B[0m         \u001B[38;5;28;43mself\u001B[39;49m\u001B[38;5;241;43m.\u001B[39;49m\u001B[43mautotune_to_one_config\u001B[49m\u001B[43m(\u001B[49m\u001B[38;5;241;43m*\u001B[39;49m\u001B[43margs\u001B[49m\u001B[43m,\u001B[49m\u001B[43m \u001B[49m\u001B[43mgrid\u001B[49m\u001B[38;5;241;43m=\u001B[39;49m\u001B[43mgrid\u001B[49m\u001B[43m)\u001B[49m\n\u001B[1;32m    403\u001B[0m \u001B[38;5;28;01mif\u001B[39;00m (\n\u001B[1;32m    404\u001B[0m     \u001B[38;5;129;01mnot\u001B[39;00m \u001B[38;5;28mgetattr\u001B[39m(\u001B[38;5;28mself\u001B[39m\u001B[38;5;241m.\u001B[39mlaunchers[\u001B[38;5;241m0\u001B[39m]\u001B[38;5;241m.\u001B[39mconfig, \u001B[38;5;124m\"\u001B[39m\u001B[38;5;124mfound_by_coordesc\u001B[39m\u001B[38;5;124m\"\u001B[39m, \u001B[38;5;28;01mFalse\u001B[39;00m)\n\u001B[1;32m    405\u001B[0m     \u001B[38;5;129;01mand\u001B[39;00m config\u001B[38;5;241m.\u001B[39mcoordinate_descent_tuning\n\u001B[1;32m    406\u001B[0m ):\n\u001B[1;32m    407\u001B[0m     \u001B[38;5;28mself\u001B[39m\u001B[38;5;241m.\u001B[39mlaunchers \u001B[38;5;241m=\u001B[39m [\n\u001B[1;32m    408\u001B[0m         \u001B[38;5;28mself\u001B[39m\u001B[38;5;241m.\u001B[39mcoordinate_descent_tuning(\u001B[38;5;28mself\u001B[39m\u001B[38;5;241m.\u001B[39mlaunchers[\u001B[38;5;241m0\u001B[39m], \u001B[38;5;241m*\u001B[39margs, grid\u001B[38;5;241m=\u001B[39mgrid)\n\u001B[1;32m    409\u001B[0m     ]\n",
      "File \u001B[0;32m~/miniconda3/envs/hybrid-transformer/lib/python3.11/site-packages/torch/_inductor/triton_heuristics.py:326\u001B[0m, in \u001B[0;36mCachingAutotuner.autotune_to_one_config\u001B[0;34m(self, *args, **kwargs)\u001B[0m\n\u001B[1;32m    324\u001B[0m \u001B[38;5;28;01mdef\u001B[39;00m \u001B[38;5;21mautotune_to_one_config\u001B[39m(\u001B[38;5;28mself\u001B[39m, \u001B[38;5;241m*\u001B[39margs, \u001B[38;5;241m*\u001B[39m\u001B[38;5;241m*\u001B[39mkwargs):\n\u001B[1;32m    325\u001B[0m \u001B[38;5;250m    \u001B[39m\u001B[38;5;124;03m\"\"\"Do the actual autotuning\"\"\"\u001B[39;00m\n\u001B[0;32m--> 326\u001B[0m     timings \u001B[38;5;241m=\u001B[39m \u001B[38;5;28;43mself\u001B[39;49m\u001B[38;5;241;43m.\u001B[39;49m\u001B[43mbenchmark_all_configs\u001B[49m\u001B[43m(\u001B[49m\u001B[38;5;241;43m*\u001B[39;49m\u001B[43margs\u001B[49m\u001B[43m,\u001B[49m\u001B[43m \u001B[49m\u001B[38;5;241;43m*\u001B[39;49m\u001B[38;5;241;43m*\u001B[39;49m\u001B[43mkwargs\u001B[49m\u001B[43m)\u001B[49m\n\u001B[1;32m    327\u001B[0m     \u001B[38;5;28mself\u001B[39m\u001B[38;5;241m.\u001B[39mlaunchers \u001B[38;5;241m=\u001B[39m [builtins\u001B[38;5;241m.\u001B[39mmin(timings, key\u001B[38;5;241m=\u001B[39mtimings\u001B[38;5;241m.\u001B[39mget)]\n\u001B[1;32m    328\u001B[0m     \u001B[38;5;28;01mif\u001B[39;00m \u001B[38;5;28mself\u001B[39m\u001B[38;5;241m.\u001B[39msave_cache_hook:\n",
      "File \u001B[0;32m~/miniconda3/envs/hybrid-transformer/lib/python3.11/site-packages/torch/_dynamo/utils.py:189\u001B[0m, in \u001B[0;36mdynamo_timed.<locals>.dynamo_timed_inner.<locals>.time_wrapper\u001B[0;34m(*args, **kwargs)\u001B[0m\n\u001B[1;32m    187\u001B[0m \u001B[38;5;28;01mwith\u001B[39;00m torch\u001B[38;5;241m.\u001B[39mprofiler\u001B[38;5;241m.\u001B[39mrecord_function(\u001B[38;5;124mf\u001B[39m\u001B[38;5;124m\"\u001B[39m\u001B[38;5;132;01m{\u001B[39;00mkey\u001B[38;5;132;01m}\u001B[39;00m\u001B[38;5;124m (dynamo_timed)\u001B[39m\u001B[38;5;124m\"\u001B[39m):\n\u001B[1;32m    188\u001B[0m     t0 \u001B[38;5;241m=\u001B[39m time\u001B[38;5;241m.\u001B[39mtime()\n\u001B[0;32m--> 189\u001B[0m     r \u001B[38;5;241m=\u001B[39m \u001B[43mfunc\u001B[49m\u001B[43m(\u001B[49m\u001B[38;5;241;43m*\u001B[39;49m\u001B[43margs\u001B[49m\u001B[43m,\u001B[49m\u001B[43m \u001B[49m\u001B[38;5;241;43m*\u001B[39;49m\u001B[38;5;241;43m*\u001B[39;49m\u001B[43mkwargs\u001B[49m\u001B[43m)\u001B[49m\n\u001B[1;32m    190\u001B[0m     time_spent \u001B[38;5;241m=\u001B[39m time\u001B[38;5;241m.\u001B[39mtime() \u001B[38;5;241m-\u001B[39m t0\n\u001B[1;32m    191\u001B[0m compilation_time_metrics[key]\u001B[38;5;241m.\u001B[39mappend(time_spent)\n",
      "File \u001B[0;32m~/miniconda3/envs/hybrid-transformer/lib/python3.11/site-packages/torch/_inductor/triton_heuristics.py:302\u001B[0m, in \u001B[0;36mCachingAutotuner.benchmark_all_configs\u001B[0;34m(self, *args, **kwargs)\u001B[0m\n\u001B[1;32m    300\u001B[0m \u001B[38;5;129m@dynamo_timed\u001B[39m\n\u001B[1;32m    301\u001B[0m \u001B[38;5;28;01mdef\u001B[39;00m \u001B[38;5;21mbenchmark_all_configs\u001B[39m(\u001B[38;5;28mself\u001B[39m, \u001B[38;5;241m*\u001B[39margs, \u001B[38;5;241m*\u001B[39m\u001B[38;5;241m*\u001B[39mkwargs):\n\u001B[0;32m--> 302\u001B[0m     timings \u001B[38;5;241m=\u001B[39m \u001B[43m{\u001B[49m\n\u001B[1;32m    303\u001B[0m \u001B[43m        \u001B[49m\u001B[43mlauncher\u001B[49m\u001B[43m:\u001B[49m\u001B[43m \u001B[49m\u001B[38;5;28;43mself\u001B[39;49m\u001B[38;5;241;43m.\u001B[39;49m\u001B[43mbench\u001B[49m\u001B[43m(\u001B[49m\u001B[43mlauncher\u001B[49m\u001B[43m,\u001B[49m\u001B[43m \u001B[49m\u001B[38;5;241;43m*\u001B[39;49m\u001B[43margs\u001B[49m\u001B[43m,\u001B[49m\u001B[43m \u001B[49m\u001B[38;5;241;43m*\u001B[39;49m\u001B[38;5;241;43m*\u001B[39;49m\u001B[43mkwargs\u001B[49m\u001B[43m)\u001B[49m\n\u001B[1;32m    304\u001B[0m \u001B[43m        \u001B[49m\u001B[38;5;28;43;01mfor\u001B[39;49;00m\u001B[43m \u001B[49m\u001B[43mlauncher\u001B[49m\u001B[43m \u001B[49m\u001B[38;5;129;43;01min\u001B[39;49;00m\u001B[43m \u001B[49m\u001B[38;5;28;43mself\u001B[39;49m\u001B[38;5;241;43m.\u001B[39;49m\u001B[43mlaunchers\u001B[49m\n\u001B[1;32m    305\u001B[0m \u001B[43m    \u001B[49m\u001B[43m}\u001B[49m\n\u001B[1;32m    307\u001B[0m     \u001B[38;5;28;01mfor\u001B[39;00m k, v \u001B[38;5;129;01min\u001B[39;00m timings\u001B[38;5;241m.\u001B[39mitems():\n\u001B[1;32m    308\u001B[0m         \u001B[38;5;28mself\u001B[39m\u001B[38;5;241m.\u001B[39mcoordesc_tuner\u001B[38;5;241m.\u001B[39mcache_benchmark_result(k\u001B[38;5;241m.\u001B[39mconfig, v)\n",
      "File \u001B[0;32m~/miniconda3/envs/hybrid-transformer/lib/python3.11/site-packages/torch/_inductor/triton_heuristics.py:303\u001B[0m, in \u001B[0;36m<dictcomp>\u001B[0;34m(.0)\u001B[0m\n\u001B[1;32m    300\u001B[0m \u001B[38;5;129m@dynamo_timed\u001B[39m\n\u001B[1;32m    301\u001B[0m \u001B[38;5;28;01mdef\u001B[39;00m \u001B[38;5;21mbenchmark_all_configs\u001B[39m(\u001B[38;5;28mself\u001B[39m, \u001B[38;5;241m*\u001B[39margs, \u001B[38;5;241m*\u001B[39m\u001B[38;5;241m*\u001B[39mkwargs):\n\u001B[1;32m    302\u001B[0m     timings \u001B[38;5;241m=\u001B[39m {\n\u001B[0;32m--> 303\u001B[0m         launcher: \u001B[38;5;28;43mself\u001B[39;49m\u001B[38;5;241;43m.\u001B[39;49m\u001B[43mbench\u001B[49m\u001B[43m(\u001B[49m\u001B[43mlauncher\u001B[49m\u001B[43m,\u001B[49m\u001B[43m \u001B[49m\u001B[38;5;241;43m*\u001B[39;49m\u001B[43margs\u001B[49m\u001B[43m,\u001B[49m\u001B[43m \u001B[49m\u001B[38;5;241;43m*\u001B[39;49m\u001B[38;5;241;43m*\u001B[39;49m\u001B[43mkwargs\u001B[49m\u001B[43m)\u001B[49m\n\u001B[1;32m    304\u001B[0m         \u001B[38;5;28;01mfor\u001B[39;00m launcher \u001B[38;5;129;01min\u001B[39;00m \u001B[38;5;28mself\u001B[39m\u001B[38;5;241m.\u001B[39mlaunchers\n\u001B[1;32m    305\u001B[0m     }\n\u001B[1;32m    307\u001B[0m     \u001B[38;5;28;01mfor\u001B[39;00m k, v \u001B[38;5;129;01min\u001B[39;00m timings\u001B[38;5;241m.\u001B[39mitems():\n\u001B[1;32m    308\u001B[0m         \u001B[38;5;28mself\u001B[39m\u001B[38;5;241m.\u001B[39mcoordesc_tuner\u001B[38;5;241m.\u001B[39mcache_benchmark_result(k\u001B[38;5;241m.\u001B[39mconfig, v)\n",
      "File \u001B[0;32m~/miniconda3/envs/hybrid-transformer/lib/python3.11/site-packages/torch/_inductor/triton_heuristics.py:282\u001B[0m, in \u001B[0;36mCachingAutotuner.bench\u001B[0;34m(self, launcher, grid, *args)\u001B[0m\n\u001B[1;32m    275\u001B[0m     cloned_args \u001B[38;5;241m=\u001B[39m \u001B[38;5;28mself\u001B[39m\u001B[38;5;241m.\u001B[39mclone_args(\u001B[38;5;241m*\u001B[39margs)\n\u001B[1;32m    276\u001B[0m     launcher(\n\u001B[1;32m    277\u001B[0m         \u001B[38;5;241m*\u001B[39mcloned_args,\n\u001B[1;32m    278\u001B[0m         grid\u001B[38;5;241m=\u001B[39mgrid,\n\u001B[1;32m    279\u001B[0m         stream\u001B[38;5;241m=\u001B[39mstream,\n\u001B[1;32m    280\u001B[0m     )\n\u001B[0;32m--> 282\u001B[0m \u001B[38;5;28;01mreturn\u001B[39;00m \u001B[43mdo_bench\u001B[49m\u001B[43m(\u001B[49m\u001B[43mkernel_call\u001B[49m\u001B[43m,\u001B[49m\u001B[43m \u001B[49m\u001B[43mrep\u001B[49m\u001B[38;5;241;43m=\u001B[39;49m\u001B[38;5;241;43m40\u001B[39;49m\u001B[43m,\u001B[49m\u001B[43m \u001B[49m\u001B[43mfast_flush\u001B[49m\u001B[38;5;241;43m=\u001B[39;49m\u001B[38;5;28;43;01mTrue\u001B[39;49;00m\u001B[43m)\u001B[49m\n",
      "File \u001B[0;32m~/miniconda3/envs/hybrid-transformer/lib/python3.11/site-packages/torch/_inductor/utils.py:75\u001B[0m, in \u001B[0;36mdo_bench\u001B[0;34m(*args, **kwargs)\u001B[0m\n\u001B[1;32m     73\u001B[0m \u001B[38;5;28;01mif\u001B[39;00m quantile_field_name \u001B[38;5;129;01mnot\u001B[39;00m \u001B[38;5;129;01min\u001B[39;00m kwargs:\n\u001B[1;32m     74\u001B[0m     kwargs[quantile_field_name] \u001B[38;5;241m=\u001B[39m (\u001B[38;5;241m0.5\u001B[39m, \u001B[38;5;241m0.2\u001B[39m, \u001B[38;5;241m0.8\u001B[39m)\n\u001B[0;32m---> 75\u001B[0m \u001B[38;5;28;01mreturn\u001B[39;00m \u001B[43mtriton_do_bench\u001B[49m\u001B[43m(\u001B[49m\u001B[38;5;241;43m*\u001B[39;49m\u001B[43margs\u001B[49m\u001B[43m,\u001B[49m\u001B[43m \u001B[49m\u001B[38;5;241;43m*\u001B[39;49m\u001B[38;5;241;43m*\u001B[39;49m\u001B[43mkwargs\u001B[49m\u001B[43m)\u001B[49m[\u001B[38;5;241m0\u001B[39m]\n",
      "File \u001B[0;32m~/miniconda3/envs/hybrid-transformer/lib/python3.11/site-packages/triton/testing.py:111\u001B[0m, in \u001B[0;36mdo_bench\u001B[0;34m(fn, warmup, rep, grad_to_none, quantiles, fast_flush, return_mode)\u001B[0m\n\u001B[1;32m    107\u001B[0m \u001B[38;5;66;03m# We maintain a buffer of 256 MB that we clear\u001B[39;00m\n\u001B[1;32m    108\u001B[0m \u001B[38;5;66;03m# before each kernel call to make sure that the L2\u001B[39;00m\n\u001B[1;32m    109\u001B[0m \u001B[38;5;66;03m# doesn't contain any input data before the run\u001B[39;00m\n\u001B[1;32m    110\u001B[0m \u001B[38;5;28;01mif\u001B[39;00m fast_flush:\n\u001B[0;32m--> 111\u001B[0m     cache \u001B[38;5;241m=\u001B[39m \u001B[43mtorch\u001B[49m\u001B[38;5;241;43m.\u001B[39;49m\u001B[43mempty\u001B[49m\u001B[43m(\u001B[49m\u001B[38;5;28;43mint\u001B[39;49m\u001B[43m(\u001B[49m\u001B[38;5;241;43m256e6\u001B[39;49m\u001B[43m \u001B[49m\u001B[38;5;241;43m/\u001B[39;49m\u001B[38;5;241;43m/\u001B[39;49m\u001B[43m \u001B[49m\u001B[38;5;241;43m4\u001B[39;49m\u001B[43m)\u001B[49m\u001B[43m,\u001B[49m\u001B[43m \u001B[49m\u001B[43mdtype\u001B[49m\u001B[38;5;241;43m=\u001B[39;49m\u001B[43mtorch\u001B[49m\u001B[38;5;241;43m.\u001B[39;49m\u001B[43mint\u001B[49m\u001B[43m,\u001B[49m\u001B[43m \u001B[49m\u001B[43mdevice\u001B[49m\u001B[38;5;241;43m=\u001B[39;49m\u001B[38;5;124;43m'\u001B[39;49m\u001B[38;5;124;43mcuda\u001B[39;49m\u001B[38;5;124;43m'\u001B[39;49m\u001B[43m)\u001B[49m\n\u001B[1;32m    112\u001B[0m \u001B[38;5;28;01melse\u001B[39;00m:\n\u001B[1;32m    113\u001B[0m     cache \u001B[38;5;241m=\u001B[39m torch\u001B[38;5;241m.\u001B[39mempty(\u001B[38;5;28mint\u001B[39m(\u001B[38;5;241m256e6\u001B[39m), dtype\u001B[38;5;241m=\u001B[39mtorch\u001B[38;5;241m.\u001B[39mint8, device\u001B[38;5;241m=\u001B[39m\u001B[38;5;124m'\u001B[39m\u001B[38;5;124mcuda\u001B[39m\u001B[38;5;124m'\u001B[39m)\n",
      "\u001B[0;31mOutOfMemoryError\u001B[0m: CUDA out of memory. Tried to allocate 246.00 MiB. GPU 0 has a total capacty of 1.83 GiB of which 94.94 MiB is free. Including non-PyTorch memory, this process has 1.73 GiB memory in use. Of the allocated memory 1.44 GiB is allocated by PyTorch, and 218.81 MiB is reserved by PyTorch but unallocated. If reserved but unallocated memory is large try setting max_split_size_mb to avoid fragmentation.  See documentation for Memory Management and PYTORCH_CUDA_ALLOC_CONF"
     ]
    }
   ],
   "source": [
    "# Load configs\n",
    "\n",
    "task_config_path = lambda: f'./configs/tasks/guacamol/{guacamol_task}/config.json'\n",
    "\n",
    "\n",
    "for guacamol_task in GUACAMOL_TASKS:\n",
    "    \n",
    "    task_config = TaskConfig.from_pretrained(task_config_path())\n",
    "    task_config.validate = True\n",
    "    task_config.split = 'val'\n",
    "    dataset = AutoDataset.from_config(task_config)\n",
    "    print(f\"Loaded {task_config.target_label} data.\")\n",
    "    \n",
    "    for model_name, path_to_model_config in PREDICTION_MODEL_CONFIGS.items():\n",
    "        \n",
    "        model_config = ModelConfig.from_pretrained(path_to_model_config)\n",
    "\n",
    "        trainer_config = TrainerConfig.from_pretrained('./configs/trainers/debug/')\n",
    "        logger_config = LoggerConfig.from_pretrained(DEFAULT_CONFIG_FILES['logger'])\n",
    "        \n",
    "        out_dir = f'./results/regression_task/guacamol/{model_name}/{guacamol_task}'\n",
    "        trainer_config.out_dir = out_dir\n",
    "        logger_config.name = model_name + '_' + guacamol_task\n",
    "        logger_config.project = 'debug'\n",
    "        trainer_config.enable_save_checkpoint = False\n",
    "        task_config.validate = False\n",
    "        logger_config.wandb_log = True\n",
    "        \n",
    "        dataset = AutoDataset.from_config(task_config)\n",
    "        tokenizer = AutoTokenizer.from_config(task_config)                \n",
    "        model = AutoModel.from_config(model_config)\n",
    "        logger = WandbLogger(logger_config, [task_config, model_config, trainer_config])\n",
    "        trainer = Trainer(config=trainer_config, model=model, train_dataset=dataset, eval_dataset=dataset, tokenizer=tokenizer, logger=logger)\n",
    "        \n",
    "        trainer.train()\n",
    "        \n",
    "\n",
    "        "
   ],
   "metadata": {
    "collapsed": false,
    "ExecuteTime": {
     "end_time": "2023-12-30T21:53:55.905651127Z",
     "start_time": "2023-12-30T21:46:40.241717126Z"
    }
   },
   "id": "3f4cb44e009419ba"
  },
  {
   "cell_type": "code",
   "execution_count": 5,
   "outputs": [],
   "source": [
    "import torch"
   ],
   "metadata": {
    "collapsed": false,
    "ExecuteTime": {
     "end_time": "2024-01-03T13:20:00.016460214Z",
     "start_time": "2024-01-03T13:20:00.007727538Z"
    }
   },
   "id": "caca436fa0224b62"
  },
  {
   "cell_type": "code",
   "execution_count": 6,
   "outputs": [],
   "source": [
    "params = torch.nn.parameter.Parameter(torch.ones(64, 256), requires_grad=True)\n",
    "params_no_weight_decay = torch.nn.parameter.Parameter(torch.ones(64, 256), requires_grad=True)\n",
    "weight_decay = 0.1"
   ],
   "metadata": {
    "collapsed": false,
    "ExecuteTime": {
     "end_time": "2024-01-03T13:20:00.466160328Z",
     "start_time": "2024-01-03T13:20:00.456435234Z"
    }
   },
   "id": "2fee7e4355480120"
  },
  {
   "cell_type": "code",
   "execution_count": 7,
   "outputs": [],
   "source": [
    "from hybrid_transformer.utils.optimization import AdamW"
   ],
   "metadata": {
    "collapsed": false,
    "ExecuteTime": {
     "end_time": "2024-01-03T13:20:00.983519222Z",
     "start_time": "2024-01-03T13:20:00.963969328Z"
    }
   },
   "id": "f69154d2993c0542"
  },
  {
   "cell_type": "code",
   "execution_count": 15,
   "outputs": [],
   "source": [
    "optimizer = AdamW( \n",
    "    [{'params': params, 'weight_decay': weight_decay}, {'params': params_no_weight_decay, 'weight_decay': 0.0}], lr=0.1, betas=(0.9, 0.999), fused=True, correct_bias=True\n",
    ")"
   ],
   "metadata": {
    "collapsed": false,
    "ExecuteTime": {
     "end_time": "2024-01-03T13:31:16.798006075Z",
     "start_time": "2024-01-03T13:31:16.793485310Z"
    }
   },
   "id": "9538b3c02cf94643"
  },
  {
   "cell_type": "code",
   "execution_count": 16,
   "outputs": [],
   "source": [
    "optimizer.step()"
   ],
   "metadata": {
    "collapsed": false,
    "ExecuteTime": {
     "end_time": "2024-01-03T13:31:18.195885149Z",
     "start_time": "2024-01-03T13:31:18.194044791Z"
    }
   },
   "id": "14206dcad3bdd496"
  },
  {
   "cell_type": "code",
   "execution_count": 17,
   "outputs": [
    {
     "data": {
      "text/plain": "[{'params': [Parameter containing:\n   tensor([[1., 1., 1.,  ..., 1., 1., 1.],\n           [1., 1., 1.,  ..., 1., 1., 1.],\n           [1., 1., 1.,  ..., 1., 1., 1.],\n           ...,\n           [1., 1., 1.,  ..., 1., 1., 1.],\n           [1., 1., 1.,  ..., 1., 1., 1.],\n           [1., 1., 1.,  ..., 1., 1., 1.]], requires_grad=True)],\n  'weight_decay': 0.1,\n  'lr': 0.1,\n  'betas': (0.9, 0.999),\n  'eps': 1e-06,\n  'correct_bias': True,\n  'fused': True},\n {'params': [Parameter containing:\n   tensor([[1., 1., 1.,  ..., 1., 1., 1.],\n           [1., 1., 1.,  ..., 1., 1., 1.],\n           [1., 1., 1.,  ..., 1., 1., 1.],\n           ...,\n           [1., 1., 1.,  ..., 1., 1., 1.],\n           [1., 1., 1.,  ..., 1., 1., 1.],\n           [1., 1., 1.,  ..., 1., 1., 1.]], requires_grad=True)],\n  'weight_decay': 0.0,\n  'lr': 0.1,\n  'betas': (0.9, 0.999),\n  'eps': 1e-06,\n  'correct_bias': True,\n  'fused': True}]"
     },
     "execution_count": 17,
     "metadata": {},
     "output_type": "execute_result"
    }
   ],
   "source": [
    "optimizer.param_groups"
   ],
   "metadata": {
    "collapsed": false,
    "ExecuteTime": {
     "end_time": "2024-01-03T13:31:18.662998Z",
     "start_time": "2024-01-03T13:31:18.655926535Z"
    }
   },
   "id": "fc6ec03ea4426f9b"
  },
  {
   "cell_type": "code",
   "execution_count": 18,
   "outputs": [],
   "source": [
    "from hybrid_transformer.utils.optimization import AdamW"
   ],
   "metadata": {
    "collapsed": false,
    "ExecuteTime": {
     "end_time": "2024-01-03T13:31:20.062882023Z",
     "start_time": "2024-01-03T13:31:20.060482140Z"
    }
   },
   "id": "1a8963e0dfadcf7f"
  },
  {
   "cell_type": "code",
   "execution_count": 19,
   "outputs": [
    {
     "name": "stdout",
     "output_type": "stream",
     "text": [
      "True\n",
      "True\n"
     ]
    }
   ],
   "source": [
    "for group in optimizer.param_groups:\n",
    "    for p in group[\"params\"]:\n",
    "        print(group['correct_bias'])"
   ],
   "metadata": {
    "collapsed": false,
    "ExecuteTime": {
     "end_time": "2024-01-03T13:31:20.474092376Z",
     "start_time": "2024-01-03T13:31:20.471719515Z"
    }
   },
   "id": "5e2f823e57a2f461"
  },
  {
   "cell_type": "code",
   "execution_count": 21,
   "outputs": [
    {
     "ename": "SyntaxError",
     "evalue": "positional argument follows keyword argument (241197246.py, line 3)",
     "output_type": "error",
     "traceback": [
      "\u001B[0;36m  Cell \u001B[0;32mIn[21], line 3\u001B[0;36m\u001B[0m\n\u001B[0;31m    lr=0.1, betas=(0.9, 0.999), {'correct_bias':True})\u001B[0m\n\u001B[0m                                                     ^\u001B[0m\n\u001B[0;31mSyntaxError\u001B[0m\u001B[0;31m:\u001B[0m positional argument follows keyword argument\n"
     ]
    }
   ],
   "source": [
    "optimizer = torch.optim.AdamW(\n",
    "    [{'params': params, 'weight_decay': weight_decay}, {'params': params_no_weight_decay, 'weight_decay': 0.0}],\n",
    "    lr=0.1, betas=(0.9, 0.999), {'correct_bias':True})"
   ],
   "metadata": {
    "collapsed": false,
    "ExecuteTime": {
     "end_time": "2024-01-03T13:31:37.898958438Z",
     "start_time": "2024-01-03T13:31:37.892235908Z"
    }
   },
   "id": "997a9cd725db1e46"
  },
  {
   "cell_type": "code",
   "execution_count": 27,
   "outputs": [
    {
     "ename": "FileNotFoundError",
     "evalue": "my_file.csv not found.",
     "output_type": "error",
     "traceback": [
      "\u001B[0;31m---------------------------------------------------------------------------\u001B[0m",
      "\u001B[0;31mFileNotFoundError\u001B[0m                         Traceback (most recent call last)",
      "Cell \u001B[0;32mIn[27], line 4\u001B[0m\n\u001B[1;32m      2\u001B[0m \u001B[38;5;28;01mfrom\u001B[39;00m \u001B[38;5;21;01murllib\u001B[39;00m\u001B[38;5;21;01m.\u001B[39;00m\u001B[38;5;21;01mrequest\u001B[39;00m \u001B[38;5;28;01mimport\u001B[39;00m urlretrieve\n\u001B[1;32m      3\u001B[0m \u001B[38;5;28;01mfrom\u001B[39;00m \u001B[38;5;21;01mnumpy\u001B[39;00m \u001B[38;5;28;01mimport\u001B[39;00m genfromtxt\n\u001B[0;32m----> 4\u001B[0m my_data \u001B[38;5;241m=\u001B[39m \u001B[43mgenfromtxt\u001B[49m\u001B[43m(\u001B[49m\u001B[38;5;124;43m'\u001B[39;49m\u001B[38;5;124;43mmy_file.csv\u001B[39;49m\u001B[38;5;124;43m'\u001B[39;49m\u001B[43m,\u001B[49m\u001B[43m \u001B[49m\u001B[43mdelimiter\u001B[49m\u001B[38;5;241;43m=\u001B[39;49m\u001B[38;5;124;43m'\u001B[39;49m\u001B[38;5;124;43m,\u001B[39;49m\u001B[38;5;124;43m'\u001B[39;49m\u001B[43m)\u001B[49m\n",
      "File \u001B[0;32m~/miniconda3/envs/hybrid-transformer/lib/python3.11/site-packages/numpy/lib/npyio.py:1980\u001B[0m, in \u001B[0;36mgenfromtxt\u001B[0;34m(fname, dtype, comments, delimiter, skip_header, skip_footer, converters, missing_values, filling_values, usecols, names, excludelist, deletechars, replace_space, autostrip, case_sensitive, defaultfmt, unpack, usemask, loose, invalid_raise, max_rows, encoding, ndmin, like)\u001B[0m\n\u001B[1;32m   1978\u001B[0m     fname \u001B[38;5;241m=\u001B[39m os_fspath(fname)\n\u001B[1;32m   1979\u001B[0m \u001B[38;5;28;01mif\u001B[39;00m \u001B[38;5;28misinstance\u001B[39m(fname, \u001B[38;5;28mstr\u001B[39m):\n\u001B[0;32m-> 1980\u001B[0m     fid \u001B[38;5;241m=\u001B[39m \u001B[43mnp\u001B[49m\u001B[38;5;241;43m.\u001B[39;49m\u001B[43mlib\u001B[49m\u001B[38;5;241;43m.\u001B[39;49m\u001B[43m_datasource\u001B[49m\u001B[38;5;241;43m.\u001B[39;49m\u001B[43mopen\u001B[49m\u001B[43m(\u001B[49m\u001B[43mfname\u001B[49m\u001B[43m,\u001B[49m\u001B[43m \u001B[49m\u001B[38;5;124;43m'\u001B[39;49m\u001B[38;5;124;43mrt\u001B[39;49m\u001B[38;5;124;43m'\u001B[39;49m\u001B[43m,\u001B[49m\u001B[43m \u001B[49m\u001B[43mencoding\u001B[49m\u001B[38;5;241;43m=\u001B[39;49m\u001B[43mencoding\u001B[49m\u001B[43m)\u001B[49m\n\u001B[1;32m   1981\u001B[0m     fid_ctx \u001B[38;5;241m=\u001B[39m contextlib\u001B[38;5;241m.\u001B[39mclosing(fid)\n\u001B[1;32m   1982\u001B[0m \u001B[38;5;28;01melse\u001B[39;00m:\n",
      "File \u001B[0;32m~/miniconda3/envs/hybrid-transformer/lib/python3.11/site-packages/numpy/lib/_datasource.py:193\u001B[0m, in \u001B[0;36mopen\u001B[0;34m(path, mode, destpath, encoding, newline)\u001B[0m\n\u001B[1;32m    156\u001B[0m \u001B[38;5;250m\u001B[39m\u001B[38;5;124;03m\"\"\"\u001B[39;00m\n\u001B[1;32m    157\u001B[0m \u001B[38;5;124;03mOpen `path` with `mode` and return the file object.\u001B[39;00m\n\u001B[1;32m    158\u001B[0m \n\u001B[0;32m   (...)\u001B[0m\n\u001B[1;32m    189\u001B[0m \n\u001B[1;32m    190\u001B[0m \u001B[38;5;124;03m\"\"\"\u001B[39;00m\n\u001B[1;32m    192\u001B[0m ds \u001B[38;5;241m=\u001B[39m DataSource(destpath)\n\u001B[0;32m--> 193\u001B[0m \u001B[38;5;28;01mreturn\u001B[39;00m \u001B[43mds\u001B[49m\u001B[38;5;241;43m.\u001B[39;49m\u001B[43mopen\u001B[49m\u001B[43m(\u001B[49m\u001B[43mpath\u001B[49m\u001B[43m,\u001B[49m\u001B[43m \u001B[49m\u001B[43mmode\u001B[49m\u001B[43m,\u001B[49m\u001B[43m \u001B[49m\u001B[43mencoding\u001B[49m\u001B[38;5;241;43m=\u001B[39;49m\u001B[43mencoding\u001B[49m\u001B[43m,\u001B[49m\u001B[43m \u001B[49m\u001B[43mnewline\u001B[49m\u001B[38;5;241;43m=\u001B[39;49m\u001B[43mnewline\u001B[49m\u001B[43m)\u001B[49m\n",
      "File \u001B[0;32m~/miniconda3/envs/hybrid-transformer/lib/python3.11/site-packages/numpy/lib/_datasource.py:533\u001B[0m, in \u001B[0;36mDataSource.open\u001B[0;34m(self, path, mode, encoding, newline)\u001B[0m\n\u001B[1;32m    530\u001B[0m     \u001B[38;5;28;01mreturn\u001B[39;00m _file_openers[ext](found, mode\u001B[38;5;241m=\u001B[39mmode,\n\u001B[1;32m    531\u001B[0m                               encoding\u001B[38;5;241m=\u001B[39mencoding, newline\u001B[38;5;241m=\u001B[39mnewline)\n\u001B[1;32m    532\u001B[0m \u001B[38;5;28;01melse\u001B[39;00m:\n\u001B[0;32m--> 533\u001B[0m     \u001B[38;5;28;01mraise\u001B[39;00m \u001B[38;5;167;01mFileNotFoundError\u001B[39;00m(\u001B[38;5;124mf\u001B[39m\u001B[38;5;124m\"\u001B[39m\u001B[38;5;132;01m{\u001B[39;00mpath\u001B[38;5;132;01m}\u001B[39;00m\u001B[38;5;124m not found.\u001B[39m\u001B[38;5;124m\"\u001B[39m)\n",
      "\u001B[0;31mFileNotFoundError\u001B[0m: my_file.csv not found."
     ]
    }
   ],
   "source": [
    "import os\n",
    "from urllib.request import urlretrieve\n",
    "from numpy import genfromtxt\n"
   ],
   "metadata": {
    "collapsed": false,
    "ExecuteTime": {
     "end_time": "2024-01-03T15:58:55.726027598Z",
     "start_time": "2024-01-03T15:58:55.631665753Z"
    }
   },
   "id": "60cc6d8de9f313e0"
  },
  {
   "cell_type": "code",
   "execution_count": 26,
   "outputs": [
    {
     "data": {
      "text/plain": "('./data/molecule_net/data.csv', <http.client.HTTPMessage at 0x7f9c40c4f0d0>)"
     },
     "execution_count": 26,
     "metadata": {},
     "output_type": "execute_result"
    }
   ],
   "source": [
    "path = './data/molecule_net'\n",
    "os.makedirs(path, exist_ok=True)\n",
    "urlretrieve('https://deepchemdata.s3-us-west-1.amazonaws.com/datasets/delaney-processed.csv', os.path.join(path, 'data.csv'))"
   ],
   "metadata": {
    "collapsed": false,
    "ExecuteTime": {
     "end_time": "2024-01-03T15:57:21.496344462Z",
     "start_time": "2024-01-03T15:57:19.381757163Z"
    }
   },
   "id": "6a436dab518284f"
  },
  {
   "cell_type": "code",
   "execution_count": 36,
   "outputs": [
    {
     "name": "stdout",
     "output_type": "stream",
     "text": [
      "[['Amigdalin' -0.974 1 ... 202.32 -0.77\n",
      "  'OCC3OC(OCC2OC(OC(C#N)c1ccccc1)C(O)C(O)C2O)C(O)C(O)C3O ']\n",
      " ['Fenfuram' -2.885 1 ... 42.24 -3.3 'Cc1occc1C(=O)Nc2ccccc2']\n",
      " ['citral' -2.579 1 ... 17.07 -2.06 'CC(C)=CCCC(C)=CC(=O)']\n",
      " ...\n",
      " ['Thiometon' -3.323 1 ... 18.46 -3.091 'CCSCCSP(=S)(OC)OC']\n",
      " ['2-Methylbutane' -2.245 1 ... 0.0 -3.18 'CCC(C)C']\n",
      " ['Stirofos' -4.32 1 ... 44.760000000000005 -4.522\n",
      "  'COP(=O)(OC)OC(=CCl)c1cc(Cl)c(Cl)cc1Cl']]\n"
     ]
    }
   ],
   "source": [
    "import pandas as pd\n",
    "\n",
    "df = pd.read_csv(os.path.join(path, 'data.csv'), sep=',')\n",
    "print(df.values)"
   ],
   "metadata": {
    "collapsed": false,
    "ExecuteTime": {
     "end_time": "2024-01-03T16:01:19.156999327Z",
     "start_time": "2024-01-03T16:01:19.150983096Z"
    }
   },
   "id": "38188e8b748456a7"
  },
  {
   "cell_type": "code",
   "execution_count": 38,
   "outputs": [
    {
     "data": {
      "text/plain": "0       OCC3OC(OCC2OC(OC(C#N)c1ccccc1)C(O)C(O)C2O)C(O)...\n1                                  Cc1occc1C(=O)Nc2ccccc2\n2                                    CC(C)=CCCC(C)=CC(=O)\n3                      c1ccc2c(c1)ccc3c2ccc4c5ccccc5ccc43\n4                                                 c1ccsc1\n                              ...                        \n1123                                     FC(F)(F)C(Cl)Br \n1124                            CNC(=O)ON=C(SC)C(=O)N(C)C\n1125                                    CCSCCSP(=S)(OC)OC\n1126                                              CCC(C)C\n1127                COP(=O)(OC)OC(=CCl)c1cc(Cl)c(Cl)cc1Cl\nName: smiles, Length: 1128, dtype: object"
     },
     "execution_count": 38,
     "metadata": {},
     "output_type": "execute_result"
    }
   ],
   "source": [
    "df['smiles']"
   ],
   "metadata": {
    "collapsed": false,
    "ExecuteTime": {
     "end_time": "2024-01-03T16:01:35.719634590Z",
     "start_time": "2024-01-03T16:01:35.676306155Z"
    }
   },
   "id": "5ea79e3150af570d"
  },
  {
   "cell_type": "code",
   "execution_count": 40,
   "outputs": [
    {
     "data": {
      "text/plain": "0      -0.770\n1      -3.300\n2      -2.060\n3      -7.870\n4      -1.330\n        ...  \n1123   -1.710\n1124    0.106\n1125   -3.091\n1126   -3.180\n1127   -4.522\nName: measured log solubility in mols per litre, Length: 1128, dtype: float64"
     },
     "execution_count": 40,
     "metadata": {},
     "output_type": "execute_result"
    }
   ],
   "source": [
    "df['measured log solubility in mols per litre']"
   ],
   "metadata": {
    "collapsed": false,
    "ExecuteTime": {
     "end_time": "2024-01-03T16:02:20.081897788Z",
     "start_time": "2024-01-03T16:02:20.070825251Z"
    }
   },
   "id": "afd42097ca94540c"
  },
  {
   "cell_type": "code",
   "execution_count": 43,
   "outputs": [],
   "source": [],
   "metadata": {
    "collapsed": false,
    "ExecuteTime": {
     "end_time": "2024-01-03T16:04:21.851268788Z",
     "start_time": "2024-01-03T16:04:21.810398577Z"
    }
   },
   "id": "905163beb41d4278"
  },
  {
   "cell_type": "code",
   "execution_count": 61,
   "outputs": [],
   "source": [],
   "metadata": {
    "collapsed": false,
    "ExecuteTime": {
     "end_time": "2024-01-03T16:10:32.980874008Z",
     "start_time": "2024-01-03T16:10:32.592120529Z"
    }
   },
   "id": "4ad302a18bdb8469"
  },
  {
   "cell_type": "code",
   "execution_count": 62,
   "outputs": [],
   "source": [],
   "metadata": {
    "collapsed": false,
    "ExecuteTime": {
     "end_time": "2024-01-03T16:10:33.534432038Z",
     "start_time": "2024-01-03T16:10:33.531690876Z"
    }
   },
   "id": "6b62b6ed12118114"
  },
  {
   "cell_type": "code",
   "execution_count": 64,
   "outputs": [
    {
     "data": {
      "text/plain": "['CCC(C)(C)O',\n 'Cc1ccccc1C',\n 'CC(C)Nc1nc(Cl)nc(NC(C)C)n1',\n 'CCC(C)(C)CO',\n 'COC(=O)c1ccccc1',\n 'CN(C)C(=S)SSC(=S)N(C)C',\n 'CC1(C)CON(Cc2ccccc2Cl)C1=O',\n 'O=C1CN=C(c2ccccc2)c2cc([N+](=O)[O-])ccc2N1',\n 'CCC1(C)C(=O)NC(=O)NC1=O',\n 'CCCCCCCCCC(=O)OC',\n 'CC1(C)C(C=C(Br)Br)C1C(=O)OC(C#N)c1cccc(Oc2ccccc2)c1',\n 'CCC1(CCC(C)C)C(=O)NC(=O)NC1=O',\n 'Cc1c(N(C)C)c(=O)n(-c2ccccc2)n1C',\n 'CCN1C(=O)c2cccnc2N(CC)c2ncccc21',\n 'O=C(Nc1ccccc1)N(Cc1ccc(Cl)cc1)C1CCCC1',\n 'Clc1c(Cl)c(Cl)c(-c2ccccc2)c(Cl)c1Cl',\n 'NC(=S)Nc1ccccc1',\n 'CCCCBr',\n 'Clc1ccc(Cl)c(-c2cccc(Cl)c2Cl)c1',\n 'COCOC',\n 'CCOP(=S)(OCC)Oc1ccc(S(C)=O)cc1',\n 'CCOC(=O)CCN(SN(C)C(=O)Oc1cccc2c1OC(C)(C)C2)C(C)C',\n 'CCCCC(=O)CCCC',\n 'CCCCC(=O)OCC',\n 'Cc1c([N+](=O)[O-])cc([N+](=O)[O-])cc1[N+](=O)[O-]',\n 'NC(=O)c1cnccn1',\n 'COc1ncnc2nccnc12',\n 'Oc1ccc2ccccc2c1',\n 'CCOCC',\n 'CNC(=O)Oc1ccccc1C1OCCO1',\n 'CC(C)CCCO',\n 'CCCC(=O)CC',\n 'O=Cc1ccc(O)cc1',\n 'C/C=C/C=O',\n 'ClCCBr',\n 'Oc1ccc(Cl)c(Cl)c1',\n 'c1ccc2nc(-c3ccc4ccccc4n3)ccc2c1',\n 'CCCCCCCCCCCCCC',\n 'Cc1cc([N+](=O)[O-])cc([N+](=O)[O-])c1O',\n 'C=CC#N',\n 'Clc1ccc(I)cc1',\n 'CCCOC',\n 'CCN1c2ccccc2N(C)C(=S)c2cccnc21',\n 'O=CNC(N1C=CN(C(NC=O)C(Cl)(Cl)Cl)C=C1)C(Cl)(Cl)Cl',\n 'Cn1cc(-c2ccccc2)c(=O)c(-c2cccc(C(F)(F)F)c2)c1',\n 'O=C(NC(=O)c1c(F)cccc1F)Nc1ccc(Cl)cc1',\n 'CCCCC(CC)COC(=O)c1ccccc1C(=O)OCC(CC)CCCC',\n 'COc1cnc2cncnc2n1',\n 'CN1C(=O)CN=C(c2ccccc2)c2cc(Cl)ccc21',\n 'Cc1ccc(O)c(C)c1',\n 'CNC(=O)Oc1cc(C(C)(C)C)cc(C(C)(C)C)c1',\n 'NNC(=O)c1ccncc1',\n 'COC(C)(C)C',\n 'Cc1cc(C)c(C)c(C)c1C',\n 'Cc1cccc(C)c1O',\n 'O=C1NC(=O)C2(CCC2)C(=O)N1',\n 'O=Cc1ccco1',\n 'CCCCCC=O',\n 'Cc1ccc(C)cc1',\n 'C/C=C/CCCC',\n 'CCCCC(=O)OC1(C(=O)CO)C(C)CC2C3CCC4=CC(=O)C=CC4(C)C3(F)C(O)CC21C',\n 'Cc1c(C)c2c3ccccc3ccc2c2ccccc12',\n 'c1ccsc1',\n 'Oc1ccc(-c2ccccc2)cc1',\n 'CCC1CCCCC1',\n 'CCC(C)C1(CC)C(=O)NC(=O)NC1=O',\n 'O=Cc1ccccc1',\n 'Clc1ccccc1-c1ccccc1Cl',\n 'C=C(C)C(=C)C',\n 'CCCCCCCCCCCCCCCCCCCC',\n 'NS(=O)(=O)c1cc(C2(O)NC(=O)c3ccccc32)ccc1Cl',\n 'c1ccc(-c2ccc(-c3ccccc3)cc2)cc1',\n 'CSC',\n 'Oc1cc(Cl)cc(Cl)c1',\n 'CCCCCC(=O)OCN1C(=O)NC(c2ccccc2)(c2ccccc2)C1=O',\n 'c1ccc2c(c1)ccc1c3ccccc3ccc21',\n 'CCOC(=O)c1cncn1C(C)c1ccccc1',\n 'C',\n 'Clc1ccc(Cl)c(-c2c(Cl)c(Cl)c(Cl)c(Cl)c2Cl)c1',\n 'Cc1cncc(C)c1',\n 'CCOP(=S)(OCC)N1C(=O)c2ccccc2C1=O',\n 'Cc1cc(OC(=O)N(C)C)n(-c2ccccc2)n1',\n 'c1cc2ccc3ccc4ccc5cccc6c(c1)c2c3c4c56',\n 'CC1=C2C3OC(=O)C(C)C3CCC2(C)C=CC1=O',\n 'C=CCl',\n 'CCCl',\n 'Cc1ccc2cc(C)ccc2c1',\n 'C=CC(=C)C',\n 'CCCC(C)O',\n 'CCc1ccccc1C',\n 'C#CCCCCC',\n 'CC1CC2C3CC(F)C4=CC(=O)C=CC4(C)C3(F)C(O)CC2(C)C1(O)C(=O)CO',\n 'COc1ccc(C(c2ccc(OC)cc2)C(Cl)(Cl)Cl)cc1',\n 'c1ccc2nc3ccccc3cc2c1',\n 'CCC(=C(CC)c1ccc(O)cc1)c1ccc(O)cc1',\n 'Oc1cc(Cl)cc(Cl)c1Cl',\n 'ClC1=C(Cl)C2(Cl)C3C(Cl)C=CC3C1(Cl)C2(Cl)Cl',\n 'CCSC(=O)N(CC)C1CCCCC1',\n 'CCOc1ccccc1',\n 'Cc1ccccc1Br',\n 'Cc1ccc2cc3ccccc3cc2c1',\n 'O=C1CCC(N2C(=O)c3ccccc3C2=O)C(=O)N1',\n 'COP(=S)(OC)Oc1cc(Cl)c(I)cc1Cl',\n 'Cc1cccnc1C',\n 'CCCOC(C)=O',\n 'CCOC(=O)c1ccccc1C(=O)OCC',\n 'ClC(Cl)Br',\n 'ClCCCl',\n 'CC12CCC(CC1)C(C)(C)O2',\n 'CCNc1nc(NC(C)(C)C)nc(SC)n1',\n 'OCc1ccccc1',\n 'Clc1ccc(-c2cc(Cl)c(Cl)c(Cl)c2Cl)cc1Cl',\n 'CCCCCCCO',\n 'CCCCCCC(C)O',\n 'COC1=CC(=O)CC(C)C12Oc1c(Cl)c(OC)cc(OC)c1C2=O',\n 'Oc1ccc(Br)cc1',\n 'CC(C)=CC1C(C(=O)OCc2cccc(Oc3ccccc3)c2)C1(C)C',\n 'C1CCCC1',\n 'CCCC(C)(O)CC',\n 'Cc1ccc(-c2ccccc2)cc1',\n 'O=C(OCC(O)CO)c1ccccc1Nc1ccnc2cc(Cl)ccc12',\n 'ClC1=C(Cl)C2(Cl)C3C4C=CC(C4)C3C1(Cl)C2(Cl)Cl',\n 'Cc1ccc2c(ccc3c4c5c(cccc5cc32)CC4)c1',\n 'CC1OC(OC2C(O)CC(OC3C(O)CC(OC4CCC5(C)C(CCC6C5CC(O)C5(C)C(C7=CC(=O)OC7)CCC65O)C4)OC3C)OC2C)CC(O)C1O',\n 'C=CC1(C)OC(=O)N(c2cc(Cl)cc(Cl)c2)C1=O',\n 'Clc1ccc(C(c2ccccc2Cl)C(Cl)Cl)cc1',\n 'C#CCCCCCC',\n 'O=C1NCCN1c1ncc([N+](=O)[O-])s1',\n 'CON(C)C(=O)Nc1ccc(Br)c(Cl)c1',\n 'C=C(C)C1CC=C(C)CC1',\n 'Cc1cc(C)cc(O)c1',\n 'CC1(C)C(C=C(Cl)Cl)C1C(=O)OC(C#N)c1cccc(Oc2ccccc2)c1',\n 'CC12CCC(=O)C=C1CCC1C2C(O)CC2(C)C(C(=O)CO)CCC12',\n 'O=C(c1ccccc1)c1ccccc1',\n 'Cc1ccccc1O',\n 'Cc1ncc2nccnc2n1',\n 'c1ccc2c(c1)-c1cccc3c1c-2cc1ccccc13',\n 'Clc1cccc(-c2ccccc2)c1',\n 'c1ccc2cc3c(cc2c1)-c1cccc2cccc-3c12',\n 'Cc1ccc(OP(=O)(Oc2cccc(C)c2)Oc2ccccc2C)cc1',\n 'ClC1=C(Cl)C2(Cl)C3CC=CC3C1(Cl)C2(Cl)Cl',\n 'CSc1nnc(C(C)(C)C)c(=O)n1N',\n 'CC(C)c1ccc(NC(=O)N(C)C)cc1',\n 'CC(C)=CCC1(C(C)C)C(=O)NC(=O)NC1=O',\n 'CC(C)CNC(=O)N1CCNC1=O',\n 'CCC1(C(C)C)C(=O)NC(=O)NC1=O',\n 'Cc1ccnc(C)c1',\n 'CC(O)c1ccccc1',\n 'Cc1ccc(C)c2ccccc12',\n 'Oc1ccc(Cl)cc1',\n 'Clc1ccc(Cl)c(-c2ccc(Cl)c(Cl)c2)c1',\n 'CCCCC=O',\n 'ClC(Cl)=C(Cl)Cl',\n 'CC(C)[N+](=O)[O-]',\n 'c1ccc2c(c1)cnc1ccccc12',\n 'COC(=O)Nc1nc2ccc(C(=O)c3ccccc3)cc2[nH]1',\n 'Nc1ccccc1',\n 'Clc1ccc(-c2c(Cl)ccc(Cl)c2Cl)c(Cl)c1',\n 'ClC(Cl)(Cl)C(Cl)(Cl)Cl',\n 'Oc1cccc(O)c1',\n 'COC(=O)c1ccccc1OC1OC(COC2OCC(O)C(O)C2O)C(O)C(O)C1O',\n 'Cc1ccc2ccc(C)nc2c1',\n 'O=C1NC(=O)C2(CCCC2)C(=O)N1',\n 'CC(Cl)CCl',\n 'CC(=O)C1(O)CCC2C3CCC4=CC(=O)CCC4(C)C3CCC21C',\n 'CNc1cnn(-c2cccc(C(F)(F)F)c2)c(=O)c1Cl',\n 'C=CCSS(=O)CC=C',\n 'C=C(C)CN(CC)c1c([N+](=O)[O-])cc(C(F)(F)F)cc1[N+](=O)[O-]',\n 'CCCC1CCCC1',\n 'Clc1ccc(-c2ccccc2Cl)cc1',\n 'CCCCCCCCCO',\n 'CCC(C)n1c(=O)[nH]c(C)c(Br)c1=O',\n 'C=Cc1ccccc1',\n 'Cc1cccc2c1ccc1ccccc12',\n 'Cc1c[nH]c(=O)[nH]c1=O',\n 'CCCCc1c(C)nc(NCC)nc1OS(=O)(=O)N(C)C',\n 'FC(F)(Cl)C(F)(F)Cl',\n 'Nc1ccccc1O',\n 'COc1c(O)c(Cl)c(Cl)c(Cl)c1Cl',\n 'CC(C)N(C(=O)CCl)c1ccccc1',\n 'CCN(CC)C(=O)C(Cl)=CCOP(=O)(OC)OC',\n 'NS(=O)(=O)c1cc2c(cc1Cl)N=CNS2(=O)=O',\n 'CNC(=O)Oc1cccc2ccccc12',\n 'c1ccc2ocnc2c1',\n 'Brc1ccc2ccccc2c1',\n 'Oc1ccc(Cl)c(Cl)c1Cl',\n 'CC12CCC3c4ccc(O)cc4CCC3C1CCC2O',\n 'O=[N+]([O-])c1ccc(C=NO)o1',\n 'CCN1c2ncccc2C(=O)N(C)c2ccc(Cl)nc21',\n 'Cc1c2ccccc2cc2ccccc12',\n 'CN(C)C(=O)NC1CC2CC1C1CCCC21',\n 'CCC(C)C(C)=O',\n 'CCC(=O)CC',\n 'CCCCOC(=O)CCCCCCCCC(=O)OCCCC',\n 'C=CCC1(C(C)CCC)C(=O)NC(=S)NC1=O',\n 'ClC(Cl)Cl',\n 'N#Cc1ccccc1',\n 'OC1CCCCCCC1',\n 'C=CCCC=C',\n 'CC(C)N(C(=O)SCC(Cl)=CCl)C(C)C',\n 'CC12CCC(C1)C(C)(C)C2=O',\n 'CC(C)C',\n 'CC(C)CC(C)(C)C',\n 'CCC1(c2ccccc2)C(=O)NC(=O)NC1=O',\n 'N=C(N)NS(=O)(=O)c1ccc(N)cc1',\n 'CC(C)(C)c1ccccc1',\n 'O=[N+]([O-])c1ccc(O)cc1',\n 'C=CCCCCCC',\n 'Fc1ccc(F)cc1',\n 'COCC(=O)N(c1c(C)cccc1C)C(C)C(=O)OC',\n 'O=c1[nH]c2cc(Cl)ccc2o1',\n 'CCCC(C)C1(CC)C(=O)NC(=S)NC1=O',\n 'c1ccc2c(c1)CCCC2',\n 'CNC(=O)C=C(C)OP(=O)(OC)OC',\n 'CC(C)CCCCCOC(=O)c1ccccc1C(=O)OCCCCCC(C)C',\n 'CCCC(O)CC',\n 'c1cnc2ncncc2n1',\n 'CCCOC(C)C',\n 'CCCC(O)CCC',\n 'Clc1ccc(-c2cc(Cl)c(Cl)c(Cl)c2Cl)c(Cl)c1',\n 'CCc1cccc2ccccc12',\n 'O=C(Nc1cccc(Cl)c1)OCC#CCCl',\n 'CCOP(=S)(OCC)SCCSCC',\n 'CCCCCCC(C)=O',\n 'c1ccncc1',\n 'CCCN(CCC)c1c([N+](=O)[O-])cc(S(N)(=O)=O)cc1[N+](=O)[O-]',\n 'Cn1c(=O)c2c(ncn2C)n(C)c1=O',\n 'Cc1ccc(S(N)(=O)=O)cc1',\n 'O=C1c2ccccc2Cc2ccccc2N1CCF',\n 'c1ccc2ccccc2c1',\n 'Cc1cnc2cncnc2n1',\n 'CCN1c2cc(N(C)C)cc(C)c2NC(=O)c2cccnc21',\n 'CCc1ccc(C)cc1',\n 'CC(=O)C(C)C',\n 'C=C',\n 'Nc1ccc(-c2ccc(N)cc2)cc1',\n 'CCCCC(CC)CO',\n 'Oc1cccc2cccnc12',\n 'CC(=O)OCC(COC(C)=O)OC(C)=O',\n 'CCCCOC(=O)c1ccccc1C(=O)OCCCC',\n 'CC(=O)Nc1ccccc1',\n 'Fc1ccccc1Br',\n 'CCOC(=O)c1ccc(O)cc1',\n 'CCCCN(CC)c1c([N+](=O)[O-])cc(C(F)(F)F)cc1[N+](=O)[O-]',\n 'Cc1ccc(O)cc1',\n 'Clc1ccc(-c2c(Cl)cc(Cl)c(Cl)c2Cl)c(Cl)c1Cl',\n 'CCOCCOCC',\n 'CC1CCC(C(C)C)C(=O)C1',\n 'c1ccc(-c2ccccc2)cc1',\n 'CC1CCCC1',\n 'CCCCCCCBr',\n 'c1ccc2c(c1)cc1ccc3cccc4ccc2c1c34',\n 'c1ccc(C2CO2)cc1',\n 'Cc1ccncc1C',\n 'CCCCOCN(C(=O)CCl)c1c(CC)cccc1CC',\n 'Cc1cc2ccccc2cc1C',\n 'CCCCC(O)CC',\n 'CCCC1C(=O)N2C(N(C)C)=Nc3ccc(C)cc3N2C1=O',\n 'CC(C)C(C)(C)C',\n 'C=C(Cl)CSC(=S)N(CC)CC',\n 'Cc1cccc(C)c1C',\n 'C=C(C)C1Cc2c(ccc3c2OC2COc4cc(OC)c(OC)cc4C2C3=O)O1',\n 'O=C(NC(CO)C(O)c1ccc([N+](=O)[O-])cc1)C(Cl)Cl',\n 'CC(C)CC(C)(C)O',\n 'CCC1(c2ccccc2)C(=O)NCNC1=O',\n 'CC1COC2CC3(C)C(CC4C5C=C6CC(O)CCC6(C)CC5CCC43C)OC2C1',\n 'CC(C)CC(C)C',\n 'CCCCCCCCC',\n 'NC(=O)CCl',\n 'CC#N',\n 'Brc1ccccc1Br',\n 'O=[N+]([O-])c1cccc([N+](=O)[O-])c1',\n 'CC1CCC(C)CC1',\n 'CCC1(c2ccccc2)C(=O)NC(=O)NC1=O',\n 'ClCCl',\n 'OCC1OC(OCC2OC(OC3(CO)OC(CO)C(O)C3O)C(O)C(O)C2O)C(O)C(O)C1O',\n 'CCCC1COC(Cn2cncn2)(c2ccc(Cl)cc2Cl)O1',\n 'C=CCCCC',\n 'C=CCC1(C)C(=O)NC(=O)NC1=O',\n 'Cc1ncc([N+](=O)[O-])n1CCO',\n 'CCCCCCCC(C)O',\n 'COC(=O)c1ccc(O)cc1',\n 'C=CC(C)(O)CCC=C(C)C',\n 'OCC(O)C(O)C(O)C(O)CO',\n 'CCCCOC',\n 'Nc1nc[nH]n1',\n 'CC1CCCCC1',\n 'Cc1cccc([N+](=O)[O-])c1',\n 'CC(=O)CCC1C(=O)N(c2ccccc2)N(c2ccccc2)C1=O',\n 'c1ccc2scnc2c1',\n 'Clc1cc(Cl)c(Cl)c(Cl)c1Cl',\n 'CCOP(=O)(OCC)OCC',\n 'CCC(O)CC',\n 'CCCCCCC(=O)OCN1C(=O)NC(c2ccccc2)(c2ccccc2)C1=O',\n 'Cc1cc(=O)[nH]c(=S)[nH]1',\n 'CCCCCCCCC(C)=O',\n 'CC(=O)c1ccccc1',\n 'CCCCCl',\n 'CC(C)CBr',\n 'Clc1ccc(Cl)c(Cl)c1',\n 'CC1=C(C(=O)Nc2ccccc2)S(=O)(=O)CCO1',\n 'CCCCC(C=O)CC',\n 'Clc1ccc(-c2cccc(Cl)c2Cl)cc1',\n 'Oc1c(Cl)cccc1Cl',\n 'CCC',\n 'NC(N)=O',\n 'OC1CCCCC1',\n 'Clc1cccc(Cl)c1',\n 'CCN1c2ncccc2C(=S)N(C)c2cccnc21',\n 'CC12CCC3C(CCC4=CC(=O)CCC43C)C1CCC2=O',\n 'Cc1cccc2ccccc12',\n 'CCCC(=O)CCC',\n 'C=C(Cl)Cl',\n 'CC12CCC3C(CCC4CC(O)CCC43C)C1CCC2=O',\n 'N#CC(OC1OC(COC2OC(CO)C(O)C(O)C2O)C(O)C(O)C1O)c1ccccc1',\n 'C=C(C)C1CC=C(C)C(=O)C1',\n 'CCCCCCCCO',\n 'O=C1CN(N=Cc2ccc([N+](=O)[O-])o2)C(=O)N1',\n 'CCCCCCCl',\n 'CCCCCCO',\n 'Clc1ccc(-c2c(Cl)cccc2Cl)cc1',\n 'C1CCC2CCCCC2C1',\n 'CN(C(=O)NC(C)(C)c1ccccc1)c1ccccc1',\n 'CCOC=O',\n 'CCCCCCCI',\n 'CCCCc1ccccc1',\n 'O=[N+]([O-])c1ccccc1[N+](=O)[O-]',\n 'CC12CCC(=O)C=C1CCC1C2CCC2(C)C(O)CCC12',\n 'COP(=O)(NC(C)=O)SC',\n 'CCOC(=O)C=Cc1ccccc1',\n 'CCCCC1C(=O)N(c2ccccc2)N(c2ccccc2)C1=O',\n 'CC(C)C(Nc1ccc(C(F)(F)F)cc1Cl)C(=O)OC(C#N)c1cccc(Oc2ccccc2)c1',\n 'C#CC1(O)CCC2C3CCC4=Cc5oncc5CC4(C)C3CCC21C',\n 'OC(c1ccccc1)c1ccccc1',\n 'Cc1ncnc2nccnc12',\n 'CNC(=O)Oc1cccc(N=CN(C)C)c1',\n 'CCOP(=S)(OCC)SCSC(C)(C)C',\n 'C1CCCCCC1',\n 'Cc1ccccc1N1C(=O)c2cc(S(N)(=O)=O)c(Cl)cc2NC1C',\n 'CNC(=O)Oc1cc(C)cc(C)c1',\n 'Oc1cccc2ncccc12',\n 'BrC(Br)Br',\n 'O=C(NC(=O)c1c(F)cccc1F)Nc1cc(Cl)c(F)c(Cl)c1F',\n 'CCCC(C)CO',\n 'CC12CCC3C(CCC4CC(=O)CCC43C)C1CCC2O',\n 'CC(C)(C)CO',\n 'CCOP(=S)(OCC)ON=C(C#N)c1ccccc1',\n 'Clc1ccc(Cl)c(-c2cc(Cl)c(Cl)c(Cl)c2Cl)c1',\n 'CN(C)C(=O)SCCCCOc1ccccc1',\n 'Cc1ccccc1',\n 'CCCCCC(C)O',\n 'C1CCCCC1',\n 'C=CCC1(C(C)CC)C(=O)NC(=O)NC1=O',\n 'CC(C)OC(=O)C(O)(c1ccc(Br)cc1)c1ccc(Br)cc1',\n 'CCCCC(C)O',\n 'c1ccc2c(c1)ccc1ccccc12',\n 'CCCCCC(C)(C)O',\n 'CCCCN(CC)C(=O)SCCC',\n 'C1=CCCCCC1',\n 'CN(C)C(=O)NC1CCCCCCC1',\n 'O=C1C=C2CC3(O)COc4c(ccc(O)c4O)C3=C2C=C1O',\n 'Oc1ccc2ncccc2c1',\n 'C#CC1(O)CCC2C3CCc4cc(O)ccc4C3CCC21C',\n 'COc1ccc(NC(=O)N(C)C)cc1Cl',\n 'CCN(CC)c1ccccc1',\n 'CC(C)(C)c1ccc(O)cc1',\n 'CCN1c2cc(Cl)ccc2NC(=O)c2cccnc21',\n 'CC1(C)C(C=C(Cl)Cl)C1C(=O)OCc1cccc(Oc2ccccc2)c1',\n 'CCCCCCCCCCCCCCCC',\n 'COc1ccccc1O',\n 'COC=O',\n 'CCC#N',\n 'c1ccc2c(c1)ccc1c2ccc2c3ccccc3ccc21',\n 'Cc1cc(=O)n(-c2ccccc2)n1C',\n 'CCCCCCCC(=O)OCN1C(=O)NC(c2ccccc2)(c2ccccc2)C1=O',\n 'O=C1C(Cl)C(CCl)CN1c1cccc(C(F)(F)F)c1',\n 'ClC(Cl)=C(Cl)C(Cl)=C(Cl)Cl',\n 'Cc1cc(C)c(O)c(C)c1',\n 'c1ccc2[nH]nnc2c1',\n 'ClCc1ccccc1',\n 'C=COCC',\n 'CN(C)c1nc(N(C)C)nc(N(C)C)n1',\n 'CCC(C)c1cc([N+](=O)[O-])cc([N+](=O)[O-])c1O',\n 'CCSSCC',\n 'O=C1CNC(=O)N1',\n 'CCCCOc1ccc(C(=O)OCC)c(N(CC)CC)c1',\n 'CNc1ccccc1',\n 'CCCC(C)C',\n 'O=C1C(O)=C(C2CCC(c3ccc(Cl)cc3)CC2)C(=O)c2ccccc21',\n 'CCSCC',\n 'CCCC(C)(C)CO',\n 'Nc1nc(O)nc2nc[nH]c12',\n 'CC1(C)C2CCC1(C)C(O)C2',\n 'CCOP(=S)(CC)Oc1cc(Cl)c(Cl)cc1Cl',\n 'CCN(Cc1c(F)cccc1Cl)c1c([N+](=O)[O-])cc(C(F)(F)F)cc1[N+](=O)[O-]',\n 'COP(=S)(OC)Oc1ccc([N+](=O)[O-])cc1Cl',\n 'C=C(Br)CC1(C(C)CC)C(=O)NC(=O)NC1=O',\n 'O=[N+]([O-])c1c(Cl)c(Cl)c(Cl)c(Cl)c1Cl',\n 'CSCS(=O)CC(CO)NC(=O)C=Cc1c(C)[nH]c(=O)[nH]c1=O',\n 'Cc1c(C)c(C)c(C)c(C)c1C',\n 'CN(C)C(=O)OC1=CC(=O)CC(C)(C)C1',\n 'Clc1cccc(I)c1',\n 'CCC(C)C(C)C',\n 'COc1cc2c(N)nc(N3CCN(C(=O)OCC(C)(C)O)CC3)nc2c(OC)c1OC',\n 'Nc1ccc(S(N)(=O)=O)cc1',\n 'CCCCCCCCCCCCCCO',\n 'Cc1ccc([N+](=O)[O-])cc1[N+](=O)[O-]',\n 'CC(C)Cc1ccccc1',\n 'Clc1cccc(-c2cc(Cl)ccc2Cl)c1',\n 'CCCCOCCCC',\n 'ClC(Cl)C(Cl)Cl',\n 'O=c1oc2ccccc2c(O)c1C(CC(O)c1ccc(-c2ccc(Br)cc2)cc1)c1ccccc1',\n 'CCCCCCCCCCCCO',\n 'CC12CCC3c4ccc(O)cc4CCC3C1CC(O)C2O',\n 'NC(=O)c1cccnc1',\n 'Cc1ccc(C(C)C)c(O)c1',\n 'CNC(=O)Oc1ccccc1',\n 'CC(C)N(C(=O)SCC(Cl)=C(Cl)Cl)C(C)C',\n 'CCC1NC(=O)c2cc(S(N)(=O)=O)c(Cl)cc2N1',\n 'O=C1c2ccccc2C(=O)c2ccccc21',\n 'CCOC(C)=O',\n 'Cc1cccc2sc3nncn3c12',\n 'CC1(C)C(=O)NC(=O)NC1=O',\n 'CCOP(=S)(OCC)Oc1nc(Cl)c(Cl)cc1Cl',\n 'Clc1cc(Cl)c(Cl)cc1Cl',\n 'CCCBr',\n 'Cc1cc2c3ccccc3ccc2c2ccccc12',\n 'Nc1nc(N)c2nc(-c3ccccc3)c(N)nc2n1',\n 'CCNc1nc(NC(C)C)nc(SC)n1',\n 'CCC[N+](=O)[O-]',\n 'CCCCCCc1ccc(O)cc1O',\n 'C1=Cc2cccc3cccc1c23',\n 'CNC(=O)ON=C(CSC)C(C)(C)C',\n 'CCCSCCC',\n 'C=CC=C',\n 'ICI',\n 'CC(Cl)(Cl)Cl',\n 'O=C1CSC(=S)N1',\n 'COc1nc(NC(C)C)nc(NC(C)C)n1',\n 'Cc1cc(C)c2ccccc2c1',\n 'C=CCC=C',\n 'Clc1cccc(-c2cccc(Cl)c2Cl)c1Cl',\n 'CC(C)OC(C)C',\n 'CCC(C)C(=O)OC1CC(C)C=C2C=CC(C)C(CCC3CC(O)CC(=O)O3)C21',\n 'O=C1NC(=O)C2(CC2)C(=O)N1',\n 'CCO',\n 'CCC(C)Cl',\n 'CN(C)c1ccccc1',\n 'CC12CCC(=O)C=C1CCC1C2CCC2(C)C(C(=O)CO)CCC12',\n 'Clc1cccc(Br)c1',\n 'O=C1CCC(=O)N1',\n 'OCC(O)C(O)CO',\n 'CCCCC(C)=O',\n 'OC(c1ccc(Cl)cc1)(c1cncnc1)c1ccccc1Cl',\n 'Clc1cc(Cl)c(-c2c(Cl)cc(Cl)cc2Cl)c(Cl)c1',\n 'ClCBr',\n 'C=CCCCO',\n 'O=c1[nH]c2c(c(=O)n1C1CCCCC1)CCC2',\n 'CN1C(=O)c2cccnc2Oc2ccccc21',\n 'CCCCCCc1ccccc1',\n 'CCCC(C)(C)O',\n 'C#CC1(OC(C)=O)CCC2C3CCC4=CC(=O)CCC4C3CCC21C',\n 'Cc1cc(C)cc(C)c1',\n 'c1ccc2cc3cc4ccccc4cc3cc2c1',\n 'O=c1[nH]c(=O)c2[nH]c(=O)[nH]c2[nH]1',\n 'CCCc1ccccc1',\n 'COP(=O)(OC)OC(=CCl)c1cc(Cl)c(Cl)cc1Cl',\n 'CC12CCC(=O)C=C1CCC1C2CCC2(C)C1CCC2(C)O',\n 'CCCO',\n 'C1CCOCC1',\n 'Nc1ccc2cc3ccccc3cc2c1',\n 'CC(=O)Nc1nnc(S(N)(=O)=O)s1',\n 'CCC1(CC=C(C)C)C(=O)NC(=O)NC1=O',\n 'CI',\n 'CCCOC(=O)c1ccc(N)cc1',\n 'CN(C)C(=O)Nc1ccc(Cl)cc1',\n 'CC(=O)Nc1ccc(F)cc1',\n 'CC(C)CO',\n 'CC(=O)Nc1ccc([N+](=O)[O-])cc1',\n 'c1ccccc1',\n 'CCCCCC(=O)OCC',\n 'COc1ccccc1',\n 'O=C1NC(=O)C2(CCCCCC2)C(=O)N1',\n 'CC(C)Oc1cc(-n2nc(C(C)(C)C)oc2=O)c(Cl)cc1Cl',\n 'CC(C)O',\n 'OCC(O)C(O)C(O)C(O)CO',\n 'CC12CCC3C(CC=C4CC(O)CCC43C)C1CCC2=O',\n 'Nc1cc(N2CCCCC2)nc(N)[n+]1[O-]',\n 'CCOC(=O)CC',\n 'CC1=CCCCC1',\n 'C=CC(C)C',\n 'C#CCCCCCCC',\n 'CCc1ccccc1CC',\n 'CC12CCC(=O)C=C1CCC1C3CCC(O)(C(=O)CO)C3(C)CC(O)C12F',\n 'O=c1cc[nH]c(=O)[nH]1',\n 'CCOC(=O)N(C)C(=O)CSP(=S)(OCC)OCC',\n 'C=CCCC',\n 'Clc1cccc(Cl)c1-c1ccccc1',\n 'CC(C)COC=O',\n 'CCCCCCCCCCCCCCCO',\n 'CCCC(=O)OC',\n 'CC=C(C(=CC)c1ccc(O)cc1)c1ccc(O)cc1',\n 'ClCC(Cl)Cl',\n 'Clc1ccc(-c2ccccc2)cc1Cl',\n 'Oc1c(Cl)cc(Cl)c(Cl)c1Cl',\n 'Brc1cccc2ccccc12',\n 'CC(=O)SC1CC2=CC(=O)CCC2(C)C2CCC3(C)C(CCC34CCC(=O)O4)C12',\n 'CCC1(CCC(C)C)C(=O)NC(=O)NC1=O',\n 'C=CCC1(c2ccccc2)C(=O)NC(=O)NC1=O',\n 'CCCCCC(C)=O',\n 'c1ccc2c(c1)Cc1ccccc1-2',\n 'O=C(C=CC=Cc1ccc2c(c1)OCO2)N1CCCCC1',\n 'OCc1ccccc1OC1OC(CO)C(O)C(O)C1O',\n 'CC(=O)N(C)C',\n 'Fc1cccc(F)c1',\n 'Oc1cccc(Cl)c1',\n 'O=C1OC(c2ccc(O)cc2)(c2ccc(O)cc2)c2ccccc21',\n 'CC1(C)C(C=C(Cl)C(F)(F)F)C1C(=O)OC(C#N)c1cccc(Oc2ccccc2)c1',\n 'c1ccc2[nH]ncc2c1',\n 'O=C1CN=C(c2ccccc2Cl)c2cc([N+](=O)[O-])ccc2N1',\n 'N#CN=C(N)N',\n 'CC(=O)C(C)(C)C',\n 'CBr',\n 'FC(F)(Cl)C(F)(Cl)Cl',\n 'Cc1cc(S(=O)(=O)c2ccccc2)ccc1NS(=O)(=O)C(F)(F)F',\n 'O=C1NC(=O)C2(CCCCCCC2)C(=O)N1',\n 'CCC1(C2=CCCCC2)C(=O)NC(=O)NC1=O',\n 'Nc1ccc([N+](=O)[O-])cc1',\n 'CCCN(CCC)c1c([N+](=O)[O-])cc(C(C)C)cc1[N+](=O)[O-]',\n 'C=CCC1(CC=C)C(=O)NC(=O)NC1=O',\n 'CC(=O)C1CCC2C3CCC4=CC(=O)CCC4(C)C3CCC12C',\n 'N#Cc1ccccc1C#N',\n 'CC(N)=O',\n 'O=C1NC(=O)C(O)(C2(O)C(=O)NC(=O)NC2=O)C(=O)N1',\n 'CC(Cl)Cl',\n 'CCCN(CCC)c1c([N+](=O)[O-])cc(C(F)(F)F)cc1[N+](=O)[O-]',\n 'Cc1cccc2c(C)cccc12',\n 'CCCCCCCC(=O)OC',\n 'COc1ccc(Oc2ccc(NC(=O)N(C)C)cc2)cc1',\n 'Cc1cc2nc3c(=O)[nH]c(=O)nc-3n(CC(O)C(O)C(O)CO)c2cc1C',\n 'CCC(O)C(C)C',\n 'CSc1ccccc1',\n 'Brc1ccc(I)cc1',\n 'CO',\n 'C=C(C)CCC',\n 'O=[N+]([O-])c1ccccc1O',\n 'Cc1ccccc1N',\n 'C=CCC1(C(C)CCC)C(=O)NC(=O)NC1=O',\n 'OCC1OC(OC2C(CO)OC(O)C(O)C2O)C(O)C(O)C1O',\n 'COc1ccc(C=O)cc1',\n 'CCCCCCCCCC(=O)OCC',\n 'COc1cc(C2c3cc4c(cc3C(OC3OC5COC(C)OC5C(O)C3O)C3COC(=O)C23)OCO4)cc(OC)c1O',\n 'Oc1ncc2nccnc2n1',\n 'Sc1nc2ccccc2s1',\n 'COc1c2occc2cc2ccc(=O)oc12',\n 'Clc1ccccc1-c1ccccc1',\n 'Oc1c(Cl)cc(Cl)cc1Cl',\n 'CCOc1ccc(C(C)(C)COCc2cccc(Oc3ccccc3)c2)cc1',\n 'O=C(Cn1ccnc1[N+](=O)[O-])NCc1ccccc1',\n 'CCI',\n 'Clc1cc(-c2cc(Cl)c(Cl)c(Cl)c2Cl)c(Cl)c(Cl)c1Cl',\n 'COC1=CC2OC3C=CC(O)=CC3C(=O)C2C(O)=C1',\n 'NC(=O)c1ccccc1O',\n 'CC(C)OC(=O)Nc1cccc(Cl)c1',\n 'CC(C)=CCC/C(C)=C\\\\CO',\n 'COC(C)(C)CCCC(C)CC=CC(C)=CC(=O)OC(C)C',\n 'c1cc2c3c(cccc3c1)CC2',\n 'NS(=O)(=O)c1cc2c(cc1C(F)(F)F)NC(Cc1ccccc1)NS2(=O)=O',\n 'CCN(CC)C(=O)CSc1ccc(Cl)nn1',\n 'CON(C)C(=O)Nc1ccc(Cl)c(Cl)c1',\n 'CCCC(C)(C)C',\n 'Clc1cc(Cl)cc(Cl)c1',\n 'OC1CCCCCC1',\n 'c1ccc2[nH]ccc2c1',\n 'CC=C(C)C',\n 'CC(C)Cl',\n 'O=[N+]([O-])C(Cl)(Cl)Cl',\n 'CCCCCCCCBr',\n 'COP(=O)(OC)OC(Br)C(Cl)(Cl)Br',\n 'CCOP(=S)(OCC)SC(CCl)N1C(=O)c2ccccc2C1=O',\n 'CCSC(=O)N(CC(C)C)CC(C)C',\n 'CCNc1nc(Cl)nc(N(CC)CC)n1',\n 'C=CC(O)CCC',\n 'CCc1cccc(C)c1N(C(=O)CCl)C(C)COC',\n 'CC12CCC(CC1=O)C2(C)C',\n 'Clc1cccc(C(Cl)(Cl)Cl)n1',\n 'C#CC1(O)CCC2C3CCC4=CC(=O)CCC4(C)C3CCC21C',\n 'CCC(Br)(CC)C(=O)NC(N)=O',\n 'Cc1cccc(C)c1NC(=O)c1cc(S(N)(=O)=O)c(Cl)cc1O',\n 'CN1C(=O)CN=C(c2ccccc2)c2cc([N+](=O)[O-])ccc21',\n 'CNC(=O)Oc1ccccc1C(C)C',\n 'FC(F)(F)c1ccccc1',\n 'CCCCC(=O)OCN1C(=O)NC(c2ccccc2)(c2ccccc2)C1=O',\n 'Cc1c([N+](=O)[O-])cccc1[N+](=O)[O-]',\n 'O=c1ccnc(S)[nH]1',\n 'Clc1ccccc1',\n 'CC1(C)C(C(=O)OC(C#N)c2cccc(Oc3ccccc3)c2)C1(C)C',\n 'N#Cc1c(Cl)c(Cl)c(Cl)c(C#N)c1Cl',\n 'CCC(C)CC',\n 'Nc1nc(=O)[nH]cc1F',\n 'CCNc1nc(Cl)nc(NCC)n1',\n 'Clc1cc(Cl)c(-c2cccc(Cl)c2Cl)cc1Cl',\n 'O=C1NC(=O)C2(CCCCC2)C(=O)N1',\n 'Cc1ccnc2c1NC(=O)c1cccnc1N2C1CC1',\n 'Cc1ccc(C(C)C)cc1O',\n 'CCNc1nc(Cl)nc(NC(C)C)n1',\n 'CC12CCC(CC1)C(C)(C)O2',\n 'Oc1ccccc1',\n 'CCC(O)(CC)CC',\n 'Cc1cc(Cl)ccc1N=CN(C)C',\n 'c1ccnnc1',\n 'C=CCCCCCCCC',\n 'c1ccc2cc3ccccc3cc2c1',\n 'O=C1CCCCC1',\n 'CCCCCCCCl',\n 'CCOC(N)=O',\n 'Nc1cnn(-c2ccccc2)c(=O)c1Br',\n 'Oc1ccc2c(c1)CCCC2',\n 'CCC(CC)CO',\n 'CS(=O)(=O)c1ccc(C(O)C(CO)NC(=O)C(Cl)Cl)cc1',\n 'CCCOCCC',\n 'CCC(C)O',\n 'Oc1ccc(Cl)cc1Cc1cc(Cl)ccc1O',\n 'Oc1ccccc1O',\n 'COc1cnc2ncncc2n1',\n 'CC(=O)N(c1onc(C)c1C)S(=O)c1ccc(N)cc1',\n 'CCCCCCl',\n 'OCC1OC(OC2(CO)OC(CO)C(O)C2O)C(O)C(O)C1O',\n 'CCC=O',\n 'C1=CCCC1',\n 'Cc1ccccc1-n1c(C)nc2ccccc2c1=O',\n 'CCCOCC',\n 'ClC1=C(Cl)C2(Cl)C3C(Cl)C(Cl)CC3C1(Cl)C2(Cl)Cl',\n 'O=C(Nc1ccccc1)c1ccccc1I',\n 'NS(=O)(=O)c1cc2c(cc1Cl)NC(C(Cl)Cl)NS2(=O)=O',\n 'CCCC(C)C1(CC)C(=O)NC(=O)NC1=O',\n 'CSc1nc(NC(C)C)nc(NC(C)C)n1',\n 'CN1CC(O)N(c2nnc(C(C)(C)C)s2)C1=O',\n 'Cc1nnc2n1-c1ccc(Cl)cc1C(c1ccccc1Cl)=NC2',\n 'CC12CC(=O)C3C(CCC4=CC(=O)CCC43C)C1CCC2=O',\n 'C1=CCCCC1',\n 'COc1ccccc1Cl',\n 'CCNC(=S)NCC',\n 'CC(C)NC(=O)N1CC(=O)N(c2cc(Cl)cc(Cl)c2)C1=O',\n 'C=C(C)C',\n 'O=C1NC(=O)C(c2ccccc2)(c2ccccc2)N1',\n 'Cc1ccc(N)cc1',\n 'COC(=O)Nc1cccc(OC(=O)Nc2cccc(C)c2)c1',\n 'CC(=O)OC1(C)CCC2C3CCC4=CC(=O)CCC4(C)C3CCC21C',\n 'COC(=O)C1=C(C)NC(C)=C(C(=O)OC)C1c1ccccc1[N+](=O)[O-]',\n 'c1ccc(Oc2ccccc2)cc1',\n 'Cc1ccccc1Cl',\n 'CC(=O)C1CCC2C3CC=C4CC(O)CCC4(C)C3CCC12C',\n 'Cc1c2ccccc2c(C)c2c1ccc1ccccc12',\n 'BrCBr',\n 'CC(=O)OC1(C(C)=O)CCC2C3C=C(C)C4=CC(=O)CCC4(C)C3CCC21C',\n 'Oc1ccccc1Cl',\n 'Cc1cccc(C)n1',\n 'CCCCC(C)CC',\n 'CC1(C)OC2CC3C4CCC5=CC(=O)C=CC5(C)C4(F)C(O)CC3(C)C2(C(=O)CO)O1',\n 'C=CCC',\n 'NC(=O)NCc1ccccc1',\n 'Brc1ccc(Br)cc1',\n 'ClC=C(Cl)Cl',\n 'Cc1ccc2c(ccc3ccccc32)c1',\n 'O=C(Nc1ccccc1)c1ccccc1O',\n 'Oc1cc(Cl)c(Cl)c(Cl)c1Cl',\n 'CCOC(=O)Nc1cccc(OC(=O)Nc2ccccc2)c1',\n 'O=[N+]([O-])c1ccc(Oc2ccc(Cl)cc2Cl)cc1',\n 'CCCCOCCO',\n 'CC(C)OC=O',\n 'BrC(Br)(Br)Br',\n 'Oc1c(Cl)c(Cl)c(Cl)c(Cl)c1Cl',\n 'Clc1cc(Cl)c(-c2cc(Cl)c(Cl)cc2Cl)cc1Cl',\n 'CC12CCC(=O)C=C1CCC1C2C(O)CC2(C)C1CCC2(O)C(=O)CO',\n 'CCC(C)(O)CC',\n 'O=C1NC(=O)c2ccccc21',\n 'COc1cccc(Cl)c1',\n 'Clc1ccc(Cl)c(-c2c(Cl)c(Cl)cc(Cl)c2Cl)c1',\n 'CCOc1ccc(NC(C)=O)cc1',\n 'CCCCCC(C)C',\n 'c1ccc2c(c1)CCC2',\n 'C#CC',\n 'CC1CC2C3CCC4=CC(=O)C=CC4(C)C3(F)C(O)CC2(C)C1(O)C(=O)CO',\n 'c1ccc2c(c1)Cc1cc3ccccc3cc1-2',\n 'O=C1Nc2ccc(Cl)cc2C(c2ccccc2)=NC1O',\n 'CCCI',\n 'c1cc2ccc3cccc4ccc(c1)c2c34',\n 'CC(C)Br',\n 'CCCCCCCCCCCC(=O)OC',\n 'CNC(=O)Oc1ccc(N(C)C)c(C)c1',\n 'OC1COC(O)C(O)C1O',\n 'CCCCCCCCCCCCCCCCO',\n 'CCCCCCCCOC(=O)c1ccccc1C(=O)OCCCCCCCC',\n 'Nc1ccccc1Cl',\n 'OCC1OC(O)C(O)C(O)C1O',\n 'Brc1cc(Br)c(Br)cc1Br',\n 'Cc1ccc(C)c(C)c1',\n 'BrCCBr',\n 'CCCCCCC(=O)OCC',\n 'CC(=O)OCC(=O)C1(O)CCC2C3CCC4=CC(=O)CCC4(C)C3C(O)CC21C',\n 'CCCCCCCCCCCCCCCCCCO',\n 'Cc1ncc([N+](=O)[O-])n1CCO',\n 'CCC(C)CCO',\n 'Cc1occc1C(=O)Nc1ccccc1',\n 'CC12CCC3C(CCC4CC(O)CCC43C)C1CCC2=O',\n 'CCOC(=O)c1ccc(N)cc1',\n 'c1cc2ccc3ccc4ccc5ccc6ccc1c1c2c3c4c5c61',\n 'CC12C=CC(=O)C=C1CCC1C2C(O)CC2(C)C1CCC2(O)C(=O)CO',\n 'O=C(Nc1ccccc1)Nc1ccccc1',\n 'Nc1cc2c3ccccc3ccc2c2ccccc12',\n 'CNC(=O)Oc1cccc2c1OC(C)(C)C2',\n 'OCC1OC(n2cnc3c(O)ncnc32)C(O)C1O',\n 'FC(F)(F)C(Cl)Br',\n 'ClCCCCl',\n 'O=[N+]([O-])c1ccc(Cl)c(Cl)c1',\n 'CCCCCc1ccccc1',\n 'COc1ccccc1O',\n 'C=CC=O',\n 'Cn1c(=O)c2[nH]cnc2n(C)c1=O',\n 'C=CCc1ccc(O)c(OC)c1',\n 'CCN1c2ncccc2C(=O)Nc2c(C(F)(F)F)cc(C)nc21',\n 'c1ccc(N=Nc2ccccc2)cc1',\n 'CCC(=O)OCN1C(=O)NC(c2ccccc2)(c2ccccc2)C1=O',\n 'CC(C)OP(=S)(OC(C)C)SCCNS(=O)(=O)c1ccccc1',\n 'O=C1CC(c2ccc(O)c(O)c2)Oc2cc(O)cc(O)c21',\n 'CC1CCC(C(C)C)C(O)C1',\n 'Cn1cnc2c1c(=O)[nH]c(=O)n2C',\n 'CC(C)=CCCC(C)=CC=O',\n 'Cc1c2ccccc2c(C)c2ccccc12',\n 'CCCCCBr',\n 'N#CCCCl',\n 'N#CCCl',\n 'CCC1(c2ccccc2)CCC(=O)NC1=O',\n 'OCCOc1ccccc1',\n 'CCOC1Oc2ccc(OS(C)(=O)=O)cc2C1(C)C',\n 'CN(C)C(=O)Nc1cccc(C(F)(F)F)c1',\n 'CCSCCSP(=S)(OC)OC',\n 'CCCCCCOC(=O)c1ccccc1C(=O)OCCCCCC',\n 'OC(Cn1cncn1)(Cn1cncn1)c1ccc(F)cc1F',\n 'Cc1ccc2c(c1)C(=O)N(C)c1cc(N)ccc1O2',\n 'NNc1ccccc1',\n 'CN(C)C(=O)N(C)C',\n 'CN(C)C(=O)Nc1ccccc1',\n 'CC12CC1(C)C(=O)N(c1cc(Cl)cc(Cl)c1)C2=O',\n 'Nc1nccs1',\n 'Clc1ccc(C(c2ccc(Cl)cc2)C(Cl)Cl)cc1',\n 'c1ccc2ncccc2c1',\n 'CCOP(=S)(OCC)SCSc1ccc(Cl)cc1',\n 'CCCCCCCC(=O)OCC',\n 'O=C1Nc2ccc(Cl)cc2C(c2ccccc2Cl)=NC1O',\n 'CCc1ccccn1',\n 'CCNc1ccccc1',\n 'COc1c2occc2c(OC)c2c(=O)cc(C)oc12',\n 'Nc1cccc(Cl)c1',\n 'Cc1c(F)c(F)c(COC(=O)C2C(C=C(Cl)C(F)(F)F)C2(C)C)c(F)c1F',\n 'Cn1ccc(=O)[nH]c1=O',\n 'COC(=O)c1cccnc1',\n 'CC=CC=O',\n 'CCOP(=S)(OCC)Oc1nc(Cl)n(C(C)C)n1',\n 'COC1=C(OC)C2C(=O)OCC2C=C1',\n 'CCCCI',\n 'CC12C=CC(=O)C=C1CCC1C3CC(O)C(O)(C(=O)CO)C3(C)CC(O)C12F',\n 'CC12CCC3C(=CCc4cc(O)ccc43)C1CCC2=O',\n 'C=C(C)CC',\n 'CCc1ccc(CC)cc1',\n 'COc1ccc(C(O)(c2cncnc2)C2CC2)cc1',\n 'CCCCCCCCC(=O)OC',\n 'CCCOC(=O)CCC',\n 'Cc1ccccc1[N+](=O)[O-]',\n 'CCCCCOC(C)=O',\n 'CCCCCC(O)CC',\n 'CCC(=O)OC',\n 'ClC(Br)Br',\n 'CCNc1nc(NC(C)C)nc(OC)n1',\n 'CCCCCCCC(C)=O',\n 'COc1ncc2nccnc2n1',\n 'CNC(=O)Oc1ccccc1OC(C)C',\n 'COP(=O)(OC)C(O)C(Cl)(Cl)Cl',\n 'O=[N+]([O-])c1cccc2ccccc12',\n 'CSc1nc(N(C)C)nc(N(C)C)n1',\n 'CCNP(=S)(OC)OC(C)=CC(=O)OC(C)C',\n 'CC(=O)OCC(=O)C1(O)CCC2C3CCC4=CC(=O)CCC4(C)C3C(=O)CC21C',\n 'CCC(C)(C)Cl',\n 'Oc1c(Cl)ccc(Cl)c1Cl',\n 'CCN1c2ccccc2C(=O)N(C)c2ccccc21',\n 'CN(C)C(=O)Nc1cccc(OC(=O)NC(C)(C)C)c1',\n 'CCC(C=O)CC',\n 'Clc1ccc(-c2ccc(Cl)cc2)cc1',\n 'CC1CO1',\n 'CCCC(=O)OCN1C(=O)NC(c2ccccc2)(c2ccccc2)C1=O',\n 'CC(=O)OCCC(C)C',\n 'COC(=O)c1ccccc1C(=O)OC',\n 'Cc1cccc(O)c1',\n 'CCCCC(C)(O)CC',\n 'O=[N+]([O-])c1ccccc1',\n 'CCC(c1ccc(O)cc1)C(CC)c1ccc(O)cc1',\n 'CC1CCCO1',\n 'OCC(O)CO',\n 'CCNc1nc(NC(C)(C)C)nc(OC)n1',\n 'N#Cc1cc(I)c(O)c(I)c1',\n 'CC(=O)C1(C)CCC2C3C=C(C)C4=CC(=O)CCC4(C)C3CCC21C',\n 'OC(Cn1cncn1)(c1ccc(F)cc1)c1ccccc1F',\n 'CCOc1ccc2nc(S(N)(=O)=O)sc2c1',\n 'CCC(=O)OC1CCC2C3CCC4=CC(=O)CCC4(C)C3CCC12C',\n 'CC1CC(C)C(=O)C(C(O)CC2CC(=O)NC(=O)C2)C1',\n 'CCCCCCCCCCCCCCCCCCCCCCCCCC',\n 'C[N+](=O)[O-]',\n 'CC(=O)OCN1C(=O)NC(c2ccccc2)(c2ccccc2)C1=O',\n 'COc1ccc([N+](=O)[O-])cc1',\n 'CC(C)I',\n 'Clc1ccc2ccccc2c1',\n 'CC(C)CCOC=O',\n 'Nc1ccc(Cl)cc1',\n 'CCCCO',\n 'O=C1C2(Cl)C3(Cl)C4(Cl)C(Cl)(Cl)C5(Cl)C3(Cl)C1(Cl)C5(Cl)C24Cl',\n 'CC(C)(C)C(=O)C(Oc1ccc(Cl)cc1)n1cncn1',\n 'CCOC(=O)c1ccccc1S(=O)(=O)NN(C=O)c1nc(Cl)cc(OC)n1',\n 'COP(=S)(OC)SCC(=O)N(C)C=O',\n 'CCCCSP(=O)(SCCCC)SCCCC',\n 'CCC1(CC)C(=O)NC(=O)N(C)C1=O',\n 'CCN(CC)C(=S)SSC(=S)N(CC)CC',\n 'C=CC',\n 'c1cc2c3c(c4ccc5ccccc5c4cc3c1)CC2',\n 'COc1ccccc1OCC(O)COC(N)=O',\n 'C=CCCCCC',\n 'CCN1c2ncccc2C(=O)Nc2c(C)cc(C)nc21',\n 'C1CCCCCCC1',\n 'Cc1nc(N(C)C)nc(OC(=O)N(C)C)c1C',\n 'CCCCCCBr',\n 'CCCOC=O',\n 'O=c1[nH]cnc2[nH]ncc12',\n 'ClC(Cl)(Cl)Cl',\n 'c1ccc2c(c1)c1ccccc1c1ccccc21',\n 'Clc1ccccc1Br',\n 'Brc1ccc2ccccc2c1',\n 'CC1CCCCC1C',\n 'ClC(Cl)C(Cl)(Cl)Cl',\n 'CCN(CC)C(=O)C(C)Oc1cccc2ccccc12',\n 'Cc1cc(C(=O)NNCc2ccccc2)no1',\n 'Cc1cccc2c1Cc1ccccc1-2',\n 'ClC1=C(Cl)C2(Cl)C3C4CC(C5OC45)C3C1(Cl)C2(Cl)Cl',\n 'Clc1ccc(-c2ccc(Cl)c(Cl)c2Cl)c(Cl)c1Cl',\n 'COc1ccc(Cl)cc1',\n 'CCCC(C)(COC(N)=O)COC(N)=O',\n 'CN(C)C(=O)Nc1ccc(Oc2ccc(Cl)cc2)cc1',\n 'CCCCCCCCC(=O)OCC',\n 'Clc1ccccc1I',\n 'CC12CCc3c(ccc4cc(O)ccc34)C1CCC2=O',\n 'Cc1cccc(N)c1',\n 'c1ccc2c(c1)CCN2',\n 'CCCCNC(=O)n1c(NC(=O)OC)nc2ccccc21',\n 'Cc1ccccc1C(C)C',\n 'Cc1cccc(C)c1',\n 'O=[N+]([O-])c1ccc([N+](=O)[O-])cc1',\n 'CC(=O)OCC(=O)C1(O)CCC2C3CCC4=CC(=O)C=CC4(C)C3C(O)CC21C',\n 'CC(C)C(C)O',\n 'CCCCc1c(C)nc(N(C)C)nc1O',\n 'c1ccc(Cc2ccccc2)cc1',\n 'CC(=O)Nc1ccc(Br)cc1',\n 'Brc1ccc(Br)c(Br)c1',\n 'CN(C)C(=O)Nc1ccc(Cl)c(Cl)c1',\n 'CCOC(=O)CC(SP(=S)(OC)OC)C(=O)OCC',\n 'CNC(=O)ON=C(SC)C(=O)N(C)C',\n 'ClC1C(Cl)C(Cl)C(Cl)C(Cl)C1Cl',\n 'Clc1c(Cl)c(Cl)c2nccnc2c1Cl',\n 'CCCCl',\n 'CCCCC1C(=O)N(c2ccccc2)N(c2ccc(O)cc2)C1=O',\n 'CCN(CC)c1nc(Cl)nc(N(CC)CC)n1',\n 'O=[N+]([O-])c1cccc(Cl)c1Cl',\n 'CC(C)C(C)C',\n 'Fc1ccccc1',\n 'CCCOP(=S)(OCCC)SCC(=O)N1CCCCC1C',\n 'c1ccc2cnccc2c1',\n 'Nc1ncnc2c1ccn2C1OC(CO)C(O)C1O',\n 'CC(C)C(C(=O)OC(C#N)c1cccc(Oc2ccccc2)c1)c1ccc(OC(F)F)cc1',\n 'c1ccc2c(c1)-c1cccc3cccc-2c13',\n 'Cc1ccc(N=CN(C)C=Nc2ccc(C)cc2C)c(C)c1',\n 'Oc1cc(Cl)c(Cl)cc1Cl',\n 'Clc1cc(Cl)c(Cl)c(-c2c(Cl)c(Cl)cc(Cl)c2Cl)c1Cl',\n 'CC1=CC(=O)c2ccccc2C1=O',\n 'c1cnc2c(c1)ccc1ncccc12',\n 'CCCCOC=O',\n 'CC(O)C(C)(C)C',\n 'Clc1ccc(Cl)cc1',\n 'CCCCOC(=O)c1ccc(N)cc1',\n 'CN(C)C(=O)C(c1ccccc1)c1ccccc1',\n 'CCCC=C(C=O)CC',\n 'Cc1ccc(NC(=O)N(C)C)cc1Cl',\n 'NC(=O)NC1NC(=O)NC1=O',\n 'Oc1cccc2ccccc12',\n 'Nc1ncnc2nc[nH]c12',\n 'C#CC(C)OC(=O)Nc1cccc(Cl)c1',\n 'O=C1NC(=O)C(=O)C(=O)N1',\n 'CCCCc1c(C)nc(NCC)[nH]c1=O',\n 'ClC(Cl)=C(c1ccc(Cl)cc1)c1ccc(Cl)cc1',\n 'O=c1[nH]cnc2nc[nH]c12',\n 'CC(=O)Nc1ccc(Cl)cc1',\n 'c1ccc2c(c1)Cc1c-2ccc2ccccc12',\n 'O=C(Nc1ccc([N+](=O)[O-])cc1Cl)c1cc(Cl)ccc1O',\n 'Cc1ccc2c(c1)Oc1ncc(N)cc1C(=O)N2C',\n 'CCOP(=S)(OCC)Oc1ccc([N+](=O)[O-])cc1']"
     },
     "execution_count": 64,
     "metadata": {},
     "output_type": "execute_result"
    }
   ],
   "source": [
    "train.X.tolist()"
   ],
   "metadata": {
    "collapsed": false,
    "ExecuteTime": {
     "end_time": "2024-01-03T16:10:41.495222580Z",
     "start_time": "2024-01-03T16:10:41.491243084Z"
    }
   },
   "id": "130b636635a29659"
  },
  {
   "cell_type": "code",
   "execution_count": 55,
   "outputs": [],
   "source": [],
   "metadata": {
    "collapsed": false,
    "ExecuteTime": {
     "end_time": "2024-01-03T16:09:53.419434951Z",
     "start_time": "2024-01-03T16:09:53.375175229Z"
    }
   },
   "id": "d3db6a20412d893e"
  },
  {
   "cell_type": "code",
   "execution_count": 66,
   "outputs": [
    {
     "data": {
      "text/plain": "[[1.5296711365579525],\n [0.11228999542893046],\n [-0.6708731435677834],\n [0.957913998272008],\n [0.5687347696908188],\n [-0.41622500634799303],\n [0.33426629617523823],\n [-0.3662563152709021],\n [0.8675859797864974],\n [-0.7957948712605111],\n [-2.5792927681659115],\n [0.1805164774764969],\n [1.2827104902730992],\n [0.08346190442291644],\n [-1.3843683959666302],\n [-2.3477071037509316],\n [0.6071722243655042],\n [0.31889131430536405],\n [-1.6510282377722596],\n [1.6882256370910296],\n [0.35252408714571387],\n [-0.8054042349291822],\n [0.21799299578431505],\n [0.37654749631739215],\n [-0.08950664161316776],\n [1.1371286306927284],\n [0.9242812254316582],\n [0.3621334508143852],\n [1.4143587725338964],\n [0.7032658610522176],\n [0.9098671799286513],\n [1.058812316793057],\n [0.9963514529466934],\n [1.6113507277416588],\n [0.8233829069106092],\n [0.8570156797509589],\n [-1.1369272814983435],\n [-2.3669258310882744],\n [0.7580392339636441],\n [1.5296711365579525],\n [-0.47868587019435693],\n [1.2702183175038264],\n [-0.8034823621954481],\n [-0.5555607795437276],\n [-0.6780801663192871],\n [-1.4348175552271545],\n [-1.8864576476547075],\n [1.0203748621183715],\n [-0.3460766515666924],\n [0.885843770756973],\n [-0.579584188715406],\n [1.4619251226938195],\n [1.3422885450188613],\n [-0.4642718246913498],\n [0.8377969524136163],\n [0.6624260654603643],\n [1.4095540906995607],\n [0.8329922705792806],\n [0.12670404093193738],\n [-0.3777875516733077],\n [-0.8054042349291822],\n [-1.9104810568263857],\n [0.8185782250762735],\n [-0.21442836930589504],\n [-0.5843888705497415],\n [0.3092819506366927],\n [0.885843770756973],\n [-1.0744664176519794],\n [0.30447726880235715],\n [-2.4687850859761906],\n [-0.20049479198632164],\n [-1.9585278751697428],\n [1.2413902264978123],\n [0.8137735432419378],\n [-1.3704348186470567],\n [-2.4135312448813306],\n [-0.8174159395150216],\n [1.0251795439527074],\n [-2.8377846508531697],\n [1.6401788187476727],\n [-0.1519675054595314],\n [0.4534224056667629],\n [-2.8752611691609884],\n [-0.027045777766803922],\n [0.6167815880341755],\n [0.9483046346033366],\n [-0.8918885079472241],\n [0.4822504966727769],\n [1.318265135847183],\n [-0.08470195977883199],\n [0.011391676907881457],\n [-1.2392670045696932],\n [-1.8528248748143576],\n [-0.3057173241582727],\n [-0.4979045975316996],\n [0.1747508592752941],\n [-1.577516605706924],\n [-0.17599091463120967],\n [0.33811004164270675],\n [0.38615685998606347],\n [-1.8864576476547075],\n [0.1718680501746926],\n [-1.723098465287295],\n [1.6401788187476727],\n [1.1116638169707496],\n [0.3285006779740354],\n [0.7176799065552245],\n [0.9483046346033366],\n [0.6215862698685112],\n [-0.4642718246913498],\n [1.2654136356694907],\n [-2.299660285407575],\n [0.5879534970281615],\n [0.4534224056667629],\n [-0.10199881438244063],\n [0.9338905891003296],\n [-1.0600523721489727],\n [0.189164904778301],\n [0.986742089278022],\n [-0.7621620984201612],\n [-0.7386191574319168],\n [-1.5727119238725886],\n [-2.3477071037509316],\n [-0.5031897475494689],\n [-0.908704894367399],\n [-1.6702469651096024],\n [-0.30091264232393716],\n [-0.08950664161316776],\n [-0.4277562427503987],\n [-0.589193552384077],\n [0.7849454522359239],\n [-2.3943125175439883],\n [-0.09911600528183911],\n [-0.04145982326981104],\n [1.159710635314106],\n [1.3999447270308893],\n [-2.4966522406153375],\n [-0.8870838261128885],\n [-2.621573968308065],\n [-1.430012873392819],\n [-1.2522396455223992],\n [0.37510609176709137],\n [-0.2413345875781748],\n [0.21174690939967872],\n [0.4245943146607489],\n [0.4255552510276159],\n [1.6401788187476727],\n [1.015570180284036],\n [-0.531537370372049],\n [1.1212731806394205],\n [-2.025793420850442],\n [1.0492029531243856],\n [0.23721172312165772],\n [1.159710635314106],\n [0.12189935909760181],\n [-0.4066156426793217],\n [1.260608953835155],\n [-2.1122776938684837],\n [-0.3057173241582727],\n [1.8467801376241066],\n [1.101093516935211],\n [0.5254926331817978],\n [0.32898114615746893],\n [0.6888518155492105],\n [-0.3763461471230071],\n [-0.48637336112929397],\n [1.058812316793057],\n [-1.4847862463042456],\n [-0.8198182804321893],\n [-1.0792710994863155],\n [0.011391676907881457],\n [0.24537968224002832],\n [0.10268063176025913],\n [-1.3531379640434482],\n [0.7340158247919658],\n [-0.5411467340407206],\n [0.14111808643494428],\n [1.1116638169707496],\n [-0.4738811883600209],\n [0.26603981412767175],\n [1.708885768978673],\n [-0.007827050429461233],\n [-0.09142851434690204],\n [0.90025781625998],\n [-0.6564590980647766],\n [0.1747508592752941],\n [-0.9591540536279237],\n [0.4053755873234062],\n [-0.5190451976027763],\n [-1.372356691380791],\n [-0.06596370062492303],\n [1.1356872261424278],\n [1.3230698176815185],\n [-0.4143031336142588],\n [-0.2048190056372237],\n [0.8954531344256443],\n [0.9771327256093506],\n [0.8377969524136163],\n [0.16994617744095833],\n [-0.6016857251533502],\n [0.5687347696908188],\n [0.23240704128732217],\n [-0.8198182804321893],\n [0.34195378711017527],\n [0.5014692240101195],\n [-0.30091264232393716],\n [1.102054453302078],\n [-0.6756778254021194],\n [0.5110785876787909],\n [0.688371347365777],\n [0.09739548174248962],\n [-0.15677218729386697],\n [-0.6420450525617696],\n [1.7703856964581692],\n [-1.7312664244056657],\n [1.073226362296064],\n [1.4672102727115888],\n [0.8137735432419378],\n [0.7849454522359239],\n [-2.093058966531141],\n [-0.5459514158750561],\n [-0.6420450525617696],\n [-0.5747795068810704],\n [0.4726411330041056],\n [1.8227567284524282],\n [-1.0216149174742875],\n [1.036710780355113],\n [0.6215862698685112],\n [-0.8481659032547698],\n [-0.2720845513179231],\n [1.0472810803906514],\n [-0.8827596124619866],\n [-0.03665514143547527],\n [1.3999447270308893],\n [1.2654136356694907],\n [0.16033681377228698],\n [0.4438130419980915],\n [0.2948679051336858],\n [1.1693199989827774],\n [-0.6564590980647766],\n [0.8185782250762735],\n [0.16033681377228698],\n [0.3285006779740354],\n [-1.199388145344707],\n [1.1068591351364137],\n [-2.222785376058204],\n [1.087640407799071],\n [0.3285006779740354],\n [-0.6300333479759302],\n [-0.12794409628785294],\n [-0.6708731435677834],\n [-2.72199181864568],\n [0.6888518155492105],\n [1.6305694550790015],\n [-0.5555607795437276],\n [-0.8102089167635178],\n [0.7513126793955742],\n [-0.24229552394504203],\n [-0.637240370727434],\n [-0.1711862327968741],\n [-0.07989727794449643],\n [-0.6660684617334478],\n [0.4433325738146578],\n [1.015570180284036],\n [0.189164904778301],\n [-2.0594261936907916],\n [-0.589193552384077],\n [-1.3675520095464553],\n [1.447991545374246],\n [1.5825226367356446],\n [-0.2240377329745664],\n [0.35732876898004945],\n [-0.690091870905126],\n [0.34195378711017527],\n [1.1549059534797703],\n [1.260608953835155],\n [-0.22067445569053157],\n [-0.09431132344750333],\n [0.90025781625998],\n [0.871429725253966],\n [0.14111808643494428],\n [0.5797855379097909],\n [0.5014692240101195],\n [1.9813112289855053],\n [0.9819374074436862],\n [1.7084053007952393],\n [-0.3922015971763148],\n [0.28525854146501445],\n [-0.11353005078484603],\n [0.7368986338925673],\n [-1.257044327356735],\n [1.6642022279193514],\n [1.3422885450188613],\n [-1.5698291147719872],\n [0.28718041419874873],\n [-0.12794409628785294],\n [0.8426016342479519],\n [0.4822504966727769],\n [0.29006322329935],\n [-0.26727986948358734],\n [0.36165298263095147],\n [0.4342036783294202],\n [-1.5645439647542179],\n [0.5975628606968328],\n [0.5254926331817978],\n [1.9188503651391415],\n [1.246194908332148],\n [-0.0030223685951256663],\n [-0.7688886529882313],\n [-0.31532668782694406],\n [-0.3201313696612798],\n [0.8329922705792806],\n [0.669633088211868],\n [-0.6574200344316437],\n [1.087640407799071],\n [0.4678364511697698],\n [0.3092819506366927],\n [-0.16638155096253832],\n [-0.04145982326981104],\n [0.8618203615852946],\n [-1.4924737372391825],\n [-1.0360289629772945],\n [-0.1519675054595314],\n [1.5296711365579525],\n [-0.8534510532725387],\n [-0.4930999156973636],\n [-0.0318504596011397],\n [-0.4738811883600209],\n [1.7170537280970435],\n [0.01619635874221702],\n [-0.3729828698389721],\n [-2.3875859629759177],\n [-1.1883373771257353],\n [0.23240704128732217],\n [1.2337027355628751],\n [0.33330535980837117],\n [-0.8270253031836927],\n [-0.22884241480890194],\n [-0.358568824335965],\n [0.21751252760088133],\n [0.23721172312165772],\n [0.5399066786848049],\n [-2.040207466353449],\n [0.9242812254316582],\n [-0.82125968498249],\n [1.2654136356694907],\n [-0.8784353988110845],\n [-2.2323947397268755],\n [-0.4291976473006994],\n [0.3957662236547348],\n [0.7128752247208888],\n [-0.0318504596011397],\n [0.4889770512408467],\n [-0.9111072352845668],\n [1.0299842257870429],\n [-1.069661735817644],\n [0.6311956335371826],\n [-0.2384517784775733],\n [-0.07028791427582508],\n [0.3919224781872663],\n [0.16033681377228698],\n [0.4197896328264131],\n [-0.6084122797214198],\n [0.22568048671925212],\n [0.0017823132392101129],\n [0.29967258696802135],\n [-1.1177085541610008],\n [-1.5650244329376515],\n [-2.578331831799044],\n [0.5158832695131265],\n [1.7362724554343862],\n [1.5921320004043162],\n [-2.323683694579253],\n [1.8011356601979176],\n [-1.6764930514942387],\n [-0.4868538293127273],\n [-0.9063025534502313],\n [0.4726411330041056],\n [1.0828357259647352],\n [0.3092819506366927],\n [1.0492029531243856],\n [-0.15869406002760122],\n [-0.16638155096253832],\n [0.2948679051336858],\n [1.2654136356694907],\n [-0.387396915341979],\n [0.8426016342479519],\n [-0.3393500969986225],\n [-1.3920558869015673],\n [0.8137735432419378],\n [0.7272892702238959],\n [-0.17647138281464317],\n [0.34291472347704255],\n [-1.3060520820669592],\n [-1.7999733746366655],\n [-0.6132169615557553],\n [0.1858016274942662],\n [-1.3387239185404416],\n [0.5057934376610216],\n [-1.055247690314637],\n [1.0492029531243856],\n [-0.24806114214624464],\n [-0.5988029160527486],\n [-0.29034234228839856],\n [0.8137735432419378],\n [-1.3483332822091125],\n [0.10268063176025913],\n [-0.5219280067033778],\n [-1.430012873392819],\n [0.5687347696908188],\n [0.6215862698685112],\n [-0.6780801663192871],\n [-0.8486463714382031],\n [-0.9231189398704062],\n [1.750686500937393],\n [0.39096154182039905],\n [0.5913167743121965],\n [-0.8870838261128885],\n [-0.12313941445351737],\n [-1.0360289629772945],\n [1.4383821817055749],\n [0.4630317693354342],\n [0.6206253335016441],\n [-1.2666536910254063],\n [-1.213802190847714],\n [0.6263909517028469],\n [-1.6990750561156167],\n [0.30255539606862286],\n [-0.0030223685951256663],\n [1.073226362296064],\n [0.21318831394997947],\n [-0.4450530973540071],\n [0.6792424518805391],\n [0.21799299578431505],\n [0.5591254060221474],\n [0.33330535980837117],\n [0.4966645421757838],\n [0.6071722243655042],\n [0.2670007504945388],\n [-0.6036075978870842],\n [0.4534224056667629],\n [-2.040207466353449],\n [0.9290859072659939],\n [-1.4276105324756512],\n [0.5514379150872105],\n [1.9861159108198407],\n [0.5158832695131265],\n [0.5351019968504692],\n [-0.2000143238028881],\n [-0.08470195977883199],\n [1.6017413640729874],\n [1.7939286374464143],\n [1.073226362296064],\n [-0.6468497343961052],\n [-2.7272769686634497],\n [1.0299842257870429],\n [1.3855306815278825],\n [-0.7496699256508882],\n [-0.30667826052513997],\n [-1.0456383266459657],\n [1.2221714991604695],\n [-0.8486463714382031],\n [-0.17599091463120967],\n [-2.674425468485757],\n [-0.4306390518510002],\n [-0.16157686912820274],\n [-0.7150762164436718],\n [-0.46379135650791625],\n [1.755491182771729],\n [1.4431868635399105],\n [-1.026419599308623],\n [0.32369599613969985],\n [0.37510609176709137],\n [0.9771327256093506],\n [0.27949292326381164],\n [0.06904785891990932],\n [0.6023675425311685],\n [1.505647727386274],\n [0.16418055923975552],\n [0.669633088211868],\n [0.3285006779740354],\n [0.5687347696908188],\n [-0.06452229607462227],\n [-1.2791458637946793],\n [1.6642022279193514],\n [1.4864290000489315],\n [-0.5219280067033778],\n [0.501949692193553],\n [1.1404919079767633],\n [-0.11353005078484603],\n [0.14592276826928008],\n [-0.579584188715406],\n [-0.11833473261918159],\n [-0.1904049601342168],\n [0.74266425209377],\n [0.24778202315719633],\n [0.16994617744095833],\n [-1.0456383266459657],\n [0.972328043775015],\n [-1.5933720557602316],\n [0.5351019968504692],\n [-0.9207165989532383],\n [0.7465079975612385],\n [-1.6125907830975743],\n [-0.0318504596011397],\n [-0.632435688893098],\n [-0.5473928204253569],\n [0.27180543232887455],\n [0.31937178248879755],\n [0.7609220430642456],\n [-0.9447400081249165],\n [-0.2048190056372237],\n [1.0492029531243856],\n [1.9909205926541766],\n [0.4966645421757838],\n [1.1212731806394205],\n [0.06424317708557374],\n [-2.4707069587099246],\n [0.4197896328264131],\n [-0.22355726479113286],\n [1.3086557721785117],\n [1.1116638169707496],\n [1.0780310441303997],\n [-0.0030223685951256663],\n [-0.3681781880046363],\n [0.024844786044021128],\n [0.4149849509920775],\n [0.31889131430536405],\n [-1.6606376014409312],\n [0.4596684920513992],\n [-0.6660684617334478],\n [0.31408663247102847],\n [2.216740638867953],\n [0.5014692240101195],\n [0.8377969524136163],\n [-1.271458372859742],\n [-0.7905097212427413],\n [-0.0654832324414893],\n [-0.5411467340407206],\n [-0.3129243469097763],\n [1.1212731806394205],\n [0.3092819506366927],\n [-0.733334007414147],\n [2.2119359570336177],\n [0.0017823132392101129],\n [0.6215862698685112],\n [0.3957662236547348],\n [0.32561786887343414],\n [1.3403666722851273],\n [0.741703315726903],\n [-0.5123186430347063],\n [-0.2581509739983497],\n [0.5221293558977629],\n [-0.07028791427582508],\n [-0.3028345150576714],\n [-0.7237246437454758],\n [0.33330535980837117],\n [-2.674425468485757],\n [0.10748531359459469],\n [0.6888518155492105],\n [-2.9434876512085544],\n [0.043583045197930305],\n [0.5831488151938258],\n [-0.16638155096253832],\n [0.2756491777963431],\n [-1.0360289629772945],\n [-0.7669667802544968],\n [-0.26727986948358734],\n [0.6331175062709168],\n [-0.26824080585045457],\n [-0.637240370727434],\n [-0.694896552739462],\n [1.0347889076213788],\n [0.7272892702238959],\n [0.2276023594529864],\n [0.7801407704015882],\n [0.4966645421757838],\n [-0.9735680991309305],\n [0.3621334508143852],\n [-1.588567373925896],\n [-0.3105220059926085],\n [-0.4930999156973636],\n [1.174124680817113],\n [0.14592276826928008],\n [0.5158832695131265],\n [-0.34895946066729366],\n [-1.2618490091910708],\n [0.16994617744095833],\n [-0.3633735061703008],\n [-0.3662563152709021],\n [0.08202049987261568],\n [0.25162576862466485],\n [-0.790029253059308],\n [0.01619635874221702],\n [0.36549672809842004],\n [0.31408663247102847],\n [-1.4372198961443228],\n [-1.2522396455223992],\n [-0.3105220059926085],\n [0.9905858347454906],\n [-0.7285293255798114],\n [-2.006574693513099],\n [-0.01263173226379701],\n [-0.07509259611016064],\n [0.4582270875010985],\n [-0.3922015971763148],\n [0.669633088211868],\n [1.4576009090429174],\n [1.0492029531243856],\n [0.08346190442291644],\n [1.9861159108198407],\n [-1.1897787816760355],\n [-1.5933720557602316],\n [1.1693199989827774],\n [-0.4642718246913498],\n [1.8659988649614492],\n [-0.044823100553845856],\n [0.5014692240101195],\n [0.8954531344256443],\n [0.4226724419270146],\n [0.6792424518805391],\n [1.6834209552566937],\n [-0.4416898200699721],\n [1.755491182771729],\n [0.9103476481120848],\n [-0.26727986948358734],\n [0.14592276826928008],\n [1.8371707739554353],\n [1.7362724554343862],\n [0.4486177238324271],\n [0.052231472499734616],\n [1.1404919079767633],\n [-1.838410829311351],\n [-0.5651701432123988],\n [0.16994617744095833],\n [0.3092819506366927],\n [-0.5123186430347063],\n [0.5557621287381126],\n [-0.5075139612003707],\n [-0.21442836930589504],\n [0.21318831394997947],\n [0.2756491777963431],\n [0.7561173612299099],\n [-0.644927861662371],\n [0.33811004164270675],\n [-0.5108772384844059],\n [0.8762344070883016],\n [-0.8510487123553709],\n [-1.0811929722200495],\n [-0.8294276441008605],\n [-0.4450530973540071],\n [-0.2336470966432377],\n [-0.7765761439231684],\n [-1.9152857386607214],\n [0.8954531344256443],\n [-1.1129038723266649],\n [0.9483046346033366],\n [1.6738115915880225],\n [-1.0216149174742875],\n [-0.6132169615557553],\n [0.5254926331817978],\n [1.001156134781029],\n [-0.4979045975316996],\n [0.5158832695131265],\n [-1.3483332822091125],\n [-0.26727986948358734],\n [-0.055873868772817956],\n [-0.7679277166213638],\n [-1.1657553725043572],\n [1.2558042720008193],\n [1.1549059534797703],\n [-0.05106918693848239],\n [-0.5988029160527486],\n [-2.655206741148415],\n [-0.027045777766803922],\n [1.2846323630068335],\n [0.20357895028130812],\n [0.12189935909760181],\n [-2.107473012034148],\n [0.3285006779740354],\n [-0.9831774627996019],\n [-0.0030223685951256663],\n [1.260608953835155],\n [-0.26727986948358734],\n [-2.4053632857629594],\n [-0.44120935188653854],\n [0.35732876898004945],\n [-1.5097705918427913],\n [0.6936564973835462],\n [-0.7957948712605111],\n [0.32369599613969985],\n [1.6449835005820086],\n [-1.9056763749920502],\n [-0.9999938492197769],\n [0.7272892702238959],\n [1.813147364783757],\n [-1.896067011323379],\n [-0.13274877812218872],\n [0.6504143608745252],\n [0.14111808643494428],\n [-0.8870838261128885],\n [-2.578331831799044],\n [0.8522109979166232],\n [1.116468498805085],\n [-0.12794409628785294],\n [-0.5411467340407206],\n [0.20069614118070664],\n [-3.0261281787591283],\n [-0.07028791427582508],\n [-0.055873868772817956],\n [-1.5213018282451969],\n [0.11228999542893046],\n [0.8666250434196303],\n [0.6360003153715182],\n [0.6792424518805391],\n [-0.07989727794449643],\n [-0.7717714620888324],\n [0.5158832695131265],\n [1.7314677736000506],\n [0.7897501340702596],\n [0.7080705428865532],\n [-0.563728738662098],\n [-0.680482507236455],\n [-0.9000564670655948],\n [-0.5603654613780632],\n [-0.28169391498659446],\n [0.24201640495599352],\n [0.24537968224002832],\n [0.4678364511697698],\n [-1.6990750561156167],\n [-0.022241095932468355],\n [1.318265135847183],\n [1.4133978361670292],\n [0.33474676435867173],\n [1.1212731806394205],\n [-0.185600278299881],\n [-0.1904049601342168],\n [-0.027526245950237647],\n [-1.494395609972917],\n [0.5927581788624972],\n [-0.4296781154841329],\n [1.491233681883267],\n [1.9092410014704702],\n [0.6888518155492105],\n [-0.8486463714382031],\n [1.2846323630068335],\n [-2.001770011678764],\n [0.8329922705792806],\n [-1.298364591132022],\n [-0.1711862327968741],\n [-0.27400642405165737],\n [1.7026396825940364],\n [0.6408049972058539],\n [0.006106526890111951],\n [0.7993594977389309],\n [-2.0599066618742254],\n [1.069863085012029],\n [1.2365855446634768],\n [1.6113507277416588],\n [-0.2999517059570699],\n [0.5451918287025741],\n [0.03541508607955971],\n [-0.3105220059926085],\n [-1.0802320358531825],\n [0.14592276826928008],\n [-0.3441547788329581],\n [0.21030550484937796],\n [-0.16638155096253832],\n [0.6167815880341755],\n [0.33811004164270675],\n [0.5495160423534762],\n [0.5062739058444552],\n [1.390335363362218],\n [0.5447113605191406],\n [0.4563052147673642],\n [0.21799299578431505],\n [0.9242812254316582],\n [0.4726411330041056],\n [1.3518979086875327],\n [-0.24325646031190906],\n [0.1718680501746926],\n [-0.17983466009867818],\n [-0.5651701432123988],\n [0.25162576862466485],\n [0.189164904778301],\n [-0.8241424940830911],\n [0.049829131582566626],\n [0.7272892702238959],\n [-1.6942703742812806],\n [1.174124680817113],\n [-0.9788532491487001],\n [0.5351019968504692],\n [0.6600237245431966],\n [1.1308825443080919],\n [0.6888518155492105],\n [0.5927581788624972],\n [-0.6708731435677834],\n [1.5104524092206097],\n [1.9957252744885123],\n [-0.09863553709840539],\n [-0.27688923315225866],\n [-1.0744664176519794],\n [-0.16157686912820274],\n [-0.3729828698389721],\n [-1.1225132359953363],\n [0.914671861762987],\n [-2.546620931692428],\n [1.5825226367356446],\n [-0.690091870905126],\n [0.29967258696802135],\n [0.4534224056667629],\n [-0.531537370372049],\n [0.7272892702238959],\n [0.6600237245431966],\n [1.4576009090429174],\n [-1.0691812676342105],\n [-0.27688923315225866],\n [-0.7410214983490845],\n [0.4990668830929516],\n [-1.0120055538056159],\n [0.38615685998606347],\n [-0.8774744624442173],\n [0.9386952709346652],\n [-2.314074330910582],\n [0.9843397483608542],\n [-0.33454541516428676],\n [-0.7304511983135455],\n [-0.536342052206385],\n [0.5206879513474622],\n [-0.3729828698389721],\n [1.2221714991604695],\n [0.36886000538245506],\n [0.34771940531137807],\n [-1.7740280927312528],\n [-0.07509259611016064],\n [-0.6564590980647766],\n [-0.6084122797214198],\n [0.2083836321156437],\n [-0.25767050581491596],\n [0.2751687096129096],\n [-1.0504430084803011],\n [-1.5645439647542179],\n [-2.3909492402599524],\n [0.12189935909760181],\n [0.5893949015784623],\n [-0.8918885079472241],\n [-0.3681781880046363],\n [-0.24325646031190906],\n [-1.0600523721489727],\n [1.0492029531243856],\n [0.957913998272008],\n [-0.8885252306631892],\n [-0.34895946066729366],\n [0.10268063176025913],\n [-0.1711862327968741],\n [-0.6420450525617696],\n [1.3711166360248754],\n [0.38135217815172767],\n [-0.5027092793660352],\n [-0.02368250048276911],\n [-0.7045059164081332],\n [-0.3681781880046363],\n [-0.16157686912820274],\n [1.5085305364868755],\n [-0.7717714620888324],\n [-1.1513413270013502],\n [0.7513126793955742],\n [-0.33454541516428676],\n [-0.661744248082546],\n [-0.21442836930589504],\n [-0.29610796048960136],\n [0.5927581788624972],\n [-0.536342052206385],\n [0.7609220430642456],\n [0.5206879513474622],\n [-1.8460983202462882],\n [-1.4252081915584833],\n [-1.170560054338693],\n [0.3957662236547348],\n [-2.938682969374219],\n [0.0017823132392101129],\n [0.16994617744095833],\n [0.7993594977389309],\n [1.159710635314106],\n [-0.11353005078484603],\n [-0.023202032299335384],\n [0.025805722410888368],\n [0.2756491777963431],\n [-0.2158697738561958],\n [0.6888518155492105],\n [0.39096154182039905],\n [0.4390083601637558],\n [0.2002156729972731],\n [0.8570156797509589],\n [0.002743249606077141],\n [-1.8576295566486938],\n [0.35444595987944816],\n [0.09162986354128702],\n [-1.7519265562933086],\n [-0.8005995530948466],\n [-0.004463773145426421],\n [-0.7813808257575039]]"
     },
     "execution_count": 66,
     "metadata": {},
     "output_type": "execute_result"
    }
   ],
   "source": [
    "train.y.tolist()"
   ],
   "metadata": {
    "collapsed": false,
    "ExecuteTime": {
     "end_time": "2024-01-03T16:11:09.639830042Z",
     "start_time": "2024-01-03T16:11:09.615498680Z"
    }
   },
   "id": "734393bbfa482ae1"
  },
  {
   "cell_type": "code",
   "execution_count": 83,
   "outputs": [],
   "source": [
    "import deepchem as dc\n",
    "from deepchem.feat.molecule_featurizers.raw_featurizer import RawFeaturizer\n",
    "\n",
    "\n",
    "def download_molecule_net_regression_tasks(path_to_data_dir = './data/moleculenet'):\n",
    "    return None\n",
    "\n",
    "    \n",
    "def download_molecule_net_esol(path_to_data_dir = './data/moleculenet'):\n",
    "    featurizer = RawFeaturizer(smiles = True)\n",
    "    _, (train, val, test), _ = dc.molnet.load_delaney(featurizer=featurizer, splitter='random')\n",
    "    \n",
    "    X_train = train.X.tolist()\n",
    "    y_train = torch.Tensor(train.y)\n",
    "    \n",
    "    X_val = val.X.tolist()\n",
    "    y_val = torch.Tensor(val.y)\n",
    "    \n",
    "    X_test = test.X.tolist() # smiles.txt\n",
    "    y_test = torch.Tensor(test.y) # esol.pt\n",
    "    \n",
    "    return X_test\n",
    "    "
   ],
   "metadata": {
    "collapsed": false,
    "ExecuteTime": {
     "end_time": "2024-01-03T16:20:32.331485874Z",
     "start_time": "2024-01-03T16:20:32.285129109Z"
    }
   },
   "id": "23529b8e80616b86"
  },
  {
   "cell_type": "code",
   "execution_count": 84,
   "outputs": [],
   "source": [
    "train = download_molecule_net_esol()"
   ],
   "metadata": {
    "collapsed": false,
    "ExecuteTime": {
     "end_time": "2024-01-03T16:20:32.826176770Z",
     "start_time": "2024-01-03T16:20:32.817414027Z"
    }
   },
   "id": "930094952f83262e"
  },
  {
   "cell_type": "code",
   "execution_count": 85,
   "outputs": [
    {
     "data": {
      "text/plain": "['Clc1cc(Cl)c(Cl)c(Cl)c1',\n 'Nc1ccc(S(=O)(=O)c2ccc(N)cc2)cc1',\n 'Clc1ccccc1Cl',\n 'CCCCC(C)(C)O',\n 'CCNC(=O)C(C)OC(=O)Nc1ccccc1',\n 'CCOP(=S)(OCC)SCn1c(=O)oc2cc(Cl)ccc21',\n 'O=C1NC(=O)C2C3C(C(O)(c4ccccc4)c4ccccn4)=CC(C3=C(c3ccccc3)c3ccccn3)C12',\n 'CC=Cc1ccc(OC)cc1',\n 'CCCCCCCCCCO',\n 'c1ccc2c(c1)c1cccc3ccc4cccc2c4c31',\n 'ClC1=C(Cl)C(Cl)(C2(Cl)C(Cl)=C(Cl)C(Cl)=C2Cl)C(Cl)=C1Cl',\n 'CCCCN(C)C(=O)Nc1ccc(Cl)c(Cl)c1',\n 'CCc1ccccc1',\n 'CCC(C)(C)C',\n 'Clc1ccc(C(c2ccc(Cl)cc2)C(Cl)(Cl)Cl)cc1',\n 'CC1CCCCC1NC(=O)Nc1ccccc1',\n 'CCCCC',\n 'CC(=O)CC(C)C',\n 'COCCCNc1nc(NC(C)C)nc(SC)n1',\n 'C=CCC1(C(C)C)C(=O)NC(=O)NC1=O',\n 'Cc1cc2ccccc2c2ccc3ccccc3c12',\n 'C=CCCCCCCC',\n 'CC(=O)OCC(C)C',\n 'Nc1cc[nH]c(=O)n1',\n 'CCN1c2ncccc2C(=O)N(C)c2cccnc21',\n 'COP(=S)(OC)Oc1ccc(Sc2ccc(OP(=S)(OC)OC)cc2)cc1',\n 'c1ccoc1',\n 'CC(C)OC(=O)C(O)(c1ccc(Cl)cc1)c1cccc(Cl)c1',\n 'CC',\n 'C1=CCC=CC1',\n 'CC12CCC(=O)C=C1CCC1C2C(=O)CC2(C)C1CCC2(O)C(=O)CO',\n 'COP(=S)(OC)Oc1ccc([N+](=O)[O-])c(C)c1',\n 'COc1ccc2ccc(=O)oc2c1CC=C(C)C',\n 'C#CC(C)N(C)C(=O)Nc1ccc(Cl)cc1',\n 'C#CCCC',\n 'C=CCc1ccc(OC)cc1',\n 'COP(=S)(OC)SCC(=O)N(c1ccc(Cl)cc1)C(C)C',\n 'Brc1cc(Br)cc(Br)c1',\n 'O=[N+]([O-])c1cccc(O)c1',\n 'C/C=C/CC',\n 'c1ccc2c(c1)oc1ccccc12',\n 'O=C1NC(=O)C(=O)N1',\n 'O=Cc1ccc2c(c1)OCO2',\n 'COP(=S)(OC)Oc1ccc(SC)c(C)c1',\n 'O=[N+]([O-])c1ccccc1Cl',\n 'OC1C=CC2C1C1(Cl)C(Cl)=C(Cl)C2(Cl)C1(Cl)Cl',\n 'CC12CCC3C(CCC4CC5SC5CC43C)C1CCC2O',\n 'CCCC(=O)OCC',\n 'Clc1ccc(Br)cc1',\n 'CC(C)CCC(C)(C)C',\n 'ClCC(Cl)(Cl)Cl',\n 'O=[N+]([O-])OCC(CO[N+](=O)[O-])O[N+](=O)[O-]',\n 'CCCCCCCCCC(C)O',\n 'CCN1c2nc(N(C)CCO)ccc2NC(=O)c2cccnc21',\n 'CCCCCOC(=O)CC',\n 'CCCC',\n 'Cc1[nH]c(=O)n(C(C)(C)C)c(=O)c1Cl',\n 'Cc1c[nH]c(=O)nc1N',\n 'CC1=CC(=O)CC(C)(C)C1',\n 'O=C1C2CC=CCC2C(=O)N1SC(Cl)(Cl)C(Cl)Cl',\n 'Oc1ccc(Cl)cc1Cl',\n 'COc1ccccc1[N+](=O)[O-]',\n 'COP(=S)(OC)Oc1cc(Cl)c(Cl)cc1Cl',\n 'CCN(CC)c1nc(Cl)nc(NC(C)C)n1',\n 'Cc1ccc2ccccc2c1',\n 'Cc1ccc(Cl)cc1',\n 'Oc1ccncc1',\n 'Clc1cccc2ccccc12',\n 'O=[N+]([O-])c1ccc(Cl)cc1',\n 'CCCC=O',\n 'Cc1ccc(Br)cc1',\n 'c1ccc2c(c1)sc1ccccc12',\n 'CCCCS',\n 'OC1C(O)C(O)C(O)C(O)C1O',\n 'Nc1cccc([N+](=O)[O-])c1',\n 'Clc1c(Cl)c(Cl)c(-c2c(Cl)c(Cl)c(Cl)c(Cl)c2Cl)c(Cl)c1Cl',\n 'NC(=O)c1ccccc1',\n 'Cn1c(=O)on(-c2ccc(Cl)c(Cl)c2)c1=O',\n 'CC(=O)C1(O)CCC2C3CC(C)C4=CC(=O)C=CC4(C)C3(F)C(O)CC21C',\n 'Oc1c2ccccc2cc2ccccc12',\n 'O=C(CC(Cl)Cl)NC1=C(Cl)C(=O)c2ccccc2C1=O',\n 'CC(C)SC(C)C',\n 'OCC1OC(O)(CO)C(O)C1O',\n 'CCC(C)=O',\n 'CCCCCCCC',\n 'CCN1c2cc(OC)cc(C)c2NC(=O)c2cccnc21',\n 'CNC(=O)C(C)SCCSP(=O)(OC)OC',\n 'CC(C)C(C)C(C)C',\n 'CCOc1ccc(NC(N)=O)cc1',\n 'CCOP(=S)(NC(C)C)Oc1ccccc1C(=O)OC(C)C',\n 'CC1Cc2ccccc2N1NC(=O)c1ccc(Cl)c(S(N)(=O)=O)c1',\n 'CN1C(C(=O)Nc2ccccn2)=C(O)c2ccccc2S1(=O)=O',\n 'C=CCC1(CC)C(=O)NC(=O)NC1=O',\n 'c1cncnc1',\n 'CC(C)C(O)C(C)C',\n 'CCC(C)(C)CC',\n 'O=c1[nH]cc(F)c(=O)[nH]1',\n 'CCSCc1ccccc1OC(=O)NC',\n 'CCBr',\n 'Clc1cccc(Cl)c1-c1c(Cl)cccc1Cl',\n 'O=C(c1ccccc1)C(O)c1ccccc1',\n 'Clc1ccc(-c2cc(Cl)ccc2Cl)cc1',\n 'CCCCCCC',\n 'CCCCCC(=O)OC',\n 'Cn1c(=O)c2c(ncn2CC(O)CO)n(C)c1=O',\n 'C#C',\n 'CC(=O)OCC(=O)C1CCC2C3CCC4=CC(=O)CCC4(C)C3CCC12C',\n 'O=c1c(O)c(-c2ccc(O)cc2O)oc2cc(O)cc(O)c12',\n 'CC(C)CCO',\n 'CCC(C)CO',\n 'O=C1NC(=O)C2C=CC=CC12',\n 'CSSC',\n 'CCS']"
     },
     "execution_count": 85,
     "metadata": {},
     "output_type": "execute_result"
    }
   ],
   "source": [
    "train"
   ],
   "metadata": {
    "collapsed": false,
    "ExecuteTime": {
     "end_time": "2024-01-03T16:20:35.325540866Z",
     "start_time": "2024-01-03T16:20:35.317831314Z"
    }
   },
   "id": "c01f495aea688513"
  },
  {
   "cell_type": "code",
   "execution_count": 86,
   "outputs": [
    {
     "ename": "NameError",
     "evalue": "name 'tokenizer' is not defined",
     "output_type": "error",
     "traceback": [
      "\u001B[0;31m---------------------------------------------------------------------------\u001B[0m",
      "\u001B[0;31mNameError\u001B[0m                                 Traceback (most recent call last)",
      "Cell \u001B[0;32mIn[86], line 1\u001B[0m\n\u001B[0;32m----> 1\u001B[0m \u001B[43mtokenizer\u001B[49m(train)\n",
      "\u001B[0;31mNameError\u001B[0m: name 'tokenizer' is not defined"
     ]
    }
   ],
   "source": [
    "tokenizer(train)"
   ],
   "metadata": {
    "collapsed": false,
    "ExecuteTime": {
     "end_time": "2024-01-03T16:21:03.188180811Z",
     "start_time": "2024-01-03T16:21:03.145696030Z"
    }
   },
   "id": "db2bbbdc0a1ac3de"
  },
  {
   "cell_type": "code",
   "execution_count": null,
   "outputs": [],
   "source": [],
   "metadata": {
    "collapsed": false
   },
   "id": "452c8fe8bb7dd565"
  }
 ],
 "metadata": {
  "kernelspec": {
   "display_name": "Python 3",
   "language": "python",
   "name": "python3"
  },
  "language_info": {
   "codemirror_mode": {
    "name": "ipython",
    "version": 2
   },
   "file_extension": ".py",
   "mimetype": "text/x-python",
   "name": "python",
   "nbconvert_exporter": "python",
   "pygments_lexer": "ipython2",
   "version": "2.7.6"
  }
 },
 "nbformat": 4,
 "nbformat_minor": 5
}
