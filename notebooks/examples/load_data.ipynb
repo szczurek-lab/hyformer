{
 "cells": [
  {
   "cell_type": "code",
   "execution_count": 9,
   "outputs": [
    {
     "name": "stdout",
     "output_type": "stream",
     "text": [
      "/home/adam/Projects/jointformer\n"
     ]
    }
   ],
   "source": [
    "%cd .."
   ],
   "metadata": {
    "collapsed": false,
    "ExecuteTime": {
     "end_time": "2024-04-17T15:08:51.903320327Z",
     "start_time": "2024-04-17T15:08:51.857434702Z"
    }
   },
   "id": "9ef080d1b275eede"
  },
  {
   "cell_type": "code",
   "execution_count": 10,
   "outputs": [
    {
     "name": "stdout",
     "output_type": "stream",
     "text": [
      "\u001B[0m\u001B[01;34mconfigs\u001B[0m/              \u001B[01;34mexperiments\u001B[0m/                  \u001B[01;34mnotebooks\u001B[0m/  \u001B[01;34mscripts\u001B[0m/\r\n",
      "\u001B[01;34mdata\u001B[0m/                 \u001B[01;34mHybrid_Transformer.egg-info\u001B[0m/  README.md   setup.py\r\n",
      "env_with_history.yml  \u001B[01;34mjointformer\u001B[0m/                  \u001B[01;34mresults\u001B[0m/    \u001B[01;34mvocabularies\u001B[0m/\r\n",
      "env.yml               LICENSE                       \u001B[01;34msampled\u001B[0m/    \u001B[01;34mwandb\u001B[0m/\r\n"
     ]
    }
   ],
   "source": [
    "%ls"
   ],
   "metadata": {
    "collapsed": false,
    "ExecuteTime": {
     "end_time": "2024-04-17T15:08:53.026323445Z",
     "start_time": "2024-04-17T15:08:52.821361627Z"
    }
   },
   "id": "d6a8f04150c1f7fa"
  },
  {
   "cell_type": "code",
   "execution_count": 3,
   "outputs": [
    {
     "name": "stderr",
     "output_type": "stream",
     "text": [
      "/home/adam/miniconda3/envs/jointformer/lib/python3.11/site-packages/tqdm/auto.py:21: TqdmWarning: IProgress not found. Please update jupyter and ipywidgets. See https://ipywidgets.readthedocs.io/en/stable/user_install.html\n",
      "  from .autonotebook import tqdm as notebook_tqdm\n"
     ]
    }
   ],
   "source": [
    "from jointformer.utils.datasets.smiles.base import SMILESDataset\n",
    "from jointformer.utils.transforms.permute import PermuteSMILES\n",
    "from jointformer.utils.transforms.smiles_enumerator import SmilesEnumerator\n",
    "\n",
    "import torchvision.transforms as transforms\n",
    "\n",
    "%load_ext autoreload\n",
    "%autoreload 2"
   ],
   "metadata": {
    "collapsed": true,
    "ExecuteTime": {
     "end_time": "2024-04-17T15:08:26.935585956Z",
     "start_time": "2024-04-17T15:08:23.381989817Z"
    }
   },
   "id": "initial_id"
  },
  {
   "cell_type": "code",
   "execution_count": 7,
   "outputs": [],
   "source": [
    "PATH_TO_TXT_DATA = 'data/guacamol/test/smiles.txt'\n",
    "NUM_SAMPLES = 1000\n",
    "VALIDATE = False"
   ],
   "metadata": {
    "collapsed": false,
    "ExecuteTime": {
     "end_time": "2024-04-17T07:56:48.577305017Z",
     "start_time": "2024-04-17T07:56:48.553480418Z"
    }
   },
   "id": "aac6158bd9c9e509"
  },
  {
   "cell_type": "code",
   "execution_count": 8,
   "outputs": [],
   "source": [
    "\n",
    "transform = transforms.Compose([\n",
    "    SmilesEnumerator(),\n",
    "])\n",
    "tokenizer = None\n",
    "\n",
    "dataset = SMILESDataset(file_path=PATH_TO_TXT_DATA, num_samples=NUM_SAMPLES, validate=VALIDATE, transform=transform)"
   ],
   "metadata": {
    "collapsed": false,
    "ExecuteTime": {
     "end_time": "2024-04-17T07:56:50.032240582Z",
     "start_time": "2024-04-17T07:56:49.962707638Z"
    }
   },
   "id": "f6e8abf086b09b6d"
  },
  {
   "cell_type": "code",
   "execution_count": 9,
   "outputs": [
    {
     "data": {
      "text/plain": "'c1c(C)c2c(oc(CCCC#N)c2)c2c1C(=O)c1c(c(O)ccc1)C2=O'"
     },
     "execution_count": 9,
     "metadata": {},
     "output_type": "execute_result"
    }
   ],
   "source": [
    "dataset[0]"
   ],
   "metadata": {
    "collapsed": false,
    "ExecuteTime": {
     "end_time": "2024-04-17T07:56:50.781341691Z",
     "start_time": "2024-04-17T07:56:50.756879984Z"
    }
   },
   "id": "dc36c61694b6cb0d"
  },
  {
   "cell_type": "code",
   "execution_count": null,
   "outputs": [],
   "source": [],
   "metadata": {
    "collapsed": false
   },
   "id": "99f5edddb8c7af5e"
  },
  {
   "cell_type": "code",
   "execution_count": null,
   "outputs": [],
   "source": [
    "class SMILESData:\n",
    "    \"\"\"I could make a dataclass with orig_smiles, inputs, props, mask etc. Rerutn vecotr or class. \"\"\"\n",
    "    \n",
    "    "
   ],
   "metadata": {
    "collapsed": false
   },
   "id": "40f2ccef97bb77d5"
  },
  {
   "cell_type": "code",
   "execution_count": 49,
   "outputs": [],
   "source": [
    "from rdkit import Chem\n",
    "from rdkit.Chem import Descriptors\n",
    "from typing import List\n",
    "from rdkit.ML.Descriptors.MoleculeDescriptors import MolecularDescriptorCalculator\n",
    "import numpy as np\n",
    "\n",
    "def get_all_descriptor_names() -> List[str]:\n",
    "    \"\"\"\n",
    "    Get available descriptor names for RDKit physchem features. Custom subset can be used as list of descriptors.\n",
    "    \"\"\"\n",
    "    return sorted([x[0] for x in Descriptors._descList])\n",
    "\n",
    "def rdkit_dense_array_to_np(dense_fp, dtype=np.int32):\n",
    "    \"\"\"\n",
    "    Converts RDKit ExplicitBitVect to 1D numpy array with specified dtype.\n",
    "    Args:\n",
    "        dense_fp (ExplicitBitVect or np.ndarray): fingerprint\n",
    "        dtype: dtype of the returned array\n",
    "\n",
    "    Returns:\n",
    "        Numpy matrix with shape (fp_len,)\n",
    "    \"\"\"\n",
    "    dense_fp = np.array(dense_fp, dtype=dtype)\n",
    "    if len(dense_fp.shape) == 1:\n",
    "        pass\n",
    "    elif len(dense_fp.shape) == 2 and dense_fp.shape[0] == 1:\n",
    "        dense_fp = np.squeeze(dense_fp, axis=0)\n",
    "    else:\n",
    "        raise ValueError(\"Input matrix should either have shape of (fp_size, ) or (1, fp_size).\")\n",
    "\n",
    "    return np.array(dense_fp)"
   ],
   "metadata": {
    "collapsed": false,
    "ExecuteTime": {
     "end_time": "2024-04-16T15:00:15.428345111Z",
     "start_time": "2024-04-16T15:00:15.386855108Z"
    }
   },
   "id": "11a608e364c1ed2c"
  },
  {
   "cell_type": "code",
   "execution_count": 51,
   "outputs": [],
   "source": [
    "# Get featurizer\n",
    "\n",
    "\n",
    "default_smiles = 'CCN(CC)C(=O)C1CN(C2CC3=CNC4=CC=CC(=C34)C2=C1)C'\n",
    "list_of_descriptors = get_all_descriptor_names()\n",
    "molecule = Chem.MolFromSmiles(default_smiles)\n",
    "\n",
    "molecular_descriptor_calculator = MolecularDescriptorCalculator(list_of_descriptors)\n",
    "fp = molecular_descriptor_calculator.CalcDescriptors(molecule)\n",
    "fp = np.array(fp)\n",
    "mask = np.isfinite(fp)\n",
    "fp[~mask] = 0\n",
    "fp = rdkit_dense_array_to_np(fp, dtype=float)\n"
   ],
   "metadata": {
    "collapsed": false,
    "ExecuteTime": {
     "end_time": "2024-04-16T15:00:25.919502222Z",
     "start_time": "2024-04-16T15:00:25.892892459Z"
    }
   },
   "id": "3e8abf7c5dcf3829"
  },
  {
   "cell_type": "code",
   "execution_count": 53,
   "outputs": [
    {
     "data": {
      "text/plain": "(211,)"
     },
     "execution_count": 53,
     "metadata": {},
     "output_type": "execute_result"
    }
   ],
   "source": [
    "fp.shape"
   ],
   "metadata": {
    "collapsed": false,
    "ExecuteTime": {
     "end_time": "2024-04-16T15:00:38.624404504Z",
     "start_time": "2024-04-16T15:00:38.582508818Z"
    }
   },
   "id": "8b3918251b85ff2d"
  },
  {
   "cell_type": "code",
   "execution_count": 12,
   "outputs": [],
   "source": [
    "import torch\n",
    "from torch.utils.data import Dataset\n",
    "import numpy as np\n",
    "import re\n",
    "\n",
    "class SmilesTokenizer(Dataset):\n",
    "\n",
    "    def __init__(self, args, data, content, block_size, aug_prob = 0.5, prop = None, scaffold = None, scaffold_maxlen = None):\n",
    "        chars = sorted(list(set(content)))\n",
    "        data_size, vocab_size = len(data), len(chars)\n",
    "        print('data has %d smiles, %d unique characters.' % (data_size, vocab_size))\n",
    "    \n",
    "        self.stoi = { ch:i for i,ch in enumerate(chars) }\n",
    "        self.itos = { i:ch for i,ch in enumerate(chars) }\n",
    "        self.max_len = block_size\n",
    "        self.vocab_size = vocab_size\n",
    "        self.data = data\n",
    "        self.prop = prop\n",
    "        self.sca = scaffold\n",
    "        self.scaf_max_len = scaffold_maxlen\n",
    "        self.debug = args.debug\n",
    "        self.tfm = SmilesEnumerator()\n",
    "        self.aug_prob = aug_prob\n",
    "    \n",
    "    def __len__(self):\n",
    "        return len(self.data)\n",
    "\n",
    "    def __getitem__(self, idx):\n",
    "        smiles, prop, scaffold = self.data[idx], self.prop[idx], self.sca[idx]    # self.prop.iloc[idx, :].values  --> if multiple properties\n",
    "        smiles = smiles.strip()\n",
    "        scaffold = scaffold.strip()\n",
    "\n",
    "        p = np.random.uniform()\n",
    "        if p < self.aug_prob:\n",
    "            smiles = self.tfm.randomize_smiles(smiles)\n",
    "\n",
    "        pattern =  \"(\\[[^\\]]+]|<|Br?|Cl?|N|O|S|P|F|I|b|c|n|o|s|p|\\(|\\)|\\.|=|#|-|\\+|\\\\\\\\|\\/|:|~|@|\\?|>|\\*|\\$|\\%[0-9]{2}|[0-9])\"\n",
    "        regex = re.compile(pattern)\n",
    "        smiles += str('<')*(self.max_len - len(regex.findall(smiles)))\n",
    "\n",
    "        if len(regex.findall(smiles)) > self.max_len:\n",
    "            smiles = smiles[:self.max_len]\n",
    "\n",
    "        smiles=regex.findall(smiles)\n",
    "\n",
    "        scaffold += str('<')*(self.scaf_max_len - len(regex.findall(scaffold)))\n",
    "        \n",
    "        if len(regex.findall(scaffold)) > self.scaf_max_len:\n",
    "            scaffold = scaffold[:self.scaf_max_len]\n",
    "\n",
    "        scaffold=regex.findall(scaffold)\n",
    "\n",
    "        dix =  [self.stoi[s] for s in smiles]\n",
    "        sca_dix = [self.stoi[s] for s in scaffold]\n",
    "\n",
    "        sca_tensor = torch.tensor(sca_dix, dtype=torch.long)\n",
    "        x = torch.tensor(dix[:-1], dtype=torch.long)\n",
    "        y = torch.tensor(dix[1:], dtype=torch.long)\n",
    "        # prop = torch.tensor([prop], dtype=torch.long)\n",
    "        prop = torch.tensor([prop], dtype = torch.float)\n",
    "        return x, y, prop, sca_tensor"
   ],
   "metadata": {
    "collapsed": false,
    "ExecuteTime": {
     "end_time": "2024-04-17T07:59:39.508023568Z",
     "start_time": "2024-04-17T07:59:39.484846081Z"
    }
   },
   "id": "565efbf549b47fb0"
  },
  {
   "cell_type": "code",
   "execution_count": 6,
   "outputs": [
    {
     "name": "stdout",
     "output_type": "stream",
     "text": [
      "The autoreload extension is already loaded. To reload it, use:\n",
      "  %reload_ext autoreload\n"
     ]
    }
   ],
   "source": [
    "from jointformer.utils.tokenizers.smiles.regex import SMILESTokenizer\n",
    "\n",
    "%load_ext autoreload\n",
    "%autoreload 2\n"
   ],
   "metadata": {
    "collapsed": false,
    "ExecuteTime": {
     "end_time": "2024-04-17T15:08:40.451369106Z",
     "start_time": "2024-04-17T15:08:40.420696996Z"
    }
   },
   "id": "b47607ae34772a82"
  },
  {
   "cell_type": "code",
   "execution_count": 11,
   "outputs": [],
   "source": [
    "VOCABULARY_PATH = 'jointformer/utils/tokenizers/smiles/molgpt_vocabulary.txt'\n",
    "\n",
    "smiles = 'CCN(CC)C(=O)C1CN(C2CC3=CNC4=CC=CC(=C34)C2=C1)C'\n",
    "\n",
    "tokenizer = SMILESTokenizer(path_to_vocabulary=VOCABULARY_PATH)"
   ],
   "metadata": {
    "collapsed": false,
    "ExecuteTime": {
     "end_time": "2024-04-17T15:08:59.519100181Z",
     "start_time": "2024-04-17T15:08:59.493034683Z"
    }
   },
   "id": "40a1f90b7cff4082"
  },
  {
   "cell_type": "code",
   "execution_count": 13,
   "outputs": [
    {
     "data": {
      "text/plain": "101"
     },
     "execution_count": 13,
     "metadata": {},
     "output_type": "execute_result"
    }
   ],
   "source": [
    "len(tokenizer.vocabulary)"
   ],
   "metadata": {
    "collapsed": false,
    "ExecuteTime": {
     "end_time": "2024-04-17T15:09:11.569280084Z",
     "start_time": "2024-04-17T15:09:11.540948709Z"
    }
   },
   "id": "ae3d1498a6651217"
  },
  {
   "cell_type": "code",
   "execution_count": 181,
   "outputs": [],
   "source": [
    "tokenized = tokenizer.tokenize(smiles)"
   ],
   "metadata": {
    "collapsed": false,
    "ExecuteTime": {
     "end_time": "2024-04-17T09:24:43.376671677Z",
     "start_time": "2024-04-17T09:24:43.359014677Z"
    }
   },
   "id": "2d58ea268cdf03ef"
  },
  {
   "cell_type": "code",
   "execution_count": 182,
   "outputs": [
    {
     "data": {
      "text/plain": "'CCN(CC)C(=O)C1CN(C2CC3=CNC4=CC=CC(=C34)C2=C1)C'"
     },
     "execution_count": 182,
     "metadata": {},
     "output_type": "execute_result"
    }
   ],
   "source": [
    "tokenizer.detokenize(tokenized)"
   ],
   "metadata": {
    "collapsed": false,
    "ExecuteTime": {
     "end_time": "2024-04-17T09:24:43.813414225Z",
     "start_time": "2024-04-17T09:24:43.791364510Z"
    }
   },
   "id": "d90afb5af5cb7bce"
  },
  {
   "cell_type": "code",
   "execution_count": 183,
   "outputs": [
    {
     "data": {
      "text/plain": "tensor([ 1, 27, 27, 31, 11, 27, 27, 12, 27, 11, 24, 32, 12, 27, 14, 27, 31, 11,\n        27, 15, 27, 27, 16, 24, 27, 31, 27, 17, 24, 27, 27, 24, 27, 27, 11, 24,\n        27, 16, 17, 12, 27, 15, 24, 27, 14, 12, 27,  2,  0,  0,  0,  0,  0,  0,\n         0,  0,  0,  0,  0,  0,  0,  0,  0,  0,  0,  0,  0,  0,  0,  0,  0,  0,\n         0,  0,  0,  0,  0,  0,  0,  0,  0,  0,  0,  0,  0,  0,  0,  0,  0,  0,\n         0,  0,  0,  0,  0,  0,  0,  0,  0,  0,  0,  0,  0,  0,  0,  0,  0,  0,\n         0,  0,  0,  0,  0,  0,  0,  0,  0,  0,  0,  0,  0,  0,  0,  0,  0,  0,\n         0,  0])"
     },
     "execution_count": 183,
     "metadata": {},
     "output_type": "execute_result"
    }
   ],
   "source": [
    "tokenized"
   ],
   "metadata": {
    "collapsed": false,
    "ExecuteTime": {
     "end_time": "2024-04-17T09:24:44.649389172Z",
     "start_time": "2024-04-17T09:24:44.617722245Z"
    }
   },
   "id": "199489dceb489916"
  },
  {
   "cell_type": "code",
   "execution_count": 131,
   "outputs": [
    {
     "data": {
      "text/plain": "{'[PAD]': 0,\n '[BOS]': 1,\n '[EOS]': 2,\n '[MASK]': 3,\n '[UNK]': 4,\n '[REC]': 5,\n '[PRED]': 6,\n '#': 7,\n '%10': 8,\n '%11': 9,\n '%12': 10,\n '(': 11,\n ')': 12,\n '-': 13,\n '1': 14,\n '2': 15,\n '3': 16,\n '4': 17,\n '5': 18,\n '6': 19,\n '7': 20,\n '8': 21,\n '9': 22,\n '<': 23,\n '=': 24,\n 'B': 25,\n 'Br': 26,\n 'C': 27,\n 'Cl': 28,\n 'F': 29,\n 'I': 30,\n 'N': 31,\n 'O': 32,\n 'P': 33,\n 'S': 34,\n '[B-]': 35,\n '[BH-]': 36,\n '[BH2-]': 37,\n '[BH3-]': 38,\n '[B]': 39,\n '[C+]': 40,\n '[C-]': 41,\n '[CH+]': 42,\n '[CH-]': 43,\n '[CH2+]': 44,\n '[CH2]': 45,\n '[CH]': 46,\n '[F+]': 47,\n '[H]': 48,\n '[I+]': 49,\n '[IH2]': 50,\n '[IH]': 51,\n '[N+]': 52,\n '[N-]': 53,\n '[NH+]': 54,\n '[NH-]': 55,\n '[NH2+]': 56,\n '[NH3+]': 57,\n '[N]': 58,\n '[O+]': 59,\n '[O-]': 60,\n '[OH+]': 61,\n '[O]': 62,\n '[P+]': 63,\n '[PH+]': 64,\n '[PH2+]': 65,\n '[PH]': 66,\n '[S+]': 67,\n '[S-]': 68,\n '[SH+]': 69,\n '[SH]': 70,\n '[Se+]': 71,\n '[SeH+]': 72,\n '[SeH]': 73,\n '[Se]': 74,\n '[Si-]': 75,\n '[SiH-]': 76,\n '[SiH2]': 77,\n '[SiH]': 78,\n '[Si]': 79,\n '[b-]': 80,\n '[bH-]': 81,\n '[c+]': 82,\n '[c-]': 83,\n '[cH+]': 84,\n '[cH-]': 85,\n '[n+]': 86,\n '[n-]': 87,\n '[nH+]': 88,\n '[nH]': 89,\n '[o+]': 90,\n '[s+]': 91,\n '[sH+]': 92,\n '[se+]': 93,\n '[se]': 94,\n 'b': 95,\n 'c': 96,\n 'n': 97,\n 'o': 98,\n 'p': 99,\n 's': 100}"
     },
     "execution_count": 131,
     "metadata": {},
     "output_type": "execute_result"
    }
   ],
   "source": [
    "tokenizer.token_to_index"
   ],
   "metadata": {
    "collapsed": false,
    "ExecuteTime": {
     "end_time": "2024-04-17T09:12:37.489423409Z",
     "start_time": "2024-04-17T09:12:37.462431611Z"
    }
   },
   "id": "36027de1dd30751f"
  },
  {
   "cell_type": "code",
   "execution_count": null,
   "outputs": [],
   "source": [
    "train_dataset = SmileDataset(args, smiles, whole_string, max_len, prop=prop, aug_prob=0, scaffold=scaffold, scaffold_maxlen= scaffold_max_len)"
   ],
   "metadata": {
    "collapsed": false
   },
   "id": "657ec970a5925478"
  }
 ],
 "metadata": {
  "kernelspec": {
   "display_name": "Python 3",
   "language": "python",
   "name": "python3"
  },
  "language_info": {
   "codemirror_mode": {
    "name": "ipython",
    "version": 2
   },
   "file_extension": ".py",
   "mimetype": "text/x-python",
   "name": "python",
   "nbconvert_exporter": "python",
   "pygments_lexer": "ipython2",
   "version": "2.7.6"
  }
 },
 "nbformat": 4,
 "nbformat_minor": 5
}
