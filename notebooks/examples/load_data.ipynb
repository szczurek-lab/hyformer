{
 "cells": [
  {
   "cell_type": "code",
   "execution_count": 2,
   "outputs": [
    {
     "name": "stdout",
     "output_type": "stream",
     "text": [
      "/home/adam/Projects/jointformer\n"
     ]
    }
   ],
   "source": [
    "%cd .."
   ],
   "metadata": {
    "collapsed": false,
    "ExecuteTime": {
     "end_time": "2024-04-22T08:54:50.045874266Z",
     "start_time": "2024-04-22T08:54:50.043159089Z"
    }
   },
   "id": "9ef080d1b275eede"
  },
  {
   "cell_type": "code",
   "execution_count": 3,
   "outputs": [],
   "source": [
    "import random\n",
    "\n",
    "from jointformer.utils.datasets.smiles.base import SMILESDataset\n",
    "from jointformer.utils.transforms.permute import PermuteSMILES\n",
    "from jointformer.utils.transforms.smiles_enumerator import SmilesEnumerator\n",
    "from jointformer.utils.tokenizers.smiles_tokenizers.regex import SMILESTokenizer\n",
    "from jointformer.models.base import Transformer\n",
    "\n",
    "import torchvision.transforms as transforms\n",
    "\n",
    "%load_ext autoreload\n",
    "%autoreload 2"
   ],
   "metadata": {
    "collapsed": true,
    "ExecuteTime": {
     "end_time": "2024-04-22T08:54:52.396481950Z",
     "start_time": "2024-04-22T08:54:50.698336186Z"
    }
   },
   "id": "initial_id"
  },
  {
   "cell_type": "code",
   "execution_count": 6,
   "outputs": [],
   "source": [
    "# Data\n",
    "\n",
    "PATH_TO_TXT_DATA = 'data/guacamol/test/smiles.txt'\n",
    "PATH_TO_VOCAB = 'jointformer/utils/tokenizers/smiles_tokenizers/molgpt_vocabulary.txt'\n",
    "NUM_SAMPLES = 1000\n",
    "MAX_LENGTH = 128\n",
    "VALIDATE = False"
   ],
   "metadata": {
    "collapsed": false,
    "ExecuteTime": {
     "end_time": "2024-04-22T08:55:02.880161731Z",
     "start_time": "2024-04-22T08:55:02.862570108Z"
    }
   },
   "id": "aac6158bd9c9e509"
  },
  {
   "cell_type": "code",
   "execution_count": 7,
   "outputs": [],
   "source": [
    "# Dataset and Tokenizer\n",
    "\n",
    "transform = transforms.Compose([\n",
    "    SmilesEnumerator(),\n",
    "])\n",
    "\n",
    "dataset = SMILESDataset(file_path=PATH_TO_TXT_DATA, num_samples=NUM_SAMPLES, validate=VALIDATE, transform=transform)\n",
    "tokenizer = SMILESTokenizer(path_to_vocabulary=PATH_TO_VOCAB, max_length=128)"
   ],
   "metadata": {
    "collapsed": false,
    "ExecuteTime": {
     "end_time": "2024-04-22T08:55:03.485837081Z",
     "start_time": "2024-04-22T08:55:03.430406934Z"
    }
   },
   "id": "f6e8abf086b09b6d"
  },
  {
   "cell_type": "code",
   "execution_count": 8,
   "outputs": [
    {
     "ename": "TypeError",
     "evalue": "expected string or bytes-like object",
     "output_type": "error",
     "traceback": [
      "\u001B[0;31m---------------------------------------------------------------------------\u001B[0m",
      "\u001B[0;31mTypeError\u001B[0m                                 Traceback (most recent call last)",
      "Cell \u001B[0;32mIn[8], line 3\u001B[0m\n\u001B[1;32m      1\u001B[0m bs \u001B[38;5;241m=\u001B[39m \u001B[38;5;241m2\u001B[39m\n\u001B[1;32m      2\u001B[0m smiles \u001B[38;5;241m=\u001B[39m [dataset[i] \u001B[38;5;28;01mfor\u001B[39;00m i \u001B[38;5;129;01min\u001B[39;00m \u001B[38;5;28mrange\u001B[39m(\u001B[38;5;241m10\u001B[39m)]\n\u001B[0;32m----> 3\u001B[0m inputs \u001B[38;5;241m=\u001B[39m \u001B[43mtokenizer\u001B[49m\u001B[43m(\u001B[49m\u001B[43msmiles\u001B[49m\u001B[43m)\u001B[49m\n",
      "File \u001B[0;32m~/Projects/jointformer/jointformer/utils/tokenizers/smiles_tokenizers/regex.py:48\u001B[0m, in \u001B[0;36mSMILESTokenizer.__call__\u001B[0;34m(self, smiles)\u001B[0m\n\u001B[1;32m     47\u001B[0m \u001B[38;5;28;01mdef\u001B[39;00m \u001B[38;5;21m__call__\u001B[39m(\u001B[38;5;28mself\u001B[39m, smiles: \u001B[38;5;28mstr\u001B[39m) \u001B[38;5;241m-\u001B[39m\u001B[38;5;241m>\u001B[39m List[\u001B[38;5;28mint\u001B[39m]:\n\u001B[0;32m---> 48\u001B[0m     \u001B[38;5;28;01mreturn\u001B[39;00m \u001B[38;5;28;43mself\u001B[39;49m\u001B[38;5;241;43m.\u001B[39;49m\u001B[43mtokenize\u001B[49m\u001B[43m(\u001B[49m\u001B[43msmiles\u001B[49m\u001B[43m)\u001B[49m\n",
      "File \u001B[0;32m~/Projects/jointformer/jointformer/utils/tokenizers/smiles_tokenizers/regex.py:71\u001B[0m, in \u001B[0;36mSMILESTokenizer.tokenize\u001B[0;34m(self, smiles)\u001B[0m\n\u001B[1;32m     70\u001B[0m \u001B[38;5;28;01mdef\u001B[39;00m \u001B[38;5;21mtokenize\u001B[39m(\u001B[38;5;28mself\u001B[39m, smiles: \u001B[38;5;28mstr\u001B[39m) \u001B[38;5;241m-\u001B[39m\u001B[38;5;241m>\u001B[39m torch\u001B[38;5;241m.\u001B[39mTensor:\n\u001B[0;32m---> 71\u001B[0m     \u001B[38;5;28;43mself\u001B[39;49m\u001B[38;5;241;43m.\u001B[39;49m\u001B[43mvalidate_string\u001B[49m\u001B[43m(\u001B[49m\u001B[43msmiles\u001B[49m\u001B[43m)\u001B[49m\n\u001B[1;32m     72\u001B[0m     smiles \u001B[38;5;241m=\u001B[39m \u001B[38;5;28mself\u001B[39m\u001B[38;5;241m.\u001B[39mregex\u001B[38;5;241m.\u001B[39mfindall(smiles)\n\u001B[1;32m     73\u001B[0m     tokens \u001B[38;5;241m=\u001B[39m [\u001B[38;5;28mself\u001B[39m\u001B[38;5;241m.\u001B[39mtoken_to_index\u001B[38;5;241m.\u001B[39mget(token, \u001B[38;5;28mself\u001B[39m\u001B[38;5;241m.\u001B[39mtoken_to_index[\u001B[38;5;28mself\u001B[39m\u001B[38;5;241m.\u001B[39munk_token]) \u001B[38;5;28;01mfor\u001B[39;00m token \u001B[38;5;129;01min\u001B[39;00m smiles]\n",
      "File \u001B[0;32m~/Projects/jointformer/jointformer/utils/tokenizers/smiles_tokenizers/regex.py:63\u001B[0m, in \u001B[0;36mSMILESTokenizer.validate_string\u001B[0;34m(self, smiles)\u001B[0m\n\u001B[1;32m     62\u001B[0m \u001B[38;5;28;01mdef\u001B[39;00m \u001B[38;5;21mvalidate_string\u001B[39m(\u001B[38;5;28mself\u001B[39m, smiles: \u001B[38;5;28mstr\u001B[39m) \u001B[38;5;241m-\u001B[39m\u001B[38;5;241m>\u001B[39m \u001B[38;5;28;01mNone\u001B[39;00m:\n\u001B[0;32m---> 63\u001B[0m     \u001B[38;5;28;01mif\u001B[39;00m \u001B[38;5;129;01mnot\u001B[39;00m \u001B[38;5;28;43mself\u001B[39;49m\u001B[38;5;241;43m.\u001B[39;49m\u001B[43mregex\u001B[49m\u001B[38;5;241;43m.\u001B[39;49m\u001B[43mmatch\u001B[49m\u001B[43m(\u001B[49m\u001B[43msmiles\u001B[49m\u001B[43m)\u001B[49m:\n\u001B[1;32m     64\u001B[0m         \u001B[38;5;28;01mraise\u001B[39;00m \u001B[38;5;167;01mValueError\u001B[39;00m(\u001B[38;5;124mf\u001B[39m\u001B[38;5;124m\"\u001B[39m\u001B[38;5;124mInput string \u001B[39m\u001B[38;5;124m'\u001B[39m\u001B[38;5;132;01m{\u001B[39;00msmiles\u001B[38;5;132;01m}\u001B[39;00m\u001B[38;5;124m'\u001B[39m\u001B[38;5;124m cannot be encoded by the tokenizer\u001B[39m\u001B[38;5;124m\"\u001B[39m)\n\u001B[1;32m     66\u001B[0m     \u001B[38;5;28;01mfor\u001B[39;00m char \u001B[38;5;129;01min\u001B[39;00m smiles:\n",
      "\u001B[0;31mTypeError\u001B[0m: expected string or bytes-like object"
     ]
    }
   ],
   "source": [
    "bs = 2\n",
    "smiles = [dataset[i] for i in range(10)]\n",
    "inputs = tokenizer(smiles)\n",
    "\n",
    "\n"
   ],
   "metadata": {
    "collapsed": false,
    "ExecuteTime": {
     "end_time": "2024-04-22T08:55:04.222822300Z",
     "start_time": "2024-04-22T08:55:04.177811691Z"
    }
   },
   "id": "99f5edddb8c7af5e"
  },
  {
   "cell_type": "code",
   "execution_count": 36,
   "outputs": [],
   "source": [],
   "metadata": {
    "collapsed": false,
    "ExecuteTime": {
     "end_time": "2024-04-22T10:29:55.208691329Z",
     "start_time": "2024-04-22T10:29:55.167204018Z"
    }
   },
   "id": "ec7ebff098a41065"
  },
  {
   "cell_type": "code",
   "execution_count": 40,
   "outputs": [
    {
     "name": "stdout",
     "output_type": "stream",
     "text": [
      "[12, 16, 16, 17, 22, 19, 18, 19, 16, 20, 22, 16, 16, 22, 16, 16, 22, 16, 20, 16, 17, 22, 19, 18, 19, 13]\n"
     ]
    }
   ],
   "source": [
    "tokenizer = SmilesTokenizer('data/vocabularies/deepchem.txt', max_length=128)\n",
    "\n",
    "print(tokenizer.encode(\"CC(=O)OC1=CC=CC=C1C(=O)O\"))"
   ],
   "metadata": {
    "collapsed": false,
    "ExecuteTime": {
     "end_time": "2024-04-22T10:30:11.436114008Z",
     "start_time": "2024-04-22T10:30:11.405124813Z"
    }
   },
   "id": "d25b08a45a246e86"
  },
  {
   "cell_type": "code",
   "execution_count": null,
   "outputs": [],
   "source": [],
   "metadata": {
    "collapsed": false
   },
   "id": "7dc1661c72ba2d22"
  }
 ],
 "metadata": {
  "kernelspec": {
   "display_name": "Python 3",
   "language": "python",
   "name": "python3"
  },
  "language_info": {
   "codemirror_mode": {
    "name": "ipython",
    "version": 2
   },
   "file_extension": ".py",
   "mimetype": "text/x-python",
   "name": "python",
   "nbconvert_exporter": "python",
   "pygments_lexer": "ipython2",
   "version": "2.7.6"
  }
 },
 "nbformat": 4,
 "nbformat_minor": 5
}
