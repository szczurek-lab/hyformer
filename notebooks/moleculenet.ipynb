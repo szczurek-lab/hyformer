{
 "cells": [
  {
   "cell_type": "markdown",
   "source": [
    "# Run fine-tuning on MoleculeNet"
   ],
   "metadata": {
    "collapsed": false
   },
   "id": "b26dcdcd117802dc"
  },
  {
   "cell_type": "code",
   "execution_count": 7,
   "outputs": [
    {
     "name": "stdout",
     "output_type": "stream",
     "text": [
      "/home/adam/Projects/hybrid-transformer\n"
     ]
    }
   ],
   "source": [
    "%cd .."
   ],
   "metadata": {
    "collapsed": false,
    "ExecuteTime": {
     "end_time": "2024-01-04T12:52:03.775606084Z",
     "start_time": "2024-01-04T12:52:03.745167951Z"
    }
   },
   "id": "422d4f35c0246db1"
  },
  {
   "cell_type": "code",
   "execution_count": 8,
   "outputs": [
    {
     "name": "stdout",
     "output_type": "stream",
     "text": [
      "The autoreload extension is already loaded. To reload it, use:\n",
      "  %reload_ext autoreload\n"
     ]
    }
   ],
   "source": [
    "import os\n",
    "import argparse\n",
    "import torch\n",
    "import wandb\n",
    "\n",
    "from hybrid_transformer.configs.task import TaskConfig\n",
    "from hybrid_transformer.configs.model import ModelConfig\n",
    "from hybrid_transformer.configs.trainer import TrainerConfig\n",
    "from hybrid_transformer.configs.logger import LoggerConfig\n",
    "\n",
    "from hybrid_transformer.utils.datasets.auto import AutoDataset\n",
    "from hybrid_transformer.utils.tokenizers.auto import AutoTokenizer\n",
    "from hybrid_transformer.models.auto import AutoModel\n",
    "from hybrid_transformer.utils.loggers.wandb import WandbLogger\n",
    "\n",
    "from hybrid_transformer.trainers.trainer import Trainer\n",
    "\n",
    "from hybrid_transformer.utils.objectives.guacamol.objective import GUACAMOL_TASKS\n",
    "from hybrid_transformer.utils.objectives.molecule_net.objective import MOLECULENET_REGRESSION_TASKS\n",
    "from hybrid_transformer.models.prediction import PREDICTION_MODEL_CONFIGS\n",
    "\n",
    "%load_ext autoreload\n",
    "%autoreload 2"
   ],
   "metadata": {
    "collapsed": false,
    "ExecuteTime": {
     "end_time": "2024-01-04T12:52:04.250376929Z",
     "start_time": "2024-01-04T12:52:04.222101506Z"
    }
   },
   "id": "388ac09832efcd15"
  },
  {
   "cell_type": "code",
   "execution_count": 42,
   "outputs": [
    {
     "name": "stdout",
     "output_type": "stream",
     "text": [
      "esol\n",
      "Downloading esol MoleculeNet task...\n",
      "Random seed set to 0\n",
      "Downloaded into ./data/molecule_net/esol\n",
      "freesolv\n",
      "Downloading freesolv MoleculeNet task...\n",
      "Random seed set to 0\n",
      "Downloaded into ./data/molecule_net/freesolv\n",
      "lipo\n",
      "Downloading lipo MoleculeNet task...\n",
      "Random seed set to 0\n",
      "Downloaded into ./data/molecule_net/lipo\n"
     ]
    }
   ],
   "source": [
    "\n",
    "task_config_path = lambda: f'./configs/tasks/molecule_net/{task}/config.json'\n",
    "TASKS = MOLECULENET_REGRESSION_TASKS\n",
    "\n",
    "\n",
    "for task in TASKS:\n",
    "    print(task)\n",
    "    task_config = TaskConfig.from_pretrained(task_config_path())\n",
    "    train_dataset = AutoDataset.from_config(task_config, split='train')\n",
    "    eval_dataset = AutoDataset.from_config(task_config, split='val')\n",
    "    test_dataset = AutoDataset.from_config(task_config, split='test')\n",
    "    tokenizer = AutoTokenizer.from_config(task_config)\n",
    "    if task == 'lipo':\n",
    "        break"
   ],
   "metadata": {
    "collapsed": false,
    "ExecuteTime": {
     "end_time": "2024-01-04T13:11:24.849664006Z",
     "start_time": "2024-01-04T13:11:23.345207194Z"
    }
   },
   "id": "63dbec52fc985c06"
  },
  {
   "cell_type": "code",
   "execution_count": 46,
   "outputs": [],
   "source": [
    "smiles_truncated = [smiles for smiles in train_dataset.data if len(smiles) < 126]\n"
   ],
   "metadata": {
    "collapsed": false,
    "ExecuteTime": {
     "end_time": "2024-01-04T13:12:36.115210107Z",
     "start_time": "2024-01-04T13:12:36.072999246Z"
    }
   },
   "id": "dcb1eaa8aad34d6c"
  },
  {
   "cell_type": "code",
   "execution_count": 48,
   "outputs": [
    {
     "data": {
      "text/plain": "3354"
     },
     "execution_count": 48,
     "metadata": {},
     "output_type": "execute_result"
    }
   ],
   "source": [
    "len(smiles_truncated)"
   ],
   "metadata": {
    "collapsed": false,
    "ExecuteTime": {
     "end_time": "2024-01-04T13:12:49.303884019Z",
     "start_time": "2024-01-04T13:12:49.275040200Z"
    }
   },
   "id": "9bbc0ea089d6a996"
  },
  {
   "cell_type": "code",
   "execution_count": 15,
   "outputs": [
    {
     "data": {
      "text/plain": "tensor(-1.8590e-09)"
     },
     "execution_count": 15,
     "metadata": {},
     "output_type": "execute_result"
    }
   ],
   "source": [
    "train_dataset.target.mean()"
   ],
   "metadata": {
    "collapsed": false,
    "ExecuteTime": {
     "end_time": "2024-01-04T12:52:59.852115099Z",
     "start_time": "2024-01-04T12:52:59.823936583Z"
    }
   },
   "id": "e216224a2609a898"
  },
  {
   "cell_type": "code",
   "execution_count": 16,
   "outputs": [
    {
     "data": {
      "text/plain": "tensor(1.6039)"
     },
     "execution_count": 16,
     "metadata": {},
     "output_type": "execute_result"
    }
   ],
   "source": [
    "test_dataset.target.max()"
   ],
   "metadata": {
    "collapsed": false,
    "ExecuteTime": {
     "end_time": "2024-01-04T12:53:11.319265505Z",
     "start_time": "2024-01-04T12:53:11.276900062Z"
    }
   },
   "id": "9a40cfe9bb9c68f4"
  },
  {
   "cell_type": "code",
   "execution_count": 17,
   "outputs": [
    {
     "data": {
      "text/plain": "tensor(-1.5694)"
     },
     "execution_count": 17,
     "metadata": {},
     "output_type": "execute_result"
    }
   ],
   "source": [
    "test_dataset.target.min()"
   ],
   "metadata": {
    "collapsed": false,
    "ExecuteTime": {
     "end_time": "2024-01-04T12:53:18.264987910Z",
     "start_time": "2024-01-04T12:53:18.236876329Z"
    }
   },
   "id": "82c5f504525c45ef"
  },
  {
   "cell_type": "code",
   "execution_count": 18,
   "outputs": [
    {
     "data": {
      "text/plain": "tensor(0.0384)"
     },
     "execution_count": 18,
     "metadata": {},
     "output_type": "execute_result"
    }
   ],
   "source": [
    "test_dataset.target.mean()"
   ],
   "metadata": {
    "collapsed": false,
    "ExecuteTime": {
     "end_time": "2024-01-04T12:53:28.109316717Z",
     "start_time": "2024-01-04T12:53:28.082490360Z"
    }
   },
   "id": "f18287010c5e9399"
  },
  {
   "cell_type": "code",
   "execution_count": 20,
   "outputs": [],
   "source": [
    "import pandas as pd\n",
    "\n",
    "data = pd.read_csv('SAMPL.csv')"
   ],
   "metadata": {
    "collapsed": false,
    "ExecuteTime": {
     "end_time": "2024-01-04T12:54:23.332402792Z",
     "start_time": "2024-01-04T12:54:23.303477313Z"
    }
   },
   "id": "20715cba162ffd91"
  },
  {
   "cell_type": "code",
   "execution_count": 22,
   "outputs": [],
   "source": [
    "target = data['calc']"
   ],
   "metadata": {
    "collapsed": false,
    "ExecuteTime": {
     "end_time": "2024-01-04T12:54:41.075716394Z",
     "start_time": "2024-01-04T12:54:41.049748504Z"
    }
   },
   "id": "c509f7a3d05afe75"
  },
  {
   "cell_type": "code",
   "execution_count": 24,
   "outputs": [
    {
     "data": {
      "text/plain": "-21.762"
     },
     "execution_count": 24,
     "metadata": {},
     "output_type": "execute_result"
    }
   ],
   "source": [
    "target.min()"
   ],
   "metadata": {
    "collapsed": false,
    "ExecuteTime": {
     "end_time": "2024-01-04T12:54:47.558120678Z",
     "start_time": "2024-01-04T12:54:47.520722871Z"
    }
   },
   "id": "d31b8fde625a5148"
  },
  {
   "cell_type": "code",
   "execution_count": 25,
   "outputs": [
    {
     "data": {
      "text/plain": "0.1414213562373095"
     },
     "execution_count": 25,
     "metadata": {},
     "output_type": "execute_result"
    }
   ],
   "source": [
    "import math\n",
    "\n",
    "math.sqrt(0.02)"
   ],
   "metadata": {
    "collapsed": false,
    "ExecuteTime": {
     "end_time": "2024-01-04T13:01:10.675265032Z",
     "start_time": "2024-01-04T13:01:10.631333694Z"
    }
   },
   "id": "c96f5e953a128e21"
  },
  {
   "cell_type": "code",
   "execution_count": 32,
   "outputs": [
    {
     "data": {
      "text/plain": "('./data/molecule_net/esol/raw.csv',\n <http.client.HTTPMessage at 0x7f1de78bc550>)"
     },
     "execution_count": 32,
     "metadata": {},
     "output_type": "execute_result"
    }
   ],
   "source": [
    "from urllib.request import urlretrieve\n",
    "\n",
    "# https://moleculenet.org/datasets-1\n",
    "\n",
    "\n",
    "\n"
   ],
   "metadata": {
    "collapsed": false,
    "ExecuteTime": {
     "end_time": "2024-01-04T13:08:40.033268017Z",
     "start_time": "2024-01-04T13:08:37.758184041Z"
    }
   },
   "id": "450be4ccceee5c1d"
  },
  {
   "cell_type": "code",
   "execution_count": 39,
   "outputs": [],
   "source": [
    "import pandas as pd\n",
    "\n"
   ],
   "metadata": {
    "collapsed": false,
    "ExecuteTime": {
     "end_time": "2024-01-04T13:10:07.951765387Z",
     "start_time": "2024-01-04T13:10:07.923021305Z"
    }
   },
   "id": "655b63a18d70d0be"
  },
  {
   "cell_type": "code",
   "execution_count": 40,
   "outputs": [],
   "source": [
    "data = df['smiles']"
   ],
   "metadata": {
    "collapsed": false,
    "ExecuteTime": {
     "end_time": "2024-01-04T13:10:08.427391609Z",
     "start_time": "2024-01-04T13:10:08.385669929Z"
    }
   },
   "id": "e9df05ede70417ce"
  },
  {
   "cell_type": "code",
   "execution_count": 41,
   "outputs": [],
   "source": [
    "target = df['measured log solubility in mols per litre']"
   ],
   "metadata": {
    "collapsed": false,
    "ExecuteTime": {
     "end_time": "2024-01-04T13:10:08.733839534Z",
     "start_time": "2024-01-04T13:10:08.706927934Z"
    }
   },
   "id": "e7f4a7882492d8b8"
  },
  {
   "cell_type": "code",
   "execution_count": 97,
   "outputs": [],
   "source": [
    "MOLECULENET_REGRESSION_TASKS = {\n",
    "    'esol': 'https://deepchemdata.s3-us-west-1.amazonaws.com/datasets/delaney-processed.csv',\n",
    "    'freesolv': 'https://deepchemdata.s3-us-west-1.amazonaws.com/datasets/SAMPL.csv',\n",
    "    'lipo': 'https://deepchemdata.s3-us-west-1.amazonaws.com/datasets/Lipophilicity.csv'\n",
    "}\n",
    "\n",
    "                         \n",
    "def load_freesolv_dataset():\n",
    "    data_path = './data/molecule_net/'\n",
    "    target_label = 'freesolv'\n",
    "    data_path = os.path.join(data_path, target_label)\n",
    "    filename = os.path.join(data_path, 'raw.csv')\n",
    "    os.makedirs(data_path, exist_ok=True)\n",
    "    urlretrieve(MOLECULENET_REGRESSION_TASKS[target_label], filename)\n",
    "    df = pd.read_csv(filename)\n",
    "    df.rename(columns={\"smiles\": \"X\", \"calc\": \"y\"}, inplace=True)\n",
    "    #df.drop(df.columns.difference(['X','y']), 1, inplace=True)\n",
    "    return df.loc[:, ['X', 'y']]\n",
    "\n",
    "def load_esol_dataset():\n",
    "    data_path = './data/molecule_net/'\n",
    "    target_label = 'esol'\n",
    "    data_path = os.path.join(data_path, target_label)\n",
    "    filename = os.path.join(data_path, 'raw.csv')\n",
    "    os.makedirs(data_path, exist_ok=True)\n",
    "    urlretrieve(MOLECULENET_REGRESSION_TASKS[target_label], filename)\n",
    "    df = pd.read_csv(filename)\n",
    "    df.rename(columns={\"smiles\": \"X\", \"measured log solubility in mols per litre\": \"y\"}, inplace=True)\n",
    "    return df.loc[:, ['X', 'y']]\n",
    "\n",
    "def load_lipo_dataset():\n",
    "    data_path = './data/molecule_net/'\n",
    "    target_label = 'lipo'\n",
    "    data_path = os.path.join(data_path, target_label)\n",
    "    filename = os.path.join(data_path, 'raw.csv')\n",
    "    os.makedirs(data_path, exist_ok=True)\n",
    "    urlretrieve(MOLECULENET_REGRESSION_TASKS[target_label], filename)\n",
    "    df = pd.read_csv(filename)\n",
    "    return df"
   ],
   "metadata": {
    "collapsed": false,
    "ExecuteTime": {
     "end_time": "2024-01-04T13:40:48.731784034Z",
     "start_time": "2024-01-04T13:40:48.697710878Z"
    }
   },
   "id": "aacf40c1212a55a1"
  },
  {
   "cell_type": "code",
   "execution_count": 98,
   "outputs": [],
   "source": [
    "df = load_lipo_dataset()"
   ],
   "metadata": {
    "collapsed": false,
    "ExecuteTime": {
     "end_time": "2024-01-04T13:40:54.193786428Z",
     "start_time": "2024-01-04T13:40:49.011360112Z"
    }
   },
   "id": "e389f4340549ddc6"
  },
  {
   "cell_type": "code",
   "execution_count": 99,
   "outputs": [
    {
     "data": {
      "text/plain": "      CMPD_CHEMBLID   exp                                             smiles\n0      CHEMBL596271  3.54            Cn1c(CN2CCN(CC2)c3ccc(Cl)cc3)nc4ccccc14\n1     CHEMBL1951080 -1.18  COc1cc(OC)c(cc1NC(=O)CSCC(=O)O)S(=O)(=O)N2C(C)...\n2        CHEMBL1771  3.69             COC(=O)[C@@H](N1CCc2sccc2C1)c3ccccc3Cl\n3      CHEMBL234951  3.37  OC[C@H](O)CN1C(=O)C(Cc2ccccc12)NC(=O)c3cc4cc(C...\n4      CHEMBL565079  3.10  Cc1cccc(C[C@H](NC(=O)c2cc(nn2C)C(C)(C)C)C(=O)N...\n...             ...   ...                                                ...\n4195   CHEMBL496929  3.85            OCCc1ccc(NC(=O)c2cc3cc(Cl)ccc3[nH]2)cc1\n4196   CHEMBL199147  3.21  CCN(C1CCN(CCC(c2ccc(F)cc2)c3ccc(F)cc3)CC1)C(=O...\n4197    CHEMBL15932  2.10                                 COc1cccc2[nH]ncc12\n4198   CHEMBL558748  2.65                    Clc1ccc2ncccc2c1C(=O)NCC3CCCCC3\n4199   CHEMBL237889  2.70                 CN1C(=O)C=C(CCc2ccc3ccccc3c2)N=C1N\n\n[4200 rows x 3 columns]",
      "text/html": "<div>\n<style scoped>\n    .dataframe tbody tr th:only-of-type {\n        vertical-align: middle;\n    }\n\n    .dataframe tbody tr th {\n        vertical-align: top;\n    }\n\n    .dataframe thead th {\n        text-align: right;\n    }\n</style>\n<table border=\"1\" class=\"dataframe\">\n  <thead>\n    <tr style=\"text-align: right;\">\n      <th></th>\n      <th>CMPD_CHEMBLID</th>\n      <th>exp</th>\n      <th>smiles</th>\n    </tr>\n  </thead>\n  <tbody>\n    <tr>\n      <th>0</th>\n      <td>CHEMBL596271</td>\n      <td>3.54</td>\n      <td>Cn1c(CN2CCN(CC2)c3ccc(Cl)cc3)nc4ccccc14</td>\n    </tr>\n    <tr>\n      <th>1</th>\n      <td>CHEMBL1951080</td>\n      <td>-1.18</td>\n      <td>COc1cc(OC)c(cc1NC(=O)CSCC(=O)O)S(=O)(=O)N2C(C)...</td>\n    </tr>\n    <tr>\n      <th>2</th>\n      <td>CHEMBL1771</td>\n      <td>3.69</td>\n      <td>COC(=O)[C@@H](N1CCc2sccc2C1)c3ccccc3Cl</td>\n    </tr>\n    <tr>\n      <th>3</th>\n      <td>CHEMBL234951</td>\n      <td>3.37</td>\n      <td>OC[C@H](O)CN1C(=O)C(Cc2ccccc12)NC(=O)c3cc4cc(C...</td>\n    </tr>\n    <tr>\n      <th>4</th>\n      <td>CHEMBL565079</td>\n      <td>3.10</td>\n      <td>Cc1cccc(C[C@H](NC(=O)c2cc(nn2C)C(C)(C)C)C(=O)N...</td>\n    </tr>\n    <tr>\n      <th>...</th>\n      <td>...</td>\n      <td>...</td>\n      <td>...</td>\n    </tr>\n    <tr>\n      <th>4195</th>\n      <td>CHEMBL496929</td>\n      <td>3.85</td>\n      <td>OCCc1ccc(NC(=O)c2cc3cc(Cl)ccc3[nH]2)cc1</td>\n    </tr>\n    <tr>\n      <th>4196</th>\n      <td>CHEMBL199147</td>\n      <td>3.21</td>\n      <td>CCN(C1CCN(CCC(c2ccc(F)cc2)c3ccc(F)cc3)CC1)C(=O...</td>\n    </tr>\n    <tr>\n      <th>4197</th>\n      <td>CHEMBL15932</td>\n      <td>2.10</td>\n      <td>COc1cccc2[nH]ncc12</td>\n    </tr>\n    <tr>\n      <th>4198</th>\n      <td>CHEMBL558748</td>\n      <td>2.65</td>\n      <td>Clc1ccc2ncccc2c1C(=O)NCC3CCCCC3</td>\n    </tr>\n    <tr>\n      <th>4199</th>\n      <td>CHEMBL237889</td>\n      <td>2.70</td>\n      <td>CN1C(=O)C=C(CCc2ccc3ccccc3c2)N=C1N</td>\n    </tr>\n  </tbody>\n</table>\n<p>4200 rows × 3 columns</p>\n</div>"
     },
     "execution_count": 99,
     "metadata": {},
     "output_type": "execute_result"
    }
   ],
   "source": [
    "df"
   ],
   "metadata": {
    "collapsed": false,
    "ExecuteTime": {
     "end_time": "2024-01-04T13:40:54.235949415Z",
     "start_time": "2024-01-04T13:40:54.194422825Z"
    }
   },
   "id": "629b7c0593e35219"
  },
  {
   "cell_type": "code",
   "execution_count": 64,
   "outputs": [],
   "source": [
    "from sklearn.model_selection import train_test_split\n",
    "\n",
    "df, test = train_test_split(df, test_size=0.1, random_state=0)\n",
    "train, val = train_test_split(df, test_size=0.1 / 0.9, random_state=0) # correct for df size change"
   ],
   "metadata": {
    "collapsed": false,
    "ExecuteTime": {
     "end_time": "2024-01-04T13:34:36.659098163Z",
     "start_time": "2024-01-04T13:34:36.613072164Z"
    }
   },
   "id": "9e07f09006b01960"
  },
  {
   "cell_type": "code",
   "execution_count": 66,
   "outputs": [
    {
     "data": {
      "text/plain": "512"
     },
     "execution_count": 66,
     "metadata": {},
     "output_type": "execute_result"
    }
   ],
   "source": [
    "len(train)"
   ],
   "metadata": {
    "collapsed": false,
    "ExecuteTime": {
     "end_time": "2024-01-04T13:34:43.247539886Z",
     "start_time": "2024-01-04T13:34:43.203908588Z"
    }
   },
   "id": "38d85eb740ae9408"
  },
  {
   "cell_type": "code",
   "execution_count": 67,
   "outputs": [
    {
     "data": {
      "text/plain": "65"
     },
     "execution_count": 67,
     "metadata": {},
     "output_type": "execute_result"
    }
   ],
   "source": [
    "len(val)"
   ],
   "metadata": {
    "collapsed": false,
    "ExecuteTime": {
     "end_time": "2024-01-04T13:34:48.726372948Z",
     "start_time": "2024-01-04T13:34:48.697153560Z"
    }
   },
   "id": "99a5adabf392b9f5"
  },
  {
   "cell_type": "code",
   "execution_count": 68,
   "outputs": [
    {
     "data": {
      "text/plain": "65"
     },
     "execution_count": 68,
     "metadata": {},
     "output_type": "execute_result"
    }
   ],
   "source": [
    "len(test)"
   ],
   "metadata": {
    "collapsed": false,
    "ExecuteTime": {
     "end_time": "2024-01-04T13:34:52.464950942Z",
     "start_time": "2024-01-04T13:34:52.435983575Z"
    }
   },
   "id": "141ee81e7df2b889"
  },
  {
   "cell_type": "code",
   "execution_count": 102,
   "outputs": [],
   "source": [
    "import deepchem as dc\n",
    "from deepchem.feat.molecule_featurizers.raw_featurizer import RawFeaturizer\n",
    "\n",
    "featurizer = RawFeaturizer(smiles=True)\n",
    "splitter = 'random'\n",
    "task, datasets, transform = dc.molnet.load_delaney(featurizer=featurizer, splitter=splitter)"
   ],
   "metadata": {
    "collapsed": false,
    "ExecuteTime": {
     "end_time": "2024-01-04T13:47:19.539128313Z",
     "start_time": "2024-01-04T13:47:19.493923880Z"
    }
   },
   "id": "9cf12151fd88e6ce"
  },
  {
   "cell_type": "code",
   "execution_count": 107,
   "outputs": [
    {
     "ename": "AttributeError",
     "evalue": "'NormalizationTransformer' object has no attribute 'mean'",
     "output_type": "error",
     "traceback": [
      "\u001B[0;31m---------------------------------------------------------------------------\u001B[0m",
      "\u001B[0;31mAttributeError\u001B[0m                            Traceback (most recent call last)",
      "Cell \u001B[0;32mIn[107], line 1\u001B[0m\n\u001B[0;32m----> 1\u001B[0m \u001B[43mtransform\u001B[49m\u001B[43m[\u001B[49m\u001B[38;5;241;43m0\u001B[39;49m\u001B[43m]\u001B[49m\u001B[38;5;241;43m.\u001B[39;49m\u001B[43mmean\u001B[49m()\n",
      "\u001B[0;31mAttributeError\u001B[0m: 'NormalizationTransformer' object has no attribute 'mean'"
     ]
    }
   ],
   "source": [
    "transform[0].mean()"
   ],
   "metadata": {
    "collapsed": false,
    "ExecuteTime": {
     "end_time": "2024-01-04T13:47:41.247582244Z",
     "start_time": "2024-01-04T13:47:41.204070837Z"
    }
   },
   "id": "ccb9cd12417b4ae2"
  },
  {
   "cell_type": "code",
   "execution_count": 108,
   "outputs": [
    {
     "ename": "TypeError",
     "evalue": "object of type 'NoneType' has no len()",
     "output_type": "error",
     "traceback": [
      "\u001B[0;31m---------------------------------------------------------------------------\u001B[0m",
      "\u001B[0;31mTypeError\u001B[0m                                 Traceback (most recent call last)",
      "Cell \u001B[0;32mIn[108], line 1\u001B[0m\n\u001B[0;32m----> 1\u001B[0m \u001B[38;5;28;43mlen\u001B[39;49m\u001B[43m(\u001B[49m\u001B[38;5;28;43;01mNone\u001B[39;49;00m\u001B[43m)\u001B[49m\n",
      "\u001B[0;31mTypeError\u001B[0m: object of type 'NoneType' has no len()"
     ]
    }
   ],
   "source": [
    "len(None)"
   ],
   "metadata": {
    "collapsed": false,
    "ExecuteTime": {
     "end_time": "2024-01-04T14:15:52.259493824Z",
     "start_time": "2024-01-04T14:15:51.993972672Z"
    }
   },
   "id": "a9428f115d3402a9"
  },
  {
   "cell_type": "code",
   "execution_count": null,
   "outputs": [],
   "source": [],
   "metadata": {
    "collapsed": false
   },
   "id": "3524ec45ad099010"
  }
 ],
 "metadata": {
  "kernelspec": {
   "display_name": "Python 3",
   "language": "python",
   "name": "python3"
  },
  "language_info": {
   "codemirror_mode": {
    "name": "ipython",
    "version": 2
   },
   "file_extension": ".py",
   "mimetype": "text/x-python",
   "name": "python",
   "nbconvert_exporter": "python",
   "pygments_lexer": "ipython2",
   "version": "2.7.6"
  }
 },
 "nbformat": 4,
 "nbformat_minor": 5
}
