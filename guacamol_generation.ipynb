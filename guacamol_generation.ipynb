{
 "cells": [
  {
   "cell_type": "code",
   "execution_count": 92,
   "metadata": {},
   "outputs": [],
   "source": [
    "class Args:\n",
    "    pass\n",
    "args = Args()\n",
    "setattr(args, \"path_to_model_config\", \"/home/jano1906/git/jointformer/configs/models/jointformer\")      # Not clear which configs to choose\n",
    "setattr(args, \"path_to_task_config\", \"/home/jano1906/git/jointformer/configs/tasks/guacamol/physchem\")  # Not clear which configs to choose"
   ]
  },
  {
   "cell_type": "code",
   "execution_count": 93,
   "metadata": {},
   "outputs": [],
   "source": [
    "from jointformer.configs.task import TaskConfig\n",
    "from jointformer.configs.model import ModelConfig\n",
    "\n",
    "from jointformer.utils.tokenizers.auto import AutoTokenizer\n",
    "from jointformer.models.auto import AutoModel\n",
    "from guacamol.assess_distribution_learning import assess_distribution_learning, DistributionMatchingGenerator"
   ]
  },
  {
   "cell_type": "code",
   "execution_count": 94,
   "metadata": {},
   "outputs": [],
   "source": [
    "model_config = ModelConfig.from_pretrained(args.path_to_model_config)\n",
    "task_config = TaskConfig.from_pretrained(args.path_to_task_config)"
   ]
  },
  {
   "cell_type": "code",
   "execution_count": 71,
   "metadata": {},
   "outputs": [],
   "source": [
    "from jointformer.models.jointformer import Jointformer\n",
    "model: Jointformer = AutoModel.from_config(model_config) # NOTE: model is not using caching for generation\n",
    "tokenizer = AutoTokenizer.from_config(task_config)"
   ]
  },
  {
   "cell_type": "code",
   "execution_count": 72,
   "metadata": {},
   "outputs": [],
   "source": [
    "model = model.cuda()\n",
    "model = model.eval()"
   ]
  },
  {
   "cell_type": "code",
   "execution_count": 77,
   "metadata": {},
   "outputs": [
    {
     "data": {
      "text/plain": [
       "SmilesTokenizer(name_or_path='', vocab_size=591, model_max_length=1000000000000000019884624838656, is_fast=False, padding_side='right', truncation_side='right', special_tokens={'unk_token': '[UNK]', 'sep_token': '[EOS]', 'pad_token': '[PAD]', 'cls_token': '[BOS]', 'mask_token': '[MASK]'}, clean_up_tokenization_spaces=True),  added_tokens_decoder={\n",
       "\t0: AddedToken(\"[PAD]\", rstrip=False, lstrip=False, single_word=False, normalized=False, special=True),\n",
       "\t11: AddedToken(\"[UNK]\", rstrip=False, lstrip=False, single_word=False, normalized=False, special=True),\n",
       "\t14: AddedToken(\"[MASK]\", rstrip=False, lstrip=False, single_word=False, normalized=False, special=True),\n",
       "\t591: AddedToken(\"[EOS]\", rstrip=False, lstrip=False, single_word=False, normalized=False, special=True),\n",
       "\t592: AddedToken(\"[BOS]\", rstrip=False, lstrip=False, single_word=False, normalized=False, special=True),\n",
       "}"
      ]
     },
     "execution_count": 77,
     "metadata": {},
     "output_type": "execute_result"
    }
   ],
   "source": [
    "tokenizer # NOTE: tokenizer doesn't expose eos_token_id properties\n",
    "# NOTE: model does not contain which tokenizer it is compatible with"
   ]
  },
  {
   "cell_type": "code",
   "execution_count": 86,
   "metadata": {},
   "outputs": [],
   "source": [
    "output = model.generate(592, 591, 0, 25, 10, device=\"cuda\")"
   ]
  },
  {
   "cell_type": "code",
   "execution_count": 87,
   "metadata": {},
   "outputs": [
    {
     "data": {
      "text/plain": [
       "['[Te][Zr+3][NH+][Pd+][PH3+][13c][C@@H][K][BrH+][Cd+][Al+2][V][YH][64Cu][Nb][SH5][Y+3][PH4+][Os][PH4][Zr+3][Fe+3][Ag]',\n",
       " '[Bi+3]F[At][At][Cr+][BaH][Pt][Pd][PH5][La][N+3][S@@]SS[W+4][Pb][N-3][Rb+]))[P+]1',\n",
       " '[V+4][O][unused2][Cs+][Tl+2][2NH][14cH][NH3+2][Cu-2][B+3][13cH][Os][Hg+2][Co+3][Ru+][Er+3][te][AcH][SiH3][Pb+3][Br][SiH3]',\n",
       " 'Br[14CH3][P+3][N-][N+2][Nb+5][NH2-][Pd-][Ca+][Zn][Ni-][Sb+3]-%21[Pt-2]',\n",
       " '[nH][SiH4]\\\\[Al-][Be+2][Be+2][SH3+][Pd][B+3][Au+3][Pd-][Nb][Al-][Al-]',\n",
       " '[Cr+3][nH+][unused1][Ho+3]5[Fr][As][V+5][124I-][Rh+2]-[Y+3][N-]2[IrH][Cu+3][Pr][cH+][1H][1H][P@@H][32P][Be]',\n",
       " '[SH5][Ni+3][TaH3][PH+][Yb+2][Cd+][S-][Ni-][c-]%24[14CH3][CuH2-][14C@H]3[Pb+4][SH2][Cr][14CH3][118Sn]([Dy][Li+]s',\n",
       " '[Ho]([AsH2][AlH2+][Cu+3][SbH2][Ca+2][N@@][V+3][SiH4+][SiH4+][Sb][Nb+3][Nd][Nd][NH4+][AsH+][PH-][ArH][Y+3][Br+2][NH+3]',\n",
       " '[14C@H][13cH][Yb+2][V]%14[13C][LaH][GeH2][CH2-][Nd+]%21[Pd][15OH2][18O][18O][Re][Th+4][Y][Al+3][Sc][P@@][Mo+2][Cs]',\n",
       " '[Cd+][Sm+3][Os][Os][18O][Sb+5][Ag+2][CH3+][Sn+3]%13[2NH][I+][Ir+][OH-][18OH][Sb+][Si+2][15NH2]Cl[Nb+5][Nb+5][Se-][s+]']"
      ]
     },
     "execution_count": 87,
     "metadata": {},
     "output_type": "execute_result"
    }
   ],
   "source": [
    "tokenizer.decode(output) # what to do with [UNK] tokens?"
   ]
  },
  {
   "cell_type": "code",
   "execution_count": 91,
   "metadata": {},
   "outputs": [],
   "source": [
    "from typing import List\n",
    "\n",
    "\n",
    "class DistributionMatchingGeneratorWrapper(DistributionMatchingGenerator):\n",
    "    def __init__(self, model):\n",
    "        super().__init__()\n",
    "        self.model = model\n",
    "    \n",
    "    def generate(self, number_samples: int) -> List[str]:\n",
    "        return model.generate(592, 591, 0, 25, number_samples, device=\"cuda\") #unclear how long sequences to generate"
   ]
  },
  {
   "cell_type": "code",
   "execution_count": 90,
   "metadata": {},
   "outputs": [
    {
     "ename": "KeyboardInterrupt",
     "evalue": "",
     "output_type": "error",
     "traceback": [
      "\u001b[0;31m---------------------------------------------------------------------------\u001b[0m",
      "\u001b[0;31mKeyboardInterrupt\u001b[0m                         Traceback (most recent call last)",
      "Cell \u001b[0;32mIn[90], line 1\u001b[0m\n\u001b[0;32m----> 1\u001b[0m \u001b[43massess_distribution_learning\u001b[49m\u001b[43m(\u001b[49m\u001b[43mDistributionMatchingGeneratorWrapper\u001b[49m\u001b[43m(\u001b[49m\u001b[43mmodel\u001b[49m\u001b[43m)\u001b[49m\u001b[43m,\u001b[49m\u001b[43m \u001b[49m\u001b[38;5;124;43m\"\u001b[39;49m\u001b[38;5;124;43m/home/jano1906/datasets/guacamol/guacamol_v1_train.smiles\u001b[39;49m\u001b[38;5;124;43m\"\u001b[39;49m\u001b[43m)\u001b[49m\n",
      "File \u001b[0;32m~/python/miniforge3/envs/jointformer-experiments/lib/python3.9/site-packages/guacamol/assess_distribution_learning.py:30\u001b[0m, in \u001b[0;36massess_distribution_learning\u001b[0;34m(model, chembl_training_file, json_output_file, benchmark_version)\u001b[0m\n\u001b[1;32m     17\u001b[0m \u001b[38;5;28;01mdef\u001b[39;00m \u001b[38;5;21massess_distribution_learning\u001b[39m(model: DistributionMatchingGenerator,\n\u001b[1;32m     18\u001b[0m                                  chembl_training_file: \u001b[38;5;28mstr\u001b[39m,\n\u001b[1;32m     19\u001b[0m                                  json_output_file\u001b[38;5;241m=\u001b[39m\u001b[38;5;124m'\u001b[39m\u001b[38;5;124moutput_distribution_learning.json\u001b[39m\u001b[38;5;124m'\u001b[39m,\n\u001b[1;32m     20\u001b[0m                                  benchmark_version\u001b[38;5;241m=\u001b[39m\u001b[38;5;124m'\u001b[39m\u001b[38;5;124mv1\u001b[39m\u001b[38;5;124m'\u001b[39m) \u001b[38;5;241m-\u001b[39m\u001b[38;5;241m>\u001b[39m \u001b[38;5;28;01mNone\u001b[39;00m:\n\u001b[1;32m     21\u001b[0m \u001b[38;5;250m    \u001b[39m\u001b[38;5;124;03m\"\"\"\u001b[39;00m\n\u001b[1;32m     22\u001b[0m \u001b[38;5;124;03m    Assesses a distribution-matching model for de novo molecule design.\u001b[39;00m\n\u001b[1;32m     23\u001b[0m \n\u001b[0;32m   (...)\u001b[0m\n\u001b[1;32m     28\u001b[0m \u001b[38;5;124;03m        benchmark_version: which benchmark suite to execute\u001b[39;00m\n\u001b[1;32m     29\u001b[0m \u001b[38;5;124;03m    \"\"\"\u001b[39;00m\n\u001b[0;32m---> 30\u001b[0m     \u001b[43m_assess_distribution_learning\u001b[49m\u001b[43m(\u001b[49m\u001b[43mmodel\u001b[49m\u001b[38;5;241;43m=\u001b[39;49m\u001b[43mmodel\u001b[49m\u001b[43m,\u001b[49m\n\u001b[1;32m     31\u001b[0m \u001b[43m                                  \u001b[49m\u001b[43mchembl_training_file\u001b[49m\u001b[38;5;241;43m=\u001b[39;49m\u001b[43mchembl_training_file\u001b[49m\u001b[43m,\u001b[49m\n\u001b[1;32m     32\u001b[0m \u001b[43m                                  \u001b[49m\u001b[43mjson_output_file\u001b[49m\u001b[38;5;241;43m=\u001b[39;49m\u001b[43mjson_output_file\u001b[49m\u001b[43m,\u001b[49m\n\u001b[1;32m     33\u001b[0m \u001b[43m                                  \u001b[49m\u001b[43mbenchmark_version\u001b[49m\u001b[38;5;241;43m=\u001b[39;49m\u001b[43mbenchmark_version\u001b[49m\u001b[43m,\u001b[49m\n\u001b[1;32m     34\u001b[0m \u001b[43m                                  \u001b[49m\u001b[43mnumber_samples\u001b[49m\u001b[38;5;241;43m=\u001b[39;49m\u001b[38;5;241;43m10000\u001b[39;49m\u001b[43m)\u001b[49m\n",
      "File \u001b[0;32m~/python/miniforge3/envs/jointformer-experiments/lib/python3.9/site-packages/guacamol/assess_distribution_learning.py:47\u001b[0m, in \u001b[0;36m_assess_distribution_learning\u001b[0;34m(model, chembl_training_file, json_output_file, benchmark_version, number_samples)\u001b[0m\n\u001b[1;32m     42\u001b[0m \u001b[38;5;250m\u001b[39m\u001b[38;5;124;03m\"\"\"\u001b[39;00m\n\u001b[1;32m     43\u001b[0m \u001b[38;5;124;03mInternal equivalent to assess_distribution_learning, but allows for a flexible number of samples.\u001b[39;00m\n\u001b[1;32m     44\u001b[0m \u001b[38;5;124;03mTo call directly only for testing.\u001b[39;00m\n\u001b[1;32m     45\u001b[0m \u001b[38;5;124;03m\"\"\"\u001b[39;00m\n\u001b[1;32m     46\u001b[0m logger\u001b[38;5;241m.\u001b[39minfo(\u001b[38;5;124mf\u001b[39m\u001b[38;5;124m'\u001b[39m\u001b[38;5;124mBenchmarking distribution learning, version \u001b[39m\u001b[38;5;132;01m{\u001b[39;00mbenchmark_version\u001b[38;5;132;01m}\u001b[39;00m\u001b[38;5;124m'\u001b[39m)\n\u001b[0;32m---> 47\u001b[0m benchmarks \u001b[38;5;241m=\u001b[39m \u001b[43mdistribution_learning_benchmark_suite\u001b[49m\u001b[43m(\u001b[49m\u001b[43mchembl_file_path\u001b[49m\u001b[38;5;241;43m=\u001b[39;49m\u001b[43mchembl_training_file\u001b[49m\u001b[43m,\u001b[49m\n\u001b[1;32m     48\u001b[0m \u001b[43m                                                   \u001b[49m\u001b[43mversion_name\u001b[49m\u001b[38;5;241;43m=\u001b[39;49m\u001b[43mbenchmark_version\u001b[49m\u001b[43m,\u001b[49m\n\u001b[1;32m     49\u001b[0m \u001b[43m                                                   \u001b[49m\u001b[43mnumber_samples\u001b[49m\u001b[38;5;241;43m=\u001b[39;49m\u001b[43mnumber_samples\u001b[49m\u001b[43m)\u001b[49m\n\u001b[1;32m     51\u001b[0m results \u001b[38;5;241m=\u001b[39m _evaluate_distribution_learning_benchmarks(model\u001b[38;5;241m=\u001b[39mmodel, benchmarks\u001b[38;5;241m=\u001b[39mbenchmarks)\n\u001b[1;32m     53\u001b[0m benchmark_results: Dict[\u001b[38;5;28mstr\u001b[39m, Any] \u001b[38;5;241m=\u001b[39m OrderedDict()\n",
      "File \u001b[0;32m~/python/miniforge3/envs/jointformer-experiments/lib/python3.9/site-packages/guacamol/benchmark_suites.py:41\u001b[0m, in \u001b[0;36mdistribution_learning_benchmark_suite\u001b[0;34m(chembl_file_path, version_name, number_samples)\u001b[0m\n\u001b[1;32m     39\u001b[0m \u001b[38;5;66;03m# For distribution-learning, v1 and v2 are identical\u001b[39;00m\n\u001b[1;32m     40\u001b[0m \u001b[38;5;28;01mif\u001b[39;00m version_name \u001b[38;5;241m==\u001b[39m \u001b[38;5;124m'\u001b[39m\u001b[38;5;124mv1\u001b[39m\u001b[38;5;124m'\u001b[39m \u001b[38;5;129;01mor\u001b[39;00m version_name \u001b[38;5;241m==\u001b[39m \u001b[38;5;124m'\u001b[39m\u001b[38;5;124mv2\u001b[39m\u001b[38;5;124m'\u001b[39m:\n\u001b[0;32m---> 41\u001b[0m     \u001b[38;5;28;01mreturn\u001b[39;00m \u001b[43mdistribution_learning_suite_v1\u001b[49m\u001b[43m(\u001b[49m\u001b[43mchembl_file_path\u001b[49m\u001b[38;5;241;43m=\u001b[39;49m\u001b[43mchembl_file_path\u001b[49m\u001b[43m,\u001b[49m\u001b[43m \u001b[49m\u001b[43mnumber_samples\u001b[49m\u001b[38;5;241;43m=\u001b[39;49m\u001b[43mnumber_samples\u001b[49m\u001b[43m)\u001b[49m\n\u001b[1;32m     43\u001b[0m \u001b[38;5;28;01mraise\u001b[39;00m \u001b[38;5;167;01mException\u001b[39;00m(\u001b[38;5;124mf\u001b[39m\u001b[38;5;124m'\u001b[39m\u001b[38;5;124mDistribution-learning benchmark suite \u001b[39m\u001b[38;5;124m\"\u001b[39m\u001b[38;5;132;01m{\u001b[39;00mversion_name\u001b[38;5;132;01m}\u001b[39;00m\u001b[38;5;124m\"\u001b[39m\u001b[38;5;124m does not exist.\u001b[39m\u001b[38;5;124m'\u001b[39m)\n",
      "File \u001b[0;32m~/python/miniforge3/envs/jointformer-experiments/lib/python3.9/site-packages/guacamol/benchmark_suites.py:158\u001b[0m, in \u001b[0;36mdistribution_learning_suite_v1\u001b[0;34m(chembl_file_path, number_samples)\u001b[0m\n\u001b[1;32m    144\u001b[0m \u001b[38;5;28;01mdef\u001b[39;00m \u001b[38;5;21mdistribution_learning_suite_v1\u001b[39m(chembl_file_path: \u001b[38;5;28mstr\u001b[39m, number_samples: \u001b[38;5;28mint\u001b[39m \u001b[38;5;241m=\u001b[39m \u001b[38;5;241m10000\u001b[39m) \u001b[38;5;241m-\u001b[39m\u001b[38;5;241m>\u001b[39m \\\n\u001b[1;32m    145\u001b[0m         List[DistributionLearningBenchmark]:\n\u001b[1;32m    146\u001b[0m \u001b[38;5;250m    \u001b[39m\u001b[38;5;124;03m\"\"\"\u001b[39;00m\n\u001b[1;32m    147\u001b[0m \u001b[38;5;124;03m    Suite of distribution learning benchmarks, v1.\u001b[39;00m\n\u001b[1;32m    148\u001b[0m \n\u001b[0;32m   (...)\u001b[0m\n\u001b[1;32m    153\u001b[0m \u001b[38;5;124;03m        List of benchmarks, version 1\u001b[39;00m\n\u001b[1;32m    154\u001b[0m \u001b[38;5;124;03m    \"\"\"\u001b[39;00m\n\u001b[1;32m    155\u001b[0m     \u001b[38;5;28;01mreturn\u001b[39;00m [\n\u001b[1;32m    156\u001b[0m         ValidityBenchmark(number_samples\u001b[38;5;241m=\u001b[39mnumber_samples),\n\u001b[1;32m    157\u001b[0m         UniquenessBenchmark(number_samples\u001b[38;5;241m=\u001b[39mnumber_samples),\n\u001b[0;32m--> 158\u001b[0m         \u001b[43mnovelty_benchmark\u001b[49m\u001b[43m(\u001b[49m\u001b[43mtraining_set_file\u001b[49m\u001b[38;5;241;43m=\u001b[39;49m\u001b[43mchembl_file_path\u001b[49m\u001b[43m,\u001b[49m\u001b[43m \u001b[49m\u001b[43mnumber_samples\u001b[49m\u001b[38;5;241;43m=\u001b[39;49m\u001b[43mnumber_samples\u001b[49m\u001b[43m)\u001b[49m,\n\u001b[1;32m    159\u001b[0m         kldiv_benchmark(training_set_file\u001b[38;5;241m=\u001b[39mchembl_file_path, number_samples\u001b[38;5;241m=\u001b[39mnumber_samples),\n\u001b[1;32m    160\u001b[0m         frechet_benchmark(training_set_file\u001b[38;5;241m=\u001b[39mchembl_file_path, number_samples\u001b[38;5;241m=\u001b[39mnumber_samples)\n\u001b[1;32m    161\u001b[0m     ]\n",
      "File \u001b[0;32m~/python/miniforge3/envs/jointformer-experiments/lib/python3.9/site-packages/guacamol/standard_benchmarks.py:267\u001b[0m, in \u001b[0;36mnovelty_benchmark\u001b[0;34m(training_set_file, number_samples)\u001b[0m\n\u001b[1;32m    265\u001b[0m \u001b[38;5;28;01mdef\u001b[39;00m \u001b[38;5;21mnovelty_benchmark\u001b[39m(training_set_file: \u001b[38;5;28mstr\u001b[39m, number_samples: \u001b[38;5;28mint\u001b[39m) \u001b[38;5;241m-\u001b[39m\u001b[38;5;241m>\u001b[39m DistributionLearningBenchmark:\n\u001b[1;32m    266\u001b[0m     smiles_list \u001b[38;5;241m=\u001b[39m [s\u001b[38;5;241m.\u001b[39mstrip() \u001b[38;5;28;01mfor\u001b[39;00m s \u001b[38;5;129;01min\u001b[39;00m \u001b[38;5;28mopen\u001b[39m(training_set_file)\u001b[38;5;241m.\u001b[39mreadlines()]\n\u001b[0;32m--> 267\u001b[0m     \u001b[38;5;28;01mreturn\u001b[39;00m \u001b[43mNoveltyBenchmark\u001b[49m\u001b[43m(\u001b[49m\u001b[43mnumber_samples\u001b[49m\u001b[38;5;241;43m=\u001b[39;49m\u001b[43mnumber_samples\u001b[49m\u001b[43m,\u001b[49m\u001b[43m \u001b[49m\u001b[43mtraining_set\u001b[49m\u001b[38;5;241;43m=\u001b[39;49m\u001b[43msmiles_list\u001b[49m\u001b[43m)\u001b[49m\n",
      "File \u001b[0;32m~/python/miniforge3/envs/jointformer-experiments/lib/python3.9/site-packages/guacamol/distribution_learning_benchmark.py:127\u001b[0m, in \u001b[0;36mNoveltyBenchmark.__init__\u001b[0;34m(self, number_samples, training_set)\u001b[0m\n\u001b[1;32m    121\u001b[0m \u001b[38;5;250m\u001b[39m\u001b[38;5;124;03m\"\"\"\u001b[39;00m\n\u001b[1;32m    122\u001b[0m \u001b[38;5;124;03mArgs:\u001b[39;00m\n\u001b[1;32m    123\u001b[0m \u001b[38;5;124;03m    number_samples: number of samples to generate from the model\u001b[39;00m\n\u001b[1;32m    124\u001b[0m \u001b[38;5;124;03m    training_set: molecules from the training set\u001b[39;00m\n\u001b[1;32m    125\u001b[0m \u001b[38;5;124;03m\"\"\"\u001b[39;00m\n\u001b[1;32m    126\u001b[0m \u001b[38;5;28msuper\u001b[39m()\u001b[38;5;241m.\u001b[39m\u001b[38;5;21m__init__\u001b[39m(name\u001b[38;5;241m=\u001b[39m\u001b[38;5;124m'\u001b[39m\u001b[38;5;124mNovelty\u001b[39m\u001b[38;5;124m'\u001b[39m, number_samples\u001b[38;5;241m=\u001b[39mnumber_samples)\n\u001b[0;32m--> 127\u001b[0m \u001b[38;5;28mself\u001b[39m\u001b[38;5;241m.\u001b[39mtraining_set_molecules \u001b[38;5;241m=\u001b[39m \u001b[38;5;28mset\u001b[39m(\u001b[43mcanonicalize_list\u001b[49m\u001b[43m(\u001b[49m\u001b[43mtraining_set\u001b[49m\u001b[43m,\u001b[49m\u001b[43m \u001b[49m\u001b[43minclude_stereocenters\u001b[49m\u001b[38;5;241;43m=\u001b[39;49m\u001b[38;5;28;43;01mFalse\u001b[39;49;00m\u001b[43m)\u001b[49m)\n",
      "File \u001b[0;32m~/python/miniforge3/envs/jointformer-experiments/lib/python3.9/site-packages/guacamol/utils/chemistry.py:72\u001b[0m, in \u001b[0;36mcanonicalize_list\u001b[0;34m(smiles_list, include_stereocenters)\u001b[0m\n\u001b[1;32m     60\u001b[0m \u001b[38;5;28;01mdef\u001b[39;00m \u001b[38;5;21mcanonicalize_list\u001b[39m(smiles_list: Iterable[\u001b[38;5;28mstr\u001b[39m], include_stereocenters\u001b[38;5;241m=\u001b[39m\u001b[38;5;28;01mTrue\u001b[39;00m) \u001b[38;5;241m-\u001b[39m\u001b[38;5;241m>\u001b[39m List[\u001b[38;5;28mstr\u001b[39m]:\n\u001b[1;32m     61\u001b[0m \u001b[38;5;250m    \u001b[39m\u001b[38;5;124;03m\"\"\"\u001b[39;00m\n\u001b[1;32m     62\u001b[0m \u001b[38;5;124;03m    Canonicalize a list of smiles. Filters out repetitions and removes corrupted molecules.\u001b[39;00m\n\u001b[1;32m     63\u001b[0m \n\u001b[0;32m   (...)\u001b[0m\n\u001b[1;32m     69\u001b[0m \u001b[38;5;124;03m        The canonicalized and filtered input smiles.\u001b[39;00m\n\u001b[1;32m     70\u001b[0m \u001b[38;5;124;03m    \"\"\"\u001b[39;00m\n\u001b[0;32m---> 72\u001b[0m     canonicalized_smiles \u001b[38;5;241m=\u001b[39m [canonicalize(smiles, include_stereocenters) \u001b[38;5;28;01mfor\u001b[39;00m smiles \u001b[38;5;129;01min\u001b[39;00m smiles_list]\n\u001b[1;32m     74\u001b[0m     \u001b[38;5;66;03m# Remove None elements\u001b[39;00m\n\u001b[1;32m     75\u001b[0m     canonicalized_smiles \u001b[38;5;241m=\u001b[39m [s \u001b[38;5;28;01mfor\u001b[39;00m s \u001b[38;5;129;01min\u001b[39;00m canonicalized_smiles \u001b[38;5;28;01mif\u001b[39;00m s \u001b[38;5;129;01mis\u001b[39;00m \u001b[38;5;129;01mnot\u001b[39;00m \u001b[38;5;28;01mNone\u001b[39;00m]\n",
      "File \u001b[0;32m~/python/miniforge3/envs/jointformer-experiments/lib/python3.9/site-packages/guacamol/utils/chemistry.py:72\u001b[0m, in \u001b[0;36m<listcomp>\u001b[0;34m(.0)\u001b[0m\n\u001b[1;32m     60\u001b[0m \u001b[38;5;28;01mdef\u001b[39;00m \u001b[38;5;21mcanonicalize_list\u001b[39m(smiles_list: Iterable[\u001b[38;5;28mstr\u001b[39m], include_stereocenters\u001b[38;5;241m=\u001b[39m\u001b[38;5;28;01mTrue\u001b[39;00m) \u001b[38;5;241m-\u001b[39m\u001b[38;5;241m>\u001b[39m List[\u001b[38;5;28mstr\u001b[39m]:\n\u001b[1;32m     61\u001b[0m \u001b[38;5;250m    \u001b[39m\u001b[38;5;124;03m\"\"\"\u001b[39;00m\n\u001b[1;32m     62\u001b[0m \u001b[38;5;124;03m    Canonicalize a list of smiles. Filters out repetitions and removes corrupted molecules.\u001b[39;00m\n\u001b[1;32m     63\u001b[0m \n\u001b[0;32m   (...)\u001b[0m\n\u001b[1;32m     69\u001b[0m \u001b[38;5;124;03m        The canonicalized and filtered input smiles.\u001b[39;00m\n\u001b[1;32m     70\u001b[0m \u001b[38;5;124;03m    \"\"\"\u001b[39;00m\n\u001b[0;32m---> 72\u001b[0m     canonicalized_smiles \u001b[38;5;241m=\u001b[39m [\u001b[43mcanonicalize\u001b[49m\u001b[43m(\u001b[49m\u001b[43msmiles\u001b[49m\u001b[43m,\u001b[49m\u001b[43m \u001b[49m\u001b[43minclude_stereocenters\u001b[49m\u001b[43m)\u001b[49m \u001b[38;5;28;01mfor\u001b[39;00m smiles \u001b[38;5;129;01min\u001b[39;00m smiles_list]\n\u001b[1;32m     74\u001b[0m     \u001b[38;5;66;03m# Remove None elements\u001b[39;00m\n\u001b[1;32m     75\u001b[0m     canonicalized_smiles \u001b[38;5;241m=\u001b[39m [s \u001b[38;5;28;01mfor\u001b[39;00m s \u001b[38;5;129;01min\u001b[39;00m canonicalized_smiles \u001b[38;5;28;01mif\u001b[39;00m s \u001b[38;5;129;01mis\u001b[39;00m \u001b[38;5;129;01mnot\u001b[39;00m \u001b[38;5;28;01mNone\u001b[39;00m]\n",
      "File \u001b[0;32m~/python/miniforge3/envs/jointformer-experiments/lib/python3.9/site-packages/guacamol/utils/chemistry.py:52\u001b[0m, in \u001b[0;36mcanonicalize\u001b[0;34m(smiles, include_stereocenters)\u001b[0m\n\u001b[1;32m     38\u001b[0m \u001b[38;5;28;01mdef\u001b[39;00m \u001b[38;5;21mcanonicalize\u001b[39m(smiles: \u001b[38;5;28mstr\u001b[39m, include_stereocenters\u001b[38;5;241m=\u001b[39m\u001b[38;5;28;01mTrue\u001b[39;00m) \u001b[38;5;241m-\u001b[39m\u001b[38;5;241m>\u001b[39m Optional[\u001b[38;5;28mstr\u001b[39m]:\n\u001b[1;32m     39\u001b[0m \u001b[38;5;250m    \u001b[39m\u001b[38;5;124;03m\"\"\"\u001b[39;00m\n\u001b[1;32m     40\u001b[0m \u001b[38;5;124;03m    Canonicalize the SMILES strings with RDKit.\u001b[39;00m\n\u001b[1;32m     41\u001b[0m \n\u001b[0;32m   (...)\u001b[0m\n\u001b[1;32m     49\u001b[0m \u001b[38;5;124;03m        Canonicalized SMILES string, None if the molecule is invalid.\u001b[39;00m\n\u001b[1;32m     50\u001b[0m \u001b[38;5;124;03m    \"\"\"\u001b[39;00m\n\u001b[0;32m---> 52\u001b[0m     mol \u001b[38;5;241m=\u001b[39m \u001b[43mChem\u001b[49m\u001b[38;5;241;43m.\u001b[39;49m\u001b[43mMolFromSmiles\u001b[49m\u001b[43m(\u001b[49m\u001b[43msmiles\u001b[49m\u001b[43m)\u001b[49m\n\u001b[1;32m     54\u001b[0m     \u001b[38;5;28;01mif\u001b[39;00m mol \u001b[38;5;129;01mis\u001b[39;00m \u001b[38;5;129;01mnot\u001b[39;00m \u001b[38;5;28;01mNone\u001b[39;00m:\n\u001b[1;32m     55\u001b[0m         \u001b[38;5;28;01mreturn\u001b[39;00m Chem\u001b[38;5;241m.\u001b[39mMolToSmiles(mol, isomericSmiles\u001b[38;5;241m=\u001b[39minclude_stereocenters)\n",
      "\u001b[0;31mKeyboardInterrupt\u001b[0m: "
     ]
    }
   ],
   "source": [
    "assess_distribution_learning(DistributionMatchingGeneratorWrapper(model), \"/home/jano1906/datasets/guacamol/guacamol_v1_train.smiles\")"
   ]
  }
 ],
 "metadata": {
  "kernelspec": {
   "display_name": "jointformer-experiments",
   "language": "python",
   "name": "python3"
  },
  "language_info": {
   "codemirror_mode": {
    "name": "ipython",
    "version": 3
   },
   "file_extension": ".py",
   "mimetype": "text/x-python",
   "name": "python",
   "nbconvert_exporter": "python",
   "pygments_lexer": "ipython3",
   "version": "3.9.19"
  }
 },
 "nbformat": 4,
 "nbformat_minor": 2
}
